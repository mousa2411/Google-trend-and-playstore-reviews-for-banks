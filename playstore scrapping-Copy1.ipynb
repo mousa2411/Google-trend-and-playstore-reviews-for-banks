{
 "cells": [
  {
   "cell_type": "code",
   "execution_count": 25,
   "metadata": {},
   "outputs": [
    {
     "name": "stderr",
     "output_type": "stream",
     "text": [
      "<ipython-input-25-8bac579c994d>:5: DeprecationWarning: executable_path has been deprecated, please pass in a Service object\n",
      "  driver = webdriver.Chrome(executable_path=r\"C:\\New folder\\chromedriver.exe\")\n"
     ]
    },
    {
     "ename": "WebDriverException",
     "evalue": "Message: 'chromedriver.exe' executable needs to be in PATH. Please see https://chromedriver.chromium.org/home\n",
     "output_type": "error",
     "traceback": [
      "\u001b[1;31m---------------------------------------------------------------------------\u001b[0m",
      "\u001b[1;31mFileNotFoundError\u001b[0m                         Traceback (most recent call last)",
      "\u001b[1;32m~\\anaconda3\\lib\\site-packages\\selenium\\webdriver\\common\\service.py\u001b[0m in \u001b[0;36mstart\u001b[1;34m(self)\u001b[0m\n\u001b[0;32m     70\u001b[0m             \u001b[0mcmd\u001b[0m\u001b[1;33m.\u001b[0m\u001b[0mextend\u001b[0m\u001b[1;33m(\u001b[0m\u001b[0mself\u001b[0m\u001b[1;33m.\u001b[0m\u001b[0mcommand_line_args\u001b[0m\u001b[1;33m(\u001b[0m\u001b[1;33m)\u001b[0m\u001b[1;33m)\u001b[0m\u001b[1;33m\u001b[0m\u001b[1;33m\u001b[0m\u001b[0m\n\u001b[1;32m---> 71\u001b[1;33m             self.process = subprocess.Popen(cmd, env=self.env,\n\u001b[0m\u001b[0;32m     72\u001b[0m                                             \u001b[0mclose_fds\u001b[0m\u001b[1;33m=\u001b[0m\u001b[0msystem\u001b[0m\u001b[1;33m(\u001b[0m\u001b[1;33m)\u001b[0m \u001b[1;33m!=\u001b[0m \u001b[1;34m'Windows'\u001b[0m\u001b[1;33m,\u001b[0m\u001b[1;33m\u001b[0m\u001b[1;33m\u001b[0m\u001b[0m\n",
      "\u001b[1;32m~\\anaconda3\\lib\\subprocess.py\u001b[0m in \u001b[0;36m__init__\u001b[1;34m(self, args, bufsize, executable, stdin, stdout, stderr, preexec_fn, close_fds, shell, cwd, env, universal_newlines, startupinfo, creationflags, restore_signals, start_new_session, pass_fds, encoding, errors, text)\u001b[0m\n\u001b[0;32m    853\u001b[0m \u001b[1;33m\u001b[0m\u001b[0m\n\u001b[1;32m--> 854\u001b[1;33m             self._execute_child(args, executable, preexec_fn, close_fds,\n\u001b[0m\u001b[0;32m    855\u001b[0m                                 \u001b[0mpass_fds\u001b[0m\u001b[1;33m,\u001b[0m \u001b[0mcwd\u001b[0m\u001b[1;33m,\u001b[0m \u001b[0menv\u001b[0m\u001b[1;33m,\u001b[0m\u001b[1;33m\u001b[0m\u001b[1;33m\u001b[0m\u001b[0m\n",
      "\u001b[1;32m~\\anaconda3\\lib\\subprocess.py\u001b[0m in \u001b[0;36m_execute_child\u001b[1;34m(self, args, executable, preexec_fn, close_fds, pass_fds, cwd, env, startupinfo, creationflags, shell, p2cread, p2cwrite, c2pread, c2pwrite, errread, errwrite, unused_restore_signals, unused_start_new_session)\u001b[0m\n\u001b[0;32m   1306\u001b[0m             \u001b[1;32mtry\u001b[0m\u001b[1;33m:\u001b[0m\u001b[1;33m\u001b[0m\u001b[1;33m\u001b[0m\u001b[0m\n\u001b[1;32m-> 1307\u001b[1;33m                 hp, ht, pid, tid = _winapi.CreateProcess(executable, args,\n\u001b[0m\u001b[0;32m   1308\u001b[0m                                          \u001b[1;31m# no special security\u001b[0m\u001b[1;33m\u001b[0m\u001b[1;33m\u001b[0m\u001b[1;33m\u001b[0m\u001b[0m\n",
      "\u001b[1;31mFileNotFoundError\u001b[0m: [WinError 2] The system cannot find the file specified",
      "\nDuring handling of the above exception, another exception occurred:\n",
      "\u001b[1;31mWebDriverException\u001b[0m                        Traceback (most recent call last)",
      "\u001b[1;32m<ipython-input-25-8bac579c994d>\u001b[0m in \u001b[0;36m<module>\u001b[1;34m\u001b[0m\n\u001b[0;32m      2\u001b[0m \u001b[1;32mfrom\u001b[0m \u001b[0mselenium\u001b[0m \u001b[1;32mimport\u001b[0m \u001b[0mwebdriver\u001b[0m\u001b[1;33m\u001b[0m\u001b[1;33m\u001b[0m\u001b[0m\n\u001b[0;32m      3\u001b[0m \u001b[1;32mfrom\u001b[0m \u001b[0mselenium\u001b[0m\u001b[1;33m.\u001b[0m\u001b[0mcommon\u001b[0m\u001b[1;33m.\u001b[0m\u001b[0mexceptions\u001b[0m \u001b[1;32mimport\u001b[0m \u001b[0mTimeoutException\u001b[0m\u001b[1;33m\u001b[0m\u001b[1;33m\u001b[0m\u001b[0m\n\u001b[1;32m----> 4\u001b[1;33m \u001b[1;32mclass\u001b[0m \u001b[0mFindByXpathCss\u001b[0m\u001b[1;33m(\u001b[0m\u001b[1;33m)\u001b[0m\u001b[1;33m:\u001b[0m\u001b[1;33m\u001b[0m\u001b[1;33m\u001b[0m\u001b[0m\n\u001b[0m\u001b[0;32m      5\u001b[0m         \u001b[0mdriver\u001b[0m \u001b[1;33m=\u001b[0m \u001b[0mwebdriver\u001b[0m\u001b[1;33m.\u001b[0m\u001b[0mChrome\u001b[0m\u001b[1;33m(\u001b[0m\u001b[0mexecutable_path\u001b[0m\u001b[1;33m=\u001b[0m\u001b[1;34mr\"C:\\New folder\\chromedriver.exe\"\u001b[0m\u001b[1;33m)\u001b[0m\u001b[1;33m\u001b[0m\u001b[1;33m\u001b[0m\u001b[0m\n\u001b[0;32m      6\u001b[0m         \u001b[0mdriver\u001b[0m\u001b[1;33m.\u001b[0m\u001b[0mmaximize_window\u001b[0m\u001b[1;33m(\u001b[0m\u001b[1;33m)\u001b[0m\u001b[1;33m\u001b[0m\u001b[1;33m\u001b[0m\u001b[0m\n",
      "\u001b[1;32m<ipython-input-25-8bac579c994d>\u001b[0m in \u001b[0;36mFindByXpathCss\u001b[1;34m()\u001b[0m\n\u001b[0;32m      3\u001b[0m \u001b[1;32mfrom\u001b[0m \u001b[0mselenium\u001b[0m\u001b[1;33m.\u001b[0m\u001b[0mcommon\u001b[0m\u001b[1;33m.\u001b[0m\u001b[0mexceptions\u001b[0m \u001b[1;32mimport\u001b[0m \u001b[0mTimeoutException\u001b[0m\u001b[1;33m\u001b[0m\u001b[1;33m\u001b[0m\u001b[0m\n\u001b[0;32m      4\u001b[0m \u001b[1;32mclass\u001b[0m \u001b[0mFindByXpathCss\u001b[0m\u001b[1;33m(\u001b[0m\u001b[1;33m)\u001b[0m\u001b[1;33m:\u001b[0m\u001b[1;33m\u001b[0m\u001b[1;33m\u001b[0m\u001b[0m\n\u001b[1;32m----> 5\u001b[1;33m         \u001b[0mdriver\u001b[0m \u001b[1;33m=\u001b[0m \u001b[0mwebdriver\u001b[0m\u001b[1;33m.\u001b[0m\u001b[0mChrome\u001b[0m\u001b[1;33m(\u001b[0m\u001b[0mexecutable_path\u001b[0m\u001b[1;33m=\u001b[0m\u001b[1;34mr\"C:\\New folder\\chromedriver.exe\"\u001b[0m\u001b[1;33m)\u001b[0m\u001b[1;33m\u001b[0m\u001b[1;33m\u001b[0m\u001b[0m\n\u001b[0m\u001b[0;32m      6\u001b[0m         \u001b[0mdriver\u001b[0m\u001b[1;33m.\u001b[0m\u001b[0mmaximize_window\u001b[0m\u001b[1;33m(\u001b[0m\u001b[1;33m)\u001b[0m\u001b[1;33m\u001b[0m\u001b[1;33m\u001b[0m\u001b[0m\n\u001b[0;32m      7\u001b[0m         \u001b[0mbaseUrl\u001b[0m \u001b[1;33m=\u001b[0m \u001b[1;34m\"https://play.google.com/store/apps/details?id=com.delta.mobile.android&hl=en_US&showAllReviews=true\"\u001b[0m\u001b[1;33m\u001b[0m\u001b[1;33m\u001b[0m\u001b[0m\n",
      "\u001b[1;32m~\\anaconda3\\lib\\site-packages\\selenium\\webdriver\\chrome\\webdriver.py\u001b[0m in \u001b[0;36m__init__\u001b[1;34m(self, executable_path, port, options, service_args, desired_capabilities, service_log_path, chrome_options, service, keep_alive)\u001b[0m\n\u001b[0;32m     67\u001b[0m             \u001b[0mservice\u001b[0m \u001b[1;33m=\u001b[0m \u001b[0mService\u001b[0m\u001b[1;33m(\u001b[0m\u001b[0mexecutable_path\u001b[0m\u001b[1;33m,\u001b[0m \u001b[0mport\u001b[0m\u001b[1;33m,\u001b[0m \u001b[0mservice_args\u001b[0m\u001b[1;33m,\u001b[0m \u001b[0mservice_log_path\u001b[0m\u001b[1;33m)\u001b[0m\u001b[1;33m\u001b[0m\u001b[1;33m\u001b[0m\u001b[0m\n\u001b[0;32m     68\u001b[0m \u001b[1;33m\u001b[0m\u001b[0m\n\u001b[1;32m---> 69\u001b[1;33m         super().__init__(DesiredCapabilities.CHROME['browserName'], \"goog\",\n\u001b[0m\u001b[0;32m     70\u001b[0m                          \u001b[0mport\u001b[0m\u001b[1;33m,\u001b[0m \u001b[0moptions\u001b[0m\u001b[1;33m,\u001b[0m\u001b[1;33m\u001b[0m\u001b[1;33m\u001b[0m\u001b[0m\n\u001b[0;32m     71\u001b[0m                          \u001b[0mservice_args\u001b[0m\u001b[1;33m,\u001b[0m \u001b[0mdesired_capabilities\u001b[0m\u001b[1;33m,\u001b[0m\u001b[1;33m\u001b[0m\u001b[1;33m\u001b[0m\u001b[0m\n",
      "\u001b[1;32m~\\anaconda3\\lib\\site-packages\\selenium\\webdriver\\chromium\\webdriver.py\u001b[0m in \u001b[0;36m__init__\u001b[1;34m(self, browser_name, vendor_prefix, port, options, service_args, desired_capabilities, service_log_path, service, keep_alive)\u001b[0m\n\u001b[0;32m     87\u001b[0m \u001b[1;33m\u001b[0m\u001b[0m\n\u001b[0;32m     88\u001b[0m         \u001b[0mself\u001b[0m\u001b[1;33m.\u001b[0m\u001b[0mservice\u001b[0m \u001b[1;33m=\u001b[0m \u001b[0mservice\u001b[0m\u001b[1;33m\u001b[0m\u001b[1;33m\u001b[0m\u001b[0m\n\u001b[1;32m---> 89\u001b[1;33m         \u001b[0mself\u001b[0m\u001b[1;33m.\u001b[0m\u001b[0mservice\u001b[0m\u001b[1;33m.\u001b[0m\u001b[0mstart\u001b[0m\u001b[1;33m(\u001b[0m\u001b[1;33m)\u001b[0m\u001b[1;33m\u001b[0m\u001b[1;33m\u001b[0m\u001b[0m\n\u001b[0m\u001b[0;32m     90\u001b[0m \u001b[1;33m\u001b[0m\u001b[0m\n\u001b[0;32m     91\u001b[0m         \u001b[1;32mtry\u001b[0m\u001b[1;33m:\u001b[0m\u001b[1;33m\u001b[0m\u001b[1;33m\u001b[0m\u001b[0m\n",
      "\u001b[1;32m~\\anaconda3\\lib\\site-packages\\selenium\\webdriver\\common\\service.py\u001b[0m in \u001b[0;36mstart\u001b[1;34m(self)\u001b[0m\n\u001b[0;32m     79\u001b[0m         \u001b[1;32mexcept\u001b[0m \u001b[0mOSError\u001b[0m \u001b[1;32mas\u001b[0m \u001b[0merr\u001b[0m\u001b[1;33m:\u001b[0m\u001b[1;33m\u001b[0m\u001b[1;33m\u001b[0m\u001b[0m\n\u001b[0;32m     80\u001b[0m             \u001b[1;32mif\u001b[0m \u001b[0merr\u001b[0m\u001b[1;33m.\u001b[0m\u001b[0merrno\u001b[0m \u001b[1;33m==\u001b[0m \u001b[0merrno\u001b[0m\u001b[1;33m.\u001b[0m\u001b[0mENOENT\u001b[0m\u001b[1;33m:\u001b[0m\u001b[1;33m\u001b[0m\u001b[1;33m\u001b[0m\u001b[0m\n\u001b[1;32m---> 81\u001b[1;33m                 raise WebDriverException(\n\u001b[0m\u001b[0;32m     82\u001b[0m                     \"'{}' executable needs to be in PATH. {}\".format(\n\u001b[0;32m     83\u001b[0m                         os.path.basename(self.path), self.start_error_message)\n",
      "\u001b[1;31mWebDriverException\u001b[0m: Message: 'chromedriver.exe' executable needs to be in PATH. Please see https://chromedriver.chromium.org/home\n"
     ]
    }
   ],
   "source": [
    "from selenium.webdriver.common.by import By\n",
    "from selenium import webdriver\n",
    "from selenium.common.exceptions import TimeoutException\n",
    "class FindByXpathCss():\n",
    "        driver = webdriver.Chrome(executable_path=r\"C:\\New folder\\chromedriver.exe\")\n",
    "        driver.maximize_window()\n",
    "        baseUrl = \"https://play.google.com/store/apps/details?id=com.delta.mobile.android&hl=en_US&showAllReviews=true\"\n",
    "        driver.get(baseUrl)\n",
    "\n",
    "        scrolls = 3\n",
    "        while True:\n",
    "            scrolls -= 1\n",
    "            driver.execute_script(\"window.scrollTo(0, document.body.scrollHeight)\")\n",
    "            time.sleep(3)\n",
    "            if scrolls < 0:\n",
    "                break\n",
    "\n",
    "        buttonClick = WebDriverWait(driver, 30).until(\n",
    "            EC.visibility_of_all_elements_located((By.XPATH, \"//button[contains(@class,'')][contains(text(),'Full Review')]\")))\n",
    "        for element in buttonClick:\n",
    "            driver.execute_script(\"arguments[0].click();\", element)\n",
    "\n",
    "        reviewText = WebDriverWait(driver, 30).until(\n",
    "            EC.presence_of_all_elements_located((By.XPATH, \"//*[@class='UD7Dzf']\")))\n",
    "\n",
    "\n",
    "        for textreview in reviewText:\n",
    "            print (textreview.text)\n",
    "\n",
    "        reviewText = WebDriverWait(driver, 30).until(\n",
    "            EC.presence_of_all_elements_located((By.XPATH, \"//*[@class='UD7Dzf']\")))\n",
    "\n",
    "        # reviewText = driver.find_elements_by_xpath(\"//*[@class='UD7Dzf']\")\n",
    "        for textreview in reviewText:\n",
    "            print (textreview.text)"
   ]
  },
  {
   "cell_type": "code",
   "execution_count": 27,
   "metadata": {},
   "outputs": [
    {
     "data": {
      "text/plain": [
       "2"
      ]
     },
     "execution_count": 27,
     "metadata": {},
     "output_type": "execute_result"
    }
   ],
   "source": [
    "2"
   ]
  },
  {
   "cell_type": "code",
   "execution_count": 46,
   "metadata": {},
   "outputs": [
    {
     "name": "stderr",
     "output_type": "stream",
     "text": [
      "<ipython-input-46-1dbe2785692e>:5: DeprecationWarning: executable_path has been deprecated, please pass in a Service object\n",
      "  driver = webdriver.Chrome(executable_path=r\"C:\\Users\\91882\\Documents\\Webdriver\\chromedriver.exe\")\n"
     ]
    }
   ],
   "source": [
    "from selenium.webdriver.common.by import By\n",
    "from selenium import webdriver\n",
    "from selenium.common.exceptions import TimeoutException\n",
    "\n",
    "driver = webdriver.Chrome(executable_path=r\"C:\\Users\\91882\\Documents\\Webdriver\\chromedriver.exe\")\n",
    "driver.maximize_window()\n",
    "text='Hi meh ladka hun'\n",
    "text_url='%20'.join(text.split(' '))\n",
    "baseUrl = \"https://translate.google.co.in/?sl=auto&tl=hi&text=\"+text_url+\"&op=translate\"\n",
    "driver.get(baseUrl)\n",
    "driver.get"
   ]
  },
  {
   "cell_type": "code",
   "execution_count": 43,
   "metadata": {},
   "outputs": [
    {
     "data": {
      "text/plain": [
       "'Hi%20meh%20ladka%20hun'"
      ]
     },
     "execution_count": 43,
     "metadata": {},
     "output_type": "execute_result"
    }
   ],
   "source": [
    "text='Hi meh ladka hun'\n",
    "'%20'.join(text.split(' '))"
   ]
  },
  {
   "cell_type": "code",
   "execution_count": 29,
   "metadata": {},
   "outputs": [],
   "source": [
    "#jupyter notebook list"
   ]
  },
  {
   "cell_type": "code",
   "execution_count": 22,
   "metadata": {},
   "outputs": [
    {
     "data": {
      "text/plain": [
       "['Currently running servers:',\n",
       " 'http://localhost:8888/?token=09f2e65a6df8bbd11668d9c39bfdb206d292b99eaa0f66c1 :: C:\\\\Users\\\\91882',\n",
       " 'http://localhost:8888/?token=170f7be560219e8198faad3609df1d809b90ebf67486a404 :: C:\\\\Users\\\\91882',\n",
       " 'http://localhost:8888/?token=280cd205e062f489186ecfdb4eb46b28af8f9751d99c1c0d :: C:\\\\Users\\\\91882']"
      ]
     },
     "execution_count": 22,
     "metadata": {},
     "output_type": "execute_result"
    }
   ],
   "source": [
    "system(\"jupyter\" \"notebook\" \"list\")"
   ]
  },
  {
   "cell_type": "code",
   "execution_count": null,
   "metadata": {},
   "outputs": [],
   "source": [
    "search_url=\"https://translate.google.co.in/?sl=en&tl=hi&text={q}&op=translate\"\n",
    "for line in lines:\n",
    "    line=line.strip()\n",
    "    line=line.replace(\"</string>\",\"\")\n",
    "    line= line.split(\">\")\n",
    "    print(line[0],line[1])\n",
    "\n",
    "    driver.get(search_url.format(q=line[1]))\n"
   ]
  },
  {
   "cell_type": "code",
   "execution_count": 35,
   "metadata": {},
   "outputs": [
    {
     "name": "stderr",
     "output_type": "stream",
     "text": [
      "ERROR: Could not find a version that satisfies the requirement chromedriveramanager (from versions: none)\n",
      "ERROR: No matching distribution found for chromedriveramanager\n"
     ]
    }
   ],
   "source": [
    "!pip install chromedriveramanager"
   ]
  },
  {
   "cell_type": "code",
   "execution_count": 32,
   "metadata": {},
   "outputs": [
    {
     "ename": "ModuleNotFoundError",
     "evalue": "No module named 'webdriver_manager'",
     "output_type": "error",
     "traceback": [
      "\u001b[1;31m---------------------------------------------------------------------------\u001b[0m",
      "\u001b[1;31mModuleNotFoundError\u001b[0m                       Traceback (most recent call last)",
      "\u001b[1;32m<ipython-input-32-2e6522ae9441>\u001b[0m in \u001b[0;36m<module>\u001b[1;34m\u001b[0m\n\u001b[0;32m      1\u001b[0m \u001b[1;32mfrom\u001b[0m \u001b[0mselenium\u001b[0m \u001b[1;32mimport\u001b[0m \u001b[0mwebdriver\u001b[0m\u001b[1;33m\u001b[0m\u001b[1;33m\u001b[0m\u001b[0m\n\u001b[1;32m----> 2\u001b[1;33m \u001b[1;32mfrom\u001b[0m \u001b[0mwebdriver_manager\u001b[0m\u001b[1;33m.\u001b[0m\u001b[0mchrome\u001b[0m \u001b[1;32mimport\u001b[0m \u001b[0mChromeDriverManager\u001b[0m\u001b[1;33m\u001b[0m\u001b[1;33m\u001b[0m\u001b[0m\n\u001b[0m\u001b[0;32m      3\u001b[0m \u001b[1;32mimport\u001b[0m \u001b[0mtime\u001b[0m\u001b[1;33m\u001b[0m\u001b[1;33m\u001b[0m\u001b[0m\n\u001b[0;32m      4\u001b[0m \u001b[0mdriver\u001b[0m\u001b[1;33m=\u001b[0m \u001b[0mwebdriver\u001b[0m\u001b[1;33m.\u001b[0m\u001b[0mChrome\u001b[0m\u001b[1;33m(\u001b[0m\u001b[0mChromeDriverManager\u001b[0m\u001b[1;33m(\u001b[0m\u001b[1;33m)\u001b[0m\u001b[1;33m.\u001b[0m\u001b[0minstall\u001b[0m\u001b[1;33m(\u001b[0m\u001b[1;33m)\u001b[0m\u001b[1;33m)\u001b[0m\u001b[1;33m\u001b[0m\u001b[1;33m\u001b[0m\u001b[0m\n\u001b[0;32m      5\u001b[0m \u001b[0mlines\u001b[0m\u001b[1;33m=\u001b[0m\u001b[1;33m[\u001b[0m\u001b[1;33m]\u001b[0m\u001b[1;33m\u001b[0m\u001b[1;33m\u001b[0m\u001b[0m\n",
      "\u001b[1;31mModuleNotFoundError\u001b[0m: No module named 'webdriver_manager'"
     ]
    }
   ],
   "source": [
    "from selenium import webdriver\n",
    "#from webdriver_manager.chrome import ChromeDriverManager\n",
    "#import time\n",
    "driver= webdriver.Chrome(ChromeDriverManager().install())\n",
    "lines=[]\n",
    "with open(\"patient.txt\",\"r\",encoding=\"utf-8\") as fp:\n",
    "    lines=fp.readlines()\n",
    "\n",
    "with open(\"patient_translater.txt\",\"w\",encoding=\"utf-8\") as fp:pass\n",
    "\n",
    "search_url=\"https://translate.google.co.in/?sl=en&tl=hi&text={q}&op=translate\"\n",
    "for line in lines:\n",
    "    line=line.strip()\n",
    "    line=line.replace(\"</string>\",\"\")\n",
    "    line= line.split(\">\")\n",
    "    print(line[0],line[1])\n",
    "\n",
    "    driver.get(search_url.format(q=line[1]))\n",
    "    time.sleep(2)\n",
    "    for elements in driver.find_elements_by_xpath('//span[@jsname=\"W297wb\"]'):\n",
    "        print(line[0]+\">\"+elements.text+\"</string>\")\n",
    "        with open(\"patient_translater.txt\", \"a\",encoding=\"utf-8\") as fp:\n",
    "            fp.writelines((line[0]+\">\"+elements.text+\"</string>\\n\"))"
   ]
  },
  {
   "cell_type": "code",
   "execution_count": null,
   "metadata": {},
   "outputs": [],
   "source": []
  },
  {
   "cell_type": "code",
   "execution_count": null,
   "metadata": {},
   "outputs": [],
   "source": []
  },
  {
   "cell_type": "code",
   "execution_count": null,
   "metadata": {},
   "outputs": [],
   "source": []
  },
  {
   "cell_type": "code",
   "execution_count": null,
   "metadata": {},
   "outputs": [],
   "source": []
  },
  {
   "cell_type": "code",
   "execution_count": null,
   "metadata": {},
   "outputs": [],
   "source": [
    "############## BS\n",
    "\n",
    "'https://play.google.com/store/apps/details?id=com.kiloo.subwaysurf'"
   ]
  },
  {
   "cell_type": "code",
   "execution_count": 82,
   "metadata": {},
   "outputs": [
    {
     "name": "stdout",
     "output_type": "stream",
     "text": [
      "<title>\n",
      "      ‎Top iPhone Finance apps on the App Store — Apple (IN)\n",
      "    </title>\n",
      "title\n",
      "meta\n"
     ]
    }
   ],
   "source": [
    "import requests\n",
    "from bs4 import BeautifulSoup\n",
    "\n",
    " \n",
    "# Making a GET request\n",
    "r = requests.get('https://apps.apple.com/in/charts/iphone/finance-apps/6015')\n",
    " \n",
    "# Parsing the HTML\n",
    "soup = BeautifulSoup(r.content, 'html.parser')\n",
    " \n",
    "# Finding by id\n",
    "#s = soup.find('div', id= 'main')\n",
    " \n",
    "# Getting the leftbar\n",
    "#leftbar = s.find('ul', class_='leftBarList')\n",
    " \n",
    "# All the li under the above ul\n",
    "#content = leftbar.find_all('li')\n",
    "soup = BeautifulSoup(r.content, 'html.parser')\n",
    " \n",
    "# s = soup.find('div', class_='entry-content')\n",
    "# content = s.find_all('p')\n",
    " \n",
    "# print(content)\n",
    "    \n",
    "    \n",
    "    \n",
    "# print(content)\n",
    "\n",
    "\n",
    "# Getting the title tag\n",
    "print(soup.title)\n",
    " \n",
    "# Getting the name of the tag\n",
    "print(soup.title.name)\n",
    " \n",
    "# Getting the name of parent tag\n",
    "print(soup.title.parent.name)"
   ]
  },
  {
   "cell_type": "code",
   "execution_count": 89,
   "metadata": {},
   "outputs": [
    {
     "data": {
      "text/plain": [
       "[<script id=\"perfkit\">window.initialPageRequestTime = +new Date();</script>,\n",
       " <script name=\"schema:top-free\" type=\"application/ld+json\">\n",
       "         {\"@context\":\"http://schema.org\",\"@type\":\"ItemList\",\"name\":\"Top Books (Free)\",\"url\":\"https://apps.apple.com/in/charts/iphone/finance-apps/6015\",\"itemListOrder\":\"http://schema.org/ItemListOrderAscending\",\"numberOfItems\":12,\"mainEntityOfPage\":\"https://apps.apple.com/in/charts/iphone/finance-apps/6015\",\"itemListElement\":[{\"position\":1,\"@type\":\"Book\",\"name\":\"Google Pay: Save, Pay, Manage\",\"url\":\"https://apps.apple.com/in/app/google-pay-save-pay-manage/id1193357041\",\"author\":{\"@type\":\"Person\",\"name\":\"Google LLC\"}},{\"position\":2,\"@type\":\"Book\",\"name\":\"PhonePe: Recharge &amp; Investment\",\"url\":\"https://apps.apple.com/in/app/phonepe-recharge-investment/id1170055821\",\"author\":{\"@type\":\"Person\",\"name\":\"PHONEPE PRIVATE LIMITED\"}},{\"position\":3,\"@type\":\"Book\",\"name\":\"Paytm: Secure UPI Payments\",\"url\":\"https://apps.apple.com/in/app/paytm-secure-upi-payments/id473941634\",\"author\":{\"@type\":\"Person\",\"name\":\"Paytm Mobile Solutions\"}},{\"position\":4,\"@type\":\"Book\",\"name\":\"YONO SBI:Banking and Lifestyle\",\"url\":\"https://apps.apple.com/in/app/yono-sbi-banking-and-lifestyle/id1231393474\",\"author\":{\"@type\":\"Person\",\"name\":\"State Bank of India\"}},{\"position\":5,\"@type\":\"Book\",\"name\":\"HDFC Bank MobileBanking\",\"url\":\"https://apps.apple.com/in/app/hdfc-bank-mobilebanking/id515891771\",\"author\":{\"@type\":\"Person\",\"name\":\"HDFC Bank Ltd.\"}},{\"position\":6,\"@type\":\"Book\",\"name\":\"Bajaj Finserv\",\"url\":\"https://apps.apple.com/in/app/bajaj-finserv/id505454145\",\"author\":{\"@type\":\"Person\",\"name\":\"BajajFinserv\"}},{\"position\":7,\"@type\":\"Book\",\"name\":\"Groww - Stocks &amp; Mutual Funds\",\"url\":\"https://apps.apple.com/in/app/groww-stocks-mutual-funds/id1404871703\",\"author\":{\"@type\":\"Person\",\"name\":\"Billionbrains Garage Ventures Pvt Ltd\"}},{\"position\":8,\"@type\":\"Book\",\"name\":\"Kotak - 811 &amp; Mobile Banking\",\"url\":\"https://apps.apple.com/in/app/kotak-811-mobile-banking/id622363400\",\"author\":{\"@type\":\"Person\",\"name\":\"Kotak Mahindra Bank Ltd.\"}},{\"position\":9,\"@type\":\"Book\",\"name\":\"iMobile Pay by ICICI Bank\",\"url\":\"https://apps.apple.com/in/app/imobile-pay-by-icici-bank/id375276006\",\"author\":{\"@type\":\"Person\",\"name\":\"ICICI Bank Ltd\"}},{\"position\":10,\"@type\":\"Book\",\"name\":\"Hubble Money Savings: Earn 10%\",\"url\":\"https://apps.apple.com/in/app/hubble-money-savings-earn-10/id1614427933\",\"author\":{\"@type\":\"Person\",\"name\":\"Gullak Technologies Private Limited\"}},{\"position\":11,\"@type\":\"Book\",\"name\":\"Axis Bank Mobile Banking\",\"url\":\"https://apps.apple.com/in/app/axis-bank-mobile-banking/id699582556\",\"author\":{\"@type\":\"Person\",\"name\":\"Axis Bank Ltd\"}},{\"position\":12,\"@type\":\"Book\",\"name\":\"Splitwise\",\"url\":\"https://apps.apple.com/in/app/splitwise/id458023433\",\"author\":{\"@type\":\"Person\",\"name\":\"Splitwise, Inc.\"}}]}\n",
       "       </script>,\n",
       " <script src=\"https://js-cdn.music.apple.com/musickit/v2/amp/musickit.js?t=1657541227088\"></script>,\n",
       " <script id=\"fastboot-body-start\" type=\"x/boundary\"></script>,\n",
       " <script id=\"shoebox-language-code\" type=\"fastboot/shoebox\">\"en-gb\"</script>,\n",
       " <script id=\"shoebox-ember-localizer\" type=\"fastboot/shoebox\">{\"en-gb\":{\"WEA.AppBundlePages.AppBundle\":\"App Bundle @@appPrice@@\",\"WEA.AppBundlePages.NumberAppsInBundle.Many\":\"@@count@@ Apps in This Bundle\",\"WEA.AppBundlePages.PurchasedSeparately\":\"Purchased Separately: @@price@@\",\"WEA.AppEventPages.Meta.Keywords\":\"App Store\",\"WEA.AppEventPages.Meta.Title\":\"@@softwareName@@: @@description@@\",\"WEA.AppPages.AX.ViewIn\":\"View On\",\"WEA.AppPages.AdditionalScreenshots\":\"Additional Screenshots\",\"WEA.AppPages.AgeRating\":\"Age Rating\",\"WEA.AppPages.AgeRating.Value\":\"@@ageRating@@, Made for Ages @@min@@ to @@max@@\",\"WEA.AppPages.AppPrivacy.Description\":\"The developer, @@developer@@, indicated that the app’s privacy practices may include handling of data as described below. \",\"WEA.AppPages.AppPrivacy.Description.ManagePrivacy\":\"Learn how the developer lets you @@managePrivacyLink@@.\",\"WEA.AppPages.AppPrivacy.Description.ManagePrivacy.Link\":\"manage your privacy choices\",\"WEA.AppPages.AppPrivacy.Description.NoDetails\":\"The developer, @@developer@@, has not provided details about its privacy practices and handling of data to Apple. \",\"WEA.AppPages.AppPrivacy.Description.NotVerifiedByApple\":\"This information has not been verified by Apple. \",\"WEA.AppPages.AppPrivacy.Description.PrivacyDefinitions\":\"To help you better understand the developer’s responses, see @@privacyDefinitionsLink@@.\",\"WEA.AppPages.AppPrivacy.Description.PrivacyDefinitions.Link\":\"Privacy Definitions and Examples\",\"WEA.AppPages.AppPrivacy.Description.PrivacyPolicy\":\"For more information, see the @@privacyPolicyLink@@.\",\"WEA.AppPages.AppPrivacy.Description.PrivacyPolicy.Link\":\"developer’s privacy policy\",\"WEA.AppPages.AppPrivacy.LearnMore\":\"Privacy practices may vary based on, for example, the features you use or your age. @@learnMoreLink@@\",\"WEA.AppPages.AppPrivacy.LearnMore.Link\":\"Learn More\",\"WEA.AppPages.AppPrivacy.Title\":\"App Privacy\",\"WEA.AppPages.AppPrivacy.Types.NoDetails.Description\":\"The developer will be required to provide privacy details when they submit their next app update.\",\"WEA.AppPages.AppPrivacy.Types.NoDetails.Title\":\"No Details Provided\",\"WEA.AppPages.AppStore.Header\":\"App Store\",\"WEA.AppPages.AppSupport\":\"App Support\",\"WEA.AppPages.AppleTV\":\"Apple TV\",\"WEA.AppPages.AppleWatch\":\"Apple Watch\",\"WEA.AppPages.Arcade.Branding.Title\":\"Apple Arcade\",\"WEA.AppPages.Arcade.Disclaimer\":\"*New subscribers only. Sign-up required. Subscription automatically renews for a monthly fee after trial.\",\"WEA.AppPages.Arcade.Editorial.Author\":\"App Store Editors\",\"WEA.AppPages.Arcade.Link.URL\":\"https://www.apple.com/uk/apple-arcade/\",\"WEA.AppPages.Arcade.UpsellBanner.CTA.Text\":\"Try It Free*\",\"WEA.AppPages.Arcade.UpsellBanner.Text\":\"No ads.\",\"WEA.AppPages.Arcade.UpsellBanner.Text2\":\"No in-app purchases.\",\"WEA.AppPages.Arcade.UpsellBanner.Title\":\"Play over 200 games\",\"WEA.AppPages.Arcade.UpsellFooter.CTA.Text\":\"Try It Free*\",\"WEA.AppPages.Arcade.UpsellFooter.Text\":\"No ads.\",\"WEA.AppPages.Arcade.UpsellFooter.Text2\":\"No in-app purchases.\",\"WEA.AppPages.Arcade.UpsellFooter.Title\":\"Play over 200 games\",\"WEA.AppPages.Availability.iOS\":\"This app is available only on the App Store for iPhone and iPad.\",\"WEA.AppPages.Availability.iOS.Bundle\":\"This app bundle is available only on the App Store for iPhone and iPad.\",\"WEA.AppPages.Availability.iOS.iPad\":\"This app is available only on the App Store for iPad.\",\"WEA.AppPages.Availability.iOS.iPhone\":\"This app is available only on the App Store for iPhone.\",\"WEA.AppPages.Availability.iOS.isiOS\":\"Open the App Store to buy and download apps.\",\"WEA.AppPages.Availability.iOSmacOS\":\"This app is available only on the App Store for iPhone, iPad and Mac.\",\"WEA.AppPages.Availability.iOSmacOSwatchOS\":\"This app is available only on the App Store for iPhone, iPad, Mac and Apple Watch.\",\"WEA.AppPages.Availability.iOStvOS\":\"This app is available only on the App Store for iPhone, iPad and Apple TV.\",\"WEA.AppPages.Availability.iOStvOSmacOS\":\"This app is available only on the App Store for iPhone, iPad, Mac and Apple TV.\",\"WEA.AppPages.Availability.iOStvOSmacOSwatchOS\":\"This app is available only on the App Store for iPhone, iPad, Mac, Apple Watch and Apple TV.\",\"WEA.AppPages.Availability.iOStvOSwatchOS\":\"This app is available only in the App Store for iPhone, iPad, Apple Watch and Apple TV.\",\"WEA.AppPages.Availability.iOSwatchOS\":\"This app is available only on the App Store for iPhone, iPad and Apple Watch.\",\"WEA.AppPages.Availability.iOSwatchOS.NoiPad\":\"This app is available only on the App Store for iPhone and Apple Watch.\",\"WEA.AppPages.Availability.macOS\":\"Open the Mac App Store to buy and download apps.\",\"WEA.AppPages.Availability.macOS.Bundle\":\"This app bundle is available only on the Mac App Store.\",\"WEA.AppPages.Availability.tvOS\":\"This app is available only on the App Store for Apple TV.\",\"WEA.AppPages.Availability.watchOS\":\"This app is available only on the App Store for Apple Watch.\",\"WEA.AppPages.CTA.AppStore.AX\":\"View in App Store\",\"WEA.AppPages.CTA.AppStore.Action\":\"View in\",\"WEA.AppPages.CTA.AppStore.App\":\"App Store\",\"WEA.AppPages.CTA.AppleSchool.AX\":\"View in Apple School\",\"WEA.AppPages.CTA.AppleSchool.Action\":\"View in\",\"WEA.AppPages.CTA.AppleSchool.App\":\"Apple School\",\"WEA.AppPages.CTA.MacAppStore.AX\":\"View in Mac App Store\",\"WEA.AppPages.CTA.MacAppStore.Action\":\"View in\",\"WEA.AppPages.CTA.MacAppStore.App\":\"Mac App Store\",\"WEA.AppPages.Category\":\"Category\",\"WEA.AppPages.Compatibility\":\"Compatibility\",\"WEA.AppPages.Copyright\":\"Copyright\",\"WEA.AppPages.CustomerReviews.Title\":\"Ratings and Reviews\",\"WEA.AppPages.CustomersAlsoBought.Title\":\"You Might Also Like\",\"WEA.AppPages.Description.Header\":\"Description\",\"WEA.AppPages.DesignedFor.iPad\":\"Designed for iPad\",\"WEA.AppPages.DesignedFor.iPhone\":\"Designed for iPhone\",\"WEA.AppPages.DeveloperResponse\":\"Developer Response\",\"WEA.AppPages.DeveloperWebsite\":\"Developer Website\",\"WEA.AppPages.EditReview\":\"To edit your review of this app, use an iPhone or iPad to view the app on the App Store.\",\"WEA.AppPages.EditReview.macOS.OldmacOS\":\"To edit your review, view this app in the Mac App Store.\",\"WEA.AppPages.EditorsChoice\":\"Editors’ Choice\",\"WEA.AppPages.EditorsNotes.Header\":\"Editors’ Notes\",\"WEA.AppPages.Eula.Error\":\"Something went wrong. Please try again.\",\"WEA.AppPages.Eula.Title\":\"@@appName@@ @@version@@ Licence Agreement\",\"WEA.AppPages.Events.Status.Ended\":\"EVENT ENDED\",\"WEA.AppPages.Events.Status.HappeningNow\":\"HAPPENING NOW\",\"WEA.AppPages.Events.Status.Live\":\"LIVE\",\"WEA.AppPages.Events.Status.NowAvailable\":\"NOW AVAILABLE\",\"WEA.AppPages.Events.Title\":\"Events\",\"WEA.AppPages.ExpectedReleaseDate\":\"Expected @@expectedReleaseDate@@\",\"WEA.AppPages.ExternalPurchaseBanner.CTA.Text\":\"Learn More\",\"WEA.AppPages.ExternalPurchaseBanner.Text\":\"This app does not support the App Store’s private and secure payment system. It uses external purchases.\",\"WEA.AppPages.ExternalPurchaseBanner.Text.NL\":\"All payments in this app will be managed by the developer. This app uses external purchases.\",\"WEA.AppPages.ExternalPurchaseInformation.CTA.Text\":\"Learn More\",\"WEA.AppPages.ExternalPurchaseInformation.Text\":\"All purchases in this app will be managed by the developer. Your stored App Store payment method and related features, such as subscription management, Ask to Buy, Family Sharing and refund requests, will not be available. Apple is not responsible for the privacy or security of transactions made with this developer.\",\"WEA.AppPages.ExternalPurchaseInformation.Text.NL\":\"All purchases in this app will be processed by a service provider selected by the developer “@@developerName@@”. The developer will be responsible for the payment methods and related features such as subscriptions and refunds. App Store features, such as your stored App Store payment method, subscription management and refund requests, will not be available.\",\"WEA.AppPages.ExternalPurchaseInformation.Text.noDeveloper.NL\":\"All purchases in this app will be processed by a service provider selected by the developer. The developer will be responsible for the payment methods and related features such as subscriptions and refunds. App Store features, such as your stored App Store payment method, subscription management and refund requests, will not be available.\",\"WEA.AppPages.ExternalPurchaseInformation.Title\":\"External Purchases\",\"WEA.AppPages.FB.siteName.desktopApp\":\"Mac App Store\",\"WEA.AppPages.FB.siteName.iosSoftware\":\"App Store\",\"WEA.AppPages.FB.siteName.mobileSoftwareBundle\":\"App Store\",\"WEA.AppPages.FamilySharing\":\"Family Sharing\",\"WEA.AppPages.FeaturedIn.Title\":\"Featured In\",\"WEA.AppPages.GameController\":\"Game Controller\",\"WEA.AppPages.InAppPurchase.Title\":\"In-App Purchases\",\"WEA.AppPages.InAppPurchases.Title\":\"In-App Purchases\",\"WEA.AppPages.Information.Title\":\"Information\",\"WEA.AppPages.Languages\":\"Languages\",\"WEA.AppPages.LicenseAgreement\":\"Licence Agreement\",\"WEA.AppPages.Location.Description\":\"This app may use your location even when it isn’t open, which can decrease battery life.\",\"WEA.AppPages.Location.Title\":\"Location\",\"WEA.AppPages.MacAppStore.Header\":\"Mac App Store\",\"WEA.AppPages.Meta.MacAppPageMetaDescriptionLine\":\"Read reviews, compare customer ratings, see screenshots and learn more about @@softwareName@@. Download @@softwareName@@ for macOS @@minimumOSVersion@@ or later and enjoy it on your Mac.\",\"WEA.AppPages.Meta.MacAppPageMetaKeywords\":\"@@softwareName@@, @@developerName@@, @@categoryNames@@, mac apps, app store, appstore, applications, itunes\",\"WEA.AppPages.Meta.MacAppStorePageTitle\":\"@@softwareName@@ on the Mac App Store\",\"WEA.AppPages.Meta.PageMetaDescriptionLine\":\"Read reviews, compare customer ratings, see screenshots and learn more about @@softwareName@@. Download @@softwareName@@ and enjoy it on your iPhone, iPad and iPod touch.\",\"WEA.AppPages.Meta.PageMetaKeywords\":\"@@softwareName@@, @@developerName@@, @@categoryNames@@, ios apps, app, appstore, app store, iphone, ipad, ipod touch, itouch, itunes\",\"WEA.AppPages.Meta.iOSmacOSPageMetaDescriptionLine\":\"Read reviews, compare customer ratings, see screenshots and learn more about @@softwareName@@. Download @@softwareName@@ and enjoy it on your iPhone, iPad, iPod touch, or Mac OS X @@minimumOSVersion@@ or later.\",\"WEA.AppPages.Meta.iOSmacOSPageMetaKeywords\":\"@@softwareName@@, @@developerName@@, @@categoryNames@@, ios apps, mac apps, app, appstore, app store, applications, iphone, ipad, ipod touch, itouch, itunes\",\"WEA.AppPages.Meta.iOSmacOSwatchOSPageMetaDescriptionLine\":\"Read reviews, compare customer ratings, see screenshots and learn more about @@softwareName@@. Download @@softwareName@@ and enjoy it on your iPhone, iPad, iPod touch, Mac OS X @@minimumOSVersion@@ or later, or Apple Watch.\",\"WEA.AppPages.Meta.iOSmacOSwatchOSPageMetaKeywords\":\"@@softwareName@@, @@developerName@@, @@categoryNames@@, ios apps, mac apps, watchos apps, app, appstore, app store, applications, iphone, ipad, ipod touch, itouch, itunes, apple watch\",\"WEA.AppPages.Meta.iOStvOSmacOSPageMetaDescriptionLine\":\"Read reviews, compare customer ratings, see screenshots and learn more about @@softwareName@@. Download @@softwareName@@ and enjoy it on your iPhone, iPad, iPod touch, Mac OS X @@minimumOSVersion@@ or later, or Apple TV.\",\"WEA.AppPages.Meta.iOStvOSmacOSPageMetaKeywords\":\"@@softwareName@@, @@developerName@@, @@categoryNames@@, ios apps, tvos apps, mac apps, app, appstore, app store, applications, iphone, ipad, ipod touch, itouch, itunes, appletv, apple tv\",\"WEA.AppPages.Meta.iOStvOSmacOSwatchOSPageMetaDescriptionLine\":\"Read reviews, compare customer ratings, see screenshots and learn more about @@softwareName@@. Download @@softwareName@@ and enjoy it on your iPhone, iPad, iPod touch, Mac OS X @@minimumOSVersion@@ or later, Apple TV or Apple Watch.\",\"WEA.AppPages.Meta.iOStvOSmacOSwatchOSPageMetaKeywords\":\"@@softwareName@@, @@developerName@@, @@categoryNames@@, ios apps, tvos apps, mac apps, watchos apps, app, appstore, app store, applications, iphone, ipad, ipod touch, itouch, itunes, appletv, apple tv, apple watch\",\"WEA.AppPages.Meta.title\":\"@@softwareName@@ on the App Store\",\"WEA.AppPages.Meta.tvOSAppPageMetaDescriptionLine\":\"Read reviews, compare customer ratings, see screenshots and learn more about @@softwareName@@. Download @@softwareName@@ and enjoy it on your Apple TV.\",\"WEA.AppPages.Meta.tvOSAppPageMetaKeywords\":\"@@softwareName@@, @@developerName@@, @@categoryNames@@, tvos apps, app, appstore, app store, appletv, apple tv\",\"WEA.AppPages.Meta.tvOSAppPagetitle\":\"@@softwareName@@ on the App Store\",\"WEA.AppPages.MoreAppsByDeveloperName\":\"More Apps by @@developerName@@\",\"WEA.AppPages.MoreByThisDeveloper.Title\":\"More By This Developer\",\"WEA.AppPages.OffersAppleWatchApp\":\"Offers Apple Watch App\",\"WEA.AppPages.OffersAppleWatchAppForiPhone\":\"Offers Apple Watch App for iPhone\",\"WEA.AppPages.OffersExternalPurchases\":\"Offers External Purchases\",\"WEA.AppPages.OffersInAppPurchases\":\"Offers In-App Purchases\",\"WEA.AppPages.OffersiMessageApp\":\"Offers iMessage App\",\"WEA.AppPages.OffersiMessageAppForiOS\":\"Offers iMessage App for iOS\",\"WEA.AppPages.OnlyForAppleTV\":\"Only for Apple TV\",\"WEA.AppPages.OnlyForiMessage\":\"Only for iMessage\",\"WEA.AppPages.Optional\":\"Optional\",\"WEA.AppPages.PreOrder\":\"Pre-Order\",\"WEA.AppPages.PreOrderDisclaimer\":\"This content may change without notice and the final product may be different.\",\"WEA.AppPages.Price.Title\":\"Price\",\"WEA.AppPages.PrivacyPolicy\":\"Privacy Policy\",\"WEA.AppPages.RankInGenre\":\"#@@rank@@ in @@genreName@@\",\"WEA.AppPages.Rating\":\"Rating\",\"WEA.AppPages.Ratings.Title\":\"Ratings\",\"WEA.AppPages.RatingsReviews.Title\":\"Ratings and Reviews\",\"WEA.AppPages.Required\":\"Required\",\"WEA.AppPages.Screenshots\":\"Screenshots\",\"WEA.AppPages.Screenshots.appleTV\":\"Apple TV\",\"WEA.AppPages.Screenshots.appleTVScreenshots\":\"Apple TV Screenshots\",\"WEA.AppPages.Screenshots.appleWatch\":\"Apple Watch\",\"WEA.AppPages.Screenshots.appleWatchScreenshots\":\"Apple Watch Screenshots\",\"WEA.AppPages.Screenshots.ipad\":\"iPad\",\"WEA.AppPages.Screenshots.ipadScreenshots\":\"iPad Screenshots\",\"WEA.AppPages.Screenshots.iphone\":\"iPhone\",\"WEA.AppPages.Screenshots.iphoneScreenshots\":\"iPhone Screenshots\",\"WEA.AppPages.Screenshots.mac\":\"Mac\",\"WEA.AppPages.Screenshots.messages\":\"iMessage\",\"WEA.AppPages.Screenshots.messagesScreenshots\":\"iMessage Screenshots\",\"WEA.AppPages.Seller\":\"Seller\",\"WEA.AppPages.Size\":\"Size\",\"WEA.AppPages.StandAloneForWatch\":\"Only on Apple Watch\",\"WEA.AppPages.Subscriptions.FreeTrial\":\"Free Trial\",\"WEA.AppPages.Subscriptions.PayAsYouGo\":\"@@price@@ Trial\",\"WEA.AppPages.Subscriptions.PayUpFront\":\"@@price@@ Trial\",\"WEA.AppPages.Subscriptions.Title\":\"Subscriptions\",\"WEA.AppPages.Supports.FamilySharing.Description\":\"Up to six family members can use this app with Family Sharing enabled.\",\"WEA.AppPages.Supports.FamilySharing.Description.withIAP\":\"Some in‑app purchases, including subscriptions, may be shareable with your family group when Family Sharing is enabled.\",\"WEA.AppPages.Supports.FamilySharing.Title\":\"Family Sharing\",\"WEA.AppPages.Supports.GameCenter.Description\":\"Challenge friends and check leaderboards and achievements.\",\"WEA.AppPages.Supports.GameCenter.Title\":\"Game Center\",\"WEA.AppPages.Supports.GameController.Description\":\"Play this game with your favourite compatible controller.\",\"WEA.AppPages.Supports.GameController.Title\":\"Game Controllers\",\"WEA.AppPages.Supports.Siri.Description\":\"Get things done within this app using just your voice.\",\"WEA.AppPages.Supports.Siri.Title\":\"Siri\",\"WEA.AppPages.Supports.Title\":\"Supports\",\"WEA.AppPages.Supports.Wallet.Description\":\"Get all of your passes, tickets, cards, and more in one place.\",\"WEA.AppPages.Supports.Wallet.Title\":\"Wallet\",\"WEA.AppPages.TopInAppPurchases.Title\":\"In-App Purchases\",\"WEA.AppPages.TopInCategory.Title\":\"Top Apps In @@categoryName@@\",\"WEA.AppPages.Twitter.site.desktopApp\":\"@MacAppStore\",\"WEA.AppPages.Updated\":\"Updated\",\"WEA.AppPages.Version\":\"Version\",\"WEA.AppPages.VersionHistory.Title\":\"Version History\",\"WEA.AppPages.ViewIn\":\"View On:\",\"WEA.AppPages.WhatsNew.Header\":\"What’s New\",\"WEA.CarrierPages.UpdateOS.Instructions.MacOS\":\"For Mac, go to System Preferences \\u003e Software Update\",\"WEA.CarrierPages.UpdateOS.Instructions.One\":\"Once your device is updated, please go back and use the link from your network provider to activate this subscription.\",\"WEA.CarrierPages.UpdateOS.Instructions.iOS\":\"For iPhone and iPad, go to Settings \\u003e General \\u003e Software Update\",\"WEA.CarrierPages.UpdateOS.Meta.Description\":\"Update your iPhone, iPad or Mac to the latest OS to activate the subscription included with your mobile phone plan.\",\"WEA.CarrierPages.UpdateOS.Meta.Title\":\"Update Device to Latest OS to Activate Subscription\",\"WEA.CarrierPages.UpdateOS.Title\":\"Update your device to the latest OS to activate this subscription.\",\"WEA.Charts.AppFilter.Button\":\"App Categories\",\"WEA.Charts.AppFilter.Tab\":\"Apps\",\"WEA.Charts.Apps.AppType.Apps\":\"apps\",\"WEA.Charts.Apps.AppType.Games\":\"games\",\"WEA.Charts.Apps.DeviceType.iPad\":\"iPad\",\"WEA.Charts.Apps.DeviceType.iPhone\":\"iPhone\",\"WEA.Charts.Apps.Games.top-free-games\":\"Top Free Games\",\"WEA.Charts.Apps.Games.top-paid-games\":\"Top Paid Games\",\"WEA.Charts.Apps.Meta.CategoryChartDescription\":\"Explore top @@chart@@ @@category@@ @@baseCategory@@ for your @@deviceType@@ on the App Store, like @@entity1@@, @@entity2@@ and more.\",\"WEA.Charts.Apps.Meta.CategoryChartKeywords\":\"@@chart@@, @@deviceType@@, @@category@@, @@baseCategory@@, app store, top charts, apple\",\"WEA.Charts.Apps.Meta.CategoryChartTitle\":\"Top @@chart@@ @@deviceType@@ @@category@@ @@baseCategory@@ on the App Store — Apple (@@storefront@@)\",\"WEA.Charts.Apps.Meta.CategoryDescription\":\"Explore top @@deviceType@@ @@category@@ @@baseCategory@@ on the App Store, like @@entity1@@, @@entity2@@ and more.\",\"WEA.Charts.Apps.Meta.CategoryKeywords\":\"best @@deviceType@@ @@category@@ @@baseCategory@@, @@deviceType@@, @@category@@, @@baseCategory@@, app store, top charts, apple\",\"WEA.Charts.Apps.Meta.CategoryTitle\":\"Top @@deviceType@@ @@category@@ @@baseCategory@@ on the App Store — Apple (@@storefront@@)\",\"WEA.Charts.Apps.Meta.Chart.Free\":\"free\",\"WEA.Charts.Apps.Meta.Chart.Paid\":\"paid\",\"WEA.Charts.Apps.Meta.ChartDescription\":\"Explore top @@chart@@ @@deviceType@@ @@baseCategory@@ on the App Store, like @@entity1@@, @@entity2@@ and more.\",\"WEA.Charts.Apps.Meta.ChartKeywords\":\"best @@chart@@ @@deviceType@@ @@baseCategory@@, @@chart@@, @@deviceType@@, @@baseCategory@@, app store, top charts, apple\",\"WEA.Charts.Apps.Meta.ChartTitle\":\"Top @@chart@@ @@deviceType@@ @@baseCategory@@ on the App Store — Apple (@@storefront@@)\",\"WEA.Charts.Apps.Meta.Description\":\"Find and download top apps and games for @@deviceType@@ on the App Store.\",\"WEA.Charts.Apps.Meta.Keywords\":\"best @@deviceType@@ apps, best @@deviceType@@ games, app store, top charts, apple\",\"WEA.Charts.Apps.Meta.Title\":\"@@deviceType@@ Top Charts on the App Store — Apple (@@storefront@@)\",\"WEA.Charts.Apps.Title\":\"Top Charts\",\"WEA.Charts.AudioBooks.Meta.Description\":\"Browse the list of most popular and bestselling audiobooks on Apple Books. Find the top charts for best audiobooks to listen to across all genres.\",\"WEA.Charts.AudioBooks.Meta.GenreDescription\":\"Find the best @@genre@@ audiobooks to listen to on Apple Books. View the list of top free audiobooks and bestselling titles including @@entity1@@, @@entity2@@ and more.\",\"WEA.Charts.AudioBooks.Meta.GenreKeywords\":\"top @@genre@@ audiobooks, top @@genre@@ audiobooks on iphone, ipad, Mac, Apple Books\",\"WEA.Charts.AudioBooks.Meta.GenreTitle\":\"Top @@genre@@ audiobooks - Apple Books (@@storefront@@)\",\"WEA.Charts.AudioBooks.Meta.Keywords\":\"top audiobooks, top audiobooks on iphone, ipad, Mac, Apple Books\",\"WEA.Charts.AudioBooks.Meta.Title\":\"Top audiobooks - Apple Books (@@storefront@@)\",\"WEA.Charts.AudioBooks.Title\":\"Top Audiobooks\",\"WEA.Charts.Books.Meta.ChartDescription\":\"Find the best @@genre@@ (@@chart@@) books to read on Apple Books. View the list of top titles including @@entity1@@, @@entity2@@ and more.\",\"WEA.Charts.Books.Meta.ChartKeywords\":\"top @@chart@@ @@genre@@ books, top @@chart@@ @@genre@@ books on iphone, ipad, Mac, Apple Books\",\"WEA.Charts.Books.Meta.ChartTitle\":\"Top @@genre@@ books (@@chart@@) - Apple Books (@@storefront@@)\",\"WEA.Charts.Books.Meta.Description\":\"Browse the list of the most popular and best selling books on Apple Books. Find the top charts for the best books to read across all genres.\",\"WEA.Charts.Books.Meta.GenreDescription\":\"Find the best @@genre@@ books to read on Apple Books. View the list of top free books and best selling titles including @@entity1@@, @@entity2@@ and more.\",\"WEA.Charts.Books.Meta.GenreKeywords\":\"top @@genre@@ books, top @@genre@@ books on iphone, ipad, Mac, Apple Books\",\"WEA.Charts.Books.Meta.GenreTitle\":\"Top @@genre@@ books - Apple Books (@@storefront@@)\",\"WEA.Charts.Books.Meta.Keywords\":\"top books, top books on iphone, ipad, Mac, Apple Books\",\"WEA.Charts.Books.Meta.Title\":\"Top books - Apple Books (@@storefront@@)\",\"WEA.Charts.Books.Title\":\"Top Books\",\"WEA.Charts.Categories.Button\":\"Categories\",\"WEA.Charts.Common.Rank\":\"Number @@rank@@\",\"WEA.Charts.GameFilter.Button\":\"Game Categories\",\"WEA.Charts.GameFilter.Tab\":\"Games\",\"WEA.Charts.GenreFilter.Button\":\"Genre Charts\",\"WEA.Charts.LocalNav.Links.TopAudiobooks\":\"Top Audiobooks\",\"WEA.Charts.LocalNav.Links.TopBooks\":\"Top Books\",\"WEA.Common.Accessibility.LocalNavClose\":\"Local Nav Close Menu\",\"WEA.Common.Accessibility.LocalNavOpen\":\"Local Nav Open Menu\",\"WEA.Common.Authentication.Login\":\"Sign In\",\"WEA.Common.Authentication.Logout\":\"Sign Out\",\"WEA.Common.AverageRating\":\"@@rating@@ out of @@ratingTotal@@\",\"WEA.Common.Close\":\"Close\",\"WEA.Common.Comma\":\", \",\"WEA.Common.DotSeparator\":\"@@string1@@ · @@string2@@\",\"WEA.Common.Duration\":\"Duration\",\"WEA.Common.Ellipsis.Animated\":\"\\u003cspan\\u003e.\\u003c/span\\u003e\\u003cspan\\u003e.\\u003c/span\\u003e\\u003cspan\\u003e.\\u003c/span\\u003e\",\"WEA.Common.Errors.404\":\"The content you have requested is not currently available.\",\"WEA.Common.Errors.404.Title\":\"Content Not Available\",\"WEA.Common.FileSize.GB\":\"@@count@@ GB\",\"WEA.Common.FileSize.GB.AX.one\":\"1 gigabyte\",\"WEA.Common.FileSize.GB.AX.other\":\"@@count@@ gigabytes\",\"WEA.Common.FileSize.GB.Unit\":\"GB\",\"WEA.Common.FileSize.KB\":\"@@count@@ KB\",\"WEA.Common.FileSize.KB.AX.one\":\"1 kilobyte\",\"WEA.Common.FileSize.KB.AX.other\":\"@@count@@ kilobytes\",\"WEA.Common.FileSize.KB.Unit\":\"KB\",\"WEA.Common.FileSize.MB\":\"@@count@@ MB\",\"WEA.Common.FileSize.MB.AX.one\":\"1 megabyte\",\"WEA.Common.FileSize.MB.AX.other\":\"@@count@@ megabytes\",\"WEA.Common.FileSize.MB.Unit\":\"MB\",\"WEA.Common.FileSize.byte.Unit\":\"byte\",\"WEA.Common.FileSize.byte.one\":\"1 byte\",\"WEA.Common.FileSize.byte.other\":\"@@count@@ bytes\",\"WEA.Common.Free\":\"Free\",\"WEA.Common.Get\":\"GET\",\"WEA.Common.Hours.Unit.Short\":\"hr\",\"WEA.Common.Hours.abbr.one\":\"1 hr\",\"WEA.Common.Hours.abbr.other\":\"@@count@@ hrs\",\"WEA.Common.Hours.one\":\"1 Hour\",\"WEA.Common.Hours.other\":\"@@count@@ Hours\",\"WEA.Common.Languages.AD\":\"AD\",\"WEA.Common.Languages.AudioTrack\":\"AudioTrack\",\"WEA.Common.Languages.CC\":\"CC\",\"WEA.Common.Languages.Dolby51\":\"Dolby Digital 5.1\",\"WEA.Common.Languages.Dolby51Plus\":\"Dolby Digital Plus 5.1\",\"WEA.Common.Languages.Dolby71Plus\":\"Dolby Digital Plus 7.1\",\"WEA.Common.Languages.DolbyAtmos\":\"Dolby Atmos\",\"WEA.Common.Languages.SDH\":\"SDH\",\"WEA.Common.Languages.Subtitled\":\"Subtitles\",\"WEA.Common.Languages.hasAudioDescription\":\"AD\",\"WEA.Common.Languages.hasClosedCaptioning\":\"CC\",\"WEA.Common.Languages.hasDolby\":\"Dolby\",\"WEA.Common.Languages.hasDolby71\":\"Dolby Digital Plus 7.1\",\"WEA.Common.Languages.hasDolbyAtmos\":\"Dolby Atmos\",\"WEA.Common.Languages.hasSDH\":\"SDH\",\"WEA.Common.Languages.hasStereo\":\"Stereo\",\"WEA.Common.Languages.hasSubtitles\":\"Subtitled\",\"WEA.Common.Languages.languageDescriptor\":\"@@languageName@@ (@@languageMeta@@)\",\"WEA.Common.LearnMore\":\"Learn More\",\"WEA.Common.Listen\":\"Listen\",\"WEA.Common.Loading\":\"Loading\",\"WEA.Common.Meta.FB.genericDescription.Books\":\"From mysteries to memoirs, enjoy books and audiobooks on your iPhone, iPad, iPod touch or Apple Watch. Read free samples of ebooks and listen to free audiobook previews. Get recent bestsellers, all-time favourites and more on Apple Books – all ready to instantly download.\",\"WEA.Common.Meta.FB.siteName.AM\":\"Apple Music\",\"WEA.Common.Meta.FB.siteName.AppleTV\":\"Apple TV\",\"WEA.Common.Meta.FB.siteName.Apps\":\"App Store\",\"WEA.Common.Meta.FB.siteName.Books\":\"Apple Books\",\"WEA.Common.Meta.FB.siteName.MacApps\":\"Mac App Store\",\"WEA.Common.Meta.FB.siteName.Podcasts\":\"Apple Podcasts\",\"WEA.Common.Meta.FB.siteName.iTunes\":\"iTunes\",\"WEA.Common.Meta.Twitter.genericDescription.Books\":\"From mysteries to memoirs, enjoy books and audiobooks on your iPhone, iPad, iPod touch or Apple Watch. Read free samples of ebooks and listen to free audiobook previews. Get recent bestsellers, all-time favourites and more on Apple Books – all ready to instantly download.\",\"WEA.Common.Meta.Twitter.site.AM\":\"@appleMusic\",\"WEA.Common.Meta.Twitter.site.Apps\":\"@AppStore\",\"WEA.Common.Meta.Twitter.site.Books\":\"@AppleBooks\",\"WEA.Common.Meta.Twitter.site.iTunes\":\"@iTunes\",\"WEA.Common.Minutes.Unit.Short\":\"min\",\"WEA.Common.Minutes.abbr.one\":\"1 min\",\"WEA.Common.Minutes.abbr.other\":\"@@count@@ min\",\"WEA.Common.Minutes.one\":\"1 Minute\",\"WEA.Common.Minutes.other\":\"@@count@@ Minutes\",\"WEA.Common.More\":\"more\",\"WEA.Common.NowPlaying\":\"NOW PLAYING\",\"WEA.Common.Number\":\"@@count@@\",\"WEA.Common.OG.SiteName.AppleBooks\":\"Apple Books\",\"WEA.Common.OG.SiteName.TV\":\"Apple TV\",\"WEA.Common.OG.SiteName.iTunes\":\"iTunes\",\"WEA.Common.OpensIn.AppleBooks\":\"Opens in Apple Books\",\"WEA.Common.Paid\":\"Paid\",\"WEA.Common.Pause\":\"PAUSE\",\"WEA.Common.Pause.Alternate\":\"PAUSE\",\"WEA.Common.Percentage\":\"@@percentage@@%\",\"WEA.Common.Platforms.AppleTv\":\"Apple TV\",\"WEA.Common.Platforms.Bundles\":\"Bundles\",\"WEA.Common.Platforms.Mac\":\"Mac\",\"WEA.Common.Platforms.Watch\":\"Apple Watch\",\"WEA.Common.Platforms.iMessage\":\"iMessage\",\"WEA.Common.Platforms.iPad\":\"iPad\",\"WEA.Common.Platforms.iPadiPhone\":\"iPad \\u0026 iPhone\",\"WEA.Common.Platforms.iPhone\":\"iPhone\",\"WEA.Common.Play\":\"Play\",\"WEA.Common.Play.Alternate\":\"PLAY\",\"WEA.Common.Playback.Progress\":\"Playback Progress\",\"WEA.Common.Playback.Skip.Ahead\":\"Skip Ahead\",\"WEA.Common.Playback.Skip.Back\":\"Skip Back\",\"WEA.Common.Preview\":\"PREVIEW\",\"WEA.Common.Preview.VideoName\":\"Preview @@videoName@@\",\"WEA.Common.Ratings.one\":\"1 Rating\",\"WEA.Common.Ratings.other\":\"@@count@@ Ratings\",\"WEA.Common.Ratings.zero\":\"No Ratings\",\"WEA.Common.Related\":\"Related\",\"WEA.Common.Released\":\"Released: @@releaseDate@@\",\"WEA.Common.Roles.AsCharacter\":\"as @@characterName@@\",\"WEA.Common.Roles.Type.Actor\":\"Actor\",\"WEA.Common.Roles.Type.Advisor\":\"Advisor\",\"WEA.Common.Roles.Type.Cast\":\"Cast\",\"WEA.Common.Roles.Type.Creator\":\"Creator\",\"WEA.Common.Roles.Type.Director\":\"Director\",\"WEA.Common.Roles.Type.Guest\":\"Guest\",\"WEA.Common.Roles.Type.GuestStar\":\"Guest Star\",\"WEA.Common.Roles.Type.Host\":\"Host\",\"WEA.Common.Roles.Type.Music\":\"Music\",\"WEA.Common.Roles.Type.Performer\":\"Performer\",\"WEA.Common.Roles.Type.Producer\":\"Producer\",\"WEA.Common.Roles.Type.Voice\":\"Voice\",\"WEA.Common.Roles.Type.Writer\":\"Writer\",\"WEA.Common.Seconds.abbr.one\":\"1 sec\",\"WEA.Common.Seconds.abbr.other\":\"@@count@@ sec\",\"WEA.Common.Seconds.one\":\"1 Second\",\"WEA.Common.Seconds.other\":\"@@count@@ Seconds\",\"WEA.Common.SeeAll.Button\":\"See All\",\"WEA.Common.SeeAll.Title.Generic\":\"@@parentName@@ - @@sectionTitle@@\",\"WEA.Common.SeeAll.Title.Item\":\"@@itemName@@ - @@productName@@ - @@sectionTitle@@\",\"WEA.Common.SeeAll.Title.Product\":\"@@artistName@@ — @@sectionTitle@@\",\"WEA.Common.SeeDetails.Button\":\"See Details\",\"WEA.Common.SentenceDelimiter\":\".\",\"WEA.Common.SeparatorDuration\":\"@@hours@@ @@minutes@@\",\"WEA.Common.SeparatorDuration.Short\":\"@@string1@@:@@string2@@\",\"WEA.Common.SeparatorGeneric\":\"@@string1@@, @@string2@@\",\"WEA.Common.Share.CloseMenu.AX\":\"Close sharing menu\",\"WEA.Common.Share.Embed.AX\":\"Copy the Embed Code for the @@contentType@@ @@mediaTitle@@ by @@name@@\",\"WEA.Common.Share.EmbedCopied\":\"Embed Code Copied\",\"WEA.Common.Share.Link.AX\":\"Copy a link to the @@contentType@@ @@mediaTitle@@ by @@name@@\",\"WEA.Common.Share.LinkCopied\":\"Link Copied\",\"WEA.Common.Share.OpenMenu.AX\":\"Open sharing menu\",\"WEA.Common.Share.Social.AX\":\"Share the @@contentType@@ @@mediaTitle@@ by @@name@@ on @@network@@\",\"WEA.Common.Shuffle\":\"Shuffle\",\"WEA.Common.TV.CTA.AM\":\"Watch on Mac, PC or Android with Apple Music\",\"WEA.Common.TV.CTA.AX\":\"Watch on Apple TV\",\"WEA.Common.Time.AvailableIn\":\"AVAILABLE IN @@minutes@@ MIN\",\"WEA.Common.Time.DayOfTheWeek.Friday\":\"FRI @@time@@\",\"WEA.Common.Time.DayOfTheWeek.Monday\":\"MON @@time@@\",\"WEA.Common.Time.DayOfTheWeek.Saturday\":\"SAT @@time@@\",\"WEA.Common.Time.DayOfTheWeek.Sunday\":\"SUN @@time@@\",\"WEA.Common.Time.DayOfTheWeek.Thursday\":\"THU @@time@@\",\"WEA.Common.Time.DayOfTheWeek.Tuesday\":\"TUE @@time@@\",\"WEA.Common.Time.DayOfTheWeek.Wednesday\":\"WED @@time@@\",\"WEA.Common.Time.StartsIn\":\"STARTS IN @@minutes@@ MIN\",\"WEA.Common.Time.Today\":\"TODAY @@time@@\",\"WEA.Common.Time.Tomorrow\":\"TOMORROW @@time@@\",\"WEA.Common.Time.Tonight\":\"TONIGHT @@time@@\",\"WEA.Common.TogglePlay\":\"Play/Pause\",\"WEA.Common.TrackList.Album\":\"ALBUM\",\"WEA.Common.TrackList.Artist\":\"ARTIST\",\"WEA.Common.TrackList.Price\":\"PRICE\",\"WEA.Common.TrackList.Time\":\"TIME\",\"WEA.Common.TrackList.TimeRemaining\":\"Time remaining\",\"WEA.Common.TrackList.Track\":\"TITLE\",\"WEA.Common.VideoSubType.concert\":\"CONCERT\",\"WEA.Common.VideoSubType.episode\":\"EPISODE\",\"WEA.Common.VideoSubType.episodebonus\":\"EPISODE BONUS\",\"WEA.Common.VideoSubType.feature\":\"FEATURE\",\"WEA.Common.VideoSubType.seasonbonus\":\"SERIES BONUS\",\"WEA.Common.VideoSubType.short\":\"SHORT\",\"WEA.Common.VideoSubType.specialty\":\"SPECIALITY\",\"WEA.Common.VideoSubType.tvextra\":\"EXTRA\",\"WEA.Common.VideoSubType.tvinterview\":\"INTERVIEW\",\"WEA.Common.VideoSubType.tvtrailer\":\"TRAILER\",\"WEA.Common.View\":\"VIEW\",\"WEA.Common.Yes\":\"Yes\",\"WEA.DeepLinkPages.Social.Invite.Description.AM\":\"Discover music with friends\",\"WEA.DeepLinkPages.Social.Invite.Title.AM\":\"Start Sharing on Apple Music\",\"WEA.DeepLinkPages.Social.Subscribe.Description.AM\":\"Play and download all the music you want\",\"WEA.DeepLinkPages.Social.Subscribe.Title.AM\":\"Try Apple Music\",\"WEA.DeveloperPages.FB.siteName.developer\":\"App Store\",\"WEA.DeveloperPages.Messages.NoApps\":\"There are currently no apps available.\",\"WEA.DeveloperPages.Meta.Description.ManyApps\":\"Download apps by @@developerName@@, including @@listing1@@, @@listing2@@, @@listing3@@ and many more.\",\"WEA.DeveloperPages.Meta.Description.NoApps\":\"Download apps by @@developerName@@.\",\"WEA.DeveloperPages.Meta.Description.OneApp\":\"Download apps by @@developerName@@, including @@listing1@@.\",\"WEA.DeveloperPages.Meta.Description.ThreeApps\":\"Download apps by @@developerName@@, including @@listing1@@, @@listing2@@ and @@listing3@@.\",\"WEA.DeveloperPages.Meta.Description.TwoApps\":\"Download apps by @@developerName@@, including @@listing1@@ and @@listing2@@.\",\"WEA.DeveloperPages.Meta.PageKeywords\":\"download, @@developerName@@, apps on iphone, ipad, iMessage, Apple Watch, Mac\",\"WEA.DeveloperPages.Meta.Title\":\"@@developerName@@ Apps on the App Store\",\"WEA.EditorialItemProductPages.AppOfTheDay\":\"APP OF THE DAY\",\"WEA.EditorialItemProductPages.Banner.Copy\":\"This story can only be viewed on the App Store in iOS 11 or later on your iPhone or iPad. @@link@@\",\"WEA.EditorialItemProductPages.Banner.Copy.NewmacOS\":\"This story can be viewed only in the App Store. @@link@@\",\"WEA.EditorialItemProductPages.Banner.Copy.NonmacOS\":\"This story can be viewed only in the App Store. @@link@@\",\"WEA.EditorialItemProductPages.Banner.Copy.OldmacOS\":\"To view this story, @@link@@\",\"WEA.EditorialItemProductPages.Banner.Headline\":\"Get the Full Experience\",\"WEA.EditorialItemProductPages.Banner.Headline.NewmacOS\":\"Get the Full Experience\",\"WEA.EditorialItemProductPages.Banner.Headline.NonmacOS\":\"Get the Full Experience\",\"WEA.EditorialItemProductPages.Banner.Headline.OldmacOS\":\"Get the Full Experience\",\"WEA.EditorialItemProductPages.Banner.Link.Text\":\"Learn more.\",\"WEA.EditorialItemProductPages.Banner.Link.Text.NewmacOS\":\"Learn more.\",\"WEA.EditorialItemProductPages.Banner.Link.Text.NonmacOS\":\"Learn more.\",\"WEA.EditorialItemProductPages.Banner.Link.Text.OldmacOS\":\"upgrade to the latest macOS.\",\"WEA.EditorialItemProductPages.Banner.Link.URL\":\"https://www.apple.com/uk/ios/app-store/\",\"WEA.EditorialItemProductPages.Banner.Link.URL.NewmacOS\":\"https://www.apple.com/uk/macos/mojave-preview/#mac-app-store\",\"WEA.EditorialItemProductPages.Banner.Link.URL.NonmacOS\":\"https://www.apple.com/uk/macos/mojave-preview/#mac-app-store\",\"WEA.EditorialItemProductPages.Banner.Link.URL.OldmacOS\":\"macappstore://itunes.apple.com/WebObjects/MZStore.woa/wa/storeFront\",\"WEA.EditorialItemProductPages.CTA.Headline\":\"Get the Full Experience\",\"WEA.EditorialItemProductPages.CTA.Link.Url\":\"https://www.apple.com/ios/app-store/\",\"WEA.EditorialItemProductPages.CTA.Text\":\"This story can only be viewed on the App Store in iOS 11 or later on your iPhone or iPad.\",\"WEA.EditorialItemProductPages.CTA.Text.AX\":\"VIEW @@appName@@\",\"WEA.EditorialItemProductPages.FB.siteName.iosSoftware\":\"App Store\",\"WEA.EditorialItemProductPages.FB.siteName.macOs\":\"Mac App Store\",\"WEA.EditorialItemProductPages.GameOfTheDay\":\"GAME OF THE DAY\",\"WEA.EditorialItemProductPages.InAppPurchase\":\"IN-APP PURCHASE\",\"WEA.EditorialItemProductPages.InAppPurchase.Title\":\"@@purchaseName@@ for @@appName@@\",\"WEA.EditorialItemProductPages.MacAppStore.MacOS.Meta.PageMetaDescription\":\"Learn about @@storyTitle@@ on Mac App Store. Download @@featuredAppName@@ and enjoy it on your Mac.\",\"WEA.EditorialItemProductPages.MacAppStore.MacOS.Meta.PageMetaDescription.Collection.ManyMore\":\"Learn about collection @@storyTitle@@ featuring @@featuredAppName1@@, @@featuredAppName2@@, @@featuredAppName3@@ and many more on Mac App Store. Enjoy these apps on your Mac.\",\"WEA.EditorialItemProductPages.MacAppStore.MacOS.Meta.PageMetaDescription.Collection.One\":\"Learn about collection @@storyTitle@@ featuring @@featuredAppName1@@ and many more on Mac App Store. Enjoy these apps on your Mac.\",\"WEA.EditorialItemProductPages.MacAppStore.MacOS.Meta.PageMetaDescription.Collection.Three\":\"Learn about collection @@storyTitle@@ featuring @@featuredAppName1@@, @@featuredAppName2@@, @@featuredAppName3@@ and many more on Mac App Store. Enjoy these apps on your Mac.\",\"WEA.EditorialItemProductPages.MacAppStore.MacOS.Meta.PageMetaDescription.Collection.Two\":\"Learn about collection @@storyTitle@@ featuring @@featuredAppName1@@, @@featuredAppName2@@ and many more on Mac App Store. Enjoy these apps on your Mac.\",\"WEA.EditorialItemProductPages.MacAppStore.MacOS.Meta.PageMetaKeywords\":\"@@storyTitle@@, @@featuredAppName@@, @@applicationCategory@@, app, appstore, app store, Mac\",\"WEA.EditorialItemProductPages.MacAppStore.MacOS.Meta.PageMetaKeywords.Collection.One\":\"@@storyTitle@@, @@featuredAppName1@@, @@applicationCategory@@, app, appstore, app store, Mac\",\"WEA.EditorialItemProductPages.MacAppStore.MacOS.Meta.PageMetaKeywords.Collection.Three\":\"@@storyTitle@@, @@featuredAppName1@@, @@featuredAppName2@@, @@featuredAppName3@@, @@applicationCategory@@, app, appstore, app store, Mac\",\"WEA.EditorialItemProductPages.MacAppStore.MacOS.Meta.PageMetaKeywords.Collection.Two\":\"@@storyTitle@@, @@featuredAppName1@@, @@featuredAppName2@@, @@applicationCategory@@, app, appstore, app store, Mac\",\"WEA.EditorialItemProductPages.MacAppStore.Meta.PageMetaDescription\":\"Learn about @@storyTitle@@ on Mac App Store. Download @@featuredAppName@@ and enjoy it on your iPhone, iPad and Mac.\",\"WEA.EditorialItemProductPages.MacAppStore.Meta.PageMetaDescription.Collection.ManyMore\":\"Learn about collection @@storyTitle@@ featuring @@featuredAppName1@@, @@featuredAppName2@@, @@featuredAppName3@@ and many more on Mac App Store. Enjoy these apps on your iPhone, iPad and Mac.\",\"WEA.EditorialItemProductPages.MacAppStore.Meta.PageMetaDescription.Collection.One\":\"Learn about collection @@storyTitle@@ featuring @@featuredAppName1@@ and many more on Mac App Store. Enjoy these apps on your iPhone, iPad and Mac.\",\"WEA.EditorialItemProductPages.MacAppStore.Meta.PageMetaDescription.Collection.Three\":\"Learn about collection @@storyTitle@@ featuring @@featuredAppName1@@, @@featuredAppName2@@, @@featuredAppName3@@ and many more on Mac App Store. Enjoy these apps on your iPhone, iPad and Mac.\",\"WEA.EditorialItemProductPages.MacAppStore.Meta.PageMetaDescription.Collection.Two\":\"Learn about collection @@storyTitle@@ featuring @@featuredAppName1@@, @@featuredAppName2@@ and many more on Mac App Store. Enjoy these apps on your iPhone, iPad and Mac.\",\"WEA.EditorialItemProductPages.MacAppStore.Meta.PageMetaKeywords\":\"@@storyTitle@@, @@featuredAppName@@, @@applicationCategory@@, ios apps, app, appstore, app store, iphone, ipad, ipod touch, itouch, itunes, Mac\",\"WEA.EditorialItemProductPages.MacAppStore.Meta.PageMetaKeywords.Collection.One\":\"@@storyTitle@@, @@featuredAppName1@@, @@applicationCategory@@, ios apps, app, appstore, app store, iphone, ipad, ipod touch, itouch, itunes, Mac\",\"WEA.EditorialItemProductPages.MacAppStore.Meta.PageMetaKeywords.Collection.Three\":\"@@storyTitle@@, @@featuredAppName1@@, @@featuredAppName2@@, @@featuredAppName3@@, @@applicationCategory@@, ios apps, app, appstore, app store, iphone, ipad, ipod touch, itouch, itunes, Mac\",\"WEA.EditorialItemProductPages.MacAppStore.Meta.PageMetaKeywords.Collection.Two\":\"@@storyTitle@@, @@featuredAppName1@@, @@featuredAppName2@@, @@applicationCategory@@, ios apps, app, appstore, app store, iphone, ipad, ipod touch, itouch, itunes, Mac\",\"WEA.EditorialItemProductPages.Meta.PageMetaDescription\":\"Learn about @@storyTitle@@ on App Store. \",\"WEA.EditorialItemProductPages.Meta.PageMetaDescription.Collection.ManyMore\":\"Learn about collection @@storyTitle@@ featuring @@featuredAppName1@@, @@featuredAppName2@@, @@featuredAppName3@@ and many more on App Store. Enjoy these apps on your iPhone, iPad and iPod touch.\",\"WEA.EditorialItemProductPages.Meta.PageMetaDescription.Collection.One\":\"Learn about collection @@storyTitle@@ featuring @@featuredAppName1@@ and many more on App Store. Enjoy these apps on your iPhone, iPad and iPod touch.\",\"WEA.EditorialItemProductPages.Meta.PageMetaDescription.Collection.Three\":\"Learn about collection @@storyTitle@@ featuring @@featuredAppName1@@, @@featuredAppName2@@ and @@featuredAppName3@@ on App Store. Enjoy these apps on your iPhone, iPad and iPod touch.\",\"WEA.EditorialItemProductPages.Meta.PageMetaDescription.Collection.Two\":\"Learn about collection @@storyTitle@@ featuring @@featuredAppName1@@, @@featuredAppName2@@ and many more on App Store. Enjoy these apps on your iPhone, iPad and iPod touch.\",\"WEA.EditorialItemProductPages.Meta.PageMetaKeywords\":\"@@storyTitle@@, @@applicationCategory@@, ios apps, app, appstore, app store, iphone, ipad, ipod touch, itouch, itunes\",\"WEA.EditorialItemProductPages.Meta.PageMetaKeywords.Collection.One\":\"@@storyTitle@@, @@featuredAppName1@@, @@applicationCategory@@, ios apps, app, appstore, app store, iphone, ipad, ipod touch, itouch, itunes\",\"WEA.EditorialItemProductPages.Meta.PageMetaKeywords.Collection.Three\":\"@@storyTitle@@, @@featuredAppName1@@, @@featuredAppName2@@, @@featuredAppName3@@, @@applicationCategory@@, ios apps, app, appstore, app store, iphone, ipad, ipod touch, itouch, itunes\",\"WEA.EditorialItemProductPages.Meta.PageMetaKeywords.Collection.Two\":\"@@storyTitle@@, @@featuredAppName1@@, @@featuredAppName2@@, @@applicationCategory@@, ios apps, app, appstore, app store, iphone, ipad, ipod touch, itouch, itunes\",\"WEA.EditorialItemProductPages.Meta.title\":\"@@storyTitle@@ : App Store Story\",\"WEA.EditorialItemProductPages.Social.title.AOTD\":\"App of the Day: @@appName@@\",\"WEA.EditorialItemProductPages.Social.title.ASA\":\"@@storyTitle@@: @@appName@@\",\"WEA.EditorialItemProductPages.Social.title.GOTD\":\"Game of the Day: @@appName@@\",\"WEA.EditorialItemProductPages.Social.title.IAP\":\"In-App Purchase: @@appName@@\",\"WEA.Error.Carrier.Install.AM\":\"To start listening, install Apple Music on your device.\",\"WEA.Error.Carrier.Installed\":\"Already have the app?\",\"WEA.Error.Carrier.Open.Action\":\"Get it on @@appname@@\",\"WEA.Error.Generic.AppleMusicLogo.Text\":\"Apple Music\",\"WEA.Error.Generic.GooglePlay\":\"Google Play\",\"WEA.Error.Generic.Install.AM\":\"If this link does not work, you might need to @@installLink@@.\",\"WEA.Error.Generic.Install.AM.Link.Text\":\"install Apple Music\",\"WEA.Error.Generic.Meta.PageKeywords\":\"Apple Music\",\"WEA.Error.Generic.Meta.PageKeywords.AppleBooks\":\"Apple Books\",\"WEA.Error.Generic.Meta.PageKeywords.iTunes\":\"iTunes Store\",\"WEA.Error.Generic.Meta.PageTitle\":\"Connecting to Apple Music\",\"WEA.Error.Generic.Open.AM\":\"Open in Apple Music\",\"WEA.Error.Generic.Open.Action.AM\":\"Open in\",\"WEA.Error.Generic.Subtitle\":\"If you do not have iTunes, @@downloadLink@@. If you have iTunes and it does not open automatically, try opening it from your dock or Windows task bar.\",\"WEA.Error.Generic.Subtitle.DownloadLink.Text\":\"download it for free\",\"WEA.Error.Generic.Subtitle.DownloadLink.URL\":\"http://www.apple.com/uk/itunes/download/\",\"WEA.Error.Generic.Title\":\"Connecting to Apple Music\",\"WEA.Error.Generic.Title.AppleBooks\":\"Connecting to Apple Books\",\"WEA.Error.Generic.Title.Apps\":\"Connecting to the App Store\",\"WEA.Error.Generic.Title.Connecting\":\"Connecting\",\"WEA.Error.Generic.Title.Podcasts\":\"Connecting to Apple Podcasts\",\"WEA.Error.Generic.Title.iTunes\":\"Connecting to the iTunes Store.\",\"WEA.Error.NativeMissing.AM.Subtitle\":\"You need iTunes to use Apple Music\",\"WEA.Error.NativeMissing.Other.AM\":\"Get Apple Music on iOS, Android, Mac and Windows\",\"WEA.Error.NativeMissing.Other.LearnMore.link\":\"https://www.apple.com/itunes/download/\",\"WEA.Error.NativeMissing.Other.iTunes\":\"Get iTunes on iOS, Android, Mac and Windows\",\"WEA.Error.NativeMissing.iTunes.Download.link\":\"https://www.apple.com/itunes/download/\",\"WEA.Error.NativeMissing.iTunes.Download.text\":\"Download iTunes\",\"WEA.Error.NativeMissing.iTunes.TV.Subtitle\":\"Download iTunes below to start watching.\",\"WEA.Error.NativeMissing.iTunes.Title\":\"We could not find iTunes on your computer.\",\"WEA.Error.NotFound.Meta.Title\":\"This content can’t be found.\",\"WEA.Error.NotFound.general\":\"The page you're looking for cannot be found.\",\"WEA.GroupingPages.CTA.GoToWebsite\":\"Go to\",\"WEA.InvoicePages.Receipts.Instructions\":\"Try again on an iPhone, iPad or Mac, or use iTunes on a PC\",\"WEA.InvoicePages.Receipts.Meta.Description\":\"You cannot turn off receipts on this device.\",\"WEA.InvoicePages.Receipts.Meta.Title\":\"Receipts\",\"WEA.InvoicePages.Receipts.Title\":\"You cannot turn off receipts on this device\",\"WEA.LocalNav.CTA.AppName.TV\":\"Apple TV App\",\"WEA.LocalNav.CTA.DownloadiTunes\":\"Download iTunes\",\"WEA.LocalNav.CTA.DownloadiTunes.url\":\"https://www.apple.com/itunes/download/\",\"WEA.LocalNav.CTA.FreeTrial\":\"Try It Now\",\"WEA.LocalNav.CTA.FreeTrial.url\":\"https://itunes.apple.com/subscribe?app=music\",\"WEA.LocalNav.CTA.iTunesStore.TV\":\"Learn More\",\"WEA.LocalNav.Preview.AM\":\"Preview\",\"WEA.LocalNav.Preview.AppStore\":\"Preview\",\"WEA.LocalNav.Preview.Books\":\"Preview\",\"WEA.LocalNav.Preview.MAS\":\"Preview\",\"WEA.LocalNav.Preview.Podcasts\":\"Preview\",\"WEA.LocalNav.Preview.TV\":\"Preview\",\"WEA.LocalNav.Preview.iBooks\":\"Preview\",\"WEA.LocalNav.Preview.iTunes\":\"Preview\",\"WEA.LocalNav.Store.AM\":\"Apple Music\",\"WEA.LocalNav.Store.AppStore\":\"App Store\",\"WEA.LocalNav.Store.Books\":\"Apple Books\",\"WEA.LocalNav.Store.MAS\":\"Mac App Store\",\"WEA.LocalNav.Store.Podcasts\":\"Apple Podcasts\",\"WEA.LocalNav.Store.TV\":\"Apple TV\",\"WEA.LocalNav.Store.iBooks\":\"Apple Books\",\"WEA.LocalNav.Store.iTunes\":\"iTunes\",\"WEA.LocalNav.Title.Preview.AM\":\"@@product@@ @@qualifier@@\",\"WEA.LocalNav.Title.Preview.AppStore\":\"@@product@@ @@qualifier@@\",\"WEA.LocalNav.Title.Preview.Books\":\"@@product@@ @@qualifier@@\",\"WEA.LocalNav.Title.Preview.MAS\":\"@@product@@ @@qualifier@@\",\"WEA.LocalNav.Title.Preview.Podcasts\":\"@@product@@ @@qualifier@@\",\"WEA.LocalNav.Title.Preview.TV\":\"@@product@@ @@qualifier@@\",\"WEA.LocalNav.Title.Preview.iBooks\":\"@@product@@ @@qualifier@@\",\"WEA.LocalNav.Title.Preview.iTunes\":\"@@product@@ @@qualifier@@\",\"WEA.MusicPages.Riaa.Explicit.AX\":\"Parental Advisory Explicit Content\",\"WEA.PaddleNav.Next.AX\":\"Next\",\"WEA.PaddleNav.Previous.AX\":\"Previous\",\"WEA.StarRating.Separator\":\" • \",\"WFA.Common.Meta.Twitter.site\":\"@Apple\"}}</script>,\n",
       " <script id=\"shoebox-global-elements\" type=\"fastboot/shoebox\">{\"nav\":\"\\u003caside id=\\\"ac-gn-segmentbar\\\" class=\\\"ac-gn-segmentbar\\\" lang=\\\"en-IN\\\" dir=\\\"ltr\\\" data-strings=\\\"{ \\u0026apos;exit\\u0026apos;: \\u0026apos;Exit\\u0026apos;, \\u0026apos;view\\u0026apos;: \\u0026apos;{%STOREFRONT%} Store Home\\u0026apos;, \\u0026apos;segments\\u0026apos;: { \\u0026apos;smb\\u0026apos;: \\u0026apos;\\u0026apos;, \\u0026apos;eduInd\\u0026apos;: \\u0026apos;Education Store Home\\u0026apos;, \\u0026apos;other\\u0026apos;: \\u0026apos;Store Home\\u0026apos; } }\\\"\\u003e\\u003c/aside\\u003e\\n\\u003cinput type=\\\"checkbox\\\" id=\\\"ac-gn-menustate\\\" class=\\\"ac-gn-menustate\\\"\\u003e\\n\\u003cnav id=\\\"ac-globalnav\\\" class=\\\"no-js\\\" role=\\\"navigation\\\" aria-label=\\\"Global\\\" data-hires=\\\"false\\\" data-analytics-region=\\\"global nav\\\" lang=\\\"en-IN\\\" dir=\\\"ltr\\\" data-www-domain=\\\"www.apple.com\\\" data-store-locale=\\\"in\\\" data-store-root-path=\\\"/in\\\" data-store-api=\\\"https://www.apple.com/[storefront]/shop/bag/status\\\" data-search-locale=\\\"en_IN\\\" data-search-suggestions-api=\\\"https://www.apple.com/search-services/suggestions/\\\" data-search-defaultlinks-api=\\\"https://www.apple.com/search-services/suggestions/defaultlinks/\\\"\\u003e\\n\\t\\u003cdiv class=\\\"ac-gn-content\\\"\\u003e\\n\\t\\t\\u003cul class=\\\"ac-gn-header\\\"\\u003e\\n\\t\\t\\t\\u003cli class=\\\"ac-gn-item ac-gn-menuicon\\\"\\u003e\\n\\t\\t\\t\\t\\u003ca href=\\\"#ac-gn-menustate\\\" role=\\\"button\\\" class=\\\"ac-gn-menuanchor ac-gn-menuanchor-open\\\" id=\\\"ac-gn-menuanchor-open\\\"\\u003e\\n\\t\\t\\t\\t\\t\\u003cspan class=\\\"ac-gn-menuanchor-label\\\"\\u003eGlobal Nav Open Menu\\u003c/span\\u003e\\n\\t\\t\\t\\t\\u003c/a\\u003e\\n\\t\\t\\t\\t\\u003ca href=\\\"#\\\" role=\\\"button\\\" class=\\\"ac-gn-menuanchor ac-gn-menuanchor-close\\\" id=\\\"ac-gn-menuanchor-close\\\"\\u003e\\n\\t\\t\\t\\t\\t\\u003cspan class=\\\"ac-gn-menuanchor-label\\\"\\u003eGlobal Nav Close Menu\\u003c/span\\u003e\\n\\t\\t\\t\\t\\u003c/a\\u003e\\n\\t\\t\\t\\t\\u003clabel class=\\\"ac-gn-menuicon-label\\\" for=\\\"ac-gn-menustate\\\" aria-hidden=\\\"true\\\"\\u003e\\n\\t\\t\\t\\t\\t\\u003cspan class=\\\"ac-gn-menuicon-bread ac-gn-menuicon-bread-top\\\"\\u003e\\n\\t\\t\\t\\t\\t\\t\\u003cspan class=\\\"ac-gn-menuicon-bread-crust ac-gn-menuicon-bread-crust-top\\\"\\u003e\\u003c/span\\u003e\\n\\t\\t\\t\\t\\t\\u003c/span\\u003e\\n\\t\\t\\t\\t\\t\\u003cspan class=\\\"ac-gn-menuicon-bread ac-gn-menuicon-bread-bottom\\\"\\u003e\\n\\t\\t\\t\\t\\t\\t\\u003cspan class=\\\"ac-gn-menuicon-bread-crust ac-gn-menuicon-bread-crust-bottom\\\"\\u003e\\u003c/span\\u003e\\n\\t\\t\\t\\t\\t\\u003c/span\\u003e\\n\\t\\t\\t\\t\\u003c/label\\u003e\\n\\t\\t\\t\\u003c/li\\u003e\\n\\t\\t\\t\\u003cli class=\\\"ac-gn-item ac-gn-apple\\\"\\u003e\\n\\t\\t\\t\\t\\u003ca class=\\\"ac-gn-link ac-gn-link-apple\\\" href=\\\"https://www.apple.com/in/\\\" data-analytics-title=\\\"apple home\\\" id=\\\"ac-gn-firstfocus-small\\\"\\u003e\\n\\t\\t\\t\\t\\t\\u003cspan class=\\\"ac-gn-link-text\\\"\\u003eApple\\u003c/span\\u003e\\n\\t\\t\\t\\t\\u003c/a\\u003e\\n\\t\\t\\t\\u003c/li\\u003e\\n\\t\\t\\t\\u003cli class=\\\"ac-gn-item ac-gn-bag ac-gn-bag-small\\\" id=\\\"ac-gn-bag-small\\\"\\u003e\\n\\t\\t\\t\\t\\u003cdiv class=\\\"ac-gn-bag-wrapper\\\"\\u003e\\n\\t\\t\\t\\t\\t\\u003ca class=\\\"ac-gn-link ac-gn-link-bag\\\" href=\\\"https://www.apple.com/in/shop/goto/bag\\\" data-analytics-title=\\\"bag\\\" data-analytics-click=\\\"bag\\\" aria-label=\\\"Shopping Bag\\\" data-string-badge=\\\"Shopping Bag with item count :\\\"\\u003e\\n\\t\\t\\t\\t\\t\\t\\u003cspan class=\\\"ac-gn-link-text\\\"\\u003eShopping Bag\\u003c/span\\u003e\\n\\t\\t\\t\\t\\t\\u003c/a\\u003e\\n\\t\\t\\t\\t\\t\\u003cspan class=\\\"ac-gn-bag-badge\\\" aria-hidden=\\\"true\\\" data-analytics-title=\\\"bag\\\" data-analytics-click=\\\"bag\\\"\\u003e\\n\\t\\t\\t\\t\\t\\t\\u003cspan class=\\\"ac-gn-bag-badge-separator\\\"\\u003e\\u003c/span\\u003e\\n\\t\\t\\t\\t\\t\\t\\u003cspan class=\\\"ac-gn-bag-badge-number\\\"\\u003e\\u003c/span\\u003e\\n\\t\\t\\t\\t\\t\\t\\u003cspan class=\\\"ac-gn-bag-badge-unit\\\"\\u003e+\\u003c/span\\u003e\\n\\t\\t\\t\\t\\t\\u003c/span\\u003e\\n\\t\\t\\t\\t\\u003c/div\\u003e\\n\\t\\t\\t\\t\\u003cspan class=\\\"ac-gn-bagview-caret ac-gn-bagview-caret-large\\\"\\u003e\\u003c/span\\u003e\\n\\t\\t\\t\\u003c/li\\u003e\\n\\t\\t\\u003c/ul\\u003e\\n\\t\\t\\u003cdiv class=\\\"ac-gn-search-placeholder-container\\\" role=\\\"search\\\"\\u003e\\n\\t\\t\\t\\u003cdiv class=\\\"ac-gn-search ac-gn-search-small\\\"\\u003e\\n\\t\\t\\t\\t\\u003ca id=\\\"ac-gn-link-search-small\\\" class=\\\"ac-gn-link\\\" href=\\\"https://www.apple.com/in/search\\\" data-analytics-title=\\\"search\\\" data-analytics-intrapage-link aria-label=\\\"Search apple.com\\\"\\u003e\\n\\t\\t\\t\\t\\t\\u003cdiv class=\\\"ac-gn-search-placeholder-bar\\\"\\u003e\\n\\t\\t\\t\\t\\t\\t\\u003cdiv class=\\\"ac-gn-search-placeholder-input\\\"\\u003e\\n\\t\\t\\t\\t\\t\\t\\t\\u003cdiv class=\\\"ac-gn-search-placeholder-input-text\\\" aria-hidden=\\\"true\\\"\\u003e\\n\\t\\t\\t\\t\\t\\t\\t\\t\\u003cdiv class=\\\"ac-gn-link-search ac-gn-search-placeholder-input-icon\\\"\\u003e\\u003c/div\\u003e\\n\\t\\t\\t\\t\\t\\t\\t\\t\\u003cspan class=\\\"ac-gn-search-placeholder\\\"\\u003eSearch apple.com\\u003c/span\\u003e\\n\\t\\t\\t\\t\\t\\t\\t\\u003c/div\\u003e\\n\\t\\t\\t\\t\\t\\t\\u003c/div\\u003e\\n\\t\\t\\t\\t\\t\\t\\u003cdiv class=\\\"ac-gn-searchview-close ac-gn-searchview-close-small ac-gn-search-placeholder-searchview-close\\\"\\u003e\\n\\t\\t\\t\\t\\t\\t\\t\\u003cspan class=\\\"ac-gn-searchview-close-cancel\\\" aria-hidden=\\\"true\\\"\\u003eCancel\\u003c/span\\u003e\\n\\t\\t\\t\\t\\t\\t\\u003c/div\\u003e\\n\\t\\t\\t\\t\\t\\u003c/div\\u003e\\n\\t\\t\\t\\t\\u003c/a\\u003e\\n\\t\\t\\t\\u003c/div\\u003e\\n\\t\\t\\u003c/div\\u003e\\n\\t\\t\\u003cul class=\\\"ac-gn-list\\\"\\u003e\\n\\t\\t\\t\\u003cli class=\\\"ac-gn-item ac-gn-apple\\\"\\u003e\\n\\t\\t\\t\\t\\u003ca class=\\\"ac-gn-link ac-gn-link-apple\\\" href=\\\"https://www.apple.com/in/\\\" data-analytics-title=\\\"apple home\\\" id=\\\"ac-gn-firstfocus\\\"\\u003e\\n\\t\\t\\t\\t\\t\\u003cspan class=\\\"ac-gn-link-text\\\"\\u003eApple\\u003c/span\\u003e\\n\\t\\t\\t\\t\\u003c/a\\u003e\\n\\t\\t\\t\\u003c/li\\u003e\\n\\t\\t\\t\\u003cli class=\\\"ac-gn-item ac-gn-item-menu ac-gn-store\\\"\\u003e\\n\\t\\t\\t\\t\\u003ca class=\\\"ac-gn-link ac-gn-link-store\\\" href=\\\"https://www.apple.com/in/shop/goto/store\\\" data-analytics-title=\\\"store\\\"\\u003e\\n\\t\\t\\t\\t\\t\\u003cspan class=\\\"ac-gn-link-text\\\"\\u003eStore\\u003c/span\\u003e\\n\\t\\t\\t\\t\\u003c/a\\u003e\\n\\t\\t\\t\\u003c/li\\u003e\\n\\t\\t\\t\\u003cli class=\\\"ac-gn-item ac-gn-item-menu ac-gn-mac\\\"\\u003e\\n\\t\\t\\t\\t\\u003ca class=\\\"ac-gn-link ac-gn-link-mac\\\" href=\\\"https://www.apple.com/in/mac/\\\" data-analytics-title=\\\"mac\\\"\\u003e\\n\\t\\t\\t\\t\\t\\u003cspan class=\\\"ac-gn-link-text\\\"\\u003eMac\\u003c/span\\u003e\\n\\t\\t\\t\\t\\u003c/a\\u003e\\n\\t\\t\\t\\u003c/li\\u003e\\n\\t\\t\\t\\u003cli class=\\\"ac-gn-item ac-gn-item-menu ac-gn-ipad\\\"\\u003e\\n\\t\\t\\t\\t\\u003ca class=\\\"ac-gn-link ac-gn-link-ipad\\\" href=\\\"https://www.apple.com/in/ipad/\\\" data-analytics-title=\\\"ipad\\\"\\u003e\\n\\t\\t\\t\\t\\t\\u003cspan class=\\\"ac-gn-link-text\\\"\\u003eiPad\\u003c/span\\u003e\\n\\t\\t\\t\\t\\u003c/a\\u003e\\n\\t\\t\\t\\u003c/li\\u003e\\n\\t\\t\\t\\u003cli class=\\\"ac-gn-item ac-gn-item-menu ac-gn-iphone\\\"\\u003e\\n\\t\\t\\t\\t\\u003ca class=\\\"ac-gn-link ac-gn-link-iphone\\\" href=\\\"https://www.apple.com/in/iphone/\\\" data-analytics-title=\\\"iphone\\\"\\u003e\\n\\t\\t\\t\\t\\t\\u003cspan class=\\\"ac-gn-link-text\\\"\\u003eiPhone\\u003c/span\\u003e\\n\\t\\t\\t\\t\\u003c/a\\u003e\\n\\t\\t\\t\\u003c/li\\u003e\\n\\t\\t\\t\\u003cli class=\\\"ac-gn-item ac-gn-item-menu ac-gn-watch\\\"\\u003e\\n\\t\\t\\t\\t\\u003ca class=\\\"ac-gn-link ac-gn-link-watch\\\" href=\\\"https://www.apple.com/in/watch/\\\" data-analytics-title=\\\"watch\\\"\\u003e\\n\\t\\t\\t\\t\\t\\u003cspan class=\\\"ac-gn-link-text\\\"\\u003eWatch\\u003c/span\\u003e\\n\\t\\t\\t\\t\\u003c/a\\u003e\\n\\t\\t\\t\\u003c/li\\u003e\\n\\t\\t\\t\\u003cli class=\\\"ac-gn-item ac-gn-item-menu ac-gn-airpods\\\"\\u003e\\n\\t\\t\\t\\t\\u003ca class=\\\"ac-gn-link ac-gn-link-airpods\\\" href=\\\"https://www.apple.com/in/airpods/\\\" data-analytics-title=\\\"airpods\\\"\\u003e\\n\\t\\t\\t\\t\\t\\u003cspan class=\\\"ac-gn-link-text\\\"\\u003eAirPods\\u003c/span\\u003e\\n\\t\\t\\t\\t\\u003c/a\\u003e\\n\\t\\t\\t\\u003c/li\\u003e\\n\\t\\t\\t\\u003cli class=\\\"ac-gn-item ac-gn-item-menu ac-gn-tvhome\\\"\\u003e\\n\\t\\t\\t\\t\\u003ca class=\\\"ac-gn-link ac-gn-link-tvhome\\\" href=\\\"https://www.apple.com/in/tv-home/\\\" data-analytics-title=\\\"tv and home\\\"\\u003e\\n\\t\\t\\t\\t\\t\\u003cspan class=\\\"ac-gn-link-text\\\"\\u003eTV \\u0026amp; Home\\u003c/span\\u003e\\n\\t\\t\\t\\t\\u003c/a\\u003e\\n\\t\\t\\t\\u003c/li\\u003e\\n\\t\\t\\t\\u003cli class=\\\"ac-gn-item ac-gn-item-menu ac-gn-onlyonapple\\\"\\u003e\\n\\t\\t\\t\\t\\u003ca class=\\\"ac-gn-link ac-gn-link-onlyonapple\\\" href=\\\"https://www.apple.com/in/services/\\\" data-analytics-title=\\\"only on apple\\\"\\u003e\\n\\t\\t\\t\\t\\t\\u003cspan class=\\\"ac-gn-link-text\\\"\\u003eOnly on Apple\\u003c/span\\u003e\\n\\t\\t\\t\\t\\u003c/a\\u003e\\n\\t\\t\\t\\u003c/li\\u003e\\n\\t\\t\\t\\u003cli class=\\\"ac-gn-item ac-gn-item-menu ac-gn-accessories\\\"\\u003e\\n\\t\\t\\t\\t\\u003ca class=\\\"ac-gn-link ac-gn-link-accessories\\\" href=\\\"https://www.apple.com/in/shop/goto/buy_accessories\\\" data-analytics-title=\\\"accessories\\\"\\u003e\\n\\t\\t\\t\\t\\t\\u003cspan class=\\\"ac-gn-link-text\\\"\\u003eAccessories\\u003c/span\\u003e\\n\\t\\t\\t\\t\\u003c/a\\u003e\\n\\t\\t\\t\\u003c/li\\u003e\\n\\t\\t\\t\\u003cli class=\\\"ac-gn-item ac-gn-item-menu ac-gn-support\\\"\\u003e\\n\\t\\t\\t\\t\\u003ca class=\\\"ac-gn-link ac-gn-link-support\\\" href=\\\"https://support.apple.com/en-in\\\" data-analytics-title=\\\"support\\\"\\u003e\\n\\t\\t\\t\\t\\t\\u003cspan class=\\\"ac-gn-link-text\\\"\\u003eSupport\\u003c/span\\u003e\\n\\t\\t\\t\\t\\u003c/a\\u003e\\n\\t\\t\\t\\u003c/li\\u003e\\n\\t\\t\\t\\u003cli class=\\\"ac-gn-item ac-gn-item-menu ac-gn-search\\\" role=\\\"search\\\"\\u003e\\n\\t\\t\\t\\t\\u003ca id=\\\"ac-gn-link-search\\\" class=\\\"ac-gn-link ac-gn-link-search\\\" href=\\\"https://www.apple.com/in/search\\\" data-analytics-title=\\\"search\\\" data-analytics-intrapage-link aria-label=\\\"Search apple.com\\\"\\u003e\\u003c/a\\u003e\\n\\t\\t\\t\\u003c/li\\u003e\\n\\t\\t\\t\\u003cli class=\\\"ac-gn-item ac-gn-bag\\\" id=\\\"ac-gn-bag\\\"\\u003e\\n\\t\\t\\t\\t\\u003cdiv class=\\\"ac-gn-bag-wrapper\\\"\\u003e\\n\\t\\t\\t\\t\\t\\u003ca class=\\\"ac-gn-link ac-gn-link-bag\\\" href=\\\"https://www.apple.com/in/shop/goto/bag\\\" data-analytics-title=\\\"bag\\\" data-analytics-click=\\\"bag\\\" aria-label=\\\"Shopping Bag\\\" data-string-badge=\\\"Shopping Bag with item count : {%BAGITEMCOUNT%}\\\"\\u003e\\n\\t\\t\\t\\t\\t\\t\\u003cspan class=\\\"ac-gn-link-text\\\"\\u003eShopping Bag\\u003c/span\\u003e\\n\\t\\t\\t\\t\\t\\u003c/a\\u003e\\n\\t\\t\\t\\t\\t\\u003cspan class=\\\"ac-gn-bag-badge\\\" aria-hidden=\\\"true\\\" data-analytics-title=\\\"bag\\\" data-analytics-click=\\\"bag\\\"\\u003e\\n\\t\\t\\t\\t\\t\\t\\u003cspan class=\\\"ac-gn-bag-badge-separator\\\"\\u003e\\u003c/span\\u003e\\n\\t\\t\\t\\t\\t\\t\\u003cspan class=\\\"ac-gn-bag-badge-number\\\"\\u003e\\u003c/span\\u003e\\n\\t\\t\\t\\t\\t\\t\\u003cspan class=\\\"ac-gn-bag-badge-unit\\\"\\u003e+\\u003c/span\\u003e\\n\\t\\t\\t\\t\\t\\u003c/span\\u003e\\n\\t\\t\\t\\t\\u003c/div\\u003e\\n\\t\\t\\t\\t\\u003cspan class=\\\"ac-gn-bagview-caret ac-gn-bagview-caret-large\\\"\\u003e\\u003c/span\\u003e\\n\\t\\t\\t\\u003c/li\\u003e\\n\\t\\t\\u003c/ul\\u003e\\n\\t\\t\\u003caside id=\\\"ac-gn-searchview\\\" class=\\\"ac-gn-searchview\\\" role=\\\"search\\\" data-analytics-region=\\\"search\\\"\\u003e\\n\\t\\t\\t\\u003cdiv class=\\\"ac-gn-searchview-content\\\"\\u003e\\n\\t\\t\\t\\t\\u003cdiv class=\\\"ac-gn-searchview-bar\\\"\\u003e\\n\\t\\t\\t\\t\\t\\u003cdiv class=\\\"ac-gn-searchview-bar-wrapper\\\"\\u003e\\n\\t\\t\\t\\t\\t\\t\\u003cform id=\\\"ac-gn-searchform\\\" class=\\\"ac-gn-searchform\\\" action=\\\"https://www.apple.com/in/search\\\" method=\\\"get\\\"\\u003e\\n\\t\\t\\t\\t\\t\\t\\t\\u003cdiv class=\\\"ac-gn-searchform-wrapper\\\"\\u003e\\n\\t\\t\\t\\t\\t\\t\\t\\t\\u003cinput id=\\\"ac-gn-searchform-input\\\" class=\\\"ac-gn-searchform-input\\\" type=\\\"text\\\" aria-label=\\\"Search apple.com\\\" placeholder=\\\"Search apple.com\\\" autocorrect=\\\"off\\\" autocapitalize=\\\"off\\\" autocomplete=\\\"off\\\" spellcheck=\\\"false\\\" role=\\\"combobox\\\" aria-autocomplete=\\\"list\\\" aria-expanded=\\\"true\\\" aria-owns=\\\"quicklinks suggestions\\\"\\u003e\\n\\t\\t\\t\\t\\t\\t\\t\\t\\u003cinput id=\\\"ac-gn-searchform-src\\\" type=\\\"hidden\\\" name=\\\"src\\\" value=\\\"itunes_serp\\\"\\u003e\\n\\t\\t\\t\\t\\t\\t\\t\\t\\u003cbutton id=\\\"ac-gn-searchform-submit\\\" class=\\\"ac-gn-searchform-submit\\\" type=\\\"submit\\\" disabled aria-label=\\\"Submit Search\\\"\\u003e \\u003c/button\\u003e\\n\\t\\t\\t\\t\\t\\t\\t\\t\\u003cbutton id=\\\"ac-gn-searchform-reset\\\" class=\\\"ac-gn-searchform-reset\\\" type=\\\"reset\\\" disabled aria-label=\\\"Clear Search\\\"\\u003e\\n\\t\\t\\t\\t\\t\\t\\t\\t\\t\\u003cspan class=\\\"ac-gn-searchform-reset-background\\\"\\u003e\\u003c/span\\u003e\\n\\t\\t\\t\\t\\t\\t\\t\\t\\u003c/button\\u003e\\n\\t\\t\\t\\t\\t\\t\\t\\u003c/div\\u003e\\n\\t\\t\\t\\t\\t\\t\\u003c/form\\u003e\\n\\t\\t\\t\\t\\t\\t\\u003cbutton id=\\\"ac-gn-searchview-close-small\\\" class=\\\"ac-gn-searchview-close ac-gn-searchview-close-small\\\" aria-label=\\\"Cancel Search\\\"\\u003e\\n\\t\\t\\t\\t\\t\\t\\t\\u003cspan class=\\\"ac-gn-searchview-close-cancel\\\" aria-hidden=\\\"true\\\"\\u003e\\n\\t\\t\\t\\t\\t\\t\\t\\tCancel\\n\\t\\t\\t\\t\\t\\t\\t\\u003c/span\\u003e\\n\\t\\t\\t\\t\\t\\t\\u003c/button\\u003e\\n\\t\\t\\t\\t\\t\\u003c/div\\u003e\\n\\t\\t\\t\\t\\u003c/div\\u003e\\n\\t\\t\\t\\t\\u003caside id=\\\"ac-gn-searchresults\\\" class=\\\"ac-gn-searchresults\\\" data-string-quicklinks=\\\"Quick Links\\\" data-string-suggestions=\\\"Suggested Searches\\\" data-string-noresults\\u003e\\u003c/aside\\u003e\\n\\t\\t\\t\\u003c/div\\u003e\\n\\t\\t\\t\\u003cbutton id=\\\"ac-gn-searchview-close\\\" class=\\\"ac-gn-searchview-close\\\" aria-label=\\\"Cancel Search\\\"\\u003e\\n\\t\\t\\t\\t\\u003cspan class=\\\"ac-gn-searchview-close-wrapper\\\"\\u003e\\n\\t\\t\\t\\t\\t\\u003cspan class=\\\"ac-gn-searchview-close-left\\\"\\u003e\\u003c/span\\u003e\\n\\t\\t\\t\\t\\t\\u003cspan class=\\\"ac-gn-searchview-close-right\\\"\\u003e\\u003c/span\\u003e\\n\\t\\t\\t\\t\\u003c/span\\u003e\\n\\t\\t\\t\\u003c/button\\u003e\\n\\t\\t\\u003c/aside\\u003e\\n\\t\\t\\u003caside class=\\\"ac-gn-bagview\\\" data-analytics-region=\\\"bag\\\"\\u003e\\n\\t\\t\\t\\u003cdiv class=\\\"ac-gn-bagview-scrim\\\"\\u003e\\n\\t\\t\\t\\t\\u003cspan class=\\\"ac-gn-bagview-caret ac-gn-bagview-caret-small\\\"\\u003e\\u003c/span\\u003e\\n\\t\\t\\t\\u003c/div\\u003e\\n\\t\\t\\t\\u003cdiv class=\\\"ac-gn-bagview-content\\\" id=\\\"ac-gn-bagview-content\\\"\\u003e\\n\\t\\t\\t\\u003c/div\\u003e\\n\\t\\t\\u003c/aside\\u003e\\n\\t\\u003c/div\\u003e\\n\\u003c/nav\\u003e\\n\\u003cdiv class=\\\"ac-gn-blur\\\"\\u003e\\u003c/div\\u003e\\n\\u003cdiv id=\\\"ac-gn-curtain\\\" class=\\\"ac-gn-curtain\\\"\\u003e\\u003c/div\\u003e\\n\\u003cdiv id=\\\"ac-gn-placeholder\\\" class=\\\"ac-nav-placeholder\\\"\\u003e\\u003c/div\\u003e\\n\",\"footer\":\"\\u003cfooter id=\\\"ac-globalfooter\\\" class=\\\"no-js\\\" role=\\\"contentinfo\\\" lang=\\\"en-IN\\\" dir=\\\"ltr\\\"\\u003e\\u003cdiv class=\\\"ac-gf-content\\\"\\u003e\\u003csection class=\\\"ac-gf-footer\\\"\\u003e\\n\\t\\u003cdiv class=\\\"ac-gf-footer-shop\\\" x-ms-format-detection=\\\"none\\\"\\u003e\\n\\t\\tMore ways to shop: \\u003ca href=\\\"https://locate.apple.com/in/en/\\\" data-analytics-title=\\\"other retailers or resellers\\\" data-analytics-exit-link\\u003eFind a retailer\\u003c/a\\u003e near you. \\u003cspan class=\\\"nowrap\\\"\\u003eOr call 000800\\u0026#xA0;040\\u0026#xA0;1966.\\u003c/span\\u003e\\n\\t\\u003c/div\\u003e\\n\\t\\u003cdiv class=\\\"ac-gf-footer-locale\\\"\\u003e\\n\\t\\t\\u003ca class=\\\"ac-gf-footer-locale-link\\\" href=\\\"https://www.apple.com/choose-country-region/\\\" title=\\\"Choose your country or region\\\" aria-label=\\\"India. Choose your country or region\\\" data-analytics-title=\\\"choose your country\\\"\\u003eIndia\\u003c/a\\u003e\\n\\t\\u003c/div\\u003e\\n\\t\\u003cdiv class=\\\"ac-gf-footer-legal\\\"\\u003e\\n\\t\\t\\u003cdiv class=\\\"ac-gf-footer-legal-copyright\\\"\\u003eCopyright \\u0026#xA9; 2022 Apple Inc. All rights reserved.\\n\\t\\t\\u003c/div\\u003e\\n\\t\\t\\u003cdiv class=\\\"ac-gf-footer-legal-links\\\"\\u003e\\n\\t\\t\\t\\u003ca class=\\\"ac-gf-footer-legal-link\\\" href=\\\"https://www.apple.com/in/legal/privacy/\\\" data-analytics-title=\\\"privacy policy\\\"\\u003ePrivacy Policy\\u003c/a\\u003e\\n\\t\\t\\t\\u003ca class=\\\"ac-gf-footer-legal-link\\\" href=\\\"https://www.apple.com/in/legal/terms/site.html\\\" data-analytics-title=\\\"terms of use\\\"\\u003eTerms of Use\\u003c/a\\u003e\\n\\t\\t\\t\\u003ca class=\\\"ac-gf-footer-legal-link\\\" href=\\\"https://www.apple.com/in/shop/goto/help/sales_refunds\\\" data-analytics-title=\\\"sales and refunds\\\"\\u003eSales Policy\\u003c/a\\u003e\\n\\t\\t\\t\\u003ca class=\\\"ac-gf-footer-legal-link\\\" href=\\\"https://www.apple.com/in/legal/\\\" data-analytics-title=\\\"legal\\\"\\u003eLegal\\u003c/a\\u003e\\n\\t\\t\\t\\u003ca class=\\\"ac-gf-footer-legal-link\\\" href=\\\"https://www.apple.com/in/sitemap/\\\" data-analytics-title=\\\"site map\\\"\\u003eSite Map\\u003c/a\\u003e\\n\\t\\t\\u003c/div\\u003e\\n\\t\\u003c/div\\u003e\\n\\u003c/section\\u003e\\n\\u003c/div\\u003e\\u003c/footer\\u003e\",\"styles\":{\"nav\":\"2210.1.0/en_IN/ac-global-nav.f72ef7c49079b2f2be6b8da733dad86e.css\",\"footer\":\"2210.1.0/en_IN/ac-global-footer.0de5dfca0e41554444ba8413b4b37cd5.css\"},\"scripts\":{\"nav\":\"2210.1.0/en_IN/ac-global-nav.294b65e7729ab1c596e195cd90349397.js\",\"footer\":\"2210.1.0/en_IN/ac-global-footer.33e5f7b4cd1360fa6599e7adcbb494dd.js\"},\"isLoaded\":true}</script>,\n",
       " <script id=\"shoebox-media-api-cache-apps\" type=\"fastboot/shoebox\">{\".v1.editorial.in.categories.genre.36.platform.iphone.tabs.ios.l.en-gb\":\"{\\\"x\\\":1660664575335,\\\"d\\\":{\\\"categories\\\":[{\\\"name\\\":\\\"App Store\\\",\\\"seoName\\\":\\\"app-store\\\",\\\"chartUrl\\\":\\\"https://apps.apple.com/in/charts/iphone\\\",\\\"genre\\\":36,\\\"label\\\":\\\"All Apps\\\",\\\"children\\\":[{\\\"name\\\":\\\"Apple Watch Apps\\\",\\\"seoName\\\":\\\"apple-watch-apps\\\",\\\"artwork\\\":{\\\"width\\\":1024,\\\"height\\\":1024,\\\"url\\\":\\\"https://is5-ssl.mzstatic.com/image/thumb/Features113/v4/4e/e7/96/4ee7969b-141a-5b3b-dc3e-059a9086561e/mza_2122780758411045582.png/{w}x{h}{c}.{f}\\\",\\\"bgColor\\\":\\\"000000\\\",\\\"textColor1\\\":\\\"dedede\\\",\\\"textColor2\\\":\\\"c3c3c3\\\",\\\"textColor3\\\":\\\"b2b2b2\\\",\\\"textColor4\\\":\\\"9c9c9c\\\"}},{\\\"name\\\":\\\"AR Apps\\\",\\\"seoName\\\":\\\"ar-apps\\\",\\\"artwork\\\":{\\\"width\\\":1024,\\\"height\\\":1024,\\\"url\\\":\\\"https://is3-ssl.mzstatic.com/image/thumb/Features113/v4/04/b0/f0/04b0f0d5-28b5-c7ce-1d25-509a33b238b3/mza_634407853229549865.png/{w}x{h}{c}.{f}\\\",\\\"bgColor\\\":\\\"000000\\\",\\\"textColor1\\\":\\\"f3f3f3\\\",\\\"textColor2\\\":\\\"c5c5c5\\\",\\\"textColor3\\\":\\\"c2c2c2\\\",\\\"textColor4\\\":\\\"9d9d9d\\\"}},{\\\"name\\\":\\\"Kids\\\",\\\"seoName\\\":\\\"kids\\\",\\\"chartUrl\\\":\\\"https://apps.apple.com/in/charts/iphone/kids-apps/36?ageId=0\\\",\\\"artwork\\\":{\\\"width\\\":1024,\\\"height\\\":1024,\\\"url\\\":\\\"https://is5-ssl.mzstatic.com/image/thumb/Features128/v4/22/95/f3/2295f32c-6eb2-3e32-36e1-c8569603865f/mza_6948550268666124203.png/{w}x{h}{c}.{f}\\\",\\\"bgColor\\\":\\\"000000\\\",\\\"textColor1\\\":\\\"d1d1d1\\\",\\\"textColor2\\\":\\\"ff3b30\\\",\\\"textColor3\\\":\\\"a7a7a7\\\",\\\"textColor4\\\":\\\"cb2f26\\\"},\\\"genre\\\":36,\\\"ages\\\":0,\\\"label\\\":\\\"All Kids\\\",\\\"children\\\":[{\\\"name\\\":\\\"Ages 5 \\u0026 Under\\\",\\\"seoName\\\":\\\"ages-5-under\\\",\\\"chartUrl\\\":\\\"https://apps.apple.com/in/charts/iphone/ages-5-under-apps/36?ageId=10000\\\",\\\"artwork\\\":{\\\"width\\\":1024,\\\"height\\\":1024,\\\"url\\\":\\\"https://is3-ssl.mzstatic.com/image/thumb/Features128/v4/7d/59/71/7d5971b4-1ff1-ede2-a5fa-8e84ead6fbcb/mza_4074464856148244129.png/{w}x{h}{c}.{f}\\\",\\\"bgColor\\\":\\\"000000\\\",\\\"textColor1\\\":\\\"febf0b\\\",\\\"textColor2\\\":\\\"5ecbf7\\\",\\\"textColor3\\\":\\\"cb9908\\\",\\\"textColor4\\\":\\\"4ba2c6\\\"},\\\"genre\\\":36,\\\"ages\\\":\\\"10000\\\"},{\\\"name\\\":\\\"Ages 6-8\\\",\\\"seoName\\\":\\\"ages-6-8\\\",\\\"chartUrl\\\":\\\"https://apps.apple.com/in/charts/iphone/ages-6-8-apps/36?ageId=10001\\\",\\\"artwork\\\":{\\\"width\\\":1024,\\\"height\\\":1024,\\\"url\\\":\\\"https://is1-ssl.mzstatic.com/image/thumb/Features118/v4/f4/54/08/f45408c9-f7cd-4a58-8961-e6e53173b24d/mza_7945121204416833711.png/{w}x{h}{c}.{f}\\\",\\\"bgColor\\\":\\\"000000\\\",\\\"textColor1\\\":\\\"5ecbf7\\\",\\\"textColor2\\\":\\\"f73e64\\\",\\\"textColor3\\\":\\\"4ba2c6\\\",\\\"textColor4\\\":\\\"c53150\\\"},\\\"genre\\\":36,\\\"ages\\\":\\\"10001\\\"},{\\\"name\\\":\\\"Ages 9-11\\\",\\\"seoName\\\":\\\"ages-9-11\\\",\\\"chartUrl\\\":\\\"https://apps.apple.com/in/charts/iphone/ages-9-11-apps/36?ageId=10002\\\",\\\"artwork\\\":{\\\"width\\\":1024,\\\"height\\\":1024,\\\"url\\\":\\\"https://is3-ssl.mzstatic.com/image/thumb/Features128/v4/ba/8d/8c/ba8d8c8c-5b9e-d635-8d11-18acba8dbd9c/mza_6562185370113718384.png/{w}x{h}{c}.{f}\\\",\\\"bgColor\\\":\\\"59c8fa\\\",\\\"textColor1\\\":\\\"000000\\\",\\\"textColor2\\\":\\\"000000\\\",\\\"textColor3\\\":\\\"122832\\\",\\\"textColor4\\\":\\\"122832\\\"},\\\"genre\\\":36,\\\"ages\\\":\\\"10002\\\"}]},{\\\"name\\\":\\\"Photo \\u0026 Video\\\",\\\"seoName\\\":\\\"photo-video\\\",\\\"chartUrl\\\":\\\"https://apps.apple.com/in/charts/iphone/photo-video-apps/6008\\\",\\\"artwork\\\":{\\\"width\\\":1024,\\\"height\\\":1024,\\\"url\\\":\\\"https://is2-ssl.mzstatic.com/image/thumb/Features128/v4/ef/5a/57/ef5a574a-9720-828e-5547-bdd3cf9287bf/mza_285919785441149870.png/{w}x{h}{c}.{f}\\\",\\\"bgColor\\\":\\\"000000\\\",\\\"textColor1\\\":\\\"ffffff\\\",\\\"textColor2\\\":\\\"cfcfcf\\\",\\\"textColor3\\\":\\\"cbcbcb\\\",\\\"textColor4\\\":\\\"a6a6a6\\\"},\\\"genre\\\":6008},{\\\"name\\\":\\\"Safari Extensions\\\",\\\"seoName\\\":\\\"safari-extensions\\\",\\\"artwork\\\":{\\\"width\\\":1024,\\\"height\\\":1024,\\\"url\\\":\\\"https://is4-ssl.mzstatic.com/image/thumb/Features115/v4/90/84/43/90844382-51d2-a12b-132a-a267db86fd59/mza_7500216345676187186.png/{w}x{h}{c}.{f}\\\",\\\"bgColor\\\":\\\"000000\\\",\\\"textColor1\\\":\\\"ffffff\\\",\\\"textColor2\\\":\\\"5fc7fc\\\",\\\"textColor3\\\":\\\"cbcbcb\\\",\\\"textColor4\\\":\\\"4c9fc9\\\"}},{\\\"name\\\":\\\"Entertainment\\\",\\\"seoName\\\":\\\"entertainment\\\",\\\"chartUrl\\\":\\\"https://apps.apple.com/in/charts/iphone/entertainment-apps/6016\\\",\\\"artwork\\\":{\\\"width\\\":1024,\\\"height\\\":1024,\\\"url\\\":\\\"https://is3-ssl.mzstatic.com/image/thumb/Features128/v4/b4/5e/9a/b45e9ac6-9d2a-943d-0f8a-98b3c09fec9b/mza_2551890084628674194.png/{w}x{h}{c}.{f}\\\",\\\"bgColor\\\":\\\"000000\\\",\\\"textColor1\\\":\\\"ffd26d\\\",\\\"textColor2\\\":\\\"ff4231\\\",\\\"textColor3\\\":\\\"cba757\\\",\\\"textColor4\\\":\\\"cb3527\\\"},\\\"genre\\\":6016},{\\\"name\\\":\\\"Social Networking\\\",\\\"seoName\\\":\\\"social-networking\\\",\\\"chartUrl\\\":\\\"https://apps.apple.com/in/charts/iphone/social-networking-apps/6005\\\",\\\"artwork\\\":{\\\"width\\\":1024,\\\"height\\\":1024,\\\"url\\\":\\\"https://is1-ssl.mzstatic.com/image/thumb/Features118/v4/55/60/fa/5560faef-2b07-c883-b7ca-ac9362ef69cd/mza_329771073609789559.png/{w}x{h}{c}.{f}\\\",\\\"bgColor\\\":\\\"000000\\\",\\\"textColor1\\\":\\\"5acafc\\\",\\\"textColor2\\\":\\\"f65285\\\",\\\"textColor3\\\":\\\"48a1ca\\\",\\\"textColor4\\\":\\\"c4426b\\\"},\\\"genre\\\":6005},{\\\"name\\\":\\\"Utilities\\\",\\\"seoName\\\":\\\"utilities\\\",\\\"chartUrl\\\":\\\"https://apps.apple.com/in/charts/iphone/utilities-apps/6002\\\",\\\"artwork\\\":{\\\"width\\\":1024,\\\"height\\\":1024,\\\"url\\\":\\\"https://is3-ssl.mzstatic.com/image/thumb/Features123/v4/24/f9/88/24f988f7-1c5d-373c-073e-eadedd8a5863/mza_5991535425786609287.png/{w}x{h}{c}.{f}\\\",\\\"bgColor\\\":\\\"000000\\\",\\\"textColor1\\\":\\\"d7dadb\\\",\\\"textColor2\\\":\\\"ff9500\\\",\\\"textColor3\\\":\\\"acaeaf\\\",\\\"textColor4\\\":\\\"cb7700\\\"},\\\"genre\\\":6002},{\\\"name\\\":\\\"Music\\\",\\\"seoName\\\":\\\"music\\\",\\\"chartUrl\\\":\\\"https://apps.apple.com/in/charts/iphone/music-apps/6011\\\",\\\"artwork\\\":{\\\"width\\\":1024,\\\"height\\\":1024,\\\"url\\\":\\\"https://is1-ssl.mzstatic.com/image/thumb/Features128/v4/59/3d/00/593d005c-f3a1-e056-0594-0154ba87062d/mza_1154846178349465829.png/{w}x{h}{c}.{f}\\\",\\\"bgColor\\\":\\\"000000\\\",\\\"textColor1\\\":\\\"5acafc\\\",\\\"textColor2\\\":\\\"f65185\\\",\\\"textColor3\\\":\\\"48a1ca\\\",\\\"textColor4\\\":\\\"c5416a\\\"},\\\"genre\\\":6011},{\\\"name\\\":\\\"Lifestyle\\\",\\\"seoName\\\":\\\"lifestyle\\\",\\\"chartUrl\\\":\\\"https://apps.apple.com/in/charts/iphone/lifestyle-apps/6012\\\",\\\"artwork\\\":{\\\"width\\\":1024,\\\"height\\\":1024,\\\"url\\\":\\\"https://is1-ssl.mzstatic.com/image/thumb/Features118/v4/bf/8a/29/bf8a29ed-edff-c7d0-597e-8bad07d31237/mza_2265987238396888637.png/{w}x{h}{c}.{f}\\\",\\\"bgColor\\\":\\\"000000\\\",\\\"textColor1\\\":\\\"e29747\\\",\\\"textColor2\\\":\\\"ff4231\\\",\\\"textColor3\\\":\\\"b47938\\\",\\\"textColor4\\\":\\\"cb3527\\\"},\\\"genre\\\":6012},{\\\"name\\\":\\\"Books\\\",\\\"seoName\\\":\\\"books\\\",\\\"chartUrl\\\":\\\"https://apps.apple.com/in/charts/iphone/books-apps/6018\\\",\\\"artwork\\\":{\\\"width\\\":1024,\\\"height\\\":1024,\\\"url\\\":\\\"https://is3-ssl.mzstatic.com/image/thumb/Features128/v4/d3/fe/a9/d3fea9f6-b831-9f9a-4148-be88bf1b04e0/mza_3809598991263099603.png/{w}x{h}{c}.{f}\\\",\\\"bgColor\\\":\\\"ffffff\\\",\\\"textColor1\\\":\\\"000000\\\",\\\"textColor2\\\":\\\"0d0d0d\\\",\\\"textColor3\\\":\\\"333333\\\",\\\"textColor4\\\":\\\"3d3d3d\\\"},\\\"genre\\\":6018},{\\\"name\\\":\\\"Business\\\",\\\"seoName\\\":\\\"business\\\",\\\"chartUrl\\\":\\\"https://apps.apple.com/in/charts/iphone/business-apps/6000\\\",\\\"artwork\\\":{\\\"width\\\":1024,\\\"height\\\":1024,\\\"url\\\":\\\"https://is3-ssl.mzstatic.com/image/thumb/Features118/v4/9c/84/bd/9c84bdf8-6f34-8f65-9d17-503d6829b2e7/mza_1471237129119916701.png/{w}x{h}{c}.{f}\\\",\\\"bgColor\\\":\\\"000000\\\",\\\"textColor1\\\":\\\"febf0b\\\",\\\"textColor2\\\":\\\"e29747\\\",\\\"textColor3\\\":\\\"cb9908\\\",\\\"textColor4\\\":\\\"b47938\\\"},\\\"genre\\\":6000},{\\\"name\\\":\\\"Education\\\",\\\"seoName\\\":\\\"education\\\",\\\"chartUrl\\\":\\\"https://apps.apple.com/in/charts/iphone/education-apps/6017\\\",\\\"artwork\\\":{\\\"width\\\":1024,\\\"height\\\":1024,\\\"url\\\":\\\"https://is1-ssl.mzstatic.com/image/thumb/Features128/v4/d5/57/ac/d557aca5-6fb5-c4af-5b2b-00c57709a394/mza_6716523628950972346.png/{w}x{h}{c}.{f}\\\",\\\"bgColor\\\":\\\"000000\\\",\\\"textColor1\\\":\\\"5acafc\\\",\\\"textColor2\\\":\\\"42d524\\\",\\\"textColor3\\\":\\\"48a1ca\\\",\\\"textColor4\\\":\\\"35aa1d\\\"},\\\"genre\\\":6017},{\\\"name\\\":\\\"Finance\\\",\\\"seoName\\\":\\\"finance\\\",\\\"chartUrl\\\":\\\"https://apps.apple.com/in/charts/iphone/finance-apps/6015\\\",\\\"artwork\\\":{\\\"width\\\":1024,\\\"height\\\":1024,\\\"url\\\":\\\"https://is4-ssl.mzstatic.com/image/thumb/Features128/v4/b4/bc/86/b4bc86d3-2682-9768-1761-b1d7c714a6d8/mza_1793819588898035147.png/{w}x{h}{c}.{f}\\\",\\\"bgColor\\\":\\\"000000\\\",\\\"textColor1\\\":\\\"fab719\\\",\\\"textColor2\\\":\\\"e29747\\\",\\\"textColor3\\\":\\\"c89214\\\",\\\"textColor4\\\":\\\"b47938\\\"},\\\"genre\\\":6015},{\\\"name\\\":\\\"Food \\u0026 Drink\\\",\\\"seoName\\\":\\\"food-drink\\\",\\\"chartUrl\\\":\\\"https://apps.apple.com/in/charts/iphone/food-drink-apps/6023\\\",\\\"artwork\\\":{\\\"width\\\":1024,\\\"height\\\":1024,\\\"url\\\":\\\"https://is2-ssl.mzstatic.com/image/thumb/Features128/v4/f2/fc/1d/f2fc1d30-ee05-e454-b4f7-25c304655a9b/mza_2470039338993585874.png/{w}x{h}{c}.{f}\\\",\\\"bgColor\\\":\\\"000000\\\",\\\"textColor1\\\":\\\"fbb717\\\",\\\"textColor2\\\":\\\"5cccf7\\\",\\\"textColor3\\\":\\\"c99312\\\",\\\"textColor4\\\":\\\"49a3c6\\\"},\\\"genre\\\":6023},{\\\"name\\\":\\\"Health \\u0026 Fitness\\\",\\\"seoName\\\":\\\"health-fitness\\\",\\\"chartUrl\\\":\\\"https://apps.apple.com/in/charts/iphone/health-fitness-apps/6013\\\",\\\"artwork\\\":{\\\"width\\\":1024,\\\"height\\\":1024,\\\"url\\\":\\\"https://is5-ssl.mzstatic.com/image/thumb/Features118/v4/a9/d1/2a/a9d12ad9-f000-e6a7-b3ec-e45ca871fd6a/mza_3826999582287909924.png/{w}x{h}{c}.{f}\\\",\\\"bgColor\\\":\\\"000000\\\",\\\"textColor1\\\":\\\"d1d1d1\\\",\\\"textColor2\\\":\\\"5ecbf7\\\",\\\"textColor3\\\":\\\"a7a7a7\\\",\\\"textColor4\\\":\\\"4ba2c6\\\"},\\\"genre\\\":6013},{\\\"name\\\":\\\"Magazines \\u0026 Newspapers\\\",\\\"seoName\\\":\\\"magazines-newspapers\\\",\\\"chartUrl\\\":\\\"https://apps.apple.com/in/charts/iphone/magazines-newspapers-apps/6021\\\",\\\"artwork\\\":{\\\"width\\\":1024,\\\"height\\\":1024,\\\"url\\\":\\\"https://is1-ssl.mzstatic.com/image/thumb/Features128/v4/27/a2/dd/27a2dd05-b13e-8825-4046-290bea44f51c/mza_4442738478305932628.png/{w}x{h}{c}.{f}\\\",\\\"bgColor\\\":\\\"969696\\\",\\\"textColor1\\\":\\\"000000\\\",\\\"textColor2\\\":\\\"161616\\\",\\\"textColor3\\\":\\\"1e1e1e\\\",\\\"textColor4\\\":\\\"303030\\\"},\\\"genre\\\":6021},{\\\"name\\\":\\\"Medical\\\",\\\"seoName\\\":\\\"medical\\\",\\\"chartUrl\\\":\\\"https://apps.apple.com/in/charts/iphone/medical-apps/6020\\\",\\\"artwork\\\":{\\\"width\\\":1024,\\\"height\\\":1024,\\\"url\\\":\\\"https://is3-ssl.mzstatic.com/image/thumb/Features118/v4/2c/51/99/2c5199c8-eaf3-b5bd-4eda-adeabfaa7738/mza_2898793652746702972.png/{w}x{h}{c}.{f}\\\",\\\"bgColor\\\":\\\"000000\\\",\\\"textColor1\\\":\\\"dcdcdc\\\",\\\"textColor2\\\":\\\"ac71eb\\\",\\\"textColor3\\\":\\\"b0b0b0\\\",\\\"textColor4\\\":\\\"8a5abc\\\"},\\\"genre\\\":6020},{\\\"name\\\":\\\"Navigation\\\",\\\"seoName\\\":\\\"navigation\\\",\\\"chartUrl\\\":\\\"https://apps.apple.com/in/charts/iphone/navigation-apps/6010\\\",\\\"artwork\\\":{\\\"width\\\":1024,\\\"height\\\":1024,\\\"url\\\":\\\"https://is1-ssl.mzstatic.com/image/thumb/Features118/v4/24/a2/2c/24a22cda-837d-b784-a4b2-921f20d3baae/mza_2550188852032193564.png/{w}x{h}{c}.{f}\\\",\\\"bgColor\\\":\\\"000000\\\",\\\"textColor1\\\":\\\"5acafc\\\",\\\"textColor2\\\":\\\"2fafd8\\\",\\\"textColor3\\\":\\\"48a1ca\\\",\\\"textColor4\\\":\\\"258cad\\\"},\\\"genre\\\":6010},{\\\"name\\\":\\\"News\\\",\\\"seoName\\\":\\\"news\\\",\\\"chartUrl\\\":\\\"https://apps.apple.com/in/charts/iphone/news-apps/6009\\\",\\\"artwork\\\":{\\\"width\\\":1024,\\\"height\\\":1024,\\\"url\\\":\\\"https://is4-ssl.mzstatic.com/image/thumb/Features128/v4/09/03/81/09038184-9db7-43da-4aec-57eb5e86c4cc/mza_7507164213633563654.png/{w}x{h}{c}.{f}\\\",\\\"bgColor\\\":\\\"000000\\\",\\\"textColor1\\\":\\\"dcdcdc\\\",\\\"textColor2\\\":\\\"c8c8c8\\\",\\\"textColor3\\\":\\\"b0b0b0\\\",\\\"textColor4\\\":\\\"a0a0a0\\\"},\\\"genre\\\":6009},{\\\"name\\\":\\\"Productivity\\\",\\\"seoName\\\":\\\"productivity\\\",\\\"chartUrl\\\":\\\"https://apps.apple.com/in/charts/iphone/productivity-apps/6007\\\",\\\"artwork\\\":{\\\"width\\\":1024,\\\"height\\\":1024,\\\"url\\\":\\\"https://is1-ssl.mzstatic.com/image/thumb/Features118/v4/aa/cc/df/aaccdf84-4e72-d840-7b65-061703599de8/mza_2059140252682103156.png/{w}x{h}{c}.{f}\\\",\\\"bgColor\\\":\\\"000000\\\",\\\"textColor1\\\":\\\"5acafc\\\",\\\"textColor2\\\":\\\"2aaed6\\\",\\\"textColor3\\\":\\\"48a1ca\\\",\\\"textColor4\\\":\\\"228bab\\\"},\\\"genre\\\":6007},{\\\"name\\\":\\\"Reference\\\",\\\"seoName\\\":\\\"reference\\\",\\\"chartUrl\\\":\\\"https://apps.apple.com/in/charts/iphone/reference-apps/6006\\\",\\\"artwork\\\":{\\\"width\\\":1024,\\\"height\\\":1024,\\\"url\\\":\\\"https://is4-ssl.mzstatic.com/image/thumb/Features118/v4/c5/3d/f1/c53df10d-b548-804f-9b04-e0109c9320a2/mza_986292297833967775.png/{w}x{h}{c}.{f}\\\",\\\"bgColor\\\":\\\"000000\\\",\\\"textColor1\\\":\\\"dcdcdc\\\",\\\"textColor2\\\":\\\"e29747\\\",\\\"textColor3\\\":\\\"b0b0b0\\\",\\\"textColor4\\\":\\\"b47938\\\"},\\\"genre\\\":6006},{\\\"name\\\":\\\"Shopping\\\",\\\"seoName\\\":\\\"shopping\\\",\\\"chartUrl\\\":\\\"https://apps.apple.com/in/charts/iphone/shopping-apps/6024\\\",\\\"artwork\\\":{\\\"width\\\":1024,\\\"height\\\":1024,\\\"url\\\":\\\"https://is5-ssl.mzstatic.com/image/thumb/Features113/v4/15/0b/cd/150bcd5a-e815-cf39-8272-cfa18c41cac1/mza_3716039910351744074.png/{w}x{h}{c}.{f}\\\",\\\"bgColor\\\":\\\"000000\\\",\\\"textColor1\\\":\\\"62de57\\\",\\\"textColor2\\\":\\\"5acafc\\\",\\\"textColor3\\\":\\\"4eb246\\\",\\\"textColor4\\\":\\\"48a1ca\\\"},\\\"genre\\\":6024},{\\\"name\\\":\\\"Sports\\\",\\\"seoName\\\":\\\"sports\\\",\\\"chartUrl\\\":\\\"https://apps.apple.com/in/charts/iphone/sports-apps/6004\\\",\\\"artwork\\\":{\\\"width\\\":1024,\\\"height\\\":1024,\\\"url\\\":\\\"https://is4-ssl.mzstatic.com/image/thumb/Features123/v4/b5/9d/04/b59d043f-3a03-f1d2-9962-db3a1d2d355d/mza_3546970628522126202.png/{w}x{h}{c}.{f}\\\",\\\"bgColor\\\":\\\"000000\\\",\\\"textColor1\\\":\\\"efefef\\\",\\\"textColor2\\\":\\\"d5d5d5\\\",\\\"textColor3\\\":\\\"bfbfbf\\\",\\\"textColor4\\\":\\\"aaaaaa\\\"},\\\"genre\\\":6004},{\\\"name\\\":\\\"Travel\\\",\\\"seoName\\\":\\\"travel\\\",\\\"chartUrl\\\":\\\"https://apps.apple.com/in/charts/iphone/travel-apps/6003\\\",\\\"artwork\\\":{\\\"width\\\":1024,\\\"height\\\":1024,\\\"url\\\":\\\"https://is5-ssl.mzstatic.com/image/thumb/Features118/v4/f9/31/02/f93102f8-5031-67e4-28c3-6fead1f98d9e/mza_8151837169176729698.png/{w}x{h}{c}.{f}\\\",\\\"bgColor\\\":\\\"000000\\\",\\\"textColor1\\\":\\\"62de57\\\",\\\"textColor2\\\":\\\"5acafc\\\",\\\"textColor3\\\":\\\"4eb246\\\",\\\"textColor4\\\":\\\"48a1ca\\\"},\\\"genre\\\":6003},{\\\"name\\\":\\\"Weather\\\",\\\"seoName\\\":\\\"weather\\\",\\\"chartUrl\\\":\\\"https://apps.apple.com/in/charts/iphone/weather-apps/6001\\\",\\\"artwork\\\":{\\\"width\\\":1024,\\\"height\\\":1024,\\\"url\\\":\\\"https://is1-ssl.mzstatic.com/image/thumb/Features123/v4/74/2e/a9/742ea9a4-ad7c-4ea2-012b-6c9bb5f1606b/mza_5176028001231017707.png/{w}x{h}{c}.{f}\\\",\\\"bgColor\\\":\\\"000000\\\",\\\"textColor1\\\":\\\"ffffff\\\",\\\"textColor2\\\":\\\"f9a830\\\",\\\"textColor3\\\":\\\"cbcbcb\\\",\\\"textColor4\\\":\\\"c78726\\\"},\\\"genre\\\":6001},{\\\"name\\\":\\\"Developer Tools\\\",\\\"seoName\\\":\\\"developer-tools\\\",\\\"chartUrl\\\":\\\"https://apps.apple.com/in/charts/iphone/developer-tools-apps/6026\\\",\\\"artwork\\\":{\\\"width\\\":1024,\\\"height\\\":1024,\\\"url\\\":\\\"https://is4-ssl.mzstatic.com/image/thumb/Features113/v4/a5/60/7f/a5607f8f-ec52-7eb7-d6db-4f7151258820/mza_10686726966160905976.png/{w}x{h}{c}.{f}\\\",\\\"bgColor\\\":\\\"000000\\\",\\\"textColor1\\\":\\\"cfcfcf\\\",\\\"textColor2\\\":\\\"e29747\\\",\\\"textColor3\\\":\\\"a6a6a6\\\",\\\"textColor4\\\":\\\"b47938\\\"},\\\"genre\\\":6026},{\\\"name\\\":\\\"Graphics \\u0026 Design\\\",\\\"seoName\\\":\\\"graphics-design\\\",\\\"chartUrl\\\":\\\"https://apps.apple.com/in/charts/iphone/graphics-design-apps/6027\\\",\\\"artwork\\\":{\\\"width\\\":1024,\\\"height\\\":1024,\\\"url\\\":\\\"https://is2-ssl.mzstatic.com/image/thumb/Features123/v4/89/44/c2/8944c2d7-b148-aeca-5de3-37f023e2b8e3/mza_2649686838125952098.png/{w}x{h}{c}.{f}\\\",\\\"bgColor\\\":\\\"000000\\\",\\\"textColor1\\\":\\\"d0d0d0\\\",\\\"textColor2\\\":\\\"5acafc\\\",\\\"textColor3\\\":\\\"a6a6a6\\\",\\\"textColor4\\\":\\\"48a1ca\\\"},\\\"genre\\\":6027}]}]}}\",\".v1.catalog.in.charts.types.apps.platform.iphone.genre.6015.limit.12.sparselimit.12.l.en-gb\":\"{\\\"x\\\":1660664575371,\\\"d\\\":{\\\"apps\\\":[{\\\"chart\\\":\\\"top-free\\\",\\\"name\\\":\\\"Top Free Apps\\\",\\\"orderId\\\":\\\"top-free:apps\\\",\\\"shortName\\\":\\\"Free Apps\\\",\\\"data\\\":[{\\\"id\\\":\\\"1193357041\\\",\\\"type\\\":\\\"apps\\\",\\\"href\\\":\\\"/v1/catalog/in/apps/1193357041?l=en-GB\\\",\\\"attributes\\\":{\\\"artistName\\\":\\\"Google LLC\\\",\\\"url\\\":\\\"https://apps.apple.com/in/app/google-pay-save-pay-manage/id1193357041\\\",\\\"isIOSBinaryMacOSCompatible\\\":false,\\\"reviewsRestricted\\\":false,\\\"deviceFamilies\\\":[\\\"iphone\\\",\\\"ipod\\\"],\\\"chartPositions\\\":{\\\"appStore\\\":{\\\"position\\\":1,\\\"genreName\\\":\\\"Finance\\\",\\\"genre\\\":6015,\\\"chart\\\":\\\"top-free\\\",\\\"chartLink\\\":\\\"https://apps.apple.com/in/charts/iphone/finance-apps/6015\\\"}},\\\"isPreorder\\\":false,\\\"platformAttributes\\\":{\\\"ios\\\":{\\\"requires32bit\\\":false,\\\"artwork\\\":{\\\"width\\\":1024,\\\"height\\\":1024,\\\"url\\\":\\\"https://is4-ssl.mzstatic.com/image/thumb/Purple112/v4/62/00/b6/6200b6d2-6ce4-0946-a200-ea57a6f78dc6/GPayAppIcon-0-1x_U007emarketing-0-5-0-85-220.png/{w}x{h}{c}.{f}\\\",\\\"bgColor\\\":\\\"ffffff\\\",\\\"textColor1\\\":\\\"050a14\\\",\\\"textColor2\\\":\\\"5c1f17\\\",\\\"textColor3\\\":\\\"373b43\\\",\\\"textColor4\\\":\\\"7c4b46\\\"},\\\"hasMessagesExtension\\\":false,\\\"releaseDate\\\":\\\"2017-09-18\\\",\\\"hasSafariExtension\\\":false,\\\"minimumMacOSVersion\\\":\\\"11.0\\\",\\\"editorialArtwork\\\":{\\\"brandLogo\\\":{\\\"width\\\":1080,\\\"height\\\":1080,\\\"url\\\":\\\"https://is3-ssl.mzstatic.com/image/thumb/Features124/v4/c8/82/38/c8823852-1841-665e-c2f5-bf413328a68a/source/{w}x{h}{c}.{f}\\\",\\\"bgColor\\\":\\\"000000\\\",\\\"textColor1\\\":\\\"f2f2f2\\\",\\\"textColor2\\\":\\\"e5e5e5\\\",\\\"textColor3\\\":\\\"c1c1c1\\\",\\\"textColor4\\\":\\\"b7b7b7\\\"}},\\\"subtitle\\\":\\\"A simple \\u0026 secure payment app\\\",\\\"isDeliveredInIOSAppForWatchOS\\\":false,\\\"bundleId\\\":\\\"com.google.paisa\\\",\\\"hasInAppPurchases\\\":false,\\\"isAppleWatchSupported\\\":false,\\\"isStandaloneForWatchOS\\\":false,\\\"requiresGameController\\\":false,\\\"isHiddenFromSpringboard\\\":false,\\\"isStandaloneWithCompanionForWatchOS\\\":false,\\\"offers\\\":[{\\\"buyParams\\\":\\\"productType=C\\u0026price=0\\u0026salableAdamId=1193357041\\u0026pricingParameters=STDQ\\u0026pg=default\\u0026appExtVrsId=851336165\\\",\\\"type\\\":\\\"get\\\",\\\"priceFormatted\\\":\\\"₹ 0\\\",\\\"price\\\":0,\\\"currencyCode\\\":\\\"INR\\\",\\\"assets\\\":[{\\\"flavor\\\":\\\"iosSoftware\\\",\\\"size\\\":242216960}]},{\\\"buyParams\\\":\\\"productType=C\\u0026price=0\\u0026salableAdamId=1193357041\\u0026pricingParameters=SWUPD\\u0026pg=default\\u0026appExtVrsId=851336165\\\",\\\"type\\\":\\\"update\\\",\\\"priceFormatted\\\":\\\"₹ 0\\\",\\\"price\\\":0,\\\"currencyCode\\\":\\\"INR\\\",\\\"assets\\\":[{\\\"flavor\\\":\\\"iosSoftware\\\",\\\"size\\\":242216960}]}]}},\\\"userRating\\\":{\\\"value\\\":4.7,\\\"ratingCount\\\":1865984,\\\"ratingCountList\\\":[45945,24858,71975,220993,1502213],\\\"ariaLabelForRatings\\\":\\\"4.7 stars\\\"},\\\"contentRatingsBySystem\\\":{\\\"appsApple\\\":{\\\"name\\\":\\\"17+\\\",\\\"value\\\":600,\\\"rank\\\":4,\\\"advisories\\\":[\\\"Gambling\\\",\\\"Frequent/Intense Contests\\\"]}},\\\"name\\\":\\\"Google Pay: Save, Pay, Manage\\\",\\\"supportsArcade\\\":false,\\\"genreDisplayName\\\":\\\"Finance\\\",\\\"isFirstPartyHideableApp\\\":false},\\\"relationships\\\":{\\\"developer\\\":{\\\"href\\\":\\\"/v1/catalog/in/apps/1193357041/developer?l=en-GB\\\",\\\"data\\\":[{\\\"id\\\":\\\"281956209\\\",\\\"type\\\":\\\"developers\\\",\\\"href\\\":\\\"/v1/catalog/in/developers/281956209?l=en-GB\\\"}]},\\\"genres\\\":{\\\"href\\\":\\\"/v1/catalog/in/apps/1193357041/genres?l=en-GB\\\",\\\"data\\\":[{\\\"id\\\":\\\"6015\\\",\\\"type\\\":\\\"genres\\\",\\\"href\\\":\\\"/v1/catalog/in/genres/6015?l=en-GB\\\",\\\"attributes\\\":{\\\"parentId\\\":\\\"36\\\",\\\"parentName\\\":\\\"App Store\\\",\\\"name\\\":\\\"Finance\\\",\\\"url\\\":\\\"https://itunes.apple.com/in/genre/id6015\\\"}},{\\\"id\\\":\\\"6012\\\",\\\"type\\\":\\\"genres\\\",\\\"href\\\":\\\"/v1/catalog/in/genres/6012?l=en-GB\\\",\\\"attributes\\\":{\\\"parentId\\\":\\\"36\\\",\\\"parentName\\\":\\\"App Store\\\",\\\"name\\\":\\\"Lifestyle\\\",\\\"url\\\":\\\"https://itunes.apple.com/in/genre/id6012\\\"}}]}}},{\\\"id\\\":\\\"1170055821\\\",\\\"type\\\":\\\"apps\\\",\\\"href\\\":\\\"/v1/catalog/in/apps/1170055821?l=en-GB\\\",\\\"attributes\\\":{\\\"artistName\\\":\\\"PHONEPE PRIVATE LIMITED\\\",\\\"url\\\":\\\"https://apps.apple.com/in/app/phonepe-recharge-investment/id1170055821\\\",\\\"isIOSBinaryMacOSCompatible\\\":false,\\\"reviewsRestricted\\\":false,\\\"deviceFamilies\\\":[\\\"iphone\\\",\\\"ipod\\\"],\\\"chartPositions\\\":{\\\"appStore\\\":{\\\"position\\\":2,\\\"genreName\\\":\\\"Finance\\\",\\\"genre\\\":6015,\\\"chart\\\":\\\"top-free\\\",\\\"chartLink\\\":\\\"https://apps.apple.com/in/charts/iphone/finance-apps/6015\\\"}},\\\"isPreorder\\\":false,\\\"platformAttributes\\\":{\\\"ios\\\":{\\\"requires32bit\\\":false,\\\"artwork\\\":{\\\"width\\\":1024,\\\"height\\\":1024,\\\"url\\\":\\\"https://is3-ssl.mzstatic.com/image/thumb/Purple112/v4/c1/15/16/c11516c1-a3eb-7291-d8d4-61588879337c/AppIcon-0-0-1x_U007emarketing-0-0-0-5-0-0-sRGB-0-0-0-GLES2_U002c0-512MB-85-220-0-0.png/{w}x{h}{c}.{f}\\\",\\\"bgColor\\\":\\\"5f259f\\\",\\\"textColor1\\\":\\\"ffffff\\\",\\\"textColor2\\\":\\\"d4bdee\\\",\\\"textColor3\\\":\\\"ded3eb\\\",\\\"textColor4\\\":\\\"bd9fde\\\"},\\\"hasMessagesExtension\\\":false,\\\"releaseDate\\\":\\\"2017-01-16\\\",\\\"hasSafariExtension\\\":false,\\\"minimumMacOSVersion\\\":\\\"11.0\\\",\\\"editorialArtwork\\\":{\\\"storeFlowcase\\\":{\\\"width\\\":4320,\\\"height\\\":1080,\\\"url\\\":\\\"https://is3-ssl.mzstatic.com/image/thumb/Features122/v4/32/bc/0a/32bc0aba-5e12-1c86-cd2a-2703f7768eff/source/{w}x{h}{c}.{f}\\\",\\\"bgColor\\\":\\\"6f3ec5\\\",\\\"textColor1\\\":\\\"ffffff\\\",\\\"textColor2\\\":\\\"f0ebf9\\\",\\\"textColor3\\\":\\\"e2d8f3\\\",\\\"textColor4\\\":\\\"d6c8ee\\\"},\\\"brandLogo\\\":{\\\"width\\\":1080,\\\"height\\\":1080,\\\"url\\\":\\\"https://is3-ssl.mzstatic.com/image/thumb/Features124/v4/c8/82/38/c8823852-1841-665e-c2f5-bf413328a68a/source/{w}x{h}{c}.{f}\\\",\\\"bgColor\\\":\\\"000000\\\",\\\"textColor1\\\":\\\"f2f2f2\\\",\\\"textColor2\\\":\\\"e5e5e5\\\",\\\"textColor3\\\":\\\"c1c1c1\\\",\\\"textColor4\\\":\\\"b7b7b7\\\"}},\\\"subtitle\\\":\\\"UPI Online Payments, Insurance\\\",\\\"isDeliveredInIOSAppForWatchOS\\\":false,\\\"bundleId\\\":\\\"com.phonepe.PhonePeApp\\\",\\\"hasInAppPurchases\\\":false,\\\"isAppleWatchSupported\\\":false,\\\"isStandaloneForWatchOS\\\":false,\\\"requiresGameController\\\":false,\\\"isHiddenFromSpringboard\\\":false,\\\"isStandaloneWithCompanionForWatchOS\\\":false,\\\"offers\\\":[{\\\"buyParams\\\":\\\"productType=C\\u0026price=0\\u0026salableAdamId=1170055821\\u0026pricingParameters=STDQ\\u0026pg=default\\u0026appExtVrsId=851478036\\\",\\\"type\\\":\\\"get\\\",\\\"priceFormatted\\\":\\\"₹ 0\\\",\\\"price\\\":0,\\\"currencyCode\\\":\\\"INR\\\",\\\"assets\\\":[{\\\"flavor\\\":\\\"iosSoftware\\\",\\\"size\\\":207290368}]},{\\\"buyParams\\\":\\\"productType=C\\u0026price=0\\u0026salableAdamId=1170055821\\u0026pricingParameters=SWUPD\\u0026pg=default\\u0026appExtVrsId=851478036\\\",\\\"type\\\":\\\"update\\\",\\\"priceFormatted\\\":\\\"₹ 0\\\",\\\"price\\\":0,\\\"currencyCode\\\":\\\"INR\\\",\\\"assets\\\":[{\\\"flavor\\\":\\\"iosSoftware\\\",\\\"size\\\":207290368}]}]}},\\\"userRating\\\":{\\\"value\\\":4.7,\\\"ratingCount\\\":3545495,\\\"ratingCountList\\\":[67999,48835,132256,387583,2908822],\\\"ariaLabelForRatings\\\":\\\"4.7 stars\\\"},\\\"contentRatingsBySystem\\\":{\\\"appsApple\\\":{\\\"name\\\":\\\"4+\\\",\\\"value\\\":100,\\\"rank\\\":1}},\\\"name\\\":\\\"PhonePe: Recharge \\u0026 Investment\\\",\\\"supportsArcade\\\":false,\\\"genreDisplayName\\\":\\\"Finance\\\",\\\"isFirstPartyHideableApp\\\":false},\\\"relationships\\\":{\\\"developer\\\":{\\\"href\\\":\\\"/v1/catalog/in/apps/1170055821/developer?l=en-GB\\\",\\\"data\\\":[{\\\"id\\\":\\\"1170055820\\\",\\\"type\\\":\\\"developers\\\",\\\"href\\\":\\\"/v1/catalog/in/developers/1170055820?l=en-GB\\\"}]},\\\"genres\\\":{\\\"href\\\":\\\"/v1/catalog/in/apps/1170055821/genres?l=en-GB\\\",\\\"data\\\":[{\\\"id\\\":\\\"6015\\\",\\\"type\\\":\\\"genres\\\",\\\"href\\\":\\\"/v1/catalog/in/genres/6015?l=en-GB\\\",\\\"attributes\\\":{\\\"parentId\\\":\\\"36\\\",\\\"parentName\\\":\\\"App Store\\\",\\\"name\\\":\\\"Finance\\\",\\\"url\\\":\\\"https://itunes.apple.com/in/genre/id6015\\\"}}]}}},{\\\"id\\\":\\\"473941634\\\",\\\"type\\\":\\\"apps\\\",\\\"href\\\":\\\"/v1/catalog/in/apps/473941634?l=en-GB\\\",\\\"attributes\\\":{\\\"artistName\\\":\\\"Paytm Mobile Solutions\\\",\\\"url\\\":\\\"https://apps.apple.com/in/app/paytm-secure-upi-payments/id473941634\\\",\\\"isIOSBinaryMacOSCompatible\\\":true,\\\"reviewsRestricted\\\":false,\\\"deviceFamilies\\\":[\\\"iphone\\\",\\\"ipod\\\"],\\\"chartPositions\\\":{\\\"appStore\\\":{\\\"position\\\":3,\\\"genreName\\\":\\\"Finance\\\",\\\"genre\\\":6015,\\\"chart\\\":\\\"top-free\\\",\\\"chartLink\\\":\\\"https://apps.apple.com/in/charts/iphone/finance-apps/6015\\\"}},\\\"isPreorder\\\":false,\\\"platformAttributes\\\":{\\\"ios\\\":{\\\"requires32bit\\\":false,\\\"artwork\\\":{\\\"width\\\":1024,\\\"height\\\":1024,\\\"url\\\":\\\"https://is3-ssl.mzstatic.com/image/thumb/Purple122/v4/b2/1f/11/b21f11c3-2aac-c951-852e-5adf8a9b2653/AppIcon-0-0-1x_U007emarketing-0-0-0-8-0-0-sRGB-0-0-0-GLES2_U002c0-512MB-85-220-0-0.png/{w}x{h}{c}.{f}\\\",\\\"bgColor\\\":\\\"ffffff\\\",\\\"textColor1\\\":\\\"0f0d0e\\\",\\\"textColor2\\\":\\\"091334\\\",\\\"textColor3\\\":\\\"3f3e3e\\\",\\\"textColor4\\\":\\\"3a425d\\\"},\\\"hasMessagesExtension\\\":false,\\\"releaseDate\\\":\\\"2011-10-24\\\",\\\"hasSafariExtension\\\":false,\\\"minimumMacOSVersion\\\":\\\"11.0\\\",\\\"editorialArtwork\\\":{\\\"originalFlowcaseBrick\\\":{\\\"width\\\":3200,\\\"height\\\":600,\\\"url\\\":\\\"https://is1-ssl.mzstatic.com/image/thumb/Features7/v4/48/8b/d9/488bd9de-77d7-42dc-6e22-36fe2ccd53e0/source/{w}x{h}{c}.{f}\\\",\\\"bgColor\\\":\\\"ffffff\\\",\\\"textColor1\\\":\\\"001015\\\",\\\"textColor2\\\":\\\"011431\\\",\\\"textColor3\\\":\\\"334044\\\",\\\"textColor4\\\":\\\"34435a\\\"},\\\"storeFlowcase\\\":{\\\"width\\\":4320,\\\"height\\\":1080,\\\"url\\\":\\\"https://is5-ssl.mzstatic.com/image/thumb/Features122/v4/ac/31/fa/ac31fab5-331b-75e1-90d3-d3b1931303e8/source/{w}x{h}{c}.{f}\\\",\\\"bgColor\\\":\\\"0146b7\\\",\\\"textColor1\\\":\\\"ffffff\\\",\\\"textColor2\\\":\\\"e5ecf7\\\",\\\"textColor3\\\":\\\"ccd9f0\\\",\\\"textColor4\\\":\\\"b8cbea\\\"},\\\"subscriptionHero\\\":{\\\"width\\\":4320,\\\"height\\\":1080,\\\"url\\\":\\\"https://is4-ssl.mzstatic.com/image/thumb/Features125/v4/2f/9f/fe/2f9ffec5-f36e-a624-6e39-b18a9d971696/source/{w}x{h}{c}.{f}\\\",\\\"bgColor\\\":\\\"ddf5fe\\\",\\\"textColor1\\\":\\\"191d29\\\",\\\"textColor2\\\":\\\"20242f\\\",\\\"textColor3\\\":\\\"383f4b\\\",\\\"textColor4\\\":\\\"3f4651\\\"},\\\"bannerUber\\\":{\\\"width\\\":4320,\\\"height\\\":1080,\\\"url\\\":\\\"https://is1-ssl.mzstatic.com/image/thumb/Features111/v4/9b/03/93/9b039389-5d8c-76e6-891b-783af89023bb/source/{w}x{h}sr.{f}\\\",\\\"bgColor\\\":\\\"ffffff\\\",\\\"textColor1\\\":\\\"001015\\\",\\\"textColor2\\\":\\\"001332\\\",\\\"textColor3\\\":\\\"334044\\\",\\\"textColor4\\\":\\\"33425b\\\"},\\\"brandLogo\\\":{\\\"width\\\":1080,\\\"height\\\":1080,\\\"url\\\":\\\"https://is3-ssl.mzstatic.com/image/thumb/Features124/v4/c8/82/38/c8823852-1841-665e-c2f5-bf413328a68a/source/{w}x{h}{c}.{f}\\\",\\\"bgColor\\\":\\\"000000\\\",\\\"textColor1\\\":\\\"f2f2f2\\\",\\\"textColor2\\\":\\\"e5e5e5\\\",\\\"textColor3\\\":\\\"c1c1c1\\\",\\\"textColor4\\\":\\\"b7b7b7\\\"}},\\\"subtitle\\\":\\\"BHIM UPI, Recharge \\u0026 Pay Bills\\\",\\\"isDeliveredInIOSAppForWatchOS\\\":false,\\\"bundleId\\\":\\\"com.one97.paytm\\\",\\\"hasInAppPurchases\\\":false,\\\"isAppleWatchSupported\\\":false,\\\"isStandaloneForWatchOS\\\":false,\\\"requiresGameController\\\":false,\\\"isHiddenFromSpringboard\\\":false,\\\"isStandaloneWithCompanionForWatchOS\\\":false,\\\"offers\\\":[{\\\"buyParams\\\":\\\"productType=C\\u0026price=0\\u0026salableAdamId=473941634\\u0026pricingParameters=STDQ\\u0026pg=default\\u0026appExtVrsId=851183245\\\",\\\"type\\\":\\\"get\\\",\\\"priceFormatted\\\":\\\"₹ 0\\\",\\\"price\\\":0,\\\"currencyCode\\\":\\\"INR\\\",\\\"assets\\\":[{\\\"flavor\\\":\\\"iosSoftware\\\",\\\"size\\\":279537664}]},{\\\"buyParams\\\":\\\"productType=C\\u0026price=0\\u0026salableAdamId=473941634\\u0026pricingParameters=SWUPD\\u0026pg=default\\u0026appExtVrsId=851183245\\\",\\\"type\\\":\\\"update\\\",\\\"priceFormatted\\\":\\\"₹ 0\\\",\\\"price\\\":0,\\\"currencyCode\\\":\\\"INR\\\",\\\"assets\\\":[{\\\"flavor\\\":\\\"iosSoftware\\\",\\\"size\\\":279537664}]}]}},\\\"userRating\\\":{\\\"value\\\":4.7,\\\"ratingCount\\\":2598136,\\\"ratingCountList\\\":[65231,33857,102072,310012,2086964],\\\"ariaLabelForRatings\\\":\\\"4.7 stars\\\"},\\\"contentRatingsBySystem\\\":{\\\"appsApple\\\":{\\\"name\\\":\\\"4+\\\",\\\"value\\\":100,\\\"rank\\\":1}},\\\"name\\\":\\\"Paytm: Secure UPI Payments\\\",\\\"supportsArcade\\\":false,\\\"genreDisplayName\\\":\\\"Finance\\\",\\\"isFirstPartyHideableApp\\\":false},\\\"relationships\\\":{\\\"developer\\\":{\\\"href\\\":\\\"/v1/catalog/in/apps/473941634/developer?l=en-GB\\\",\\\"data\\\":[{\\\"id\\\":\\\"473941637\\\",\\\"type\\\":\\\"developers\\\",\\\"href\\\":\\\"/v1/catalog/in/developers/473941637?l=en-GB\\\"}]},\\\"genres\\\":{\\\"href\\\":\\\"/v1/catalog/in/apps/473941634/genres?l=en-GB\\\",\\\"data\\\":[{\\\"id\\\":\\\"6015\\\",\\\"type\\\":\\\"genres\\\",\\\"href\\\":\\\"/v1/catalog/in/genres/6015?l=en-GB\\\",\\\"attributes\\\":{\\\"parentId\\\":\\\"36\\\",\\\"parentName\\\":\\\"App Store\\\",\\\"name\\\":\\\"Finance\\\",\\\"url\\\":\\\"https://itunes.apple.com/in/genre/id6015\\\"}},{\\\"id\\\":\\\"6012\\\",\\\"type\\\":\\\"genres\\\",\\\"href\\\":\\\"/v1/catalog/in/genres/6012?l=en-GB\\\",\\\"attributes\\\":{\\\"parentId\\\":\\\"36\\\",\\\"parentName\\\":\\\"App Store\\\",\\\"name\\\":\\\"Lifestyle\\\",\\\"url\\\":\\\"https://itunes.apple.com/in/genre/id6012\\\"}}]}}},{\\\"id\\\":\\\"1231393474\\\",\\\"type\\\":\\\"apps\\\",\\\"href\\\":\\\"/v1/catalog/in/apps/1231393474?l=en-GB\\\",\\\"attributes\\\":{\\\"artistName\\\":\\\"State Bank of India\\\",\\\"url\\\":\\\"https://apps.apple.com/in/app/yono-sbi-banking-and-lifestyle/id1231393474\\\",\\\"isIOSBinaryMacOSCompatible\\\":false,\\\"reviewsRestricted\\\":false,\\\"deviceFamilies\\\":[\\\"iphone\\\",\\\"ipod\\\"],\\\"chartPositions\\\":{\\\"appStore\\\":{\\\"position\\\":4,\\\"genreName\\\":\\\"Finance\\\",\\\"genre\\\":6015,\\\"chart\\\":\\\"top-free\\\",\\\"chartLink\\\":\\\"https://apps.apple.com/in/charts/iphone/finance-apps/6015\\\"}},\\\"isPreorder\\\":false,\\\"platformAttributes\\\":{\\\"ios\\\":{\\\"requires32bit\\\":false,\\\"artwork\\\":{\\\"width\\\":1024,\\\"height\\\":1024,\\\"url\\\":\\\"https://is1-ssl.mzstatic.com/image/thumb/Purple122/v4/d6/e4/43/d6e44311-4212-a62f-315b-7eeea4f3b482/AppIcon-0-0-1x_U007emarketing-0-0-0-10-0-0-sRGB-0-0-0-GLES2_U002c0-512MB-85-220-0-0.png/{w}x{h}{c}.{f}\\\",\\\"bgColor\\\":\\\"560868\\\",\\\"textColor1\\\":\\\"ffffff\\\",\\\"textColor2\\\":\\\"08b3f0\\\",\\\"textColor3\\\":\\\"ddcde0\\\",\\\"textColor4\\\":\\\"1891d5\\\"},\\\"hasMessagesExtension\\\":false,\\\"releaseDate\\\":\\\"2017-10-21\\\",\\\"hasSafariExtension\\\":false,\\\"minimumMacOSVersion\\\":\\\"11.0\\\",\\\"editorialArtwork\\\":{\\\"brandLogo\\\":{\\\"width\\\":1080,\\\"height\\\":1080,\\\"url\\\":\\\"https://is3-ssl.mzstatic.com/image/thumb/Features124/v4/c8/82/38/c8823852-1841-665e-c2f5-bf413328a68a/source/{w}x{h}{c}.{f}\\\",\\\"bgColor\\\":\\\"000000\\\",\\\"textColor1\\\":\\\"f2f2f2\\\",\\\"textColor2\\\":\\\"e5e5e5\\\",\\\"textColor3\\\":\\\"c1c1c1\\\",\\\"textColor4\\\":\\\"b7b7b7\\\"}},\\\"subtitle\\\":\\\"Bank,Invest,Shop,Travel\\\",\\\"isDeliveredInIOSAppForWatchOS\\\":false,\\\"bundleId\\\":\\\"com.sbi.lotusintouch\\\",\\\"hasInAppPurchases\\\":false,\\\"isAppleWatchSupported\\\":false,\\\"isStandaloneForWatchOS\\\":false,\\\"requiresGameController\\\":false,\\\"isHiddenFromSpringboard\\\":false,\\\"isStandaloneWithCompanionForWatchOS\\\":false,\\\"offers\\\":[{\\\"buyParams\\\":\\\"productType=C\\u0026price=0\\u0026salableAdamId=1231393474\\u0026pricingParameters=STDQ\\u0026pg=default\\u0026appExtVrsId=850857543\\\",\\\"type\\\":\\\"get\\\",\\\"priceFormatted\\\":\\\"₹ 0\\\",\\\"price\\\":0,\\\"currencyCode\\\":\\\"INR\\\",\\\"assets\\\":[{\\\"flavor\\\":\\\"iosSoftware\\\",\\\"size\\\":98864128}]},{\\\"buyParams\\\":\\\"productType=C\\u0026price=0\\u0026salableAdamId=1231393474\\u0026pricingParameters=SWUPD\\u0026pg=default\\u0026appExtVrsId=850857543\\\",\\\"type\\\":\\\"update\\\",\\\"priceFormatted\\\":\\\"₹ 0\\\",\\\"price\\\":0,\\\"currencyCode\\\":\\\"INR\\\",\\\"assets\\\":[{\\\"flavor\\\":\\\"iosSoftware\\\",\\\"size\\\":98864128}]}]}},\\\"userRating\\\":{\\\"value\\\":3.5,\\\"ratingCount\\\":45179,\\\"ratingCountList\\\":[10822,3079,3580,8225,19473],\\\"ariaLabelForRatings\\\":\\\"3.5 stars\\\"},\\\"contentRatingsBySystem\\\":{\\\"appsApple\\\":{\\\"name\\\":\\\"4+\\\",\\\"value\\\":100,\\\"rank\\\":1}},\\\"name\\\":\\\"YONO SBI:Banking and Lifestyle\\\",\\\"supportsArcade\\\":false,\\\"genreDisplayName\\\":\\\"Finance\\\",\\\"isFirstPartyHideableApp\\\":false},\\\"relationships\\\":{\\\"developer\\\":{\\\"href\\\":\\\"/v1/catalog/in/apps/1231393474/developer?l=en-GB\\\",\\\"data\\\":[{\\\"id\\\":\\\"503784436\\\",\\\"type\\\":\\\"developers\\\",\\\"href\\\":\\\"/v1/catalog/in/developers/503784436?l=en-GB\\\"}]},\\\"genres\\\":{\\\"href\\\":\\\"/v1/catalog/in/apps/1231393474/genres?l=en-GB\\\",\\\"data\\\":[{\\\"id\\\":\\\"6015\\\",\\\"type\\\":\\\"genres\\\",\\\"href\\\":\\\"/v1/catalog/in/genres/6015?l=en-GB\\\",\\\"attributes\\\":{\\\"parentId\\\":\\\"36\\\",\\\"parentName\\\":\\\"App Store\\\",\\\"name\\\":\\\"Finance\\\",\\\"url\\\":\\\"https://itunes.apple.com/in/genre/id6015\\\"}}]}}},{\\\"id\\\":\\\"515891771\\\",\\\"type\\\":\\\"apps\\\",\\\"href\\\":\\\"/v1/catalog/in/apps/515891771?l=en-GB\\\",\\\"attributes\\\":{\\\"minimumWatchOSVersion\\\":\\\"3.1\\\",\\\"artistName\\\":\\\"HDFC Bank Ltd.\\\",\\\"url\\\":\\\"https://apps.apple.com/in/app/hdfc-bank-mobilebanking/id515891771\\\",\\\"isIOSBinaryMacOSCompatible\\\":false,\\\"reviewsRestricted\\\":false,\\\"deviceFamilies\\\":[\\\"watch\\\",\\\"iphone\\\",\\\"ipad\\\",\\\"ipod\\\"],\\\"chartPositions\\\":{\\\"appStore\\\":{\\\"position\\\":5,\\\"genreName\\\":\\\"Finance\\\",\\\"genre\\\":6015,\\\"chart\\\":\\\"top-free\\\",\\\"chartLink\\\":\\\"https://apps.apple.com/in/charts/iphone/finance-apps/6015\\\"}},\\\"isPreorder\\\":false,\\\"platformAttributes\\\":{\\\"ios\\\":{\\\"requires32bit\\\":false,\\\"artwork\\\":{\\\"width\\\":1024,\\\"height\\\":1024,\\\"url\\\":\\\"https://is2-ssl.mzstatic.com/image/thumb/Purple126/v4/43/4a/34/434a3450-eb1e-e639-5250-50478da2040d/AppIcon-0-0-1x_U007emarketing-0-0-0-7-0-0-sRGB-0-0-0-GLES2_U002c0-512MB-85-220-0-0.png/{w}x{h}{c}.{f}\\\",\\\"bgColor\\\":\\\"ffffff\\\",\\\"textColor1\\\":\\\"00213f\\\",\\\"textColor2\\\":\\\"102d46\\\",\\\"textColor3\\\":\\\"334e65\\\",\\\"textColor4\\\":\\\"40576b\\\"},\\\"hasMessagesExtension\\\":false,\\\"releaseDate\\\":\\\"2012-04-11\\\",\\\"hasSafariExtension\\\":false,\\\"minimumMacOSVersion\\\":\\\"11.0\\\",\\\"editorialArtwork\\\":{\\\"brandLogo\\\":{\\\"width\\\":1080,\\\"height\\\":1080,\\\"url\\\":\\\"https://is3-ssl.mzstatic.com/image/thumb/Features124/v4/c8/82/38/c8823852-1841-665e-c2f5-bf413328a68a/source/{w}x{h}{c}.{f}\\\",\\\"bgColor\\\":\\\"000000\\\",\\\"textColor1\\\":\\\"f2f2f2\\\",\\\"textColor2\\\":\\\"e5e5e5\\\",\\\"textColor3\\\":\\\"c1c1c1\\\",\\\"textColor4\\\":\\\"b7b7b7\\\"}},\\\"subtitle\\\":\\\"Payments, Billpay, Cards \\u0026 UPI\\\",\\\"isDeliveredInIOSAppForWatchOS\\\":true,\\\"bundleId\\\":\\\"com.hdfcbank.mobilebanking\\\",\\\"hasInAppPurchases\\\":false,\\\"isAppleWatchSupported\\\":true,\\\"isStandaloneForWatchOS\\\":false,\\\"circularArtwork\\\":{\\\"width\\\":1024,\\\"height\\\":1024,\\\"url\\\":\\\"https://is3-ssl.mzstatic.com/image/thumb/Purple126/v4/73/82/52/738252fe-817b-969a-4ca2-5717c7c8003f/AppIcon-0-0-1x_U007emarketing-0-0-0-9-0-0-sRGB-0-0-0-GLES2_U002c0-512MB-85-220-0-0.png/{w}x{h}{c}.{f}\\\",\\\"bgColor\\\":\\\"ffffff\\\",\\\"textColor1\\\":\\\"00213f\\\",\\\"textColor2\\\":\\\"102d46\\\",\\\"textColor3\\\":\\\"334e65\\\",\\\"textColor4\\\":\\\"40576b\\\"},\\\"requiresGameController\\\":false,\\\"isHiddenFromSpringboard\\\":false,\\\"isStandaloneWithCompanionForWatchOS\\\":false,\\\"offers\\\":[{\\\"buyParams\\\":\\\"productType=C\\u0026price=0\\u0026salableAdamId=515891771\\u0026pricingParameters=STDQ\\u0026pg=default\\u0026appExtVrsId=847433508\\\",\\\"type\\\":\\\"get\\\",\\\"priceFormatted\\\":\\\"₹ 0\\\",\\\"price\\\":0,\\\"currencyCode\\\":\\\"INR\\\",\\\"assets\\\":[{\\\"flavor\\\":\\\"iosSoftware\\\",\\\"size\\\":246809600}]},{\\\"buyParams\\\":\\\"productType=C\\u0026price=0\\u0026salableAdamId=515891771\\u0026pricingParameters=SWUPD\\u0026pg=default\\u0026appExtVrsId=847433508\\\",\\\"type\\\":\\\"update\\\",\\\"priceFormatted\\\":\\\"₹ 0\\\",\\\"price\\\":0,\\\"currencyCode\\\":\\\"INR\\\",\\\"assets\\\":[{\\\"flavor\\\":\\\"iosSoftware\\\",\\\"size\\\":246809600}]}]}},\\\"watchBundleId\\\":\\\"com.hdfcbank.mobilebanking.watchkitapp\\\",\\\"userRating\\\":{\\\"value\\\":3.7,\\\"ratingCount\\\":47117,\\\"ratingCountList\\\":[10766,1921,2705,8382,23343],\\\"ariaLabelForRatings\\\":\\\"3.7 stars\\\"},\\\"contentRatingsBySystem\\\":{\\\"appsApple\\\":{\\\"name\\\":\\\"4+\\\",\\\"value\\\":100,\\\"rank\\\":1}},\\\"name\\\":\\\"HDFC Bank MobileBanking\\\",\\\"supportsArcade\\\":false,\\\"genreDisplayName\\\":\\\"Finance\\\",\\\"isFirstPartyHideableApp\\\":false},\\\"relationships\\\":{\\\"developer\\\":{\\\"href\\\":\\\"/v1/catalog/in/apps/515891771/developer?l=en-GB\\\",\\\"data\\\":[{\\\"id\\\":\\\"515891774\\\",\\\"type\\\":\\\"developers\\\",\\\"href\\\":\\\"/v1/catalog/in/developers/515891774?l=en-GB\\\"}]},\\\"genres\\\":{\\\"href\\\":\\\"/v1/catalog/in/apps/515891771/genres?l=en-GB\\\",\\\"data\\\":[{\\\"id\\\":\\\"6015\\\",\\\"type\\\":\\\"genres\\\",\\\"href\\\":\\\"/v1/catalog/in/genres/6015?l=en-GB\\\",\\\"attributes\\\":{\\\"parentId\\\":\\\"36\\\",\\\"parentName\\\":\\\"App Store\\\",\\\"name\\\":\\\"Finance\\\",\\\"url\\\":\\\"https://itunes.apple.com/in/genre/id6015\\\"}},{\\\"id\\\":\\\"6000\\\",\\\"type\\\":\\\"genres\\\",\\\"href\\\":\\\"/v1/catalog/in/genres/6000?l=en-GB\\\",\\\"attributes\\\":{\\\"parentId\\\":\\\"36\\\",\\\"parentName\\\":\\\"App Store\\\",\\\"name\\\":\\\"Business\\\",\\\"url\\\":\\\"https://itunes.apple.com/in/genre/id6000\\\"}}]}}},{\\\"id\\\":\\\"505454145\\\",\\\"type\\\":\\\"apps\\\",\\\"href\\\":\\\"/v1/catalog/in/apps/505454145?l=en-GB\\\",\\\"attributes\\\":{\\\"artistName\\\":\\\"BajajFinserv\\\",\\\"url\\\":\\\"https://apps.apple.com/in/app/bajaj-finserv/id505454145\\\",\\\"isIOSBinaryMacOSCompatible\\\":false,\\\"reviewsRestricted\\\":false,\\\"deviceFamilies\\\":[\\\"iphone\\\",\\\"ipad\\\",\\\"ipod\\\"],\\\"chartPositions\\\":{\\\"appStore\\\":{\\\"position\\\":6,\\\"genreName\\\":\\\"Finance\\\",\\\"genre\\\":6015,\\\"chart\\\":\\\"top-free\\\",\\\"chartLink\\\":\\\"https://apps.apple.com/in/charts/iphone/finance-apps/6015\\\"}},\\\"isPreorder\\\":false,\\\"platformAttributes\\\":{\\\"ios\\\":{\\\"requires32bit\\\":false,\\\"artwork\\\":{\\\"width\\\":1024,\\\"height\\\":1024,\\\"url\\\":\\\"https://is2-ssl.mzstatic.com/image/thumb/Purple112/v4/42/e4/94/42e4946c-174f-2b38-56af-7d1317150a77/AppIcon-0-0-1x_U007emarketing-0-0-0-7-0-0-sRGB-0-0-0-GLES2_U002c0-512MB-85-220-0-0.png/{w}x{h}{c}.{f}\\\",\\\"bgColor\\\":\\\"005894\\\",\\\"textColor1\\\":\\\"ffffff\\\",\\\"textColor2\\\":\\\"8fc9ef\\\",\\\"textColor3\\\":\\\"cbdde9\\\",\\\"textColor4\\\":\\\"72b2dc\\\"},\\\"hasMessagesExtension\\\":false,\\\"releaseDate\\\":\\\"2012-03-06\\\",\\\"hasSafariExtension\\\":false,\\\"minimumMacOSVersion\\\":\\\"11.0\\\",\\\"editorialArtwork\\\":{\\\"brandLogo\\\":{\\\"width\\\":1080,\\\"height\\\":1080,\\\"url\\\":\\\"https://is3-ssl.mzstatic.com/image/thumb/Features124/v4/c8/82/38/c8823852-1841-665e-c2f5-bf413328a68a/source/{w}x{h}{c}.{f}\\\",\\\"bgColor\\\":\\\"000000\\\",\\\"textColor1\\\":\\\"f2f2f2\\\",\\\"textColor2\\\":\\\"e5e5e5\\\",\\\"textColor3\\\":\\\"c1c1c1\\\",\\\"textColor4\\\":\\\"b7b7b7\\\"}},\\\"subtitle\\\":\\\"Bill Payment, Loan, EMI Card\\\",\\\"isDeliveredInIOSAppForWatchOS\\\":false,\\\"bundleId\\\":\\\"com.Bajaj.bajajexperia\\\",\\\"hasInAppPurchases\\\":false,\\\"isAppleWatchSupported\\\":false,\\\"isStandaloneForWatchOS\\\":false,\\\"requiresGameController\\\":false,\\\"isHiddenFromSpringboard\\\":false,\\\"isStandaloneWithCompanionForWatchOS\\\":false,\\\"offers\\\":[{\\\"buyParams\\\":\\\"productType=C\\u0026price=0\\u0026salableAdamId=505454145\\u0026pricingParameters=STDQ\\u0026pg=default\\u0026appExtVrsId=851003405\\\",\\\"type\\\":\\\"get\\\",\\\"priceFormatted\\\":\\\"₹ 0\\\",\\\"price\\\":0,\\\"currencyCode\\\":\\\"INR\\\",\\\"assets\\\":[{\\\"flavor\\\":\\\"iosSoftware\\\",\\\"size\\\":228492288}]},{\\\"buyParams\\\":\\\"productType=C\\u0026price=0\\u0026salableAdamId=505454145\\u0026pricingParameters=SWUPD\\u0026pg=default\\u0026appExtVrsId=851003405\\\",\\\"type\\\":\\\"update\\\",\\\"priceFormatted\\\":\\\"₹ 0\\\",\\\"price\\\":0,\\\"currencyCode\\\":\\\"INR\\\",\\\"assets\\\":[{\\\"flavor\\\":\\\"iosSoftware\\\",\\\"size\\\":228492288}]}]}},\\\"userRating\\\":{\\\"value\\\":4.3,\\\"ratingCount\\\":16764,\\\"ratingCountList\\\":[2006,349,732,1979,11698],\\\"ariaLabelForRatings\\\":\\\"4.3 stars\\\"},\\\"contentRatingsBySystem\\\":{\\\"appsApple\\\":{\\\"name\\\":\\\"4+\\\",\\\"value\\\":100,\\\"rank\\\":1}},\\\"name\\\":\\\"Bajaj Finserv\\\",\\\"supportsArcade\\\":false,\\\"genreDisplayName\\\":\\\"Finance\\\",\\\"isFirstPartyHideableApp\\\":false},\\\"relationships\\\":{\\\"developer\\\":{\\\"href\\\":\\\"/v1/catalog/in/apps/505454145/developer?l=en-GB\\\",\\\"data\\\":[{\\\"id\\\":\\\"493202639\\\",\\\"type\\\":\\\"developers\\\",\\\"href\\\":\\\"/v1/catalog/in/developers/493202639?l=en-GB\\\"}]},\\\"genres\\\":{\\\"href\\\":\\\"/v1/catalog/in/apps/505454145/genres?l=en-GB\\\",\\\"data\\\":[{\\\"id\\\":\\\"6015\\\",\\\"type\\\":\\\"genres\\\",\\\"href\\\":\\\"/v1/catalog/in/genres/6015?l=en-GB\\\",\\\"attributes\\\":{\\\"parentId\\\":\\\"36\\\",\\\"parentName\\\":\\\"App Store\\\",\\\"name\\\":\\\"Finance\\\",\\\"url\\\":\\\"https://itunes.apple.com/in/genre/id6015\\\"}},{\\\"id\\\":\\\"6000\\\",\\\"type\\\":\\\"genres\\\",\\\"href\\\":\\\"/v1/catalog/in/genres/6000?l=en-GB\\\",\\\"attributes\\\":{\\\"parentId\\\":\\\"36\\\",\\\"parentName\\\":\\\"App Store\\\",\\\"name\\\":\\\"Business\\\",\\\"url\\\":\\\"https://itunes.apple.com/in/genre/id6000\\\"}}]}}},{\\\"id\\\":\\\"1404871703\\\",\\\"type\\\":\\\"apps\\\",\\\"href\\\":\\\"/v1/catalog/in/apps/1404871703?l=en-GB\\\",\\\"attributes\\\":{\\\"artistName\\\":\\\"Billionbrains Garage Ventures Pvt Ltd\\\",\\\"url\\\":\\\"https://apps.apple.com/in/app/groww-stocks-mutual-funds/id1404871703\\\",\\\"isIOSBinaryMacOSCompatible\\\":false,\\\"reviewsRestricted\\\":false,\\\"deviceFamilies\\\":[\\\"iphone\\\",\\\"ipod\\\"],\\\"chartPositions\\\":{\\\"appStore\\\":{\\\"position\\\":7,\\\"genreName\\\":\\\"Finance\\\",\\\"genre\\\":6015,\\\"chart\\\":\\\"top-free\\\",\\\"chartLink\\\":\\\"https://apps.apple.com/in/charts/iphone/finance-apps/6015\\\"}},\\\"isPreorder\\\":false,\\\"platformAttributes\\\":{\\\"ios\\\":{\\\"requires32bit\\\":false,\\\"artwork\\\":{\\\"width\\\":1024,\\\"height\\\":1024,\\\"url\\\":\\\"https://is1-ssl.mzstatic.com/image/thumb/Purple122/v4/09/b7/48/09b74821-6208-b22c-4333-4c091bd1c53e/AppIcon-0-0-1x_U007emarketing-0-0-0-10-0-0-sRGB-0-0-0-GLES2_U002c0-512MB-85-220-0-0.png/{w}x{h}{c}.{f}\\\",\\\"bgColor\\\":\\\"ffffff\\\",\\\"textColor1\\\":\\\"070916\\\",\\\"textColor2\\\":\\\"070916\\\",\\\"textColor3\\\":\\\"383a45\\\",\\\"textColor4\\\":\\\"383a45\\\"},\\\"hasMessagesExtension\\\":false,\\\"releaseDate\\\":\\\"2018-08-03\\\",\\\"hasSafariExtension\\\":false,\\\"minimumMacOSVersion\\\":\\\"11.0\\\",\\\"editorialArtwork\\\":{\\\"subscriptionHero\\\":{\\\"width\\\":4320,\\\"height\\\":1080,\\\"url\\\":\\\"https://is1-ssl.mzstatic.com/image/thumb/Features113/v4/fa/56/20/fa562063-202b-d07a-8150-3ac50672b93d/source/{w}x{h}{c}.{f}\\\",\\\"bgColor\\\":\\\"4340b5\\\",\\\"textColor1\\\":\\\"e7e5eb\\\",\\\"textColor2\\\":\\\"fbd06f\\\",\\\"textColor3\\\":\\\"c6c4e0\\\",\\\"textColor4\\\":\\\"d6b37d\\\"},\\\"brandLogo\\\":{\\\"width\\\":1080,\\\"height\\\":1080,\\\"url\\\":\\\"https://is3-ssl.mzstatic.com/image/thumb/Features124/v4/c8/82/38/c8823852-1841-665e-c2f5-bf413328a68a/source/{w}x{h}{c}.{f}\\\",\\\"bgColor\\\":\\\"000000\\\",\\\"textColor1\\\":\\\"f2f2f2\\\",\\\"textColor2\\\":\\\"e5e5e5\\\",\\\"textColor3\\\":\\\"c1c1c1\\\",\\\"textColor4\\\":\\\"b7b7b7\\\"}},\\\"subtitle\\\":\\\"Invest In Stocks \\u0026 Mutual Fund\\\",\\\"isDeliveredInIOSAppForWatchOS\\\":false,\\\"bundleId\\\":\\\"com.nextbillion.groww\\\",\\\"hasInAppPurchases\\\":false,\\\"isAppleWatchSupported\\\":false,\\\"isStandaloneForWatchOS\\\":false,\\\"requiresGameController\\\":false,\\\"isHiddenFromSpringboard\\\":false,\\\"editorialNotes\\\":{\\\"tagline\\\":\\\"Make investments count\\\"},\\\"isStandaloneWithCompanionForWatchOS\\\":false,\\\"offers\\\":[{\\\"buyParams\\\":\\\"productType=C\\u0026price=0\\u0026salableAdamId=1404871703\\u0026pricingParameters=STDQ\\u0026pg=default\\u0026appExtVrsId=851505269\\\",\\\"type\\\":\\\"get\\\",\\\"priceFormatted\\\":\\\"₹ 0\\\",\\\"price\\\":0,\\\"currencyCode\\\":\\\"INR\\\",\\\"assets\\\":[{\\\"flavor\\\":\\\"iosSoftware\\\",\\\"size\\\":73116672}]},{\\\"buyParams\\\":\\\"productType=C\\u0026price=0\\u0026salableAdamId=1404871703\\u0026pricingParameters=SWUPD\\u0026pg=default\\u0026appExtVrsId=851505269\\\",\\\"type\\\":\\\"update\\\",\\\"priceFormatted\\\":\\\"₹ 0\\\",\\\"price\\\":0,\\\"currencyCode\\\":\\\"INR\\\",\\\"assets\\\":[{\\\"flavor\\\":\\\"iosSoftware\\\",\\\"size\\\":73116672}]}]}},\\\"userRating\\\":{\\\"value\\\":4.4,\\\"ratingCount\\\":18029,\\\"ratingCountList\\\":[1912,392,501,1628,13596],\\\"ariaLabelForRatings\\\":\\\"4.4 stars\\\"},\\\"contentRatingsBySystem\\\":{\\\"appsApple\\\":{\\\"name\\\":\\\"4+\\\",\\\"value\\\":100,\\\"rank\\\":1}},\\\"name\\\":\\\"Groww - Stocks \\u0026 Mutual Funds\\\",\\\"supportsArcade\\\":false,\\\"genreDisplayName\\\":\\\"Finance\\\",\\\"isFirstPartyHideableApp\\\":false},\\\"relationships\\\":{\\\"developer\\\":{\\\"href\\\":\\\"/v1/catalog/in/apps/1404871703/developer?l=en-GB\\\",\\\"data\\\":[{\\\"id\\\":\\\"1404871702\\\",\\\"type\\\":\\\"developers\\\",\\\"href\\\":\\\"/v1/catalog/in/developers/1404871702?l=en-GB\\\"}]},\\\"genres\\\":{\\\"href\\\":\\\"/v1/catalog/in/apps/1404871703/genres?l=en-GB\\\",\\\"data\\\":[{\\\"id\\\":\\\"6015\\\",\\\"type\\\":\\\"genres\\\",\\\"href\\\":\\\"/v1/catalog/in/genres/6015?l=en-GB\\\",\\\"attributes\\\":{\\\"parentId\\\":\\\"36\\\",\\\"parentName\\\":\\\"App Store\\\",\\\"name\\\":\\\"Finance\\\",\\\"url\\\":\\\"https://itunes.apple.com/in/genre/id6015\\\"}}]}}},{\\\"id\\\":\\\"622363400\\\",\\\"type\\\":\\\"apps\\\",\\\"href\\\":\\\"/v1/catalog/in/apps/622363400?l=en-GB\\\",\\\"attributes\\\":{\\\"artistName\\\":\\\"Kotak Mahindra Bank Ltd.\\\",\\\"url\\\":\\\"https://apps.apple.com/in/app/kotak-811-mobile-banking/id622363400\\\",\\\"isIOSBinaryMacOSCompatible\\\":false,\\\"reviewsRestricted\\\":false,\\\"deviceFamilies\\\":[\\\"iphone\\\",\\\"ipod\\\"],\\\"chartPositions\\\":{\\\"appStore\\\":{\\\"position\\\":8,\\\"genreName\\\":\\\"Finance\\\",\\\"genre\\\":6015,\\\"chart\\\":\\\"top-free\\\",\\\"chartLink\\\":\\\"https://apps.apple.com/in/charts/iphone/finance-apps/6015\\\"}},\\\"isPreorder\\\":false,\\\"platformAttributes\\\":{\\\"ios\\\":{\\\"requires32bit\\\":false,\\\"artwork\\\":{\\\"width\\\":1024,\\\"height\\\":1024,\\\"url\\\":\\\"https://is3-ssl.mzstatic.com/image/thumb/Purple122/v4/3b/c9/29/3bc929f4-080d-4dd9-79a7-bbf4f4edf2e7/AppIcon-0-0-1x_U007emarketing-0-0-0-5-0-0-sRGB-0-0-0-GLES2_U002c0-512MB-85-220-0-0.png/{w}x{h}{c}.{f}\\\",\\\"bgColor\\\":\\\"b41b21\\\",\\\"textColor1\\\":\\\"ffffff\\\",\\\"textColor2\\\":\\\"f9e1e2\\\",\\\"textColor3\\\":\\\"efd1d2\\\",\\\"textColor4\\\":\\\"ebb9bb\\\"},\\\"hasMessagesExtension\\\":false,\\\"releaseDate\\\":\\\"2013-04-18\\\",\\\"hasSafariExtension\\\":false,\\\"minimumMacOSVersion\\\":\\\"11.0\\\",\\\"editorialArtwork\\\":{\\\"brandLogo\\\":{\\\"width\\\":1080,\\\"height\\\":1080,\\\"url\\\":\\\"https://is3-ssl.mzstatic.com/image/thumb/Features124/v4/c8/82/38/c8823852-1841-665e-c2f5-bf413328a68a/source/{w}x{h}{c}.{f}\\\",\\\"bgColor\\\":\\\"000000\\\",\\\"textColor1\\\":\\\"f2f2f2\\\",\\\"textColor2\\\":\\\"e5e5e5\\\",\\\"textColor3\\\":\\\"c1c1c1\\\",\\\"textColor4\\\":\\\"b7b7b7\\\"}},\\\"isDeliveredInIOSAppForWatchOS\\\":false,\\\"bundleId\\\":\\\"com.kotak.kmb\\\",\\\"hasInAppPurchases\\\":false,\\\"isAppleWatchSupported\\\":false,\\\"isStandaloneForWatchOS\\\":false,\\\"requiresGameController\\\":false,\\\"isHiddenFromSpringboard\\\":false,\\\"isStandaloneWithCompanionForWatchOS\\\":false,\\\"offers\\\":[{\\\"buyParams\\\":\\\"productType=C\\u0026price=0\\u0026salableAdamId=622363400\\u0026pricingParameters=STDQ\\u0026pg=default\\u0026appExtVrsId=851521924\\\",\\\"type\\\":\\\"get\\\",\\\"priceFormatted\\\":\\\"₹ 0\\\",\\\"price\\\":0,\\\"currencyCode\\\":\\\"INR\\\",\\\"assets\\\":[{\\\"flavor\\\":\\\"iosSoftware\\\",\\\"size\\\":183193600}]},{\\\"buyParams\\\":\\\"productType=C\\u0026price=0\\u0026salableAdamId=622363400\\u0026pricingParameters=SWUPD\\u0026pg=default\\u0026appExtVrsId=851521924\\\",\\\"type\\\":\\\"update\\\",\\\"priceFormatted\\\":\\\"₹ 0\\\",\\\"price\\\":0,\\\"currencyCode\\\":\\\"INR\\\",\\\"assets\\\":[{\\\"flavor\\\":\\\"iosSoftware\\\",\\\"size\\\":183193600}]}]}},\\\"userRating\\\":{\\\"value\\\":4.8,\\\"ratingCount\\\":299087,\\\"ratingCountList\\\":[4488,1635,4777,31240,256947],\\\"ariaLabelForRatings\\\":\\\"4.8 stars\\\"},\\\"contentRatingsBySystem\\\":{\\\"appsApple\\\":{\\\"name\\\":\\\"4+\\\",\\\"value\\\":100,\\\"rank\\\":1}},\\\"name\\\":\\\"Kotak - 811 \\u0026 Mobile Banking\\\",\\\"supportsArcade\\\":false,\\\"genreDisplayName\\\":\\\"Finance\\\",\\\"isFirstPartyHideableApp\\\":false},\\\"relationships\\\":{\\\"developer\\\":{\\\"href\\\":\\\"/v1/catalog/in/apps/622363400/developer?l=en-GB\\\",\\\"data\\\":[{\\\"id\\\":\\\"611720896\\\",\\\"type\\\":\\\"developers\\\",\\\"href\\\":\\\"/v1/catalog/in/developers/611720896?l=en-GB\\\"}]},\\\"genres\\\":{\\\"href\\\":\\\"/v1/catalog/in/apps/622363400/genres?l=en-GB\\\",\\\"data\\\":[{\\\"id\\\":\\\"6015\\\",\\\"type\\\":\\\"genres\\\",\\\"href\\\":\\\"/v1/catalog/in/genres/6015?l=en-GB\\\",\\\"attributes\\\":{\\\"parentId\\\":\\\"36\\\",\\\"parentName\\\":\\\"App Store\\\",\\\"name\\\":\\\"Finance\\\",\\\"url\\\":\\\"https://itunes.apple.com/in/genre/id6015\\\"}},{\\\"id\\\":\\\"6000\\\",\\\"type\\\":\\\"genres\\\",\\\"href\\\":\\\"/v1/catalog/in/genres/6000?l=en-GB\\\",\\\"attributes\\\":{\\\"parentId\\\":\\\"36\\\",\\\"parentName\\\":\\\"App Store\\\",\\\"name\\\":\\\"Business\\\",\\\"url\\\":\\\"https://itunes.apple.com/in/genre/id6000\\\"}}]}}},{\\\"id\\\":\\\"375276006\\\",\\\"type\\\":\\\"apps\\\",\\\"href\\\":\\\"/v1/catalog/in/apps/375276006?l=en-GB\\\",\\\"attributes\\\":{\\\"artistName\\\":\\\"ICICI Bank Ltd\\\",\\\"url\\\":\\\"https://apps.apple.com/in/app/imobile-pay-by-icici-bank/id375276006\\\",\\\"isIOSBinaryMacOSCompatible\\\":true,\\\"reviewsRestricted\\\":false,\\\"deviceFamilies\\\":[\\\"iphone\\\",\\\"ipod\\\"],\\\"chartPositions\\\":{\\\"appStore\\\":{\\\"position\\\":9,\\\"genreName\\\":\\\"Finance\\\",\\\"genre\\\":6015,\\\"chart\\\":\\\"top-free\\\",\\\"chartLink\\\":\\\"https://apps.apple.com/in/charts/iphone/finance-apps/6015\\\"}},\\\"isPreorder\\\":false,\\\"platformAttributes\\\":{\\\"ios\\\":{\\\"requires32bit\\\":false,\\\"artwork\\\":{\\\"width\\\":1024,\\\"height\\\":1024,\\\"url\\\":\\\"https://is3-ssl.mzstatic.com/image/thumb/Purple122/v4/3b/3b/9c/3b3b9c30-f223-3bd2-5b82-a8bf7584923d/AppIcon-0-0-1x_U007emarketing-0-0-0-4-0-0-sRGB-0-0-0-GLES2_U002c0-512MB-85-220-0-0.png/{w}x{h}{c}.{f}\\\",\\\"bgColor\\\":\\\"ffffff\\\",\\\"textColor1\\\":\\\"4d0000\\\",\\\"textColor2\\\":\\\"511b16\\\",\\\"textColor3\\\":\\\"713333\\\",\\\"textColor4\\\":\\\"744844\\\"},\\\"hasMessagesExtension\\\":false,\\\"releaseDate\\\":\\\"2010-07-01\\\",\\\"hasSafariExtension\\\":false,\\\"minimumMacOSVersion\\\":\\\"11.0\\\",\\\"editorialArtwork\\\":{\\\"brandLogo\\\":{\\\"width\\\":1080,\\\"height\\\":1080,\\\"url\\\":\\\"https://is3-ssl.mzstatic.com/image/thumb/Features124/v4/c8/82/38/c8823852-1841-665e-c2f5-bf413328a68a/source/{w}x{h}{c}.{f}\\\",\\\"bgColor\\\":\\\"000000\\\",\\\"textColor1\\\":\\\"f2f2f2\\\",\\\"textColor2\\\":\\\"e5e5e5\\\",\\\"textColor3\\\":\\\"c1c1c1\\\",\\\"textColor4\\\":\\\"b7b7b7\\\"}},\\\"isDeliveredInIOSAppForWatchOS\\\":false,\\\"bundleId\\\":\\\"com.icicibank.imobile\\\",\\\"hasInAppPurchases\\\":false,\\\"isAppleWatchSupported\\\":false,\\\"isStandaloneForWatchOS\\\":false,\\\"requiresGameController\\\":false,\\\"isHiddenFromSpringboard\\\":false,\\\"isStandaloneWithCompanionForWatchOS\\\":false,\\\"offers\\\":[{\\\"buyParams\\\":\\\"productType=C\\u0026price=0\\u0026salableAdamId=375276006\\u0026pricingParameters=STDQ\\u0026pg=default\\u0026appExtVrsId=851176122\\\",\\\"type\\\":\\\"get\\\",\\\"priceFormatted\\\":\\\"₹ 0\\\",\\\"price\\\":0,\\\"currencyCode\\\":\\\"INR\\\",\\\"assets\\\":[{\\\"flavor\\\":\\\"iosSoftware\\\",\\\"size\\\":461406208}]},{\\\"buyParams\\\":\\\"productType=C\\u0026price=0\\u0026salableAdamId=375276006\\u0026pricingParameters=SWUPD\\u0026pg=default\\u0026appExtVrsId=851176122\\\",\\\"type\\\":\\\"update\\\",\\\"priceFormatted\\\":\\\"₹ 0\\\",\\\"price\\\":0,\\\"currencyCode\\\":\\\"INR\\\",\\\"assets\\\":[{\\\"flavor\\\":\\\"iosSoftware\\\",\\\"size\\\":461406208}]}]}},\\\"userRating\\\":{\\\"value\\\":4.7,\\\"ratingCount\\\":365619,\\\"ratingCountList\\\":[9407,3657,8074,38496,305985],\\\"ariaLabelForRatings\\\":\\\"4.7 stars\\\"},\\\"contentRatingsBySystem\\\":{\\\"appsApple\\\":{\\\"name\\\":\\\"4+\\\",\\\"value\\\":100,\\\"rank\\\":1}},\\\"name\\\":\\\"iMobile Pay by ICICI Bank\\\",\\\"supportsArcade\\\":false,\\\"genreDisplayName\\\":\\\"Finance\\\",\\\"isFirstPartyHideableApp\\\":false},\\\"relationships\\\":{\\\"developer\\\":{\\\"href\\\":\\\"/v1/catalog/in/apps/375276006/developer?l=en-GB\\\",\\\"data\\\":[{\\\"id\\\":\\\"375276009\\\",\\\"type\\\":\\\"developers\\\",\\\"href\\\":\\\"/v1/catalog/in/developers/375276009?l=en-GB\\\"}]},\\\"genres\\\":{\\\"href\\\":\\\"/v1/catalog/in/apps/375276006/genres?l=en-GB\\\",\\\"data\\\":[{\\\"id\\\":\\\"6015\\\",\\\"type\\\":\\\"genres\\\",\\\"href\\\":\\\"/v1/catalog/in/genres/6015?l=en-GB\\\",\\\"attributes\\\":{\\\"parentId\\\":\\\"36\\\",\\\"parentName\\\":\\\"App Store\\\",\\\"name\\\":\\\"Finance\\\",\\\"url\\\":\\\"https://itunes.apple.com/in/genre/id6015\\\"}},{\\\"id\\\":\\\"6002\\\",\\\"type\\\":\\\"genres\\\",\\\"href\\\":\\\"/v1/catalog/in/genres/6002?l=en-GB\\\",\\\"attributes\\\":{\\\"parentId\\\":\\\"36\\\",\\\"parentName\\\":\\\"App Store\\\",\\\"name\\\":\\\"Utilities\\\",\\\"url\\\":\\\"https://itunes.apple.com/in/genre/id6002\\\"}}]}}},{\\\"id\\\":\\\"1614427933\\\",\\\"type\\\":\\\"apps\\\",\\\"href\\\":\\\"/v1/catalog/in/apps/1614427933?l=en-GB\\\",\\\"attributes\\\":{\\\"artistName\\\":\\\"Gullak Technologies Private Limited\\\",\\\"url\\\":\\\"https://apps.apple.com/in/app/hubble-money-savings-earn-10/id1614427933\\\",\\\"isIOSBinaryMacOSCompatible\\\":true,\\\"reviewsRestricted\\\":false,\\\"deviceFamilies\\\":[\\\"iphone\\\",\\\"ipod\\\"],\\\"chartPositions\\\":{\\\"appStore\\\":{\\\"position\\\":10,\\\"genreName\\\":\\\"Finance\\\",\\\"genre\\\":6015,\\\"chart\\\":\\\"top-free\\\",\\\"chartLink\\\":\\\"https://apps.apple.com/in/charts/iphone/finance-apps/6015\\\"}},\\\"isPreorder\\\":false,\\\"platformAttributes\\\":{\\\"ios\\\":{\\\"requires32bit\\\":false,\\\"artwork\\\":{\\\"width\\\":1024,\\\"height\\\":1024,\\\"url\\\":\\\"https://is5-ssl.mzstatic.com/image/thumb/Purple122/v4/36/0e/c2/360ec2b7-0908-f5c7-e578-1437adfbc363/AppIcon-1x_U007emarketing-0-10-0-85-220.png/{w}x{h}{c}.{f}\\\",\\\"bgColor\\\":\\\"ffffff\\\",\\\"textColor1\\\":\\\"0c0c0c\\\",\\\"textColor2\\\":\\\"2c2c2c\\\",\\\"textColor3\\\":\\\"3d3d3d\\\",\\\"textColor4\\\":\\\"565656\\\"},\\\"hasMessagesExtension\\\":false,\\\"releaseDate\\\":\\\"2022-04-11\\\",\\\"hasSafariExtension\\\":false,\\\"minimumMacOSVersion\\\":\\\"11.0\\\",\\\"editorialArtwork\\\":{\\\"brandLogo\\\":{\\\"width\\\":1080,\\\"height\\\":1080,\\\"url\\\":\\\"https://is3-ssl.mzstatic.com/image/thumb/Features124/v4/c8/82/38/c8823852-1841-665e-c2f5-bf413328a68a/source/{w}x{h}{c}.{f}\\\",\\\"bgColor\\\":\\\"000000\\\",\\\"textColor1\\\":\\\"f2f2f2\\\",\\\"textColor2\\\":\\\"e5e5e5\\\",\\\"textColor3\\\":\\\"c1c1c1\\\",\\\"textColor4\\\":\\\"b7b7b7\\\"}},\\\"subtitle\\\":\\\"Most paying saving app ever\\\",\\\"isDeliveredInIOSAppForWatchOS\\\":false,\\\"bundleId\\\":\\\"money.myhubble\\\",\\\"hasInAppPurchases\\\":false,\\\"isAppleWatchSupported\\\":false,\\\"isStandaloneForWatchOS\\\":false,\\\"requiresGameController\\\":false,\\\"isHiddenFromSpringboard\\\":false,\\\"isStandaloneWithCompanionForWatchOS\\\":false,\\\"offers\\\":[{\\\"buyParams\\\":\\\"productType=C\\u0026price=0\\u0026salableAdamId=1614427933\\u0026pricingParameters=STDQ\\u0026pg=default\\u0026appExtVrsId=851545019\\\",\\\"type\\\":\\\"get\\\",\\\"priceFormatted\\\":\\\"₹ 0\\\",\\\"price\\\":0,\\\"currencyCode\\\":\\\"INR\\\",\\\"assets\\\":[{\\\"flavor\\\":\\\"iosSoftware\\\",\\\"size\\\":62707712}]},{\\\"buyParams\\\":\\\"productType=C\\u0026price=0\\u0026salableAdamId=1614427933\\u0026pricingParameters=SWUPD\\u0026pg=default\\u0026appExtVrsId=851545019\\\",\\\"type\\\":\\\"update\\\",\\\"priceFormatted\\\":\\\"₹ 0\\\",\\\"price\\\":0,\\\"currencyCode\\\":\\\"INR\\\",\\\"assets\\\":[{\\\"flavor\\\":\\\"iosSoftware\\\",\\\"size\\\":62707712}]}]}},\\\"userRating\\\":{\\\"value\\\":4.7,\\\"ratingCount\\\":67,\\\"ratingCountList\\\":[4,0,3,0,60],\\\"ariaLabelForRatings\\\":\\\"4.7 stars\\\"},\\\"contentRatingsBySystem\\\":{\\\"appsApple\\\":{\\\"name\\\":\\\"4+\\\",\\\"value\\\":100,\\\"rank\\\":1}},\\\"name\\\":\\\"Hubble Money Savings: Earn 10%\\\",\\\"supportsArcade\\\":false,\\\"genreDisplayName\\\":\\\"Finance\\\",\\\"isFirstPartyHideableApp\\\":false},\\\"relationships\\\":{\\\"developer\\\":{\\\"href\\\":\\\"/v1/catalog/in/apps/1614427933/developer?l=en-GB\\\",\\\"data\\\":[{\\\"id\\\":\\\"1609964408\\\",\\\"type\\\":\\\"developers\\\",\\\"href\\\":\\\"/v1/catalog/in/developers/1609964408?l=en-GB\\\"}]},\\\"genres\\\":{\\\"href\\\":\\\"/v1/catalog/in/apps/1614427933/genres?l=en-GB\\\",\\\"data\\\":[{\\\"id\\\":\\\"6015\\\",\\\"type\\\":\\\"genres\\\",\\\"href\\\":\\\"/v1/catalog/in/genres/6015?l=en-GB\\\",\\\"attributes\\\":{\\\"parentId\\\":\\\"36\\\",\\\"parentName\\\":\\\"App Store\\\",\\\"name\\\":\\\"Finance\\\",\\\"url\\\":\\\"https://itunes.apple.com/in/genre/id6015\\\"}},{\\\"id\\\":\\\"6012\\\",\\\"type\\\":\\\"genres\\\",\\\"href\\\":\\\"/v1/catalog/in/genres/6012?l=en-GB\\\",\\\"attributes\\\":{\\\"parentId\\\":\\\"36\\\",\\\"parentName\\\":\\\"App Store\\\",\\\"name\\\":\\\"Lifestyle\\\",\\\"url\\\":\\\"https://itunes.apple.com/in/genre/id6012\\\"}}]}}},{\\\"id\\\":\\\"699582556\\\",\\\"type\\\":\\\"apps\\\",\\\"href\\\":\\\"/v1/catalog/in/apps/699582556?l=en-GB\\\",\\\"attributes\\\":{\\\"minimumWatchOSVersion\\\":\\\"2.0\\\",\\\"artistName\\\":\\\"Axis Bank Ltd\\\",\\\"url\\\":\\\"https://apps.apple.com/in/app/axis-bank-mobile-banking/id699582556\\\",\\\"isIOSBinaryMacOSCompatible\\\":false,\\\"reviewsRestricted\\\":false,\\\"deviceFamilies\\\":[\\\"watch\\\",\\\"iphone\\\",\\\"ipod\\\"],\\\"chartPositions\\\":{\\\"appStore\\\":{\\\"position\\\":11,\\\"genreName\\\":\\\"Finance\\\",\\\"genre\\\":6015,\\\"chart\\\":\\\"top-free\\\",\\\"chartLink\\\":\\\"https://apps.apple.com/in/charts/iphone/finance-apps/6015\\\"}},\\\"isPreorder\\\":false,\\\"platformAttributes\\\":{\\\"ios\\\":{\\\"requires32bit\\\":false,\\\"artwork\\\":{\\\"width\\\":1024,\\\"height\\\":1024,\\\"url\\\":\\\"https://is5-ssl.mzstatic.com/image/thumb/Purple122/v4/0b/cb/88/0bcb88c5-bc6d-a9fb-228e-05235446fadd/AppIcon-1x_U007emarketing-0-5-0-0-85-220.png/{w}x{h}{c}.{f}\\\",\\\"bgColor\\\":\\\"97144c\\\",\\\"textColor1\\\":\\\"ffffff\\\",\\\"textColor2\\\":\\\"e8a1bf\\\",\\\"textColor3\\\":\\\"eacfdb\\\",\\\"textColor4\\\":\\\"d884a8\\\"},\\\"hasMessagesExtension\\\":false,\\\"releaseDate\\\":\\\"2013-09-13\\\",\\\"hasSafariExtension\\\":false,\\\"minimumMacOSVersion\\\":\\\"11.0\\\",\\\"editorialArtwork\\\":{\\\"brandLogo\\\":{\\\"width\\\":1080,\\\"height\\\":1080,\\\"url\\\":\\\"https://is3-ssl.mzstatic.com/image/thumb/Features124/v4/c8/82/38/c8823852-1841-665e-c2f5-bf413328a68a/source/{w}x{h}{c}.{f}\\\",\\\"bgColor\\\":\\\"000000\\\",\\\"textColor1\\\":\\\"f2f2f2\\\",\\\"textColor2\\\":\\\"e5e5e5\\\",\\\"textColor3\\\":\\\"c1c1c1\\\",\\\"textColor4\\\":\\\"b7b7b7\\\"}},\\\"isDeliveredInIOSAppForWatchOS\\\":true,\\\"bundleId\\\":\\\"com.axisbank.axismobile\\\",\\\"hasInAppPurchases\\\":false,\\\"isAppleWatchSupported\\\":true,\\\"isStandaloneForWatchOS\\\":false,\\\"circularArtwork\\\":{\\\"width\\\":1024,\\\"height\\\":1024,\\\"url\\\":\\\"https://is3-ssl.mzstatic.com/image/thumb/Purple112/v4/d1/ec/77/d1ec77f1-339b-c052-8471-6a8bded9c31a/AppIcon-1x_U007emarketing-0-9-0-0-85-220.png/{w}x{h}{c}.{f}\\\",\\\"bgColor\\\":\\\"97144c\\\",\\\"textColor1\\\":\\\"fefefe\\\",\\\"textColor2\\\":\\\"f4d4e2\\\",\\\"textColor3\\\":\\\"e9cfdb\\\",\\\"textColor4\\\":\\\"e1adc4\\\"},\\\"requiresGameController\\\":false,\\\"isHiddenFromSpringboard\\\":false,\\\"isStandaloneWithCompanionForWatchOS\\\":false,\\\"offers\\\":[{\\\"buyParams\\\":\\\"productType=C\\u0026price=0\\u0026salableAdamId=699582556\\u0026pricingParameters=STDQ\\u0026pg=default\\u0026appExtVrsId=850636239\\\",\\\"type\\\":\\\"get\\\",\\\"priceFormatted\\\":\\\"₹ 0\\\",\\\"price\\\":0,\\\"currencyCode\\\":\\\"INR\\\",\\\"assets\\\":[{\\\"flavor\\\":\\\"iosSoftware\\\",\\\"size\\\":193511424}]},{\\\"buyParams\\\":\\\"productType=C\\u0026price=0\\u0026salableAdamId=699582556\\u0026pricingParameters=SWUPD\\u0026pg=default\\u0026appExtVrsId=850636239\\\",\\\"type\\\":\\\"update\\\",\\\"priceFormatted\\\":\\\"₹ 0\\\",\\\"price\\\":0,\\\"currencyCode\\\":\\\"INR\\\",\\\"assets\\\":[{\\\"flavor\\\":\\\"iosSoftware\\\",\\\"size\\\":193511424}]}]}},\\\"watchBundleId\\\":\\\"com.axisbank.axismobile.watchkitapp\\\",\\\"userRating\\\":{\\\"value\\\":4.6,\\\"ratingCount\\\":77127,\\\"ratingCountList\\\":[3321,1471,2249,8477,61609],\\\"ariaLabelForRatings\\\":\\\"4.6 stars\\\"},\\\"contentRatingsBySystem\\\":{\\\"appsApple\\\":{\\\"name\\\":\\\"4+\\\",\\\"value\\\":100,\\\"rank\\\":1}},\\\"name\\\":\\\"Axis Bank Mobile Banking\\\",\\\"supportsArcade\\\":false,\\\"genreDisplayName\\\":\\\"Finance\\\",\\\"isFirstPartyHideableApp\\\":false},\\\"relationships\\\":{\\\"developer\\\":{\\\"href\\\":\\\"/v1/catalog/in/apps/699582556/developer?l=en-GB\\\",\\\"data\\\":[{\\\"id\\\":\\\"517259642\\\",\\\"type\\\":\\\"developers\\\",\\\"href\\\":\\\"/v1/catalog/in/developers/517259642?l=en-GB\\\"}]},\\\"genres\\\":{\\\"href\\\":\\\"/v1/catalog/in/apps/699582556/genres?l=en-GB\\\",\\\"data\\\":[{\\\"id\\\":\\\"6015\\\",\\\"type\\\":\\\"genres\\\",\\\"href\\\":\\\"/v1/catalog/in/genres/6015?l=en-GB\\\",\\\"attributes\\\":{\\\"parentId\\\":\\\"36\\\",\\\"parentName\\\":\\\"App Store\\\",\\\"name\\\":\\\"Finance\\\",\\\"url\\\":\\\"https://itunes.apple.com/in/genre/id6015\\\"}}]}}},{\\\"id\\\":\\\"458023433\\\",\\\"type\\\":\\\"apps\\\",\\\"href\\\":\\\"/v1/catalog/in/apps/458023433?l=en-GB\\\",\\\"attributes\\\":{\\\"artistName\\\":\\\"Splitwise, Inc.\\\",\\\"url\\\":\\\"https://apps.apple.com/in/app/splitwise/id458023433\\\",\\\"isIOSBinaryMacOSCompatible\\\":false,\\\"reviewsRestricted\\\":false,\\\"deviceFamilies\\\":[\\\"iphone\\\",\\\"ipad\\\",\\\"ipod\\\"],\\\"chartPositions\\\":{\\\"appStore\\\":{\\\"position\\\":12,\\\"genreName\\\":\\\"Finance\\\",\\\"genre\\\":6015,\\\"chart\\\":\\\"top-free\\\",\\\"chartLink\\\":\\\"https://apps.apple.com/in/charts/iphone/finance-apps/6015\\\"}},\\\"isPreorder\\\":false,\\\"platformAttributes\\\":{\\\"ios\\\":{\\\"requires32bit\\\":false,\\\"artwork\\\":{\\\"width\\\":1024,\\\"height\\\":1024,\\\"url\\\":\\\"https://is2-ssl.mzstatic.com/image/thumb/Purple112/v4/42/b1/00/42b10033-5cc5-3335-f957-484e8b95e3c1/AppIcon-0-0-1x_U007emarketing-0-0-0-7-0-0-sRGB-0-0-0-GLES2_U002c0-512MB-85-220-0-0.png/{w}x{h}{c}.{f}\\\",\\\"bgColor\\\":\\\"ace4d6\\\",\\\"textColor1\\\":\\\"181a1c\\\",\\\"textColor2\\\":\\\"25282b\\\",\\\"textColor3\\\":\\\"364241\\\",\\\"textColor4\\\":\\\"404e4d\\\"},\\\"hasMessagesExtension\\\":false,\\\"releaseDate\\\":\\\"2011-08-24\\\",\\\"hasSafariExtension\\\":false,\\\"minimumMacOSVersion\\\":\\\"11.0\\\",\\\"editorialArtwork\\\":{\\\"storeFlowcase\\\":{\\\"width\\\":4320,\\\"height\\\":1080,\\\"url\\\":\\\"https://is3-ssl.mzstatic.com/image/thumb/Features122/v4/ea/93/26/ea9326dc-a8b9-29e8-49c7-b31ecfa351c1/source/{w}x{h}{c}.{f}\\\",\\\"bgColor\\\":\\\"1fba8d\\\",\\\"textColor1\\\":\\\"090909\\\",\\\"textColor2\\\":\\\"161616\\\",\\\"textColor3\\\":\\\"0d2c23\\\",\\\"textColor4\\\":\\\"18372e\\\"},\\\"subscriptionHero\\\":{\\\"width\\\":4320,\\\"height\\\":1080,\\\"url\\\":\\\"https://is2-ssl.mzstatic.com/image/thumb/Features113/v4/b8/e2/58/b8e258d2-ae36-8720-1266-f192f2b52fec/source/{w}x{h}{c}.{f}\\\",\\\"bgColor\\\":\\\"78c3a9\\\",\\\"textColor1\\\":\\\"020201\\\",\\\"textColor2\\\":\\\"11110e\\\",\\\"textColor3\\\":\\\"1a2922\\\",\\\"textColor4\\\":\\\"25342d\\\"},\\\"brandLogo\\\":{\\\"width\\\":1080,\\\"height\\\":1080,\\\"url\\\":\\\"https://is3-ssl.mzstatic.com/image/thumb/Features124/v4/c8/82/38/c8823852-1841-665e-c2f5-bf413328a68a/source/{w}x{h}{c}.{f}\\\",\\\"bgColor\\\":\\\"000000\\\",\\\"textColor1\\\":\\\"f2f2f2\\\",\\\"textColor2\\\":\\\"e5e5e5\\\",\\\"textColor3\\\":\\\"c1c1c1\\\",\\\"textColor4\\\":\\\"b7b7b7\\\"}},\\\"subtitle\\\":\\\"Split expenses with friends\\\",\\\"isDeliveredInIOSAppForWatchOS\\\":false,\\\"bundleId\\\":\\\"com.Splitwise.SplitwiseMobile\\\",\\\"hasInAppPurchases\\\":true,\\\"isAppleWatchSupported\\\":false,\\\"isStandaloneForWatchOS\\\":false,\\\"requiresGameController\\\":false,\\\"isHiddenFromSpringboard\\\":false,\\\"editorialNotes\\\":{\\\"short\\\":\\\"Divide expenses fairly between the group.\\\",\\\"tagline\\\":\\\"Keep track of group expenses\\\"},\\\"isStandaloneWithCompanionForWatchOS\\\":false,\\\"offers\\\":[{\\\"buyParams\\\":\\\"productType=C\\u0026price=0\\u0026salableAdamId=458023433\\u0026pricingParameters=STDQ\\u0026pg=default\\u0026appExtVrsId=850717287\\\",\\\"type\\\":\\\"get\\\",\\\"priceFormatted\\\":\\\"₹ 0\\\",\\\"price\\\":0,\\\"currencyCode\\\":\\\"INR\\\",\\\"assets\\\":[{\\\"flavor\\\":\\\"iosSoftware\\\",\\\"size\\\":112068608}]},{\\\"buyParams\\\":\\\"productType=C\\u0026price=0\\u0026salableAdamId=458023433\\u0026pricingParameters=SWUPD\\u0026pg=default\\u0026appExtVrsId=850717287\\\",\\\"type\\\":\\\"update\\\",\\\"priceFormatted\\\":\\\"₹ 0\\\",\\\"price\\\":0,\\\"currencyCode\\\":\\\"INR\\\",\\\"assets\\\":[{\\\"flavor\\\":\\\"iosSoftware\\\",\\\"size\\\":112068608}]}]}},\\\"userRating\\\":{\\\"value\\\":4.7,\\\"ratingCount\\\":3670,\\\"ratingCountList\\\":[142,45,72,435,2976],\\\"ariaLabelForRatings\\\":\\\"4.7 stars\\\"},\\\"contentRatingsBySystem\\\":{\\\"appsApple\\\":{\\\"name\\\":\\\"4+\\\",\\\"value\\\":100,\\\"rank\\\":1}},\\\"name\\\":\\\"Splitwise\\\",\\\"supportsArcade\\\":false,\\\"genreDisplayName\\\":\\\"Finance\\\",\\\"isFirstPartyHideableApp\\\":false},\\\"relationships\\\":{\\\"developer\\\":{\\\"href\\\":\\\"/v1/catalog/in/apps/458023433/developer?l=en-GB\\\",\\\"data\\\":[{\\\"id\\\":\\\"458023436\\\",\\\"type\\\":\\\"developers\\\",\\\"href\\\":\\\"/v1/catalog/in/developers/458023436?l=en-GB\\\"}]},\\\"genres\\\":{\\\"href\\\":\\\"/v1/catalog/in/apps/458023433/genres?l=en-GB\\\",\\\"data\\\":[{\\\"id\\\":\\\"6015\\\",\\\"type\\\":\\\"genres\\\",\\\"href\\\":\\\"/v1/catalog/in/genres/6015?l=en-GB\\\",\\\"attributes\\\":{\\\"parentId\\\":\\\"36\\\",\\\"parentName\\\":\\\"App Store\\\",\\\"name\\\":\\\"Finance\\\",\\\"url\\\":\\\"https://itunes.apple.com/in/genre/id6015\\\"}},{\\\"id\\\":\\\"6005\\\",\\\"type\\\":\\\"genres\\\",\\\"href\\\":\\\"/v1/catalog/in/genres/6005?l=en-GB\\\",\\\"attributes\\\":{\\\"parentId\\\":\\\"36\\\",\\\"parentName\\\":\\\"App Store\\\",\\\"name\\\":\\\"Social Networking\\\",\\\"url\\\":\\\"https://itunes.apple.com/in/genre/id6005\\\"}}]}}}],\\\"next\\\":\\\"/v1/catalog/in/charts?chart=top-free\\u0026contexts=default\\u0026genre=6015\\u0026l=en-GB\\u0026limit=12\\u0026offset=12\\u0026platform=iphone\\u0026types=apps\\\",\\\"href\\\":\\\"/v1/catalog/in/charts?chart=top-free\\u0026contexts=default\\u0026genre=6015\\u0026l=en-GB\\u0026limit=12\\u0026platform=iphone\\u0026types=apps\\\"},{\\\"chart\\\":\\\"top-paid\\\",\\\"name\\\":\\\"Top Paid Apps\\\",\\\"orderId\\\":\\\"top-paid:apps\\\",\\\"shortName\\\":\\\"Paid Apps\\\",\\\"data\\\":[{\\\"id\\\":\\\"883179733\\\",\\\"type\\\":\\\"apps\\\",\\\"href\\\":\\\"/v1/catalog/in/apps/883179733?l=en-GB\\\",\\\"attributes\\\":{\\\"minimumWatchOSVersion\\\":\\\"7.0\\\",\\\"artistName\\\":\\\"Qi Wang\\\",\\\"url\\\":\\\"https://apps.apple.com/in/app/money-track-easily/id883179733\\\",\\\"isIOSBinaryMacOSCompatible\\\":true,\\\"reviewsRestricted\\\":false,\\\"deviceFamilies\\\":[\\\"watch\\\",\\\"iphone\\\",\\\"ipad\\\",\\\"ipod\\\"],\\\"chartPositions\\\":{\\\"appStore\\\":{\\\"position\\\":1,\\\"genreName\\\":\\\"Finance\\\",\\\"genre\\\":6015,\\\"chart\\\":\\\"top-paid\\\",\\\"chartLink\\\":\\\"https://apps.apple.com/in/charts/iphone/finance-apps/6015\\\"}},\\\"isPreorder\\\":false,\\\"platformAttributes\\\":{\\\"ios\\\":{\\\"requires32bit\\\":false,\\\"artwork\\\":{\\\"width\\\":1024,\\\"height\\\":1024,\\\"url\\\":\\\"https://is3-ssl.mzstatic.com/image/thumb/Purple122/v4/ee/3a/cc/ee3acce2-8d7d-fbd7-9ca1-43fd520a6404/AppIcon-1x_U007emarketing-0-10-0-85-220.png/{w}x{h}{c}.{f}\\\",\\\"bgColor\\\":\\\"102431\\\",\\\"textColor1\\\":\\\"b3ff5e\\\",\\\"textColor2\\\":\\\"08d9f4\\\",\\\"textColor3\\\":\\\"93d354\\\",\\\"textColor4\\\":\\\"09b5cd\\\"},\\\"hasMessagesExtension\\\":false,\\\"releaseDate\\\":\\\"2014-06-29\\\",\\\"hasSafariExtension\\\":false,\\\"minimumMacOSVersion\\\":\\\"11.0\\\",\\\"editorialArtwork\\\":{\\\"originalFlowcaseBrick\\\":{\\\"width\\\":3200,\\\"height\\\":600,\\\"url\\\":\\\"https://is4-ssl.mzstatic.com/image/thumb/Features7/v4/84/60/72/84607202-a846-5ad6-9dbd-bb83d2539c59/source/{w}x{h}{c}.{f}\\\",\\\"bgColor\\\":\\\"1c2731\\\",\\\"textColor1\\\":\\\"ffde00\\\",\\\"textColor2\\\":\\\"c6cbcf\\\",\\\"textColor3\\\":\\\"d1b90a\\\",\\\"textColor4\\\":\\\"a4aaaf\\\"},\\\"brandLogo\\\":{\\\"width\\\":1080,\\\"height\\\":1080,\\\"url\\\":\\\"https://is3-ssl.mzstatic.com/image/thumb/Features124/v4/c8/82/38/c8823852-1841-665e-c2f5-bf413328a68a/source/{w}x{h}{c}.{f}\\\",\\\"bgColor\\\":\\\"000000\\\",\\\"textColor1\\\":\\\"f2f2f2\\\",\\\"textColor2\\\":\\\"e5e5e5\\\",\\\"textColor3\\\":\\\"c1c1c1\\\",\\\"textColor4\\\":\\\"b7b7b7\\\"}},\\\"isDeliveredInIOSAppForWatchOS\\\":true,\\\"bundleId\\\":\\\"com.wang.accouting\\\",\\\"hasInAppPurchases\\\":true,\\\"isAppleWatchSupported\\\":true,\\\"isStandaloneForWatchOS\\\":false,\\\"circularArtwork\\\":{\\\"width\\\":1024,\\\"height\\\":1024,\\\"url\\\":\\\"https://is4-ssl.mzstatic.com/image/thumb/Purple126/v4/d8/ac/7f/d8ac7fd0-14c2-3eb8-e898-1db7d8d0aae8/AppIcon-1x_U007emarketing-0-9-85-220.png/{w}x{h}{c}.{f}\\\",\\\"bgColor\\\":\\\"133043\\\",\\\"textColor1\\\":\\\"bbff60\\\",\\\"textColor2\\\":\\\"08daf5\\\",\\\"textColor3\\\":\\\"99d55a\\\",\\\"textColor4\\\":\\\"0ab8d1\\\"},\\\"requiresGameController\\\":false,\\\"isHiddenFromSpringboard\\\":false,\\\"isStandaloneWithCompanionForWatchOS\\\":false,\\\"offers\\\":[{\\\"buyParams\\\":\\\"productType=C\\u0026price=9000\\u0026salableAdamId=883179733\\u0026pricingParameters=STDQ\\u0026pg=default\\u0026appExtVrsId=847831753\\\",\\\"type\\\":\\\"buy\\\",\\\"priceFormatted\\\":\\\"₹ 9\\\",\\\"price\\\":9,\\\"currencyCode\\\":\\\"INR\\\",\\\"assets\\\":[{\\\"flavor\\\":\\\"iosSoftware\\\",\\\"size\\\":15551488}]},{\\\"buyParams\\\":\\\"productType=C\\u0026price=0\\u0026salableAdamId=883179733\\u0026pricingParameters=SWUPD\\u0026pg=default\\u0026appExtVrsId=847831753\\\",\\\"type\\\":\\\"update\\\",\\\"priceFormatted\\\":\\\"₹ 0\\\",\\\"price\\\":0,\\\"currencyCode\\\":\\\"INR\\\",\\\"assets\\\":[{\\\"flavor\\\":\\\"iosSoftware\\\",\\\"size\\\":15551488}]}]}},\\\"watchBundleId\\\":\\\"com.wang.accouting.watchkitapp\\\",\\\"userRating\\\":{\\\"value\\\":3.9,\\\"ratingCount\\\":19,\\\"ratingCountList\\\":[5,0,0,1,13],\\\"ariaLabelForRatings\\\":\\\"3.9 stars\\\"},\\\"contentRatingsBySystem\\\":{\\\"appsApple\\\":{\\\"name\\\":\\\"4+\\\",\\\"value\\\":100,\\\"rank\\\":1}},\\\"name\\\":\\\"Money - Track easily\\\",\\\"supportsArcade\\\":false,\\\"genreDisplayName\\\":\\\"Finance\\\",\\\"isFirstPartyHideableApp\\\":false},\\\"relationships\\\":{\\\"developer\\\":{\\\"href\\\":\\\"/v1/catalog/in/apps/883179733/developer?l=en-GB\\\",\\\"data\\\":[{\\\"id\\\":\\\"706772908\\\",\\\"type\\\":\\\"developers\\\",\\\"href\\\":\\\"/v1/catalog/in/developers/706772908?l=en-GB\\\"}]},\\\"genres\\\":{\\\"href\\\":\\\"/v1/catalog/in/apps/883179733/genres?l=en-GB\\\",\\\"data\\\":[{\\\"id\\\":\\\"6015\\\",\\\"type\\\":\\\"genres\\\",\\\"href\\\":\\\"/v1/catalog/in/genres/6015?l=en-GB\\\",\\\"attributes\\\":{\\\"parentId\\\":\\\"36\\\",\\\"parentName\\\":\\\"App Store\\\",\\\"name\\\":\\\"Finance\\\",\\\"url\\\":\\\"https://itunes.apple.com/in/genre/id6015\\\"}},{\\\"id\\\":\\\"6002\\\",\\\"type\\\":\\\"genres\\\",\\\"href\\\":\\\"/v1/catalog/in/genres/6002?l=en-GB\\\",\\\"attributes\\\":{\\\"parentId\\\":\\\"36\\\",\\\"parentName\\\":\\\"App Store\\\",\\\"name\\\":\\\"Utilities\\\",\\\"url\\\":\\\"https://itunes.apple.com/in/genre/id6002\\\"}}]}}},{\\\"id\\\":\\\"564730202\\\",\\\"type\\\":\\\"apps\\\",\\\"href\\\":\\\"/v1/catalog/in/apps/564730202?l=en-GB\\\",\\\"attributes\\\":{\\\"artistName\\\":\\\"Realbyte Inc.\\\",\\\"url\\\":\\\"https://apps.apple.com/in/app/money-manager-pc-editing/id564730202\\\",\\\"isIOSBinaryMacOSCompatible\\\":false,\\\"reviewsRestricted\\\":false,\\\"deviceFamilies\\\":[\\\"iphone\\\",\\\"ipad\\\",\\\"ipod\\\"],\\\"chartPositions\\\":{\\\"appStore\\\":{\\\"position\\\":2,\\\"genreName\\\":\\\"Finance\\\",\\\"genre\\\":6015,\\\"chart\\\":\\\"top-paid\\\",\\\"chartLink\\\":\\\"https://apps.apple.com/in/charts/iphone/finance-apps/6015\\\"}},\\\"isPreorder\\\":false,\\\"platformAttributes\\\":{\\\"ios\\\":{\\\"requires32bit\\\":false,\\\"artwork\\\":{\\\"width\\\":1024,\\\"height\\\":1024,\\\"url\\\":\\\"https://is5-ssl.mzstatic.com/image/thumb/Purple122/v4/e5/7e/0f/e57e0f02-0166-b26c-ffe6-b059e45d668f/AppIcon-0-0-1x_U007emarketing-0-0-0-8-0-0-sRGB-0-0-0-GLES2_U002c0-512MB-85-220-0-0.png/{w}x{h}{c}.{f}\\\",\\\"bgColor\\\":\\\"bf2b2a\\\",\\\"textColor1\\\":\\\"ffffff\\\",\\\"textColor2\\\":\\\"fee3e1\\\",\\\"textColor3\\\":\\\"f2d4d4\\\",\\\"textColor4\\\":\\\"f1bfbd\\\"},\\\"hasMessagesExtension\\\":false,\\\"releaseDate\\\":\\\"2012-10-04\\\",\\\"hasSafariExtension\\\":false,\\\"minimumMacOSVersion\\\":\\\"11.0\\\",\\\"editorialArtwork\\\":{\\\"brandLogo\\\":{\\\"width\\\":1080,\\\"height\\\":1080,\\\"url\\\":\\\"https://is3-ssl.mzstatic.com/image/thumb/Features124/v4/c8/82/38/c8823852-1841-665e-c2f5-bf413328a68a/source/{w}x{h}{c}.{f}\\\",\\\"bgColor\\\":\\\"000000\\\",\\\"textColor1\\\":\\\"f2f2f2\\\",\\\"textColor2\\\":\\\"e5e5e5\\\",\\\"textColor3\\\":\\\"c1c1c1\\\",\\\"textColor4\\\":\\\"b7b7b7\\\"}},\\\"subtitle\\\":\\\"Money Manager Expense \\u0026 Budget\\\",\\\"isDeliveredInIOSAppForWatchOS\\\":false,\\\"bundleId\\\":\\\"com.realbyteapps.MoneyManager\\\",\\\"hasInAppPurchases\\\":true,\\\"isAppleWatchSupported\\\":false,\\\"isStandaloneForWatchOS\\\":false,\\\"requiresGameController\\\":false,\\\"isHiddenFromSpringboard\\\":false,\\\"isStandaloneWithCompanionForWatchOS\\\":false,\\\"offers\\\":[{\\\"buyParams\\\":\\\"productType=C\\u0026price=549000\\u0026salableAdamId=564730202\\u0026pricingParameters=STDQ\\u0026pg=default\\u0026appExtVrsId=851518504\\\",\\\"type\\\":\\\"buy\\\",\\\"priceFormatted\\\":\\\"₹ 549\\\",\\\"price\\\":549,\\\"currencyCode\\\":\\\"INR\\\",\\\"assets\\\":[{\\\"flavor\\\":\\\"iosSoftware\\\",\\\"size\\\":49269760}]},{\\\"buyParams\\\":\\\"productType=C\\u0026price=0\\u0026salableAdamId=564730202\\u0026pricingParameters=SWUPD\\u0026pg=default\\u0026appExtVrsId=851518504\\\",\\\"type\\\":\\\"update\\\",\\\"priceFormatted\\\":\\\"₹ 0\\\",\\\"price\\\":0,\\\"currencyCode\\\":\\\"INR\\\",\\\"assets\\\":[{\\\"flavor\\\":\\\"iosSoftware\\\",\\\"size\\\":49269760}]}]}},\\\"userRating\\\":{\\\"value\\\":4.7,\\\"ratingCount\\\":1246,\\\"ratingCountList\\\":[23,8,28,148,1039],\\\"ariaLabelForRatings\\\":\\\"4.7 stars\\\"},\\\"contentRatingsBySystem\\\":{\\\"appsApple\\\":{\\\"name\\\":\\\"4+\\\",\\\"value\\\":100,\\\"rank\\\":1}},\\\"name\\\":\\\"Money Manager (+PC Editing)\\\",\\\"supportsArcade\\\":false,\\\"genreDisplayName\\\":\\\"Finance\\\",\\\"isFirstPartyHideableApp\\\":false},\\\"relationships\\\":{\\\"developer\\\":{\\\"href\\\":\\\"/v1/catalog/in/apps/564730202/developer?l=en-GB\\\",\\\"data\\\":[{\\\"id\\\":\\\"560481813\\\",\\\"type\\\":\\\"developers\\\",\\\"href\\\":\\\"/v1/catalog/in/developers/560481813?l=en-GB\\\"}]},\\\"genres\\\":{\\\"href\\\":\\\"/v1/catalog/in/apps/564730202/genres?l=en-GB\\\",\\\"data\\\":[{\\\"id\\\":\\\"6015\\\",\\\"type\\\":\\\"genres\\\",\\\"href\\\":\\\"/v1/catalog/in/genres/6015?l=en-GB\\\",\\\"attributes\\\":{\\\"parentId\\\":\\\"36\\\",\\\"parentName\\\":\\\"App Store\\\",\\\"name\\\":\\\"Finance\\\",\\\"url\\\":\\\"https://itunes.apple.com/in/genre/id6015\\\"}},{\\\"id\\\":\\\"6012\\\",\\\"type\\\":\\\"genres\\\",\\\"href\\\":\\\"/v1/catalog/in/genres/6012?l=en-GB\\\",\\\"attributes\\\":{\\\"parentId\\\":\\\"36\\\",\\\"parentName\\\":\\\"App Store\\\",\\\"name\\\":\\\"Lifestyle\\\",\\\"url\\\":\\\"https://itunes.apple.com/in/genre/id6012\\\"}}]}}},{\\\"id\\\":\\\"1517829258\\\",\\\"type\\\":\\\"apps\\\",\\\"href\\\":\\\"/v1/catalog/in/apps/1517829258?l=en-GB\\\",\\\"attributes\\\":{\\\"minimumWatchOSVersion\\\":\\\"6.2\\\",\\\"artistName\\\":\\\"Andrea Dellai\\\",\\\"url\\\":\\\"https://apps.apple.com/in/app/purchases/id1517829258\\\",\\\"isIOSBinaryMacOSCompatible\\\":false,\\\"reviewsRestricted\\\":false,\\\"deviceFamilies\\\":[\\\"mac\\\",\\\"watch\\\",\\\"iphone\\\",\\\"ipad\\\",\\\"ipod\\\"],\\\"chartPositions\\\":{\\\"appStore\\\":{\\\"position\\\":3,\\\"genreName\\\":\\\"Finance\\\",\\\"genre\\\":6015,\\\"chart\\\":\\\"top-paid\\\",\\\"chartLink\\\":\\\"https://apps.apple.com/in/charts/iphone/finance-apps/6015\\\"}},\\\"isPreorder\\\":false,\\\"platformAttributes\\\":{\\\"ios\\\":{\\\"requires32bit\\\":false,\\\"artwork\\\":{\\\"width\\\":1024,\\\"height\\\":1024,\\\"url\\\":\\\"https://is4-ssl.mzstatic.com/image/thumb/Purple126/v4/4d/6a/d8/4d6ad8ea-999b-3c0f-5729-b42b6a2d8ef6/AppIcon-0-1x_U007emarketing-0-7-0-sRGB-85-220.png/{w}x{h}{c}.{f}\\\",\\\"bgColor\\\":\\\"e1e3e6\\\",\\\"textColor1\\\":\\\"070605\\\",\\\"textColor2\\\":\\\"1b3200\\\",\\\"textColor3\\\":\\\"323232\\\",\\\"textColor4\\\":\\\"43552e\\\"},\\\"hasMessagesExtension\\\":false,\\\"releaseDate\\\":\\\"2020-07-21\\\",\\\"hasSafariExtension\\\":false,\\\"editorialArtwork\\\":{\\\"brandLogo\\\":{\\\"width\\\":1080,\\\"height\\\":1080,\\\"url\\\":\\\"https://is3-ssl.mzstatic.com/image/thumb/Features124/v4/c8/82/38/c8823852-1841-665e-c2f5-bf413328a68a/source/{w}x{h}{c}.{f}\\\",\\\"bgColor\\\":\\\"000000\\\",\\\"textColor1\\\":\\\"f2f2f2\\\",\\\"textColor2\\\":\\\"e5e5e5\\\",\\\"textColor3\\\":\\\"c1c1c1\\\",\\\"textColor4\\\":\\\"b7b7b7\\\"}},\\\"subtitle\\\":\\\"Personal expense management\\\",\\\"isDeliveredInIOSAppForWatchOS\\\":true,\\\"bundleId\\\":\\\"com.andreadellai.MieSpeseSwift\\\",\\\"hasInAppPurchases\\\":true,\\\"isAppleWatchSupported\\\":true,\\\"isStandaloneForWatchOS\\\":false,\\\"circularArtwork\\\":{\\\"width\\\":1024,\\\"height\\\":1024,\\\"url\\\":\\\"https://is3-ssl.mzstatic.com/image/thumb/Purple126/v4/04/5e/39/045e3952-8bc0-9c88-bc16-6f2ae3c7cd98/AppIcon-1x_U007emarketing-0-13-85-220.png/{w}x{h}{c}.{f}\\\",\\\"bgColor\\\":\\\"525252\\\",\\\"textColor1\\\":\\\"ffffff\\\",\\\"textColor2\\\":\\\"97e857\\\",\\\"textColor3\\\":\\\"dcdcdc\\\",\\\"textColor4\\\":\\\"8aca56\\\"},\\\"requiresGameController\\\":false,\\\"isHiddenFromSpringboard\\\":false,\\\"isStandaloneWithCompanionForWatchOS\\\":true,\\\"offers\\\":[{\\\"buyParams\\\":\\\"productType=C\\u0026price=29000\\u0026salableAdamId=1517829258\\u0026pricingParameters=STDQ\\u0026pg=default\\u0026appExtVrsId=845905931\\\",\\\"type\\\":\\\"buy\\\",\\\"priceFormatted\\\":\\\"₹ 29\\\",\\\"price\\\":29,\\\"currencyCode\\\":\\\"INR\\\",\\\"assets\\\":[{\\\"flavor\\\":\\\"iosSoftware\\\",\\\"size\\\":94451712}]},{\\\"buyParams\\\":\\\"productType=C\\u0026price=0\\u0026salableAdamId=1517829258\\u0026pricingParameters=SWUPD\\u0026pg=default\\u0026appExtVrsId=845905931\\\",\\\"type\\\":\\\"update\\\",\\\"priceFormatted\\\":\\\"₹ 0\\\",\\\"price\\\":0,\\\"currencyCode\\\":\\\"INR\\\",\\\"assets\\\":[{\\\"flavor\\\":\\\"iosSoftware\\\",\\\"size\\\":94451712}]}]}},\\\"watchBundleId\\\":\\\"com.andreadellai.MieSpeseSwift.watchkitapp\\\",\\\"userRating\\\":{\\\"value\\\":4,\\\"ratingCount\\\":25,\\\"ratingCountList\\\":[1,2,3,8,11],\\\"ariaLabelForRatings\\\":\\\"4.0 stars\\\"},\\\"contentRatingsBySystem\\\":{\\\"appsApple\\\":{\\\"name\\\":\\\"4+\\\",\\\"value\\\":100,\\\"rank\\\":1}},\\\"name\\\":\\\"Purchases\\\",\\\"supportsArcade\\\":false,\\\"genreDisplayName\\\":\\\"Finance\\\",\\\"isFirstPartyHideableApp\\\":false},\\\"relationships\\\":{\\\"developer\\\":{\\\"href\\\":\\\"/v1/catalog/in/apps/1517829258/developer?l=en-GB\\\",\\\"data\\\":[{\\\"id\\\":\\\"1489702085\\\",\\\"type\\\":\\\"developers\\\",\\\"href\\\":\\\"/v1/catalog/in/developers/1489702085?l=en-GB\\\"}]},\\\"genres\\\":{\\\"href\\\":\\\"/v1/catalog/in/apps/1517829258/genres?l=en-GB\\\",\\\"data\\\":[{\\\"id\\\":\\\"6015\\\",\\\"type\\\":\\\"genres\\\",\\\"href\\\":\\\"/v1/catalog/in/genres/6015?l=en-GB\\\",\\\"attributes\\\":{\\\"parentId\\\":\\\"36\\\",\\\"parentName\\\":\\\"App Store\\\",\\\"name\\\":\\\"Finance\\\",\\\"url\\\":\\\"https://itunes.apple.com/in/genre/id6015\\\"}},{\\\"id\\\":\\\"6007\\\",\\\"type\\\":\\\"genres\\\",\\\"href\\\":\\\"/v1/catalog/in/genres/6007?l=en-GB\\\",\\\"attributes\\\":{\\\"parentId\\\":\\\"36\\\",\\\"parentName\\\":\\\"App Store\\\",\\\"name\\\":\\\"Productivity\\\",\\\"url\\\":\\\"https://itunes.apple.com/in/genre/id6007\\\"}}]}}},{\\\"id\\\":\\\"961048437\\\",\\\"type\\\":\\\"apps\\\",\\\"href\\\":\\\"/v1/catalog/in/apps/961048437?l=en-GB\\\",\\\"attributes\\\":{\\\"artistName\\\":\\\"Mobion\\\",\\\"url\\\":\\\"https://apps.apple.com/in/app/income-ok-income-expenses/id961048437\\\",\\\"isIOSBinaryMacOSCompatible\\\":true,\\\"reviewsRestricted\\\":false,\\\"deviceFamilies\\\":[\\\"iphone\\\",\\\"ipod\\\"],\\\"chartPositions\\\":{\\\"appStore\\\":{\\\"position\\\":4,\\\"genreName\\\":\\\"Finance\\\",\\\"genre\\\":6015,\\\"chart\\\":\\\"top-paid\\\",\\\"chartLink\\\":\\\"https://apps.apple.com/in/charts/iphone/finance-apps/6015\\\"}},\\\"isPreorder\\\":false,\\\"platformAttributes\\\":{\\\"ios\\\":{\\\"requires32bit\\\":false,\\\"artwork\\\":{\\\"width\\\":1024,\\\"height\\\":1024,\\\"url\\\":\\\"https://is4-ssl.mzstatic.com/image/thumb/Purple113/v4/99/11/f8/9911f887-e238-59b3-22a9-65d2f599691b/AppIcon-0-1x_U007emarketing-0-0-GLES2_U002c0-512MB-sRGB-0-0-0-85-220-0-0-0-4.png/{w}x{h}{c}.{f}\\\",\\\"bgColor\\\":\\\"545274\\\",\\\"textColor1\\\":\\\"ffffff\\\",\\\"textColor2\\\":\\\"98e448\\\",\\\"textColor3\\\":\\\"dcdce3\\\",\\\"textColor4\\\":\\\"8ac751\\\"},\\\"hasMessagesExtension\\\":false,\\\"releaseDate\\\":\\\"2015-02-04\\\",\\\"hasSafariExtension\\\":false,\\\"minimumMacOSVersion\\\":\\\"11.0\\\",\\\"editorialArtwork\\\":{\\\"brandLogo\\\":{\\\"width\\\":1080,\\\"height\\\":1080,\\\"url\\\":\\\"https://is3-ssl.mzstatic.com/image/thumb/Features124/v4/c8/82/38/c8823852-1841-665e-c2f5-bf413328a68a/source/{w}x{h}{c}.{f}\\\",\\\"bgColor\\\":\\\"000000\\\",\\\"textColor1\\\":\\\"f2f2f2\\\",\\\"textColor2\\\":\\\"e5e5e5\\\",\\\"textColor3\\\":\\\"c1c1c1\\\",\\\"textColor4\\\":\\\"b7b7b7\\\"}},\\\"subtitle\\\":\\\"Personal finance\\\",\\\"isDeliveredInIOSAppForWatchOS\\\":false,\\\"bundleId\\\":\\\"biz.mobion.IncomeOK\\\",\\\"hasInAppPurchases\\\":false,\\\"isAppleWatchSupported\\\":false,\\\"isStandaloneForWatchOS\\\":false,\\\"requiresGameController\\\":false,\\\"isHiddenFromSpringboard\\\":false,\\\"isStandaloneWithCompanionForWatchOS\\\":false,\\\"offers\\\":[{\\\"buyParams\\\":\\\"productType=C\\u0026price=179000\\u0026salableAdamId=961048437\\u0026pricingParameters=STDQ\\u0026pg=default\\u0026appExtVrsId=831441944\\\",\\\"type\\\":\\\"buy\\\",\\\"priceFormatted\\\":\\\"₹ 179\\\",\\\"price\\\":179,\\\"currencyCode\\\":\\\"INR\\\",\\\"assets\\\":[{\\\"flavor\\\":\\\"iosSoftware\\\",\\\"size\\\":14594048}]},{\\\"buyParams\\\":\\\"productType=C\\u0026price=0\\u0026salableAdamId=961048437\\u0026pricingParameters=SWUPD\\u0026pg=default\\u0026appExtVrsId=831441944\\\",\\\"type\\\":\\\"update\\\",\\\"priceFormatted\\\":\\\"₹ 0\\\",\\\"price\\\":0,\\\"currencyCode\\\":\\\"INR\\\",\\\"assets\\\":[{\\\"flavor\\\":\\\"iosSoftware\\\",\\\"size\\\":14594048}]}]}},\\\"userRating\\\":{\\\"value\\\":4.5,\\\"ratingCount\\\":122,\\\"ratingCountList\\\":[3,1,11,25,82],\\\"ariaLabelForRatings\\\":\\\"4.5 stars\\\"},\\\"contentRatingsBySystem\\\":{\\\"appsApple\\\":{\\\"name\\\":\\\"4+\\\",\\\"value\\\":100,\\\"rank\\\":1}},\\\"name\\\":\\\"Income OK - income \\u0026 expenses\\\",\\\"supportsArcade\\\":false,\\\"genreDisplayName\\\":\\\"Finance\\\",\\\"isFirstPartyHideableApp\\\":false},\\\"relationships\\\":{\\\"developer\\\":{\\\"href\\\":\\\"/v1/catalog/in/apps/961048437/developer?l=en-GB\\\",\\\"data\\\":[{\\\"id\\\":\\\"433262741\\\",\\\"type\\\":\\\"developers\\\",\\\"href\\\":\\\"/v1/catalog/in/developers/433262741?l=en-GB\\\"}]},\\\"genres\\\":{\\\"href\\\":\\\"/v1/catalog/in/apps/961048437/genres?l=en-GB\\\",\\\"data\\\":[{\\\"id\\\":\\\"6015\\\",\\\"type\\\":\\\"genres\\\",\\\"href\\\":\\\"/v1/catalog/in/genres/6015?l=en-GB\\\",\\\"attributes\\\":{\\\"parentId\\\":\\\"36\\\",\\\"parentName\\\":\\\"App Store\\\",\\\"name\\\":\\\"Finance\\\",\\\"url\\\":\\\"https://itunes.apple.com/in/genre/id6015\\\"}}]}}},{\\\"id\\\":\\\"525997288\\\",\\\"type\\\":\\\"apps\\\",\\\"href\\\":\\\"/v1/catalog/in/apps/525997288?l=en-GB\\\",\\\"attributes\\\":{\\\"artistName\\\":\\\"schoettler Software GmbH\\\",\\\"url\\\":\\\"https://apps.apple.com/in/app/calctape-paper-tape-calculator/id525997288\\\",\\\"isIOSBinaryMacOSCompatible\\\":true,\\\"reviewsRestricted\\\":false,\\\"deviceFamilies\\\":[\\\"iphone\\\",\\\"ipad\\\",\\\"ipod\\\"],\\\"chartPositions\\\":{\\\"appStore\\\":{\\\"position\\\":5,\\\"genreName\\\":\\\"Finance\\\",\\\"genre\\\":6015,\\\"chart\\\":\\\"top-paid\\\",\\\"chartLink\\\":\\\"https://apps.apple.com/in/charts/iphone/finance-apps/6015\\\"}},\\\"isPreorder\\\":false,\\\"platformAttributes\\\":{\\\"ios\\\":{\\\"requires32bit\\\":false,\\\"artwork\\\":{\\\"width\\\":1024,\\\"height\\\":1024,\\\"url\\\":\\\"https://is5-ssl.mzstatic.com/image/thumb/Purple112/v4/d0/63/8f/d0638f4f-7d09-ef8a-532f-cf7dcbfaa887/AppIcon-0-0-1x_U007emarketing-0-0-0-9-0-0-sRGB-0-0-0-GLES2_U002c0-512MB-85-220-0-0.png/{w}x{h}{c}.{f}\\\",\\\"bgColor\\\":\\\"083461\\\",\\\"textColor1\\\":\\\"ffffff\\\",\\\"textColor2\\\":\\\"90b0d3\\\",\\\"textColor3\\\":\\\"cdd6df\\\",\\\"textColor4\\\":\\\"7597bc\\\"},\\\"hasMessagesExtension\\\":false,\\\"releaseDate\\\":\\\"2012-05-16\\\",\\\"hasSafariExtension\\\":false,\\\"minimumMacOSVersion\\\":\\\"11.0\\\",\\\"editorialArtwork\\\":{\\\"brandLogo\\\":{\\\"width\\\":1080,\\\"height\\\":1080,\\\"url\\\":\\\"https://is3-ssl.mzstatic.com/image/thumb/Features124/v4/c8/82/38/c8823852-1841-665e-c2f5-bf413328a68a/source/{w}x{h}{c}.{f}\\\",\\\"bgColor\\\":\\\"000000\\\",\\\"textColor1\\\":\\\"f2f2f2\\\",\\\"textColor2\\\":\\\"e5e5e5\\\",\\\"textColor3\\\":\\\"c1c1c1\\\",\\\"textColor4\\\":\\\"b7b7b7\\\"}},\\\"subtitle\\\":\\\"Calc thought from scratch\\\",\\\"isDeliveredInIOSAppForWatchOS\\\":false,\\\"bundleId\\\":\\\"de.sfr.ipad.calctape\\\",\\\"hasInAppPurchases\\\":false,\\\"isAppleWatchSupported\\\":false,\\\"isStandaloneForWatchOS\\\":false,\\\"requiresGameController\\\":false,\\\"isHiddenFromSpringboard\\\":false,\\\"isStandaloneWithCompanionForWatchOS\\\":false,\\\"offers\\\":[{\\\"buyParams\\\":\\\"productType=C\\u0026price=269000\\u0026salableAdamId=525997288\\u0026pricingParameters=STDQ\\u0026pg=default\\u0026appExtVrsId=850249628\\\",\\\"type\\\":\\\"buy\\\",\\\"priceFormatted\\\":\\\"₹ 269\\\",\\\"price\\\":269,\\\"currencyCode\\\":\\\"INR\\\",\\\"assets\\\":[{\\\"flavor\\\":\\\"iosSoftware\\\",\\\"size\\\":3876864}]},{\\\"buyParams\\\":\\\"productType=C\\u0026price=0\\u0026salableAdamId=525997288\\u0026pricingParameters=SWUPD\\u0026pg=default\\u0026appExtVrsId=850249628\\\",\\\"type\\\":\\\"update\\\",\\\"priceFormatted\\\":\\\"₹ 0\\\",\\\"price\\\":0,\\\"currencyCode\\\":\\\"INR\\\",\\\"assets\\\":[{\\\"flavor\\\":\\\"iosSoftware\\\",\\\"size\\\":3876864}]}]}},\\\"userRating\\\":{\\\"value\\\":3.4,\\\"ratingCount\\\":13,\\\"ratingCountList\\\":[3,2,1,1,6],\\\"ariaLabelForRatings\\\":\\\"3.4 stars\\\"},\\\"contentRatingsBySystem\\\":{\\\"appsApple\\\":{\\\"name\\\":\\\"4+\\\",\\\"value\\\":100,\\\"rank\\\":1}},\\\"name\\\":\\\"CalcTape Paper Tape Calculator\\\",\\\"supportsArcade\\\":false,\\\"genreDisplayName\\\":\\\"Finance\\\",\\\"isFirstPartyHideableApp\\\":false},\\\"relationships\\\":{\\\"developer\\\":{\\\"href\\\":\\\"/v1/catalog/in/apps/525997288/developer?l=en-GB\\\",\\\"data\\\":[{\\\"id\\\":\\\"299986561\\\",\\\"type\\\":\\\"developers\\\",\\\"href\\\":\\\"/v1/catalog/in/developers/299986561?l=en-GB\\\"}]},\\\"genres\\\":{\\\"href\\\":\\\"/v1/catalog/in/apps/525997288/genres?l=en-GB\\\",\\\"data\\\":[{\\\"id\\\":\\\"6015\\\",\\\"type\\\":\\\"genres\\\",\\\"href\\\":\\\"/v1/catalog/in/genres/6015?l=en-GB\\\",\\\"attributes\\\":{\\\"parentId\\\":\\\"36\\\",\\\"parentName\\\":\\\"App Store\\\",\\\"name\\\":\\\"Finance\\\",\\\"url\\\":\\\"https://itunes.apple.com/in/genre/id6015\\\"}},{\\\"id\\\":\\\"6007\\\",\\\"type\\\":\\\"genres\\\",\\\"href\\\":\\\"/v1/catalog/in/genres/6007?l=en-GB\\\",\\\"attributes\\\":{\\\"parentId\\\":\\\"36\\\",\\\"parentName\\\":\\\"App Store\\\",\\\"name\\\":\\\"Productivity\\\",\\\"url\\\":\\\"https://itunes.apple.com/in/genre/id6007\\\"}}]}}},{\\\"id\\\":\\\"918609651\\\",\\\"type\\\":\\\"apps\\\",\\\"href\\\":\\\"/v1/catalog/in/apps/918609651?l=en-GB\\\",\\\"attributes\\\":{\\\"minimumWatchOSVersion\\\":\\\"2.0\\\",\\\"artistName\\\":\\\"iBear LLC\\\",\\\"firstVersionSupportingInAppPurchaseApi\\\":\\\"2.4\\\",\\\"url\\\":\\\"https://apps.apple.com/in/app/money-pro-personal-finance-ar/id918609651\\\",\\\"isIOSBinaryMacOSCompatible\\\":false,\\\"reviewsRestricted\\\":false,\\\"deviceFamilies\\\":[\\\"watch\\\",\\\"iphone\\\",\\\"ipad\\\",\\\"ipod\\\"],\\\"chartPositions\\\":{\\\"appStore\\\":{\\\"position\\\":6,\\\"genreName\\\":\\\"Finance\\\",\\\"genre\\\":6015,\\\"chart\\\":\\\"top-paid\\\",\\\"chartLink\\\":\\\"https://apps.apple.com/in/charts/iphone/finance-apps/6015\\\"}},\\\"isPreorder\\\":false,\\\"platformAttributes\\\":{\\\"ios\\\":{\\\"requires32bit\\\":false,\\\"artwork\\\":{\\\"width\\\":1024,\\\"height\\\":1024,\\\"url\\\":\\\"https://is4-ssl.mzstatic.com/image/thumb/Purple122/v4/1e/e7/e3/1ee7e3f8-9c77-10a4-7658-5948c82345a7/AppIcon-0-0-1x_U007emarketing-0-0-0-7-0-0-sRGB-0-0-0-GLES2_U002c0-512MB-85-220-0-0.png/{w}x{h}{c}.{f}\\\",\\\"bgColor\\\":\\\"35555d\\\",\\\"textColor1\\\":\\\"fecb01\\\",\\\"textColor2\\\":\\\"eac617\\\",\\\"textColor3\\\":\\\"d5b413\\\",\\\"textColor4\\\":\\\"c6af25\\\"},\\\"hasMessagesExtension\\\":false,\\\"releaseDate\\\":\\\"2014-10-22\\\",\\\"hasSafariExtension\\\":false,\\\"minimumMacOSVersion\\\":\\\"11.0\\\",\\\"editorialArtwork\\\":{\\\"brandLogo\\\":{\\\"width\\\":1080,\\\"height\\\":1080,\\\"url\\\":\\\"https://is3-ssl.mzstatic.com/image/thumb/Features124/v4/c8/82/38/c8823852-1841-665e-c2f5-bf413328a68a/source/{w}x{h}{c}.{f}\\\",\\\"bgColor\\\":\\\"000000\\\",\\\"textColor1\\\":\\\"f2f2f2\\\",\\\"textColor2\\\":\\\"e5e5e5\\\",\\\"textColor3\\\":\\\"c1c1c1\\\",\\\"textColor4\\\":\\\"b7b7b7\\\"}},\\\"subtitle\\\":\\\"Home Budget \\u0026 Expense Tracker\\\",\\\"isDeliveredInIOSAppForWatchOS\\\":true,\\\"bundleId\\\":\\\"com.ibearsoft.moneypro\\\",\\\"hasInAppPurchases\\\":true,\\\"isAppleWatchSupported\\\":true,\\\"isStandaloneForWatchOS\\\":false,\\\"circularArtwork\\\":{\\\"width\\\":1024,\\\"height\\\":1024,\\\"url\\\":\\\"https://is2-ssl.mzstatic.com/image/thumb/Purple112/v4/85/bf/1e/85bf1efe-be78-02ad-b9f9-554803ee1567/AppIcon-1x_U007emarketing-0-9-0-0-85-220.png/{w}x{h}{c}.{f}\\\",\\\"bgColor\\\":\\\"33525b\\\",\\\"textColor1\\\":\\\"fecc00\\\",\\\"textColor2\\\":\\\"f2c80c\\\",\\\"textColor3\\\":\\\"d5b412\\\",\\\"textColor4\\\":\\\"ccb01c\\\"},\\\"requiresGameController\\\":false,\\\"isHiddenFromSpringboard\\\":false,\\\"editorialNotes\\\":{\\\"tagline\\\":\\\"One-stop personal bookkeeping\\\"},\\\"isStandaloneWithCompanionForWatchOS\\\":false,\\\"offers\\\":[{\\\"buyParams\\\":\\\"productType=C\\u0026price=449000\\u0026salableAdamId=918609651\\u0026pricingParameters=STDQ\\u0026pg=default\\u0026appExtVrsId=851445214\\\",\\\"type\\\":\\\"buy\\\",\\\"priceFormatted\\\":\\\"₹ 449\\\",\\\"price\\\":449,\\\"currencyCode\\\":\\\"INR\\\",\\\"assets\\\":[{\\\"flavor\\\":\\\"iosSoftware\\\",\\\"size\\\":294637568}]},{\\\"buyParams\\\":\\\"productType=C\\u0026price=0\\u0026salableAdamId=918609651\\u0026pricingParameters=SWUPD\\u0026pg=default\\u0026appExtVrsId=851445214\\\",\\\"type\\\":\\\"update\\\",\\\"priceFormatted\\\":\\\"₹ 0\\\",\\\"price\\\":0,\\\"currencyCode\\\":\\\"INR\\\",\\\"assets\\\":[{\\\"flavor\\\":\\\"iosSoftware\\\",\\\"size\\\":294637568}]}]}},\\\"watchBundleId\\\":\\\"com.ibearsoft.moneypro.watchkitapp\\\",\\\"userRating\\\":{\\\"value\\\":4.4,\\\"ratingCount\\\":141,\\\"ratingCountList\\\":[9,0,9,25,98],\\\"ariaLabelForRatings\\\":\\\"4.4 stars\\\"},\\\"contentRatingsBySystem\\\":{\\\"appsApple\\\":{\\\"name\\\":\\\"4+\\\",\\\"value\\\":100,\\\"rank\\\":1}},\\\"name\\\":\\\"Money Pro: Personal Finance AR\\\",\\\"supportsArcade\\\":false,\\\"genreDisplayName\\\":\\\"Finance\\\",\\\"isFirstPartyHideableApp\\\":false},\\\"relationships\\\":{\\\"developer\\\":{\\\"href\\\":\\\"/v1/catalog/in/apps/918609651/developer?l=en-GB\\\",\\\"data\\\":[{\\\"id\\\":\\\"347886453\\\",\\\"type\\\":\\\"developers\\\",\\\"href\\\":\\\"/v1/catalog/in/developers/347886453?l=en-GB\\\"}]},\\\"genres\\\":{\\\"href\\\":\\\"/v1/catalog/in/apps/918609651/genres?l=en-GB\\\",\\\"data\\\":[{\\\"id\\\":\\\"6015\\\",\\\"type\\\":\\\"genres\\\",\\\"href\\\":\\\"/v1/catalog/in/genres/6015?l=en-GB\\\",\\\"attributes\\\":{\\\"parentId\\\":\\\"36\\\",\\\"parentName\\\":\\\"App Store\\\",\\\"name\\\":\\\"Finance\\\",\\\"url\\\":\\\"https://itunes.apple.com/in/genre/id6015\\\"}},{\\\"id\\\":\\\"6000\\\",\\\"type\\\":\\\"genres\\\",\\\"href\\\":\\\"/v1/catalog/in/genres/6000?l=en-GB\\\",\\\"attributes\\\":{\\\"parentId\\\":\\\"36\\\",\\\"parentName\\\":\\\"App Store\\\",\\\"name\\\":\\\"Business\\\",\\\"url\\\":\\\"https://itunes.apple.com/in/genre/id6000\\\"}}]}}},{\\\"id\\\":\\\"1418679631\\\",\\\"type\\\":\\\"apps\\\",\\\"href\\\":\\\"/v1/catalog/in/apps/1418679631?l=en-GB\\\",\\\"attributes\\\":{\\\"artistName\\\":\\\"Konstantin Akchurin\\\",\\\"url\\\":\\\"https://apps.apple.com/in/app/money-box-app-plan-purchases/id1418679631\\\",\\\"isIOSBinaryMacOSCompatible\\\":true,\\\"reviewsRestricted\\\":false,\\\"deviceFamilies\\\":[\\\"iphone\\\",\\\"ipod\\\"],\\\"chartPositions\\\":{\\\"appStore\\\":{\\\"position\\\":7,\\\"genreName\\\":\\\"Finance\\\",\\\"genre\\\":6015,\\\"chart\\\":\\\"top-paid\\\",\\\"chartLink\\\":\\\"https://apps.apple.com/in/charts/iphone/finance-apps/6015\\\"}},\\\"isPreorder\\\":false,\\\"platformAttributes\\\":{\\\"ios\\\":{\\\"requires32bit\\\":false,\\\"artwork\\\":{\\\"width\\\":1024,\\\"height\\\":1024,\\\"url\\\":\\\"https://is1-ssl.mzstatic.com/image/thumb/Purple116/v4/2e/c2/4e/2ec24ece-aac0-4a3f-61ec-9a9edd5d86a2/AppIcon-0-0-1x_U007emarketing-0-0-0-7-0-0-sRGB-0-0-0-GLES2_U002c0-512MB-85-220-0-0.png/{w}x{h}{c}.{f}\\\",\\\"bgColor\\\":\\\"ffffff\\\",\\\"textColor1\\\":\\\"160909\\\",\\\"textColor2\\\":\\\"160b0b\\\",\\\"textColor3\\\":\\\"453a3a\\\",\\\"textColor4\\\":\\\"453c3c\\\"},\\\"hasMessagesExtension\\\":false,\\\"releaseDate\\\":\\\"2018-08-06\\\",\\\"hasSafariExtension\\\":false,\\\"minimumMacOSVersion\\\":\\\"11.0\\\",\\\"editorialArtwork\\\":{\\\"brandLogo\\\":{\\\"width\\\":1080,\\\"height\\\":1080,\\\"url\\\":\\\"https://is3-ssl.mzstatic.com/image/thumb/Features124/v4/c8/82/38/c8823852-1841-665e-c2f5-bf413328a68a/source/{w}x{h}{c}.{f}\\\",\\\"bgColor\\\":\\\"000000\\\",\\\"textColor1\\\":\\\"f2f2f2\\\",\\\"textColor2\\\":\\\"e5e5e5\\\",\\\"textColor3\\\":\\\"c1c1c1\\\",\\\"textColor4\\\":\\\"b7b7b7\\\"}},\\\"subtitle\\\":\\\"Create goals, plan your budget\\\",\\\"isDeliveredInIOSAppForWatchOS\\\":false,\\\"bundleId\\\":\\\"Konstantin-Akchurin.coinKeeperApp\\\",\\\"hasInAppPurchases\\\":false,\\\"isAppleWatchSupported\\\":false,\\\"isStandaloneForWatchOS\\\":false,\\\"requiresGameController\\\":false,\\\"isHiddenFromSpringboard\\\":false,\\\"isStandaloneWithCompanionForWatchOS\\\":false,\\\"offers\\\":[{\\\"buyParams\\\":\\\"productType=C\\u0026price=89000\\u0026salableAdamId=1418679631\\u0026pricingParameters=STDQ\\u0026pg=default\\u0026appExtVrsId=847336841\\\",\\\"type\\\":\\\"buy\\\",\\\"priceFormatted\\\":\\\"₹ 89\\\",\\\"price\\\":89,\\\"currencyCode\\\":\\\"INR\\\",\\\"assets\\\":[{\\\"flavor\\\":\\\"iosSoftware\\\",\\\"size\\\":9949184}]},{\\\"buyParams\\\":\\\"productType=C\\u0026price=0\\u0026salableAdamId=1418679631\\u0026pricingParameters=SWUPD\\u0026pg=default\\u0026appExtVrsId=847336841\\\",\\\"type\\\":\\\"update\\\",\\\"priceFormatted\\\":\\\"₹ 0\\\",\\\"price\\\":0,\\\"currencyCode\\\":\\\"INR\\\",\\\"assets\\\":[{\\\"flavor\\\":\\\"iosSoftware\\\",\\\"size\\\":9949184}]}]}},\\\"userRating\\\":{\\\"value\\\":0,\\\"ratingCount\\\":0,\\\"ratingCountList\\\":[0,0,0,0,0],\\\"ariaLabelForRatings\\\":\\\"0 stars\\\"},\\\"contentRatingsBySystem\\\":{\\\"appsApple\\\":{\\\"name\\\":\\\"4+\\\",\\\"value\\\":100,\\\"rank\\\":1}},\\\"name\\\":\\\"Money box App - Plan purchases\\\",\\\"supportsArcade\\\":false,\\\"genreDisplayName\\\":\\\"Finance\\\",\\\"isFirstPartyHideableApp\\\":false},\\\"relationships\\\":{\\\"developer\\\":{\\\"href\\\":\\\"/v1/catalog/in/apps/1418679631/developer?l=en-GB\\\",\\\"data\\\":[{\\\"id\\\":\\\"1280613804\\\",\\\"type\\\":\\\"developers\\\",\\\"href\\\":\\\"/v1/catalog/in/developers/1280613804?l=en-GB\\\"}]},\\\"genres\\\":{\\\"href\\\":\\\"/v1/catalog/in/apps/1418679631/genres?l=en-GB\\\",\\\"data\\\":[{\\\"id\\\":\\\"6015\\\",\\\"type\\\":\\\"genres\\\",\\\"href\\\":\\\"/v1/catalog/in/genres/6015?l=en-GB\\\",\\\"attributes\\\":{\\\"parentId\\\":\\\"36\\\",\\\"parentName\\\":\\\"App Store\\\",\\\"name\\\":\\\"Finance\\\",\\\"url\\\":\\\"https://itunes.apple.com/in/genre/id6015\\\"}},{\\\"id\\\":\\\"6012\\\",\\\"type\\\":\\\"genres\\\",\\\"href\\\":\\\"/v1/catalog/in/genres/6012?l=en-GB\\\",\\\"attributes\\\":{\\\"parentId\\\":\\\"36\\\",\\\"parentName\\\":\\\"App Store\\\",\\\"name\\\":\\\"Lifestyle\\\",\\\"url\\\":\\\"https://itunes.apple.com/in/genre/id6012\\\"}}]}}},{\\\"id\\\":\\\"1611945737\\\",\\\"type\\\":\\\"apps\\\",\\\"href\\\":\\\"/v1/catalog/in/apps/1611945737?l=en-GB\\\",\\\"attributes\\\":{\\\"artistName\\\":\\\"Nirav Zalavadiya\\\",\\\"url\\\":\\\"https://apps.apple.com/in/app/financial-calculator-pro/id1611945737\\\",\\\"isIOSBinaryMacOSCompatible\\\":true,\\\"reviewsRestricted\\\":false,\\\"deviceFamilies\\\":[\\\"iphone\\\",\\\"ipad\\\",\\\"ipod\\\"],\\\"chartPositions\\\":{\\\"appStore\\\":{\\\"position\\\":8,\\\"genreName\\\":\\\"Finance\\\",\\\"genre\\\":6015,\\\"chart\\\":\\\"top-paid\\\",\\\"chartLink\\\":\\\"https://apps.apple.com/in/charts/iphone/finance-apps/6015\\\"}},\\\"isPreorder\\\":false,\\\"platformAttributes\\\":{\\\"ios\\\":{\\\"requires32bit\\\":false,\\\"artwork\\\":{\\\"width\\\":1024,\\\"height\\\":1024,\\\"url\\\":\\\"https://is1-ssl.mzstatic.com/image/thumb/Purple126/v4/9d/65/0a/9d650aa2-817f-4966-67db-1739b1c0ffe1/AppIcon-0-0-1x_U007emarketing-0-0-0-10-0-0-sRGB-0-0-0-GLES2_U002c0-512MB-85-220-0-0.png/{w}x{h}{c}.{f}\\\",\\\"bgColor\\\":\\\"ffffff\\\",\\\"textColor1\\\":\\\"000000\\\",\\\"textColor2\\\":\\\"222222\\\",\\\"textColor3\\\":\\\"333333\\\",\\\"textColor4\\\":\\\"4e4e4e\\\"},\\\"hasMessagesExtension\\\":false,\\\"releaseDate\\\":\\\"2022-02-27\\\",\\\"hasSafariExtension\\\":false,\\\"minimumMacOSVersion\\\":\\\"11.0\\\",\\\"editorialArtwork\\\":{\\\"brandLogo\\\":{\\\"width\\\":1080,\\\"height\\\":1080,\\\"url\\\":\\\"https://is3-ssl.mzstatic.com/image/thumb/Features124/v4/c8/82/38/c8823852-1841-665e-c2f5-bf413328a68a/source/{w}x{h}{c}.{f}\\\",\\\"bgColor\\\":\\\"000000\\\",\\\"textColor1\\\":\\\"f2f2f2\\\",\\\"textColor2\\\":\\\"e5e5e5\\\",\\\"textColor3\\\":\\\"c1c1c1\\\",\\\"textColor4\\\":\\\"b7b7b7\\\"}},\\\"subtitle\\\":\\\"Finance, Stock, SIP, Business\\\",\\\"isDeliveredInIOSAppForWatchOS\\\":false,\\\"bundleId\\\":\\\"com.financial.calculators.pro\\\",\\\"hasInAppPurchases\\\":false,\\\"isAppleWatchSupported\\\":false,\\\"isStandaloneForWatchOS\\\":false,\\\"requiresGameController\\\":false,\\\"isHiddenFromSpringboard\\\":false,\\\"isStandaloneWithCompanionForWatchOS\\\":false,\\\"offers\\\":[{\\\"buyParams\\\":\\\"productType=C\\u0026price=89000\\u0026salableAdamId=1611945737\\u0026pricingParameters=STDQ\\u0026pg=default\\u0026appExtVrsId=847827360\\\",\\\"type\\\":\\\"buy\\\",\\\"priceFormatted\\\":\\\"₹ 89\\\",\\\"price\\\":89,\\\"currencyCode\\\":\\\"INR\\\",\\\"assets\\\":[{\\\"flavor\\\":\\\"iosSoftware\\\",\\\"size\\\":68240384}]},{\\\"buyParams\\\":\\\"productType=C\\u0026price=0\\u0026salableAdamId=1611945737\\u0026pricingParameters=SWUPD\\u0026pg=default\\u0026appExtVrsId=847827360\\\",\\\"type\\\":\\\"update\\\",\\\"priceFormatted\\\":\\\"₹ 0\\\",\\\"price\\\":0,\\\"currencyCode\\\":\\\"INR\\\",\\\"assets\\\":[{\\\"flavor\\\":\\\"iosSoftware\\\",\\\"size\\\":68240384}]}]}},\\\"userRating\\\":{\\\"value\\\":3.9,\\\"ratingCount\\\":7,\\\"ratingCountList\\\":[1,0,1,2,3],\\\"ariaLabelForRatings\\\":\\\"3.9 stars\\\"},\\\"contentRatingsBySystem\\\":{\\\"appsApple\\\":{\\\"name\\\":\\\"4+\\\",\\\"value\\\":100,\\\"rank\\\":1}},\\\"name\\\":\\\"Financial Calculator - Pro\\\",\\\"supportsArcade\\\":false,\\\"genreDisplayName\\\":\\\"Finance\\\",\\\"isFirstPartyHideableApp\\\":false},\\\"relationships\\\":{\\\"developer\\\":{\\\"href\\\":\\\"/v1/catalog/in/apps/1611945737/developer?l=en-GB\\\",\\\"data\\\":[{\\\"id\\\":\\\"1546484584\\\",\\\"type\\\":\\\"developers\\\",\\\"href\\\":\\\"/v1/catalog/in/developers/1546484584?l=en-GB\\\"}]},\\\"genres\\\":{\\\"href\\\":\\\"/v1/catalog/in/apps/1611945737/genres?l=en-GB\\\",\\\"data\\\":[{\\\"id\\\":\\\"6015\\\",\\\"type\\\":\\\"genres\\\",\\\"href\\\":\\\"/v1/catalog/in/genres/6015?l=en-GB\\\",\\\"attributes\\\":{\\\"parentId\\\":\\\"36\\\",\\\"parentName\\\":\\\"App Store\\\",\\\"name\\\":\\\"Finance\\\",\\\"url\\\":\\\"https://itunes.apple.com/in/genre/id6015\\\"}},{\\\"id\\\":\\\"6002\\\",\\\"type\\\":\\\"genres\\\",\\\"href\\\":\\\"/v1/catalog/in/genres/6002?l=en-GB\\\",\\\"attributes\\\":{\\\"parentId\\\":\\\"36\\\",\\\"parentName\\\":\\\"App Store\\\",\\\"name\\\":\\\"Utilities\\\",\\\"url\\\":\\\"https://itunes.apple.com/in/genre/id6002\\\"}}]}}},{\\\"id\\\":\\\"1038175626\\\",\\\"type\\\":\\\"apps\\\",\\\"href\\\":\\\"/v1/catalog/in/apps/1038175626?l=en-GB\\\",\\\"attributes\\\":{\\\"minimumWatchOSVersion\\\":\\\"3.0\\\",\\\"artistName\\\":\\\"Gaivoronski Andrei Vyacheslavovich, IP\\\",\\\"url\\\":\\\"https://apps.apple.com/in/app/walletapp/id1038175626\\\",\\\"isIOSBinaryMacOSCompatible\\\":false,\\\"reviewsRestricted\\\":false,\\\"deviceFamilies\\\":[\\\"watch\\\",\\\"iphone\\\",\\\"ipad\\\",\\\"ipod\\\"],\\\"chartPositions\\\":{\\\"appStore\\\":{\\\"position\\\":9,\\\"genreName\\\":\\\"Finance\\\",\\\"genre\\\":6015,\\\"chart\\\":\\\"top-paid\\\",\\\"chartLink\\\":\\\"https://apps.apple.com/in/charts/iphone/finance-apps/6015\\\"}},\\\"isPreorder\\\":false,\\\"platformAttributes\\\":{\\\"ios\\\":{\\\"requires32bit\\\":false,\\\"artwork\\\":{\\\"width\\\":1024,\\\"height\\\":1024,\\\"url\\\":\\\"https://is1-ssl.mzstatic.com/image/thumb/Purple112/v4/96/9e/41/969e4121-01e8-d33d-e013-a41acbea802d/AppIcon-1x_U007emarketing-0-7-0-85-220.png/{w}x{h}{c}.{f}\\\",\\\"bgColor\\\":\\\"1e1e20\\\",\\\"textColor1\\\":\\\"f6826f\\\",\\\"textColor2\\\":\\\"5ba9e5\\\",\\\"textColor3\\\":\\\"cb6e5f\\\",\\\"textColor4\\\":\\\"4f8dbd\\\"},\\\"hasMessagesExtension\\\":false,\\\"releaseDate\\\":\\\"2015-09-22\\\",\\\"hasSafariExtension\\\":false,\\\"minimumMacOSVersion\\\":\\\"11.0\\\",\\\"editorialArtwork\\\":{\\\"brandLogo\\\":{\\\"width\\\":1080,\\\"height\\\":1080,\\\"url\\\":\\\"https://is3-ssl.mzstatic.com/image/thumb/Features124/v4/c8/82/38/c8823852-1841-665e-c2f5-bf413328a68a/source/{w}x{h}{c}.{f}\\\",\\\"bgColor\\\":\\\"000000\\\",\\\"textColor1\\\":\\\"f2f2f2\\\",\\\"textColor2\\\":\\\"e5e5e5\\\",\\\"textColor3\\\":\\\"c1c1c1\\\",\\\"textColor4\\\":\\\"b7b7b7\\\"}},\\\"subtitle\\\":\\\"Cards are always with you\\\",\\\"isDeliveredInIOSAppForWatchOS\\\":true,\\\"bundleId\\\":\\\"MyCards\\\",\\\"hasInAppPurchases\\\":false,\\\"isAppleWatchSupported\\\":true,\\\"isStandaloneForWatchOS\\\":false,\\\"circularArtwork\\\":{\\\"width\\\":1024,\\\"height\\\":1024,\\\"url\\\":\\\"https://is5-ssl.mzstatic.com/image/thumb/Purple112/v4/19/1a/cc/191acc73-04ff-3664-9de5-35fdc635d15c/AppIcon-0-0-1x_U007emarketing-0-0-0-13-0-0-sRGB-0-0-0-GLES2_U002c0-512MB-85-220-0-0.png/{w}x{h}{c}.{f}\\\",\\\"bgColor\\\":\\\"373737\\\",\\\"textColor1\\\":\\\"c5e962\\\",\\\"textColor2\\\":\\\"e8acc8\\\",\\\"textColor3\\\":\\\"a8c559\\\",\\\"textColor4\\\":\\\"c495ab\\\"},\\\"requiresGameController\\\":false,\\\"isHiddenFromSpringboard\\\":false,\\\"isStandaloneWithCompanionForWatchOS\\\":false,\\\"offers\\\":[{\\\"buyParams\\\":\\\"productType=C\\u0026price=179000\\u0026salableAdamId=1038175626\\u0026pricingParameters=STDQ\\u0026pg=default\\u0026appExtVrsId=851549127\\\",\\\"type\\\":\\\"buy\\\",\\\"priceFormatted\\\":\\\"₹ 179\\\",\\\"price\\\":179,\\\"currencyCode\\\":\\\"INR\\\",\\\"assets\\\":[{\\\"flavor\\\":\\\"iosSoftware\\\",\\\"size\\\":7847936}]},{\\\"buyParams\\\":\\\"productType=C\\u0026price=0\\u0026salableAdamId=1038175626\\u0026pricingParameters=SWUPD\\u0026pg=default\\u0026appExtVrsId=851549127\\\",\\\"type\\\":\\\"update\\\",\\\"priceFormatted\\\":\\\"₹ 0\\\",\\\"price\\\":0,\\\"currencyCode\\\":\\\"INR\\\",\\\"assets\\\":[{\\\"flavor\\\":\\\"iosSoftware\\\",\\\"size\\\":7847936}]}]}},\\\"watchBundleId\\\":\\\"MyCards.watchkitapp\\\",\\\"userRating\\\":{\\\"wasReset\\\":true,\\\"value\\\":4,\\\"ratingCount\\\":2,\\\"ratingCountList\\\":[0,0,1,0,1],\\\"ariaLabelForRatings\\\":\\\"4.0 stars\\\"},\\\"contentRatingsBySystem\\\":{\\\"appsApple\\\":{\\\"name\\\":\\\"4+\\\",\\\"value\\\":100,\\\"rank\\\":1}},\\\"name\\\":\\\"WalletApp\\\",\\\"supportsArcade\\\":false,\\\"genreDisplayName\\\":\\\"Finance\\\",\\\"isFirstPartyHideableApp\\\":false},\\\"relationships\\\":{\\\"developer\\\":{\\\"href\\\":\\\"/v1/catalog/in/apps/1038175626/developer?l=en-GB\\\",\\\"data\\\":[{\\\"id\\\":\\\"1038175625\\\",\\\"type\\\":\\\"developers\\\",\\\"href\\\":\\\"/v1/catalog/in/developers/1038175625?l=en-GB\\\"}]},\\\"genres\\\":{\\\"href\\\":\\\"/v1/catalog/in/apps/1038175626/genres?l=en-GB\\\",\\\"data\\\":[{\\\"id\\\":\\\"6015\\\",\\\"type\\\":\\\"genres\\\",\\\"href\\\":\\\"/v1/catalog/in/genres/6015?l=en-GB\\\",\\\"attributes\\\":{\\\"parentId\\\":\\\"36\\\",\\\"parentName\\\":\\\"App Store\\\",\\\"name\\\":\\\"Finance\\\",\\\"url\\\":\\\"https://itunes.apple.com/in/genre/id6015\\\"}},{\\\"id\\\":\\\"6007\\\",\\\"type\\\":\\\"genres\\\",\\\"href\\\":\\\"/v1/catalog/in/genres/6007?l=en-GB\\\",\\\"attributes\\\":{\\\"parentId\\\":\\\"36\\\",\\\"parentName\\\":\\\"App Store\\\",\\\"name\\\":\\\"Productivity\\\",\\\"url\\\":\\\"https://itunes.apple.com/in/genre/id6007\\\"}}]}}},{\\\"id\\\":\\\"316520188\\\",\\\"type\\\":\\\"apps\\\",\\\"href\\\":\\\"/v1/catalog/in/apps/316520188?l=en-GB\\\",\\\"attributes\\\":{\\\"artistName\\\":\\\"Poker Chang Ltd\\\",\\\"url\\\":\\\"https://apps.apple.com/in/app/poker-income-bankroll-tracker/id316520188\\\",\\\"isIOSBinaryMacOSCompatible\\\":true,\\\"reviewsRestricted\\\":false,\\\"deviceFamilies\\\":[\\\"iphone\\\",\\\"ipad\\\",\\\"ipod\\\"],\\\"chartPositions\\\":{\\\"appStore\\\":{\\\"position\\\":10,\\\"genreName\\\":\\\"Finance\\\",\\\"genre\\\":6015,\\\"chart\\\":\\\"top-paid\\\",\\\"chartLink\\\":\\\"https://apps.apple.com/in/charts/iphone/finance-apps/6015\\\"}},\\\"isPreorder\\\":false,\\\"platformAttributes\\\":{\\\"ios\\\":{\\\"requires32bit\\\":false,\\\"artwork\\\":{\\\"width\\\":1024,\\\"height\\\":1024,\\\"url\\\":\\\"https://is2-ssl.mzstatic.com/image/thumb/Purple128/v4/7e/67/93/7e679391-be79-c6b2-651b-d11ecc418a4c/AppIcon-2-1x_U007emarketing-85-220-8.png/{w}x{h}{c}.{f}\\\",\\\"bgColor\\\":\\\"f8f8f9\\\",\\\"textColor1\\\":\\\"020202\\\",\\\"textColor2\\\":\\\"133308\\\",\\\"textColor3\\\":\\\"333333\\\",\\\"textColor4\\\":\\\"415a38\\\"},\\\"hasMessagesExtension\\\":false,\\\"releaseDate\\\":\\\"2009-05-22\\\",\\\"hasSafariExtension\\\":false,\\\"minimumMacOSVersion\\\":\\\"11.0\\\",\\\"editorialArtwork\\\":{\\\"brandLogo\\\":{\\\"width\\\":1080,\\\"height\\\":1080,\\\"url\\\":\\\"https://is3-ssl.mzstatic.com/image/thumb/Features124/v4/c8/82/38/c8823852-1841-665e-c2f5-bf413328a68a/source/{w}x{h}{c}.{f}\\\",\\\"bgColor\\\":\\\"000000\\\",\\\"textColor1\\\":\\\"f2f2f2\\\",\\\"textColor2\\\":\\\"e5e5e5\\\",\\\"textColor3\\\":\\\"c1c1c1\\\",\\\"textColor4\\\":\\\"b7b7b7\\\"}},\\\"subtitle\\\":\\\"Track Tax Analytics Journal\\\",\\\"isDeliveredInIOSAppForWatchOS\\\":false,\\\"bundleId\\\":\\\"com.iphonepokerincome.\\\",\\\"hasInAppPurchases\\\":false,\\\"isAppleWatchSupported\\\":false,\\\"isStandaloneForWatchOS\\\":false,\\\"requiresGameController\\\":false,\\\"isHiddenFromSpringboard\\\":false,\\\"isStandaloneWithCompanionForWatchOS\\\":false,\\\"offers\\\":[{\\\"buyParams\\\":\\\"productType=C\\u0026price=899000\\u0026salableAdamId=316520188\\u0026pricingParameters=STDQ\\u0026pg=default\\u0026appExtVrsId=826144634\\\",\\\"type\\\":\\\"buy\\\",\\\"priceFormatted\\\":\\\"₹ 899\\\",\\\"price\\\":899,\\\"currencyCode\\\":\\\"INR\\\",\\\"assets\\\":[{\\\"flavor\\\":\\\"iosSoftware\\\",\\\"size\\\":15851520}]},{\\\"buyParams\\\":\\\"productType=C\\u0026price=0\\u0026salableAdamId=316520188\\u0026pricingParameters=SWUPD\\u0026pg=default\\u0026appExtVrsId=826144634\\\",\\\"type\\\":\\\"update\\\",\\\"priceFormatted\\\":\\\"₹ 0\\\",\\\"price\\\":0,\\\"currencyCode\\\":\\\"INR\\\",\\\"assets\\\":[{\\\"flavor\\\":\\\"iosSoftware\\\",\\\"size\\\":15851520}]}]}},\\\"userRating\\\":{\\\"value\\\":5,\\\"ratingCount\\\":1,\\\"ratingCountList\\\":[0,0,0,0,1],\\\"ariaLabelForRatings\\\":\\\"5.0 stars\\\"},\\\"contentRatingsBySystem\\\":{\\\"appsApple\\\":{\\\"name\\\":\\\"17+\\\",\\\"value\\\":600,\\\"rank\\\":4,\\\"advisories\\\":[\\\"Frequent/Intense Simulated Gambling\\\"]}},\\\"name\\\":\\\"Poker Income Bankroll Tracker\\\",\\\"supportsArcade\\\":false,\\\"genreDisplayName\\\":\\\"Finance\\\",\\\"isFirstPartyHideableApp\\\":false},\\\"relationships\\\":{\\\"developer\\\":{\\\"href\\\":\\\"/v1/catalog/in/apps/316520188/developer?l=en-GB\\\",\\\"data\\\":[{\\\"id\\\":\\\"312276632\\\",\\\"type\\\":\\\"developers\\\",\\\"href\\\":\\\"/v1/catalog/in/developers/312276632?l=en-GB\\\"}]},\\\"genres\\\":{\\\"href\\\":\\\"/v1/catalog/in/apps/316520188/genres?l=en-GB\\\",\\\"data\\\":[{\\\"id\\\":\\\"6015\\\",\\\"type\\\":\\\"genres\\\",\\\"href\\\":\\\"/v1/catalog/in/genres/6015?l=en-GB\\\",\\\"attributes\\\":{\\\"parentId\\\":\\\"36\\\",\\\"parentName\\\":\\\"App Store\\\",\\\"name\\\":\\\"Finance\\\",\\\"url\\\":\\\"https://itunes.apple.com/in/genre/id6015\\\"}},{\\\"id\\\":\\\"6002\\\",\\\"type\\\":\\\"genres\\\",\\\"href\\\":\\\"/v1/catalog/in/genres/6002?l=en-GB\\\",\\\"attributes\\\":{\\\"parentId\\\":\\\"36\\\",\\\"parentName\\\":\\\"App Store\\\",\\\"name\\\":\\\"Utilities\\\",\\\"url\\\":\\\"https://itunes.apple.com/in/genre/id6002\\\"}}]}}},{\\\"id\\\":\\\"1459967768\\\",\\\"type\\\":\\\"apps\\\",\\\"href\\\":\\\"/v1/catalog/in/apps/1459967768?l=en-GB\\\",\\\"attributes\\\":{\\\"artistName\\\":\\\"Monagle Pty Ltd\\\",\\\"firstVersionSupportingInAppPurchaseApi\\\":\\\"1.0.1\\\",\\\"url\\\":\\\"https://apps.apple.com/in/app/budget-forward/id1459967768\\\",\\\"isIOSBinaryMacOSCompatible\\\":false,\\\"reviewsRestricted\\\":false,\\\"deviceFamilies\\\":[\\\"iphone\\\",\\\"ipad\\\",\\\"ipod\\\"],\\\"chartPositions\\\":{\\\"appStore\\\":{\\\"position\\\":11,\\\"genreName\\\":\\\"Finance\\\",\\\"genre\\\":6015,\\\"chart\\\":\\\"top-paid\\\",\\\"chartLink\\\":\\\"https://apps.apple.com/in/charts/iphone/finance-apps/6015\\\"}},\\\"isPreorder\\\":false,\\\"platformAttributes\\\":{\\\"ios\\\":{\\\"requires32bit\\\":false,\\\"artwork\\\":{\\\"width\\\":1024,\\\"height\\\":1024,\\\"url\\\":\\\"https://is4-ssl.mzstatic.com/image/thumb/Purple125/v4/3f/44/cb/3f44cbbb-15fb-b5e6-b9bd-f8e41ad07918/Budget_Forward_AppIcon-0-1x_U007emarketing-0-0-0-7-0-0-85-220.png/{w}x{h}{c}.{f}\\\",\\\"bgColor\\\":\\\"ffffff\\\",\\\"textColor1\\\":\\\"002d5e\\\",\\\"textColor2\\\":\\\"093360\\\",\\\"textColor3\\\":\\\"33577e\\\",\\\"textColor4\\\":\\\"3a5c80\\\"},\\\"hasMessagesExtension\\\":false,\\\"releaseDate\\\":\\\"2020-08-14\\\",\\\"hasSafariExtension\\\":false,\\\"minimumMacOSVersion\\\":\\\"11.0\\\",\\\"editorialArtwork\\\":{\\\"brandLogo\\\":{\\\"width\\\":1080,\\\"height\\\":1080,\\\"url\\\":\\\"https://is3-ssl.mzstatic.com/image/thumb/Features124/v4/c8/82/38/c8823852-1841-665e-c2f5-bf413328a68a/source/{w}x{h}{c}.{f}\\\",\\\"bgColor\\\":\\\"000000\\\",\\\"textColor1\\\":\\\"f2f2f2\\\",\\\"textColor2\\\":\\\"e5e5e5\\\",\\\"textColor3\\\":\\\"c1c1c1\\\",\\\"textColor4\\\":\\\"b7b7b7\\\"}},\\\"subtitle\\\":\\\"Financial Planner \\u0026 Tracker\\\",\\\"isDeliveredInIOSAppForWatchOS\\\":false,\\\"bundleId\\\":\\\"au.com.monagle.BudgetForward\\\",\\\"hasInAppPurchases\\\":false,\\\"isAppleWatchSupported\\\":false,\\\"isStandaloneForWatchOS\\\":false,\\\"requiresGameController\\\":false,\\\"isHiddenFromSpringboard\\\":false,\\\"isStandaloneWithCompanionForWatchOS\\\":false,\\\"offers\\\":[{\\\"buyParams\\\":\\\"productType=C\\u0026price=1099000\\u0026salableAdamId=1459967768\\u0026pricingParameters=STDQ\\u0026pg=default\\u0026appExtVrsId=839693416\\\",\\\"type\\\":\\\"buy\\\",\\\"priceFormatted\\\":\\\"₹ 1,099\\\",\\\"price\\\":1099,\\\"currencyCode\\\":\\\"INR\\\",\\\"assets\\\":[{\\\"flavor\\\":\\\"iosSoftware\\\",\\\"size\\\":11738112}]},{\\\"buyParams\\\":\\\"productType=C\\u0026price=0\\u0026salableAdamId=1459967768\\u0026pricingParameters=SWUPD\\u0026pg=default\\u0026appExtVrsId=839693416\\\",\\\"type\\\":\\\"update\\\",\\\"priceFormatted\\\":\\\"₹ 0\\\",\\\"price\\\":0,\\\"currencyCode\\\":\\\"INR\\\",\\\"assets\\\":[{\\\"flavor\\\":\\\"iosSoftware\\\",\\\"size\\\":11738112}]}]}},\\\"userRating\\\":{\\\"value\\\":0,\\\"ratingCount\\\":0,\\\"ratingCountList\\\":[0,0,0,0,0],\\\"ariaLabelForRatings\\\":\\\"0 stars\\\"},\\\"contentRatingsBySystem\\\":{\\\"appsApple\\\":{\\\"name\\\":\\\"4+\\\",\\\"value\\\":100,\\\"rank\\\":1}},\\\"name\\\":\\\"Budget Forward\\\",\\\"supportsArcade\\\":false,\\\"genreDisplayName\\\":\\\"Finance\\\",\\\"isFirstPartyHideableApp\\\":false},\\\"relationships\\\":{\\\"developer\\\":{\\\"href\\\":\\\"/v1/catalog/in/apps/1459967768/developer?l=en-GB\\\",\\\"data\\\":[{\\\"id\\\":\\\"1144292110\\\",\\\"type\\\":\\\"developers\\\",\\\"href\\\":\\\"/v1/catalog/in/developers/1144292110?l=en-GB\\\"}]},\\\"genres\\\":{\\\"href\\\":\\\"/v1/catalog/in/apps/1459967768/genres?l=en-GB\\\",\\\"data\\\":[{\\\"id\\\":\\\"6015\\\",\\\"type\\\":\\\"genres\\\",\\\"href\\\":\\\"/v1/catalog/in/genres/6015?l=en-GB\\\",\\\"attributes\\\":{\\\"parentId\\\":\\\"36\\\",\\\"parentName\\\":\\\"App Store\\\",\\\"name\\\":\\\"Finance\\\",\\\"url\\\":\\\"https://itunes.apple.com/in/genre/id6015\\\"}},{\\\"id\\\":\\\"6012\\\",\\\"type\\\":\\\"genres\\\",\\\"href\\\":\\\"/v1/catalog/in/genres/6012?l=en-GB\\\",\\\"attributes\\\":{\\\"parentId\\\":\\\"36\\\",\\\"parentName\\\":\\\"App Store\\\",\\\"name\\\":\\\"Lifestyle\\\",\\\"url\\\":\\\"https://itunes.apple.com/in/genre/id6012\\\"}}]}}},{\\\"id\\\":\\\"679044544\\\",\\\"type\\\":\\\"apps\\\",\\\"href\\\":\\\"/v1/catalog/in/apps/679044544?l=en-GB\\\",\\\"attributes\\\":{\\\"artistName\\\":\\\"lee fado\\\",\\\"url\\\":\\\"https://apps.apple.com/in/app/andromoney/id679044544\\\",\\\"isIOSBinaryMacOSCompatible\\\":false,\\\"reviewsRestricted\\\":false,\\\"deviceFamilies\\\":[\\\"iphone\\\",\\\"ipod\\\"],\\\"chartPositions\\\":{\\\"appStore\\\":{\\\"position\\\":12,\\\"genreName\\\":\\\"Finance\\\",\\\"genre\\\":6015,\\\"chart\\\":\\\"top-paid\\\",\\\"chartLink\\\":\\\"https://apps.apple.com/in/charts/iphone/finance-apps/6015\\\"}},\\\"isPreorder\\\":false,\\\"platformAttributes\\\":{\\\"ios\\\":{\\\"requires32bit\\\":false,\\\"artwork\\\":{\\\"width\\\":1024,\\\"height\\\":1024,\\\"url\\\":\\\"https://is3-ssl.mzstatic.com/image/thumb/Purple114/v4/4b/10/ce/4b10ce01-b3fb-a974-a0a5-4a49644be972/AppIcon-1x_U007emarketing-0-10-85-220.png/{w}x{h}{c}.{f}\\\",\\\"bgColor\\\":\\\"ffffff\\\",\\\"textColor1\\\":\\\"011203\\\",\\\"textColor2\\\":\\\"031204\\\",\\\"textColor3\\\":\\\"334135\\\",\\\"textColor4\\\":\\\"354136\\\"},\\\"hasMessagesExtension\\\":false,\\\"releaseDate\\\":\\\"2013-08-05\\\",\\\"hasSafariExtension\\\":false,\\\"minimumMacOSVersion\\\":\\\"11.0\\\",\\\"editorialArtwork\\\":{\\\"brandLogo\\\":{\\\"width\\\":1080,\\\"height\\\":1080,\\\"url\\\":\\\"https://is3-ssl.mzstatic.com/image/thumb/Features124/v4/c8/82/38/c8823852-1841-665e-c2f5-bf413328a68a/source/{w}x{h}{c}.{f}\\\",\\\"bgColor\\\":\\\"000000\\\",\\\"textColor1\\\":\\\"f2f2f2\\\",\\\"textColor2\\\":\\\"e5e5e5\\\",\\\"textColor3\\\":\\\"c1c1c1\\\",\\\"textColor4\\\":\\\"b7b7b7\\\"}},\\\"isDeliveredInIOSAppForWatchOS\\\":false,\\\"bundleId\\\":\\\"Andro.AndroMoney\\\",\\\"hasInAppPurchases\\\":false,\\\"isAppleWatchSupported\\\":false,\\\"isStandaloneForWatchOS\\\":false,\\\"requiresGameController\\\":false,\\\"isHiddenFromSpringboard\\\":false,\\\"isStandaloneWithCompanionForWatchOS\\\":false,\\\"offers\\\":[{\\\"buyParams\\\":\\\"productType=C\\u0026price=179000\\u0026salableAdamId=679044544\\u0026pricingParameters=STDQ\\u0026pg=default\\u0026appExtVrsId=838073765\\\",\\\"type\\\":\\\"buy\\\",\\\"priceFormatted\\\":\\\"₹ 179\\\",\\\"price\\\":179,\\\"currencyCode\\\":\\\"INR\\\",\\\"assets\\\":[{\\\"flavor\\\":\\\"iosSoftware\\\",\\\"size\\\":46827520}]},{\\\"buyParams\\\":\\\"productType=C\\u0026price=0\\u0026salableAdamId=679044544\\u0026pricingParameters=SWUPD\\u0026pg=default\\u0026appExtVrsId=838073765\\\",\\\"type\\\":\\\"update\\\",\\\"priceFormatted\\\":\\\"₹ 0\\\",\\\"price\\\":0,\\\"currencyCode\\\":\\\"INR\\\",\\\"assets\\\":[{\\\"flavor\\\":\\\"iosSoftware\\\",\\\"size\\\":46827520}]}]}},\\\"userRating\\\":{\\\"value\\\":4.3,\\\"ratingCount\\\":54,\\\"ratingCountList\\\":[4,2,2,13,33],\\\"ariaLabelForRatings\\\":\\\"4.3 stars\\\"},\\\"contentRatingsBySystem\\\":{\\\"appsApple\\\":{\\\"name\\\":\\\"4+\\\",\\\"value\\\":100,\\\"rank\\\":1}},\\\"name\\\":\\\"AndroMoney\\\",\\\"supportsArcade\\\":false,\\\"genreDisplayName\\\":\\\"Finance\\\",\\\"isFirstPartyHideableApp\\\":false},\\\"relationships\\\":{\\\"developer\\\":{\\\"href\\\":\\\"/v1/catalog/in/apps/679044544/developer?l=en-GB\\\",\\\"data\\\":[{\\\"id\\\":\\\"920539686\\\",\\\"type\\\":\\\"developers\\\",\\\"href\\\":\\\"/v1/catalog/in/developers/920539686?l=en-GB\\\"}]},\\\"genres\\\":{\\\"href\\\":\\\"/v1/catalog/in/apps/679044544/genres?l=en-GB\\\",\\\"data\\\":[{\\\"id\\\":\\\"6015\\\",\\\"type\\\":\\\"genres\\\",\\\"href\\\":\\\"/v1/catalog/in/genres/6015?l=en-GB\\\",\\\"attributes\\\":{\\\"parentId\\\":\\\"36\\\",\\\"parentName\\\":\\\"App Store\\\",\\\"name\\\":\\\"Finance\\\",\\\"url\\\":\\\"https://itunes.apple.com/in/genre/id6015\\\"}},{\\\"id\\\":\\\"6002\\\",\\\"type\\\":\\\"genres\\\",\\\"href\\\":\\\"/v1/catalog/in/genres/6002?l=en-GB\\\",\\\"attributes\\\":{\\\"parentId\\\":\\\"36\\\",\\\"parentName\\\":\\\"App Store\\\",\\\"name\\\":\\\"Utilities\\\",\\\"url\\\":\\\"https://itunes.apple.com/in/genre/id6002\\\"}}]}}}],\\\"next\\\":\\\"/v1/catalog/in/charts?chart=top-paid\\u0026contexts=default\\u0026genre=6015\\u0026l=en-GB\\u0026limit=12\\u0026offset=12\\u0026platform=iphone\\u0026types=apps\\\",\\\"href\\\":\\\"/v1/catalog/in/charts?chart=top-paid\\u0026contexts=default\\u0026genre=6015\\u0026l=en-GB\\u0026limit=12\\u0026platform=iphone\\u0026types=apps\\\"}]}}\",\".v1.editorial.in.categories.genre.6014.platform.iphone.tabs.ios.l.en-gb\":\"{\\\"x\\\":1660664576750,\\\"d\\\":{\\\"categories\\\":[{\\\"name\\\":\\\"Games\\\",\\\"seoName\\\":\\\"games\\\",\\\"chartUrl\\\":\\\"https://apps.apple.com/in/charts/iphone\\\",\\\"genre\\\":6014,\\\"label\\\":\\\"All Games\\\",\\\"children\\\":[{\\\"name\\\":\\\"AR Games\\\",\\\"seoName\\\":\\\"ar-games\\\",\\\"artwork\\\":{\\\"width\\\":1024,\\\"height\\\":1024,\\\"url\\\":\\\"https://is3-ssl.mzstatic.com/image/thumb/Features113/v4/3d/e9/47/3de94729-eb2e-db40-4898-acf304d61d17/mza_7114575715773703852.png/{w}x{h}{c}.{f}\\\",\\\"bgColor\\\":\\\"000000\\\",\\\"textColor1\\\":\\\"f3f3f3\\\",\\\"textColor2\\\":\\\"c5c5c5\\\",\\\"textColor3\\\":\\\"c2c2c2\\\",\\\"textColor4\\\":\\\"9d9d9d\\\"}},{\\\"name\\\":\\\"Kids\\\",\\\"seoName\\\":\\\"kids\\\",\\\"chartUrl\\\":\\\"https://apps.apple.com/in/charts/iphone/kids-games/36?ageId=0\\\",\\\"artwork\\\":{\\\"width\\\":1024,\\\"height\\\":1024,\\\"url\\\":\\\"https://is5-ssl.mzstatic.com/image/thumb/Features128/v4/22/95/f3/2295f32c-6eb2-3e32-36e1-c8569603865f/mza_6948550268666124203.png/{w}x{h}{c}.{f}\\\",\\\"bgColor\\\":\\\"000000\\\",\\\"textColor1\\\":\\\"d1d1d1\\\",\\\"textColor2\\\":\\\"ff3b30\\\",\\\"textColor3\\\":\\\"a7a7a7\\\",\\\"textColor4\\\":\\\"cb2f26\\\"},\\\"genre\\\":36,\\\"ages\\\":0,\\\"label\\\":\\\"All Kids\\\",\\\"children\\\":[{\\\"name\\\":\\\"Ages 5 \\u0026 Under\\\",\\\"seoName\\\":\\\"ages-5-under\\\",\\\"chartUrl\\\":\\\"https://apps.apple.com/in/charts/iphone/ages-5-under-apps/36?ageId=10000\\\",\\\"artwork\\\":{\\\"width\\\":1024,\\\"height\\\":1024,\\\"url\\\":\\\"https://is3-ssl.mzstatic.com/image/thumb/Features128/v4/7d/59/71/7d5971b4-1ff1-ede2-a5fa-8e84ead6fbcb/mza_4074464856148244129.png/{w}x{h}{c}.{f}\\\",\\\"bgColor\\\":\\\"000000\\\",\\\"textColor1\\\":\\\"febf0b\\\",\\\"textColor2\\\":\\\"5ecbf7\\\",\\\"textColor3\\\":\\\"cb9908\\\",\\\"textColor4\\\":\\\"4ba2c6\\\"},\\\"genre\\\":36,\\\"ages\\\":\\\"10000\\\"},{\\\"name\\\":\\\"Ages 6-8\\\",\\\"seoName\\\":\\\"ages-6-8\\\",\\\"chartUrl\\\":\\\"https://apps.apple.com/in/charts/iphone/ages-6-8-apps/36?ageId=10001\\\",\\\"artwork\\\":{\\\"width\\\":1024,\\\"height\\\":1024,\\\"url\\\":\\\"https://is1-ssl.mzstatic.com/image/thumb/Features118/v4/f4/54/08/f45408c9-f7cd-4a58-8961-e6e53173b24d/mza_7945121204416833711.png/{w}x{h}{c}.{f}\\\",\\\"bgColor\\\":\\\"000000\\\",\\\"textColor1\\\":\\\"5ecbf7\\\",\\\"textColor2\\\":\\\"f73e64\\\",\\\"textColor3\\\":\\\"4ba2c6\\\",\\\"textColor4\\\":\\\"c53150\\\"},\\\"genre\\\":36,\\\"ages\\\":\\\"10001\\\"},{\\\"name\\\":\\\"Ages 9-11\\\",\\\"seoName\\\":\\\"ages-9-11\\\",\\\"chartUrl\\\":\\\"https://apps.apple.com/in/charts/iphone/ages-9-11-apps/36?ageId=10002\\\",\\\"artwork\\\":{\\\"width\\\":1024,\\\"height\\\":1024,\\\"url\\\":\\\"https://is3-ssl.mzstatic.com/image/thumb/Features128/v4/ba/8d/8c/ba8d8c8c-5b9e-d635-8d11-18acba8dbd9c/mza_6562185370113718384.png/{w}x{h}{c}.{f}\\\",\\\"bgColor\\\":\\\"59c8fa\\\",\\\"textColor1\\\":\\\"000000\\\",\\\"textColor2\\\":\\\"000000\\\",\\\"textColor3\\\":\\\"122832\\\",\\\"textColor4\\\":\\\"122832\\\"},\\\"genre\\\":36,\\\"ages\\\":\\\"10002\\\"}]},{\\\"name\\\":\\\"Indie\\\",\\\"seoName\\\":\\\"indie\\\",\\\"artwork\\\":{\\\"width\\\":1024,\\\"height\\\":1024,\\\"url\\\":\\\"https://is2-ssl.mzstatic.com/image/thumb/Features113/v4/7e/fc/14/7efc146e-44c7-8d25-6871-a9950eeea579/mza_547136683438747649.png/{w}x{h}{c}.{f}\\\",\\\"bgColor\\\":\\\"000000\\\",\\\"textColor1\\\":\\\"6fdf64\\\",\\\"textColor2\\\":\\\"64c95a\\\",\\\"textColor3\\\":\\\"58b250\\\",\\\"textColor4\\\":\\\"50a148\\\"}},{\\\"name\\\":\\\"Action\\\",\\\"seoName\\\":\\\"action\\\",\\\"chartUrl\\\":\\\"https://apps.apple.com/in/charts/iphone/action-games/7001\\\",\\\"artwork\\\":{\\\"width\\\":1024,\\\"height\\\":1024,\\\"url\\\":\\\"https://is1-ssl.mzstatic.com/image/thumb/Features118/v4/54/33/1d/54331d69-cc42-b0c6-be0d-4f8c2cdab535/mza_7850236496539263770.png/{w}x{h}{c}.{f}\\\",\\\"bgColor\\\":\\\"000000\\\",\\\"textColor1\\\":\\\"cfcfcf\\\",\\\"textColor2\\\":\\\"fab719\\\",\\\"textColor3\\\":\\\"a6a6a6\\\",\\\"textColor4\\\":\\\"c89214\\\"},\\\"genre\\\":7001},{\\\"name\\\":\\\"Casual\\\",\\\"seoName\\\":\\\"casual\\\",\\\"chartUrl\\\":\\\"https://apps.apple.com/in/charts/iphone/casual-games/7003\\\",\\\"artwork\\\":{\\\"width\\\":1024,\\\"height\\\":1024,\\\"url\\\":\\\"https://is4-ssl.mzstatic.com/image/thumb/Features123/v4/ec/0d/c1/ec0dc125-dde6-c573-7f31-97bdb49f10ab/mza_2990864259490845301.png/{w}x{h}{c}.{f}\\\",\\\"bgColor\\\":\\\"000000\\\",\\\"textColor1\\\":\\\"31e6d0\\\",\\\"textColor2\\\":\\\"3f99f1\\\",\\\"textColor3\\\":\\\"27b8a7\\\",\\\"textColor4\\\":\\\"327ac1\\\"},\\\"genre\\\":7003},{\\\"name\\\":\\\"Simulation\\\",\\\"seoName\\\":\\\"simulation\\\",\\\"chartUrl\\\":\\\"https://apps.apple.com/in/charts/iphone/simulation-games/7015\\\",\\\"artwork\\\":{\\\"width\\\":1024,\\\"height\\\":1024,\\\"url\\\":\\\"https://is4-ssl.mzstatic.com/image/thumb/Features128/v4/02/29/64/0229644d-d393-6dfb-14bf-236a257e7058/mza_879924342404634344.png/{w}x{h}{c}.{f}\\\",\\\"bgColor\\\":\\\"000000\\\",\\\"textColor1\\\":\\\"ffffff\\\",\\\"textColor2\\\":\\\"d0d0d0\\\",\\\"textColor3\\\":\\\"cbcbcb\\\",\\\"textColor4\\\":\\\"a6a6a6\\\"},\\\"genre\\\":7015},{\\\"name\\\":\\\"Puzzle\\\",\\\"seoName\\\":\\\"puzzle\\\",\\\"chartUrl\\\":\\\"https://apps.apple.com/in/charts/iphone/puzzle-games/7012\\\",\\\"artwork\\\":{\\\"width\\\":1024,\\\"height\\\":1024,\\\"url\\\":\\\"https://is5-ssl.mzstatic.com/image/thumb/Features128/v4/80/32/d5/8032d545-9128-d3b2-82ca-4530413e2c42/mza_5567892722588676827.png/{w}x{h}{c}.{f}\\\",\\\"bgColor\\\":\\\"000000\\\",\\\"textColor1\\\":\\\"5bcbfe\\\",\\\"textColor2\\\":\\\"5acafc\\\",\\\"textColor3\\\":\\\"49a2cb\\\",\\\"textColor4\\\":\\\"48a1ca\\\"},\\\"genre\\\":7012},{\\\"name\\\":\\\"Adventure\\\",\\\"seoName\\\":\\\"adventure\\\",\\\"chartUrl\\\":\\\"https://apps.apple.com/in/charts/iphone/adventure-games/7002\\\",\\\"artwork\\\":{\\\"width\\\":1024,\\\"height\\\":1024,\\\"url\\\":\\\"https://is2-ssl.mzstatic.com/image/thumb/Features113/v4/a5/1e/a7/a51ea71b-fba3-0e55-35df-85f6add8f1ea/mza_7086991959922268812.png/{w}x{h}{c}.{f}\\\",\\\"bgColor\\\":\\\"000000\\\",\\\"textColor1\\\":\\\"ffffff\\\",\\\"textColor2\\\":\\\"e2e2e3\\\",\\\"textColor3\\\":\\\"cbcbcb\\\",\\\"textColor4\\\":\\\"b5b5b6\\\"},\\\"genre\\\":7002},{\\\"name\\\":\\\"Family\\\",\\\"seoName\\\":\\\"family\\\",\\\"chartUrl\\\":\\\"https://apps.apple.com/in/charts/iphone/family-games/7009\\\",\\\"artwork\\\":{\\\"width\\\":1024,\\\"height\\\":1024,\\\"url\\\":\\\"https://is1-ssl.mzstatic.com/image/thumb/Features128/v4/33/8c/e8/338ce818-62d6-ded4-644b-626171776a07/mza_1133208286354649270.png/{w}x{h}{c}.{f}\\\",\\\"bgColor\\\":\\\"000000\\\",\\\"textColor1\\\":\\\"feb919\\\",\\\"textColor2\\\":\\\"fab719\\\",\\\"textColor3\\\":\\\"cb9414\\\",\\\"textColor4\\\":\\\"c89214\\\"},\\\"genre\\\":7009},{\\\"name\\\":\\\"Board\\\",\\\"seoName\\\":\\\"board\\\",\\\"chartUrl\\\":\\\"https://apps.apple.com/in/charts/iphone/board-games/7004\\\",\\\"artwork\\\":{\\\"width\\\":1024,\\\"height\\\":1024,\\\"url\\\":\\\"https://is2-ssl.mzstatic.com/image/thumb/Features113/v4/45/fe/93/45fe939b-4e5b-b662-864e-15e60da312a3/mza_5309088200699753945.png/{w}x{h}{c}.{f}\\\",\\\"bgColor\\\":\\\"000000\\\",\\\"textColor1\\\":\\\"ffffff\\\",\\\"textColor2\\\":\\\"cacacd\\\",\\\"textColor3\\\":\\\"cbcbcb\\\",\\\"textColor4\\\":\\\"a1a1a4\\\"},\\\"genre\\\":7004},{\\\"name\\\":\\\"Card\\\",\\\"seoName\\\":\\\"card\\\",\\\"chartUrl\\\":\\\"https://apps.apple.com/in/charts/iphone/card-games/7005\\\",\\\"artwork\\\":{\\\"width\\\":1024,\\\"height\\\":1024,\\\"url\\\":\\\"https://is5-ssl.mzstatic.com/image/thumb/Features118/v4/46/4b/e4/464be413-34c6-bed1-f7cd-18116ca7e8d9/mza_1340277073449747266.png/{w}x{h}{c}.{f}\\\",\\\"bgColor\\\":\\\"ffffff\\\",\\\"textColor1\\\":\\\"000000\\\",\\\"textColor2\\\":\\\"161616\\\",\\\"textColor3\\\":\\\"333333\\\",\\\"textColor4\\\":\\\"454545\\\"},\\\"genre\\\":7005},{\\\"name\\\":\\\"Casino\\\",\\\"seoName\\\":\\\"casino\\\",\\\"chartUrl\\\":\\\"https://apps.apple.com/in/charts/iphone/casino-games/7006\\\",\\\"artwork\\\":{\\\"width\\\":1024,\\\"height\\\":1024,\\\"url\\\":\\\"https://is1-ssl.mzstatic.com/image/thumb/Features113/v4/41/6a/c5/416ac580-ce06-d7f1-5725-82475f971581/mza_2154867267189200431.png/{w}x{h}{c}.{f}\\\",\\\"bgColor\\\":\\\"000000\\\",\\\"textColor1\\\":\\\"ffffff\\\",\\\"textColor2\\\":\\\"62de57\\\",\\\"textColor3\\\":\\\"cbcbcb\\\",\\\"textColor4\\\":\\\"4eb246\\\"},\\\"genre\\\":7006},{\\\"name\\\":\\\"Music\\\",\\\"seoName\\\":\\\"music\\\",\\\"chartUrl\\\":\\\"https://apps.apple.com/in/charts/iphone/music-games/7011\\\",\\\"artwork\\\":{\\\"width\\\":1024,\\\"height\\\":1024,\\\"url\\\":\\\"https://is4-ssl.mzstatic.com/image/thumb/Features128/v4/99/ec/e1/99ece1c6-055c-a424-37d6-65118bdcd0b8/mza_2027163565629638320.png/{w}x{h}{c}.{f}\\\",\\\"bgColor\\\":\\\"000000\\\",\\\"textColor1\\\":\\\"5acafc\\\",\\\"textColor2\\\":\\\"f65185\\\",\\\"textColor3\\\":\\\"48a1ca\\\",\\\"textColor4\\\":\\\"c5416a\\\"},\\\"genre\\\":7011},{\\\"name\\\":\\\"Racing\\\",\\\"seoName\\\":\\\"racing\\\",\\\"chartUrl\\\":\\\"https://apps.apple.com/in/charts/iphone/racing-games/7013\\\",\\\"artwork\\\":{\\\"width\\\":1024,\\\"height\\\":1024,\\\"url\\\":\\\"https://is4-ssl.mzstatic.com/image/thumb/Features113/v4/b0/93/f0/b093f0db-5f14-23f7-69fb-b7af8119f05c/mza_6723677802022270241.png/{w}x{h}{c}.{f}\\\",\\\"bgColor\\\":\\\"000000\\\",\\\"textColor1\\\":\\\"fdfdfe\\\",\\\"textColor2\\\":\\\"e0e0e1\\\",\\\"textColor3\\\":\\\"cacacb\\\",\\\"textColor4\\\":\\\"b3b3b4\\\"},\\\"genre\\\":7013},{\\\"name\\\":\\\"Role-Playing\\\",\\\"seoName\\\":\\\"role-playing\\\",\\\"chartUrl\\\":\\\"https://apps.apple.com/in/charts/iphone/role-playing-games/7014\\\",\\\"artwork\\\":{\\\"width\\\":1024,\\\"height\\\":1024,\\\"url\\\":\\\"https://is5-ssl.mzstatic.com/image/thumb/Features128/v4/78/d4/46/78d446eb-256e-758e-279f-2a05c54e25a3/mza_8741556540966567751.png/{w}x{h}{c}.{f}\\\",\\\"bgColor\\\":\\\"000000\\\",\\\"textColor1\\\":\\\"fab71a\\\",\\\"textColor2\\\":\\\"eeac2a\\\",\\\"textColor3\\\":\\\"c89215\\\",\\\"textColor4\\\":\\\"bf8922\\\"},\\\"genre\\\":7014},{\\\"name\\\":\\\"Sports\\\",\\\"seoName\\\":\\\"sports\\\",\\\"chartUrl\\\":\\\"https://apps.apple.com/in/charts/iphone/sports-games/7016\\\",\\\"artwork\\\":{\\\"width\\\":1024,\\\"height\\\":1024,\\\"url\\\":\\\"https://is5-ssl.mzstatic.com/image/thumb/Features123/v4/8c/f7/bb/8cf7bb68-74c4-032a-318c-5b16f2328c95/mza_2552743063029719995.png/{w}x{h}{c}.{f}\\\",\\\"bgColor\\\":\\\"000000\\\",\\\"textColor1\\\":\\\"efefef\\\",\\\"textColor2\\\":\\\"d5d5d5\\\",\\\"textColor3\\\":\\\"bfbfbf\\\",\\\"textColor4\\\":\\\"aaaaaa\\\"},\\\"genre\\\":7016},{\\\"name\\\":\\\"Strategy\\\",\\\"seoName\\\":\\\"strategy\\\",\\\"chartUrl\\\":\\\"https://apps.apple.com/in/charts/iphone/strategy-games/7017\\\",\\\"artwork\\\":{\\\"width\\\":1024,\\\"height\\\":1024,\\\"url\\\":\\\"https://is4-ssl.mzstatic.com/image/thumb/Features123/v4/db/71/88/db7188d2-d957-95d3-d527-4c332e127ccf/mza_2094106631190056390.png/{w}x{h}{c}.{f}\\\",\\\"bgColor\\\":\\\"000000\\\",\\\"textColor1\\\":\\\"d0d0d0\\\",\\\"textColor2\\\":\\\"f6453b\\\",\\\"textColor3\\\":\\\"a6a6a6\\\",\\\"textColor4\\\":\\\"c4372f\\\"},\\\"genre\\\":7017},{\\\"name\\\":\\\"Trivia\\\",\\\"seoName\\\":\\\"trivia\\\",\\\"chartUrl\\\":\\\"https://apps.apple.com/in/charts/iphone/trivia-games/7018\\\",\\\"artwork\\\":{\\\"width\\\":1024,\\\"height\\\":1024,\\\"url\\\":\\\"https://is2-ssl.mzstatic.com/image/thumb/Features113/v4/ec/ca/97/ecca9707-9da0-5b48-d78e-8c37e729bf2f/mza_1998683959095032440.png/{w}x{h}{c}.{f}\\\",\\\"bgColor\\\":\\\"000000\\\",\\\"textColor1\\\":\\\"ffffff\\\",\\\"textColor2\\\":\\\"d0d0d0\\\",\\\"textColor3\\\":\\\"cbcbcb\\\",\\\"textColor4\\\":\\\"a6a6a6\\\"},\\\"genre\\\":7018},{\\\"name\\\":\\\"Word\\\",\\\"seoName\\\":\\\"word\\\",\\\"chartUrl\\\":\\\"https://apps.apple.com/in/charts/iphone/word-games/7019\\\",\\\"artwork\\\":{\\\"width\\\":1024,\\\"height\\\":1024,\\\"url\\\":\\\"https://is3-ssl.mzstatic.com/image/thumb/Features113/v4/77/d9/9a/77d99a69-fc5d-63d5-7eed-36643cbcabb9/mza_3286970233374463192.png/{w}x{h}{c}.{f}\\\",\\\"bgColor\\\":\\\"000000\\\",\\\"textColor1\\\":\\\"ffffff\\\",\\\"textColor2\\\":\\\"ececf1\\\",\\\"textColor3\\\":\\\"cbcbcb\\\",\\\"textColor4\\\":\\\"bdbdc0\\\"},\\\"genre\\\":7019}]}]}}\"}</script>,\n",
       " <script id=\"shoebox-in-limit-12-genreId-6015-platform-iphone-seoName-finance-apps\" type=\"fastboot/shoebox\">{\"chartsList\":[{\"chart\":\"top-free\",\"name\":\"Top Free Apps\",\"orderId\":\"top-free:apps\",\"shortName\":\"Free Apps\",\"data\":[{\"kind\":\"app\",\"id\":\"1193357041\",\"type\":\"apps\",\"href\":\"/v1/catalog/in/apps/1193357041?l=en-GB\",\"attributes\":{\"artistName\":\"Google LLC\",\"url\":\"https://apps.apple.com/in/app/google-pay-save-pay-manage/id1193357041\",\"isIOSBinaryMacOSCompatible\":false,\"reviewsRestricted\":false,\"deviceFamilies\":[\"iphone\",\"ipod\"],\"chartPositions\":{\"appStore\":{\"position\":1,\"genreName\":\"Finance\",\"genre\":6015,\"chart\":\"top-free\",\"chartLink\":\"https://apps.apple.com/in/charts/iphone/finance-apps/6015\"}},\"isPreorder\":false,\"platformAttributes\":{\"ios\":{\"requires32bit\":false,\"artwork\":{\"width\":1024,\"height\":1024,\"url\":\"https://is4-ssl.mzstatic.com/image/thumb/Purple112/v4/62/00/b6/6200b6d2-6ce4-0946-a200-ea57a6f78dc6/GPayAppIcon-0-1x_U007emarketing-0-5-0-85-220.png/{w}x{h}{c}.{f}\",\"bgColor\":\"ffffff\",\"textColor1\":\"050a14\",\"textColor2\":\"5c1f17\",\"textColor3\":\"373b43\",\"textColor4\":\"7c4b46\"},\"hasMessagesExtension\":false,\"releaseDate\":\"2017-09-18\",\"hasSafariExtension\":false,\"minimumMacOSVersion\":\"11.0\",\"editorialArtwork\":{\"brandLogo\":{\"width\":1080,\"height\":1080,\"url\":\"https://is3-ssl.mzstatic.com/image/thumb/Features124/v4/c8/82/38/c8823852-1841-665e-c2f5-bf413328a68a/source/{w}x{h}{c}.{f}\",\"bgColor\":\"000000\",\"textColor1\":\"f2f2f2\",\"textColor2\":\"e5e5e5\",\"textColor3\":\"c1c1c1\",\"textColor4\":\"b7b7b7\"}},\"subtitle\":\"A simple \\u0026 secure payment app\",\"isDeliveredInIOSAppForWatchOS\":false,\"bundleId\":\"com.google.paisa\",\"hasInAppPurchases\":false,\"isAppleWatchSupported\":false,\"isStandaloneForWatchOS\":false,\"requiresGameController\":false,\"isHiddenFromSpringboard\":false,\"isStandaloneWithCompanionForWatchOS\":false,\"offers\":[{\"buyParams\":\"productType=C\\u0026price=0\\u0026salableAdamId=1193357041\\u0026pricingParameters=STDQ\\u0026pg=default\\u0026appExtVrsId=851336165\",\"type\":\"get\",\"priceFormatted\":\"₹ 0\",\"price\":0,\"currencyCode\":\"INR\",\"assets\":[{\"flavor\":\"iosSoftware\",\"size\":242216960}]},{\"buyParams\":\"productType=C\\u0026price=0\\u0026salableAdamId=1193357041\\u0026pricingParameters=SWUPD\\u0026pg=default\\u0026appExtVrsId=851336165\",\"type\":\"update\",\"priceFormatted\":\"₹ 0\",\"price\":0,\"currencyCode\":\"INR\",\"assets\":[{\"flavor\":\"iosSoftware\",\"size\":242216960}]}]}},\"userRating\":{\"value\":4.7,\"ratingCount\":1865984,\"ratingCountList\":[45945,24858,71975,220993,1502213],\"ariaLabelForRatings\":\"4.7 stars\"},\"contentRatingsBySystem\":{\"appsApple\":{\"name\":\"17+\",\"value\":600,\"rank\":4,\"advisories\":[\"Gambling\",\"Frequent/Intense Contests\"]}},\"name\":\"Google Pay: Save, Pay, Manage\",\"supportsArcade\":false,\"genreDisplayName\":\"Finance\",\"isFirstPartyHideableApp\":false},\"relationships\":{\"developer\":{\"href\":\"/v1/catalog/in/apps/1193357041/developer?l=en-GB\",\"data\":[{\"id\":\"281956209\",\"type\":\"developers\",\"href\":\"/v1/catalog/in/developers/281956209?l=en-GB\"}]},\"genres\":{\"href\":\"/v1/catalog/in/apps/1193357041/genres?l=en-GB\",\"data\":[{\"id\":\"6015\",\"type\":\"genres\",\"href\":\"/v1/catalog/in/genres/6015?l=en-GB\",\"attributes\":{\"parentId\":\"36\",\"parentName\":\"App Store\",\"name\":\"Finance\",\"url\":\"https://itunes.apple.com/in/genre/id6015\"}},{\"id\":\"6012\",\"type\":\"genres\",\"href\":\"/v1/catalog/in/genres/6012?l=en-GB\",\"attributes\":{\"parentId\":\"36\",\"parentName\":\"App Store\",\"name\":\"Lifestyle\",\"url\":\"https://itunes.apple.com/in/genre/id6012\"}}]}},\"artistName\":\"Google LLC\",\"url\":\"https://apps.apple.com/in/app/google-pay-save-pay-manage/id1193357041\",\"isIOSBinaryMacOSCompatible\":false,\"reviewsRestricted\":false,\"deviceFamilies\":[\"iphone\",\"ipod\"],\"chartPositions\":{\"appStore\":{\"position\":1,\"genreName\":\"Finance\",\"genre\":6015,\"chart\":\"top-free\",\"chartLink\":\"https://apps.apple.com/in/charts/iphone/finance-apps/6015\"}},\"isPreorder\":false,\"platformAttributes\":{\"ios\":{\"requires32bit\":false,\"artwork\":{\"width\":1024,\"height\":1024,\"url\":\"https://is4-ssl.mzstatic.com/image/thumb/Purple112/v4/62/00/b6/6200b6d2-6ce4-0946-a200-ea57a6f78dc6/GPayAppIcon-0-1x_U007emarketing-0-5-0-85-220.png/{w}x{h}{c}.{f}\",\"bgColor\":\"ffffff\",\"textColor1\":\"050a14\",\"textColor2\":\"5c1f17\",\"textColor3\":\"373b43\",\"textColor4\":\"7c4b46\"},\"hasMessagesExtension\":false,\"releaseDate\":\"2017-09-18\",\"hasSafariExtension\":false,\"minimumMacOSVersion\":\"11.0\",\"editorialArtwork\":{\"brandLogo\":{\"width\":1080,\"height\":1080,\"url\":\"https://is3-ssl.mzstatic.com/image/thumb/Features124/v4/c8/82/38/c8823852-1841-665e-c2f5-bf413328a68a/source/{w}x{h}{c}.{f}\",\"bgColor\":\"000000\",\"textColor1\":\"f2f2f2\",\"textColor2\":\"e5e5e5\",\"textColor3\":\"c1c1c1\",\"textColor4\":\"b7b7b7\"}},\"subtitle\":\"A simple \\u0026 secure payment app\",\"isDeliveredInIOSAppForWatchOS\":false,\"bundleId\":\"com.google.paisa\",\"hasInAppPurchases\":false,\"isAppleWatchSupported\":false,\"isStandaloneForWatchOS\":false,\"requiresGameController\":false,\"isHiddenFromSpringboard\":false,\"isStandaloneWithCompanionForWatchOS\":false,\"offers\":[{\"buyParams\":\"productType=C\\u0026price=0\\u0026salableAdamId=1193357041\\u0026pricingParameters=STDQ\\u0026pg=default\\u0026appExtVrsId=851336165\",\"type\":\"get\",\"priceFormatted\":\"₹ 0\",\"price\":0,\"currencyCode\":\"INR\",\"assets\":[{\"flavor\":\"iosSoftware\",\"size\":242216960}]},{\"buyParams\":\"productType=C\\u0026price=0\\u0026salableAdamId=1193357041\\u0026pricingParameters=SWUPD\\u0026pg=default\\u0026appExtVrsId=851336165\",\"type\":\"update\",\"priceFormatted\":\"₹ 0\",\"price\":0,\"currencyCode\":\"INR\",\"assets\":[{\"flavor\":\"iosSoftware\",\"size\":242216960}]}]}},\"userRating\":{\"value\":4.7,\"ratingCount\":1865984,\"ratingCountList\":[45945,24858,71975,220993,1502213],\"ariaLabelForRatings\":\"4.7 stars\"},\"contentRatingsBySystem\":{\"appsApple\":{\"name\":\"17+\",\"value\":600,\"rank\":4,\"advisories\":[\"Gambling\",\"Frequent/Intense Contests\"]}},\"name\":\"Google Pay: Save, Pay, Manage\",\"supportsArcade\":false,\"genreDisplayName\":\"Finance\",\"isFirstPartyHideableApp\":false,\"artwork\":{\"width\":1024,\"height\":1024,\"url\":\"https://is4-ssl.mzstatic.com/image/thumb/Purple112/v4/62/00/b6/6200b6d2-6ce4-0946-a200-ea57a6f78dc6/GPayAppIcon-0-1x_U007emarketing-0-5-0-85-220.png/{w}x{h}{c}.{f}\",\"bgColor\":\"ffffff\",\"textColor1\":\"050a14\",\"textColor2\":\"5c1f17\",\"textColor3\":\"373b43\",\"textColor4\":\"7c4b46\"}},{\"kind\":\"app\",\"id\":\"1170055821\",\"type\":\"apps\",\"href\":\"/v1/catalog/in/apps/1170055821?l=en-GB\",\"attributes\":{\"artistName\":\"PHONEPE PRIVATE LIMITED\",\"url\":\"https://apps.apple.com/in/app/phonepe-recharge-investment/id1170055821\",\"isIOSBinaryMacOSCompatible\":false,\"reviewsRestricted\":false,\"deviceFamilies\":[\"iphone\",\"ipod\"],\"chartPositions\":{\"appStore\":{\"position\":2,\"genreName\":\"Finance\",\"genre\":6015,\"chart\":\"top-free\",\"chartLink\":\"https://apps.apple.com/in/charts/iphone/finance-apps/6015\"}},\"isPreorder\":false,\"platformAttributes\":{\"ios\":{\"requires32bit\":false,\"artwork\":{\"width\":1024,\"height\":1024,\"url\":\"https://is3-ssl.mzstatic.com/image/thumb/Purple112/v4/c1/15/16/c11516c1-a3eb-7291-d8d4-61588879337c/AppIcon-0-0-1x_U007emarketing-0-0-0-5-0-0-sRGB-0-0-0-GLES2_U002c0-512MB-85-220-0-0.png/{w}x{h}{c}.{f}\",\"bgColor\":\"5f259f\",\"textColor1\":\"ffffff\",\"textColor2\":\"d4bdee\",\"textColor3\":\"ded3eb\",\"textColor4\":\"bd9fde\"},\"hasMessagesExtension\":false,\"releaseDate\":\"2017-01-16\",\"hasSafariExtension\":false,\"minimumMacOSVersion\":\"11.0\",\"editorialArtwork\":{\"storeFlowcase\":{\"width\":4320,\"height\":1080,\"url\":\"https://is3-ssl.mzstatic.com/image/thumb/Features122/v4/32/bc/0a/32bc0aba-5e12-1c86-cd2a-2703f7768eff/source/{w}x{h}{c}.{f}\",\"bgColor\":\"6f3ec5\",\"textColor1\":\"ffffff\",\"textColor2\":\"f0ebf9\",\"textColor3\":\"e2d8f3\",\"textColor4\":\"d6c8ee\"},\"brandLogo\":{\"width\":1080,\"height\":1080,\"url\":\"https://is3-ssl.mzstatic.com/image/thumb/Features124/v4/c8/82/38/c8823852-1841-665e-c2f5-bf413328a68a/source/{w}x{h}{c}.{f}\",\"bgColor\":\"000000\",\"textColor1\":\"f2f2f2\",\"textColor2\":\"e5e5e5\",\"textColor3\":\"c1c1c1\",\"textColor4\":\"b7b7b7\"}},\"subtitle\":\"UPI Online Payments, Insurance\",\"isDeliveredInIOSAppForWatchOS\":false,\"bundleId\":\"com.phonepe.PhonePeApp\",\"hasInAppPurchases\":false,\"isAppleWatchSupported\":false,\"isStandaloneForWatchOS\":false,\"requiresGameController\":false,\"isHiddenFromSpringboard\":false,\"isStandaloneWithCompanionForWatchOS\":false,\"offers\":[{\"buyParams\":\"productType=C\\u0026price=0\\u0026salableAdamId=1170055821\\u0026pricingParameters=STDQ\\u0026pg=default\\u0026appExtVrsId=851478036\",\"type\":\"get\",\"priceFormatted\":\"₹ 0\",\"price\":0,\"currencyCode\":\"INR\",\"assets\":[{\"flavor\":\"iosSoftware\",\"size\":207290368}]},{\"buyParams\":\"productType=C\\u0026price=0\\u0026salableAdamId=1170055821\\u0026pricingParameters=SWUPD\\u0026pg=default\\u0026appExtVrsId=851478036\",\"type\":\"update\",\"priceFormatted\":\"₹ 0\",\"price\":0,\"currencyCode\":\"INR\",\"assets\":[{\"flavor\":\"iosSoftware\",\"size\":207290368}]}]}},\"userRating\":{\"value\":4.7,\"ratingCount\":3545495,\"ratingCountList\":[67999,48835,132256,387583,2908822],\"ariaLabelForRatings\":\"4.7 stars\"},\"contentRatingsBySystem\":{\"appsApple\":{\"name\":\"4+\",\"value\":100,\"rank\":1}},\"name\":\"PhonePe: Recharge \\u0026 Investment\",\"supportsArcade\":false,\"genreDisplayName\":\"Finance\",\"isFirstPartyHideableApp\":false},\"relationships\":{\"developer\":{\"href\":\"/v1/catalog/in/apps/1170055821/developer?l=en-GB\",\"data\":[{\"id\":\"1170055820\",\"type\":\"developers\",\"href\":\"/v1/catalog/in/developers/1170055820?l=en-GB\"}]},\"genres\":{\"href\":\"/v1/catalog/in/apps/1170055821/genres?l=en-GB\",\"data\":[{\"id\":\"6015\",\"type\":\"genres\",\"href\":\"/v1/catalog/in/genres/6015?l=en-GB\",\"attributes\":{\"parentId\":\"36\",\"parentName\":\"App Store\",\"name\":\"Finance\",\"url\":\"https://itunes.apple.com/in/genre/id6015\"}}]}},\"artistName\":\"PHONEPE PRIVATE LIMITED\",\"url\":\"https://apps.apple.com/in/app/phonepe-recharge-investment/id1170055821\",\"isIOSBinaryMacOSCompatible\":false,\"reviewsRestricted\":false,\"deviceFamilies\":[\"iphone\",\"ipod\"],\"chartPositions\":{\"appStore\":{\"position\":2,\"genreName\":\"Finance\",\"genre\":6015,\"chart\":\"top-free\",\"chartLink\":\"https://apps.apple.com/in/charts/iphone/finance-apps/6015\"}},\"isPreorder\":false,\"platformAttributes\":{\"ios\":{\"requires32bit\":false,\"artwork\":{\"width\":1024,\"height\":1024,\"url\":\"https://is3-ssl.mzstatic.com/image/thumb/Purple112/v4/c1/15/16/c11516c1-a3eb-7291-d8d4-61588879337c/AppIcon-0-0-1x_U007emarketing-0-0-0-5-0-0-sRGB-0-0-0-GLES2_U002c0-512MB-85-220-0-0.png/{w}x{h}{c}.{f}\",\"bgColor\":\"5f259f\",\"textColor1\":\"ffffff\",\"textColor2\":\"d4bdee\",\"textColor3\":\"ded3eb\",\"textColor4\":\"bd9fde\"},\"hasMessagesExtension\":false,\"releaseDate\":\"2017-01-16\",\"hasSafariExtension\":false,\"minimumMacOSVersion\":\"11.0\",\"editorialArtwork\":{\"storeFlowcase\":{\"width\":4320,\"height\":1080,\"url\":\"https://is3-ssl.mzstatic.com/image/thumb/Features122/v4/32/bc/0a/32bc0aba-5e12-1c86-cd2a-2703f7768eff/source/{w}x{h}{c}.{f}\",\"bgColor\":\"6f3ec5\",\"textColor1\":\"ffffff\",\"textColor2\":\"f0ebf9\",\"textColor3\":\"e2d8f3\",\"textColor4\":\"d6c8ee\"},\"brandLogo\":{\"width\":1080,\"height\":1080,\"url\":\"https://is3-ssl.mzstatic.com/image/thumb/Features124/v4/c8/82/38/c8823852-1841-665e-c2f5-bf413328a68a/source/{w}x{h}{c}.{f}\",\"bgColor\":\"000000\",\"textColor1\":\"f2f2f2\",\"textColor2\":\"e5e5e5\",\"textColor3\":\"c1c1c1\",\"textColor4\":\"b7b7b7\"}},\"subtitle\":\"UPI Online Payments, Insurance\",\"isDeliveredInIOSAppForWatchOS\":false,\"bundleId\":\"com.phonepe.PhonePeApp\",\"hasInAppPurchases\":false,\"isAppleWatchSupported\":false,\"isStandaloneForWatchOS\":false,\"requiresGameController\":false,\"isHiddenFromSpringboard\":false,\"isStandaloneWithCompanionForWatchOS\":false,\"offers\":[{\"buyParams\":\"productType=C\\u0026price=0\\u0026salableAdamId=1170055821\\u0026pricingParameters=STDQ\\u0026pg=default\\u0026appExtVrsId=851478036\",\"type\":\"get\",\"priceFormatted\":\"₹ 0\",\"price\":0,\"currencyCode\":\"INR\",\"assets\":[{\"flavor\":\"iosSoftware\",\"size\":207290368}]},{\"buyParams\":\"productType=C\\u0026price=0\\u0026salableAdamId=1170055821\\u0026pricingParameters=SWUPD\\u0026pg=default\\u0026appExtVrsId=851478036\",\"type\":\"update\",\"priceFormatted\":\"₹ 0\",\"price\":0,\"currencyCode\":\"INR\",\"assets\":[{\"flavor\":\"iosSoftware\",\"size\":207290368}]}]}},\"userRating\":{\"value\":4.7,\"ratingCount\":3545495,\"ratingCountList\":[67999,48835,132256,387583,2908822],\"ariaLabelForRatings\":\"4.7 stars\"},\"contentRatingsBySystem\":{\"appsApple\":{\"name\":\"4+\",\"value\":100,\"rank\":1}},\"name\":\"PhonePe: Recharge \\u0026 Investment\",\"supportsArcade\":false,\"genreDisplayName\":\"Finance\",\"isFirstPartyHideableApp\":false,\"artwork\":{\"width\":1024,\"height\":1024,\"url\":\"https://is3-ssl.mzstatic.com/image/thumb/Purple112/v4/c1/15/16/c11516c1-a3eb-7291-d8d4-61588879337c/AppIcon-0-0-1x_U007emarketing-0-0-0-5-0-0-sRGB-0-0-0-GLES2_U002c0-512MB-85-220-0-0.png/{w}x{h}{c}.{f}\",\"bgColor\":\"5f259f\",\"textColor1\":\"ffffff\",\"textColor2\":\"d4bdee\",\"textColor3\":\"ded3eb\",\"textColor4\":\"bd9fde\"}},{\"kind\":\"app\",\"id\":\"473941634\",\"type\":\"apps\",\"href\":\"/v1/catalog/in/apps/473941634?l=en-GB\",\"attributes\":{\"artistName\":\"Paytm Mobile Solutions\",\"url\":\"https://apps.apple.com/in/app/paytm-secure-upi-payments/id473941634\",\"isIOSBinaryMacOSCompatible\":true,\"reviewsRestricted\":false,\"deviceFamilies\":[\"iphone\",\"ipod\"],\"chartPositions\":{\"appStore\":{\"position\":3,\"genreName\":\"Finance\",\"genre\":6015,\"chart\":\"top-free\",\"chartLink\":\"https://apps.apple.com/in/charts/iphone/finance-apps/6015\"}},\"isPreorder\":false,\"platformAttributes\":{\"ios\":{\"requires32bit\":false,\"artwork\":{\"width\":1024,\"height\":1024,\"url\":\"https://is3-ssl.mzstatic.com/image/thumb/Purple122/v4/b2/1f/11/b21f11c3-2aac-c951-852e-5adf8a9b2653/AppIcon-0-0-1x_U007emarketing-0-0-0-8-0-0-sRGB-0-0-0-GLES2_U002c0-512MB-85-220-0-0.png/{w}x{h}{c}.{f}\",\"bgColor\":\"ffffff\",\"textColor1\":\"0f0d0e\",\"textColor2\":\"091334\",\"textColor3\":\"3f3e3e\",\"textColor4\":\"3a425d\"},\"hasMessagesExtension\":false,\"releaseDate\":\"2011-10-24\",\"hasSafariExtension\":false,\"minimumMacOSVersion\":\"11.0\",\"editorialArtwork\":{\"originalFlowcaseBrick\":{\"width\":3200,\"height\":600,\"url\":\"https://is1-ssl.mzstatic.com/image/thumb/Features7/v4/48/8b/d9/488bd9de-77d7-42dc-6e22-36fe2ccd53e0/source/{w}x{h}{c}.{f}\",\"bgColor\":\"ffffff\",\"textColor1\":\"001015\",\"textColor2\":\"011431\",\"textColor3\":\"334044\",\"textColor4\":\"34435a\"},\"storeFlowcase\":{\"width\":4320,\"height\":1080,\"url\":\"https://is5-ssl.mzstatic.com/image/thumb/Features122/v4/ac/31/fa/ac31fab5-331b-75e1-90d3-d3b1931303e8/source/{w}x{h}{c}.{f}\",\"bgColor\":\"0146b7\",\"textColor1\":\"ffffff\",\"textColor2\":\"e5ecf7\",\"textColor3\":\"ccd9f0\",\"textColor4\":\"b8cbea\"},\"subscriptionHero\":{\"width\":4320,\"height\":1080,\"url\":\"https://is4-ssl.mzstatic.com/image/thumb/Features125/v4/2f/9f/fe/2f9ffec5-f36e-a624-6e39-b18a9d971696/source/{w}x{h}{c}.{f}\",\"bgColor\":\"ddf5fe\",\"textColor1\":\"191d29\",\"textColor2\":\"20242f\",\"textColor3\":\"383f4b\",\"textColor4\":\"3f4651\"},\"bannerUber\":{\"width\":4320,\"height\":1080,\"url\":\"https://is1-ssl.mzstatic.com/image/thumb/Features111/v4/9b/03/93/9b039389-5d8c-76e6-891b-783af89023bb/source/{w}x{h}sr.{f}\",\"bgColor\":\"ffffff\",\"textColor1\":\"001015\",\"textColor2\":\"001332\",\"textColor3\":\"334044\",\"textColor4\":\"33425b\"},\"brandLogo\":{\"width\":1080,\"height\":1080,\"url\":\"https://is3-ssl.mzstatic.com/image/thumb/Features124/v4/c8/82/38/c8823852-1841-665e-c2f5-bf413328a68a/source/{w}x{h}{c}.{f}\",\"bgColor\":\"000000\",\"textColor1\":\"f2f2f2\",\"textColor2\":\"e5e5e5\",\"textColor3\":\"c1c1c1\",\"textColor4\":\"b7b7b7\"}},\"subtitle\":\"BHIM UPI, Recharge \\u0026 Pay Bills\",\"isDeliveredInIOSAppForWatchOS\":false,\"bundleId\":\"com.one97.paytm\",\"hasInAppPurchases\":false,\"isAppleWatchSupported\":false,\"isStandaloneForWatchOS\":false,\"requiresGameController\":false,\"isHiddenFromSpringboard\":false,\"isStandaloneWithCompanionForWatchOS\":false,\"offers\":[{\"buyParams\":\"productType=C\\u0026price=0\\u0026salableAdamId=473941634\\u0026pricingParameters=STDQ\\u0026pg=default\\u0026appExtVrsId=851183245\",\"type\":\"get\",\"priceFormatted\":\"₹ 0\",\"price\":0,\"currencyCode\":\"INR\",\"assets\":[{\"flavor\":\"iosSoftware\",\"size\":279537664}]},{\"buyParams\":\"productType=C\\u0026price=0\\u0026salableAdamId=473941634\\u0026pricingParameters=SWUPD\\u0026pg=default\\u0026appExtVrsId=851183245\",\"type\":\"update\",\"priceFormatted\":\"₹ 0\",\"price\":0,\"currencyCode\":\"INR\",\"assets\":[{\"flavor\":\"iosSoftware\",\"size\":279537664}]}]}},\"userRating\":{\"value\":4.7,\"ratingCount\":2598136,\"ratingCountList\":[65231,33857,102072,310012,2086964],\"ariaLabelForRatings\":\"4.7 stars\"},\"contentRatingsBySystem\":{\"appsApple\":{\"name\":\"4+\",\"value\":100,\"rank\":1}},\"name\":\"Paytm: Secure UPI Payments\",\"supportsArcade\":false,\"genreDisplayName\":\"Finance\",\"isFirstPartyHideableApp\":false},\"relationships\":{\"developer\":{\"href\":\"/v1/catalog/in/apps/473941634/developer?l=en-GB\",\"data\":[{\"id\":\"473941637\",\"type\":\"developers\",\"href\":\"/v1/catalog/in/developers/473941637?l=en-GB\"}]},\"genres\":{\"href\":\"/v1/catalog/in/apps/473941634/genres?l=en-GB\",\"data\":[{\"id\":\"6015\",\"type\":\"genres\",\"href\":\"/v1/catalog/in/genres/6015?l=en-GB\",\"attributes\":{\"parentId\":\"36\",\"parentName\":\"App Store\",\"name\":\"Finance\",\"url\":\"https://itunes.apple.com/in/genre/id6015\"}},{\"id\":\"6012\",\"type\":\"genres\",\"href\":\"/v1/catalog/in/genres/6012?l=en-GB\",\"attributes\":{\"parentId\":\"36\",\"parentName\":\"App Store\",\"name\":\"Lifestyle\",\"url\":\"https://itunes.apple.com/in/genre/id6012\"}}]}},\"artistName\":\"Paytm Mobile Solutions\",\"url\":\"https://apps.apple.com/in/app/paytm-secure-upi-payments/id473941634\",\"isIOSBinaryMacOSCompatible\":true,\"reviewsRestricted\":false,\"deviceFamilies\":[\"iphone\",\"ipod\"],\"chartPositions\":{\"appStore\":{\"position\":3,\"genreName\":\"Finance\",\"genre\":6015,\"chart\":\"top-free\",\"chartLink\":\"https://apps.apple.com/in/charts/iphone/finance-apps/6015\"}},\"isPreorder\":false,\"platformAttributes\":{\"ios\":{\"requires32bit\":false,\"artwork\":{\"width\":1024,\"height\":1024,\"url\":\"https://is3-ssl.mzstatic.com/image/thumb/Purple122/v4/b2/1f/11/b21f11c3-2aac-c951-852e-5adf8a9b2653/AppIcon-0-0-1x_U007emarketing-0-0-0-8-0-0-sRGB-0-0-0-GLES2_U002c0-512MB-85-220-0-0.png/{w}x{h}{c}.{f}\",\"bgColor\":\"ffffff\",\"textColor1\":\"0f0d0e\",\"textColor2\":\"091334\",\"textColor3\":\"3f3e3e\",\"textColor4\":\"3a425d\"},\"hasMessagesExtension\":false,\"releaseDate\":\"2011-10-24\",\"hasSafariExtension\":false,\"minimumMacOSVersion\":\"11.0\",\"editorialArtwork\":{\"originalFlowcaseBrick\":{\"width\":3200,\"height\":600,\"url\":\"https://is1-ssl.mzstatic.com/image/thumb/Features7/v4/48/8b/d9/488bd9de-77d7-42dc-6e22-36fe2ccd53e0/source/{w}x{h}{c}.{f}\",\"bgColor\":\"ffffff\",\"textColor1\":\"001015\",\"textColor2\":\"011431\",\"textColor3\":\"334044\",\"textColor4\":\"34435a\"},\"storeFlowcase\":{\"width\":4320,\"height\":1080,\"url\":\"https://is5-ssl.mzstatic.com/image/thumb/Features122/v4/ac/31/fa/ac31fab5-331b-75e1-90d3-d3b1931303e8/source/{w}x{h}{c}.{f}\",\"bgColor\":\"0146b7\",\"textColor1\":\"ffffff\",\"textColor2\":\"e5ecf7\",\"textColor3\":\"ccd9f0\",\"textColor4\":\"b8cbea\"},\"subscriptionHero\":{\"width\":4320,\"height\":1080,\"url\":\"https://is4-ssl.mzstatic.com/image/thumb/Features125/v4/2f/9f/fe/2f9ffec5-f36e-a624-6e39-b18a9d971696/source/{w}x{h}{c}.{f}\",\"bgColor\":\"ddf5fe\",\"textColor1\":\"191d29\",\"textColor2\":\"20242f\",\"textColor3\":\"383f4b\",\"textColor4\":\"3f4651\"},\"bannerUber\":{\"width\":4320,\"height\":1080,\"url\":\"https://is1-ssl.mzstatic.com/image/thumb/Features111/v4/9b/03/93/9b039389-5d8c-76e6-891b-783af89023bb/source/{w}x{h}sr.{f}\",\"bgColor\":\"ffffff\",\"textColor1\":\"001015\",\"textColor2\":\"001332\",\"textColor3\":\"334044\",\"textColor4\":\"33425b\"},\"brandLogo\":{\"width\":1080,\"height\":1080,\"url\":\"https://is3-ssl.mzstatic.com/image/thumb/Features124/v4/c8/82/38/c8823852-1841-665e-c2f5-bf413328a68a/source/{w}x{h}{c}.{f}\",\"bgColor\":\"000000\",\"textColor1\":\"f2f2f2\",\"textColor2\":\"e5e5e5\",\"textColor3\":\"c1c1c1\",\"textColor4\":\"b7b7b7\"}},\"subtitle\":\"BHIM UPI, Recharge \\u0026 Pay Bills\",\"isDeliveredInIOSAppForWatchOS\":false,\"bundleId\":\"com.one97.paytm\",\"hasInAppPurchases\":false,\"isAppleWatchSupported\":false,\"isStandaloneForWatchOS\":false,\"requiresGameController\":false,\"isHiddenFromSpringboard\":false,\"isStandaloneWithCompanionForWatchOS\":false,\"offers\":[{\"buyParams\":\"productType=C\\u0026price=0\\u0026salableAdamId=473941634\\u0026pricingParameters=STDQ\\u0026pg=default\\u0026appExtVrsId=851183245\",\"type\":\"get\",\"priceFormatted\":\"₹ 0\",\"price\":0,\"currencyCode\":\"INR\",\"assets\":[{\"flavor\":\"iosSoftware\",\"size\":279537664}]},{\"buyParams\":\"productType=C\\u0026price=0\\u0026salableAdamId=473941634\\u0026pricingParameters=SWUPD\\u0026pg=default\\u0026appExtVrsId=851183245\",\"type\":\"update\",\"priceFormatted\":\"₹ 0\",\"price\":0,\"currencyCode\":\"INR\",\"assets\":[{\"flavor\":\"iosSoftware\",\"size\":279537664}]}]}},\"userRating\":{\"value\":4.7,\"ratingCount\":2598136,\"ratingCountList\":[65231,33857,102072,310012,2086964],\"ariaLabelForRatings\":\"4.7 stars\"},\"contentRatingsBySystem\":{\"appsApple\":{\"name\":\"4+\",\"value\":100,\"rank\":1}},\"name\":\"Paytm: Secure UPI Payments\",\"supportsArcade\":false,\"genreDisplayName\":\"Finance\",\"isFirstPartyHideableApp\":false,\"artwork\":{\"width\":1024,\"height\":1024,\"url\":\"https://is3-ssl.mzstatic.com/image/thumb/Purple122/v4/b2/1f/11/b21f11c3-2aac-c951-852e-5adf8a9b2653/AppIcon-0-0-1x_U007emarketing-0-0-0-8-0-0-sRGB-0-0-0-GLES2_U002c0-512MB-85-220-0-0.png/{w}x{h}{c}.{f}\",\"bgColor\":\"ffffff\",\"textColor1\":\"0f0d0e\",\"textColor2\":\"091334\",\"textColor3\":\"3f3e3e\",\"textColor4\":\"3a425d\"}},{\"kind\":\"app\",\"id\":\"1231393474\",\"type\":\"apps\",\"href\":\"/v1/catalog/in/apps/1231393474?l=en-GB\",\"attributes\":{\"artistName\":\"State Bank of India\",\"url\":\"https://apps.apple.com/in/app/yono-sbi-banking-and-lifestyle/id1231393474\",\"isIOSBinaryMacOSCompatible\":false,\"reviewsRestricted\":false,\"deviceFamilies\":[\"iphone\",\"ipod\"],\"chartPositions\":{\"appStore\":{\"position\":4,\"genreName\":\"Finance\",\"genre\":6015,\"chart\":\"top-free\",\"chartLink\":\"https://apps.apple.com/in/charts/iphone/finance-apps/6015\"}},\"isPreorder\":false,\"platformAttributes\":{\"ios\":{\"requires32bit\":false,\"artwork\":{\"width\":1024,\"height\":1024,\"url\":\"https://is1-ssl.mzstatic.com/image/thumb/Purple122/v4/d6/e4/43/d6e44311-4212-a62f-315b-7eeea4f3b482/AppIcon-0-0-1x_U007emarketing-0-0-0-10-0-0-sRGB-0-0-0-GLES2_U002c0-512MB-85-220-0-0.png/{w}x{h}{c}.{f}\",\"bgColor\":\"560868\",\"textColor1\":\"ffffff\",\"textColor2\":\"08b3f0\",\"textColor3\":\"ddcde0\",\"textColor4\":\"1891d5\"},\"hasMessagesExtension\":false,\"releaseDate\":\"2017-10-21\",\"hasSafariExtension\":false,\"minimumMacOSVersion\":\"11.0\",\"editorialArtwork\":{\"brandLogo\":{\"width\":1080,\"height\":1080,\"url\":\"https://is3-ssl.mzstatic.com/image/thumb/Features124/v4/c8/82/38/c8823852-1841-665e-c2f5-bf413328a68a/source/{w}x{h}{c}.{f}\",\"bgColor\":\"000000\",\"textColor1\":\"f2f2f2\",\"textColor2\":\"e5e5e5\",\"textColor3\":\"c1c1c1\",\"textColor4\":\"b7b7b7\"}},\"subtitle\":\"Bank,Invest,Shop,Travel\",\"isDeliveredInIOSAppForWatchOS\":false,\"bundleId\":\"com.sbi.lotusintouch\",\"hasInAppPurchases\":false,\"isAppleWatchSupported\":false,\"isStandaloneForWatchOS\":false,\"requiresGameController\":false,\"isHiddenFromSpringboard\":false,\"isStandaloneWithCompanionForWatchOS\":false,\"offers\":[{\"buyParams\":\"productType=C\\u0026price=0\\u0026salableAdamId=1231393474\\u0026pricingParameters=STDQ\\u0026pg=default\\u0026appExtVrsId=850857543\",\"type\":\"get\",\"priceFormatted\":\"₹ 0\",\"price\":0,\"currencyCode\":\"INR\",\"assets\":[{\"flavor\":\"iosSoftware\",\"size\":98864128}]},{\"buyParams\":\"productType=C\\u0026price=0\\u0026salableAdamId=1231393474\\u0026pricingParameters=SWUPD\\u0026pg=default\\u0026appExtVrsId=850857543\",\"type\":\"update\",\"priceFormatted\":\"₹ 0\",\"price\":0,\"currencyCode\":\"INR\",\"assets\":[{\"flavor\":\"iosSoftware\",\"size\":98864128}]}]}},\"userRating\":{\"value\":3.5,\"ratingCount\":45179,\"ratingCountList\":[10822,3079,3580,8225,19473],\"ariaLabelForRatings\":\"3.5 stars\"},\"contentRatingsBySystem\":{\"appsApple\":{\"name\":\"4+\",\"value\":100,\"rank\":1}},\"name\":\"YONO SBI:Banking and Lifestyle\",\"supportsArcade\":false,\"genreDisplayName\":\"Finance\",\"isFirstPartyHideableApp\":false},\"relationships\":{\"developer\":{\"href\":\"/v1/catalog/in/apps/1231393474/developer?l=en-GB\",\"data\":[{\"id\":\"503784436\",\"type\":\"developers\",\"href\":\"/v1/catalog/in/developers/503784436?l=en-GB\"}]},\"genres\":{\"href\":\"/v1/catalog/in/apps/1231393474/genres?l=en-GB\",\"data\":[{\"id\":\"6015\",\"type\":\"genres\",\"href\":\"/v1/catalog/in/genres/6015?l=en-GB\",\"attributes\":{\"parentId\":\"36\",\"parentName\":\"App Store\",\"name\":\"Finance\",\"url\":\"https://itunes.apple.com/in/genre/id6015\"}}]}},\"artistName\":\"State Bank of India\",\"url\":\"https://apps.apple.com/in/app/yono-sbi-banking-and-lifestyle/id1231393474\",\"isIOSBinaryMacOSCompatible\":false,\"reviewsRestricted\":false,\"deviceFamilies\":[\"iphone\",\"ipod\"],\"chartPositions\":{\"appStore\":{\"position\":4,\"genreName\":\"Finance\",\"genre\":6015,\"chart\":\"top-free\",\"chartLink\":\"https://apps.apple.com/in/charts/iphone/finance-apps/6015\"}},\"isPreorder\":false,\"platformAttributes\":{\"ios\":{\"requires32bit\":false,\"artwork\":{\"width\":1024,\"height\":1024,\"url\":\"https://is1-ssl.mzstatic.com/image/thumb/Purple122/v4/d6/e4/43/d6e44311-4212-a62f-315b-7eeea4f3b482/AppIcon-0-0-1x_U007emarketing-0-0-0-10-0-0-sRGB-0-0-0-GLES2_U002c0-512MB-85-220-0-0.png/{w}x{h}{c}.{f}\",\"bgColor\":\"560868\",\"textColor1\":\"ffffff\",\"textColor2\":\"08b3f0\",\"textColor3\":\"ddcde0\",\"textColor4\":\"1891d5\"},\"hasMessagesExtension\":false,\"releaseDate\":\"2017-10-21\",\"hasSafariExtension\":false,\"minimumMacOSVersion\":\"11.0\",\"editorialArtwork\":{\"brandLogo\":{\"width\":1080,\"height\":1080,\"url\":\"https://is3-ssl.mzstatic.com/image/thumb/Features124/v4/c8/82/38/c8823852-1841-665e-c2f5-bf413328a68a/source/{w}x{h}{c}.{f}\",\"bgColor\":\"000000\",\"textColor1\":\"f2f2f2\",\"textColor2\":\"e5e5e5\",\"textColor3\":\"c1c1c1\",\"textColor4\":\"b7b7b7\"}},\"subtitle\":\"Bank,Invest,Shop,Travel\",\"isDeliveredInIOSAppForWatchOS\":false,\"bundleId\":\"com.sbi.lotusintouch\",\"hasInAppPurchases\":false,\"isAppleWatchSupported\":false,\"isStandaloneForWatchOS\":false,\"requiresGameController\":false,\"isHiddenFromSpringboard\":false,\"isStandaloneWithCompanionForWatchOS\":false,\"offers\":[{\"buyParams\":\"productType=C\\u0026price=0\\u0026salableAdamId=1231393474\\u0026pricingParameters=STDQ\\u0026pg=default\\u0026appExtVrsId=850857543\",\"type\":\"get\",\"priceFormatted\":\"₹ 0\",\"price\":0,\"currencyCode\":\"INR\",\"assets\":[{\"flavor\":\"iosSoftware\",\"size\":98864128}]},{\"buyParams\":\"productType=C\\u0026price=0\\u0026salableAdamId=1231393474\\u0026pricingParameters=SWUPD\\u0026pg=default\\u0026appExtVrsId=850857543\",\"type\":\"update\",\"priceFormatted\":\"₹ 0\",\"price\":0,\"currencyCode\":\"INR\",\"assets\":[{\"flavor\":\"iosSoftware\",\"size\":98864128}]}]}},\"userRating\":{\"value\":3.5,\"ratingCount\":45179,\"ratingCountList\":[10822,3079,3580,8225,19473],\"ariaLabelForRatings\":\"3.5 stars\"},\"contentRatingsBySystem\":{\"appsApple\":{\"name\":\"4+\",\"value\":100,\"rank\":1}},\"name\":\"YONO SBI:Banking and Lifestyle\",\"supportsArcade\":false,\"genreDisplayName\":\"Finance\",\"isFirstPartyHideableApp\":false,\"artwork\":{\"width\":1024,\"height\":1024,\"url\":\"https://is1-ssl.mzstatic.com/image/thumb/Purple122/v4/d6/e4/43/d6e44311-4212-a62f-315b-7eeea4f3b482/AppIcon-0-0-1x_U007emarketing-0-0-0-10-0-0-sRGB-0-0-0-GLES2_U002c0-512MB-85-220-0-0.png/{w}x{h}{c}.{f}\",\"bgColor\":\"560868\",\"textColor1\":\"ffffff\",\"textColor2\":\"08b3f0\",\"textColor3\":\"ddcde0\",\"textColor4\":\"1891d5\"}},{\"kind\":\"app\",\"id\":\"515891771\",\"type\":\"apps\",\"href\":\"/v1/catalog/in/apps/515891771?l=en-GB\",\"attributes\":{\"minimumWatchOSVersion\":\"3.1\",\"artistName\":\"HDFC Bank Ltd.\",\"url\":\"https://apps.apple.com/in/app/hdfc-bank-mobilebanking/id515891771\",\"isIOSBinaryMacOSCompatible\":false,\"reviewsRestricted\":false,\"deviceFamilies\":[\"watch\",\"iphone\",\"ipad\",\"ipod\"],\"chartPositions\":{\"appStore\":{\"position\":5,\"genreName\":\"Finance\",\"genre\":6015,\"chart\":\"top-free\",\"chartLink\":\"https://apps.apple.com/in/charts/iphone/finance-apps/6015\"}},\"isPreorder\":false,\"platformAttributes\":{\"ios\":{\"requires32bit\":false,\"artwork\":{\"width\":1024,\"height\":1024,\"url\":\"https://is2-ssl.mzstatic.com/image/thumb/Purple126/v4/43/4a/34/434a3450-eb1e-e639-5250-50478da2040d/AppIcon-0-0-1x_U007emarketing-0-0-0-7-0-0-sRGB-0-0-0-GLES2_U002c0-512MB-85-220-0-0.png/{w}x{h}{c}.{f}\",\"bgColor\":\"ffffff\",\"textColor1\":\"00213f\",\"textColor2\":\"102d46\",\"textColor3\":\"334e65\",\"textColor4\":\"40576b\"},\"hasMessagesExtension\":false,\"releaseDate\":\"2012-04-11\",\"hasSafariExtension\":false,\"minimumMacOSVersion\":\"11.0\",\"editorialArtwork\":{\"brandLogo\":{\"width\":1080,\"height\":1080,\"url\":\"https://is3-ssl.mzstatic.com/image/thumb/Features124/v4/c8/82/38/c8823852-1841-665e-c2f5-bf413328a68a/source/{w}x{h}{c}.{f}\",\"bgColor\":\"000000\",\"textColor1\":\"f2f2f2\",\"textColor2\":\"e5e5e5\",\"textColor3\":\"c1c1c1\",\"textColor4\":\"b7b7b7\"}},\"subtitle\":\"Payments, Billpay, Cards \\u0026 UPI\",\"isDeliveredInIOSAppForWatchOS\":true,\"bundleId\":\"com.hdfcbank.mobilebanking\",\"hasInAppPurchases\":false,\"isAppleWatchSupported\":true,\"isStandaloneForWatchOS\":false,\"circularArtwork\":{\"width\":1024,\"height\":1024,\"url\":\"https://is3-ssl.mzstatic.com/image/thumb/Purple126/v4/73/82/52/738252fe-817b-969a-4ca2-5717c7c8003f/AppIcon-0-0-1x_U007emarketing-0-0-0-9-0-0-sRGB-0-0-0-GLES2_U002c0-512MB-85-220-0-0.png/{w}x{h}{c}.{f}\",\"bgColor\":\"ffffff\",\"textColor1\":\"00213f\",\"textColor2\":\"102d46\",\"textColor3\":\"334e65\",\"textColor4\":\"40576b\"},\"requiresGameController\":false,\"isHiddenFromSpringboard\":false,\"isStandaloneWithCompanionForWatchOS\":false,\"offers\":[{\"buyParams\":\"productType=C\\u0026price=0\\u0026salableAdamId=515891771\\u0026pricingParameters=STDQ\\u0026pg=default\\u0026appExtVrsId=847433508\",\"type\":\"get\",\"priceFormatted\":\"₹ 0\",\"price\":0,\"currencyCode\":\"INR\",\"assets\":[{\"flavor\":\"iosSoftware\",\"size\":246809600}]},{\"buyParams\":\"productType=C\\u0026price=0\\u0026salableAdamId=515891771\\u0026pricingParameters=SWUPD\\u0026pg=default\\u0026appExtVrsId=847433508\",\"type\":\"update\",\"priceFormatted\":\"₹ 0\",\"price\":0,\"currencyCode\":\"INR\",\"assets\":[{\"flavor\":\"iosSoftware\",\"size\":246809600}]}]}},\"watchBundleId\":\"com.hdfcbank.mobilebanking.watchkitapp\",\"userRating\":{\"value\":3.7,\"ratingCount\":47117,\"ratingCountList\":[10766,1921,2705,8382,23343],\"ariaLabelForRatings\":\"3.7 stars\"},\"contentRatingsBySystem\":{\"appsApple\":{\"name\":\"4+\",\"value\":100,\"rank\":1}},\"name\":\"HDFC Bank MobileBanking\",\"supportsArcade\":false,\"genreDisplayName\":\"Finance\",\"isFirstPartyHideableApp\":false},\"relationships\":{\"developer\":{\"href\":\"/v1/catalog/in/apps/515891771/developer?l=en-GB\",\"data\":[{\"id\":\"515891774\",\"type\":\"developers\",\"href\":\"/v1/catalog/in/developers/515891774?l=en-GB\"}]},\"genres\":{\"href\":\"/v1/catalog/in/apps/515891771/genres?l=en-GB\",\"data\":[{\"id\":\"6015\",\"type\":\"genres\",\"href\":\"/v1/catalog/in/genres/6015?l=en-GB\",\"attributes\":{\"parentId\":\"36\",\"parentName\":\"App Store\",\"name\":\"Finance\",\"url\":\"https://itunes.apple.com/in/genre/id6015\"}},{\"id\":\"6000\",\"type\":\"genres\",\"href\":\"/v1/catalog/in/genres/6000?l=en-GB\",\"attributes\":{\"parentId\":\"36\",\"parentName\":\"App Store\",\"name\":\"Business\",\"url\":\"https://itunes.apple.com/in/genre/id6000\"}}]}},\"minimumWatchOSVersion\":\"3.1\",\"artistName\":\"HDFC Bank Ltd.\",\"url\":\"https://apps.apple.com/in/app/hdfc-bank-mobilebanking/id515891771\",\"isIOSBinaryMacOSCompatible\":false,\"reviewsRestricted\":false,\"deviceFamilies\":[\"watch\",\"iphone\",\"ipad\",\"ipod\"],\"chartPositions\":{\"appStore\":{\"position\":5,\"genreName\":\"Finance\",\"genre\":6015,\"chart\":\"top-free\",\"chartLink\":\"https://apps.apple.com/in/charts/iphone/finance-apps/6015\"}},\"isPreorder\":false,\"platformAttributes\":{\"ios\":{\"requires32bit\":false,\"artwork\":{\"width\":1024,\"height\":1024,\"url\":\"https://is2-ssl.mzstatic.com/image/thumb/Purple126/v4/43/4a/34/434a3450-eb1e-e639-5250-50478da2040d/AppIcon-0-0-1x_U007emarketing-0-0-0-7-0-0-sRGB-0-0-0-GLES2_U002c0-512MB-85-220-0-0.png/{w}x{h}{c}.{f}\",\"bgColor\":\"ffffff\",\"textColor1\":\"00213f\",\"textColor2\":\"102d46\",\"textColor3\":\"334e65\",\"textColor4\":\"40576b\"},\"hasMessagesExtension\":false,\"releaseDate\":\"2012-04-11\",\"hasSafariExtension\":false,\"minimumMacOSVersion\":\"11.0\",\"editorialArtwork\":{\"brandLogo\":{\"width\":1080,\"height\":1080,\"url\":\"https://is3-ssl.mzstatic.com/image/thumb/Features124/v4/c8/82/38/c8823852-1841-665e-c2f5-bf413328a68a/source/{w}x{h}{c}.{f}\",\"bgColor\":\"000000\",\"textColor1\":\"f2f2f2\",\"textColor2\":\"e5e5e5\",\"textColor3\":\"c1c1c1\",\"textColor4\":\"b7b7b7\"}},\"subtitle\":\"Payments, Billpay, Cards \\u0026 UPI\",\"isDeliveredInIOSAppForWatchOS\":true,\"bundleId\":\"com.hdfcbank.mobilebanking\",\"hasInAppPurchases\":false,\"isAppleWatchSupported\":true,\"isStandaloneForWatchOS\":false,\"circularArtwork\":{\"width\":1024,\"height\":1024,\"url\":\"https://is3-ssl.mzstatic.com/image/thumb/Purple126/v4/73/82/52/738252fe-817b-969a-4ca2-5717c7c8003f/AppIcon-0-0-1x_U007emarketing-0-0-0-9-0-0-sRGB-0-0-0-GLES2_U002c0-512MB-85-220-0-0.png/{w}x{h}{c}.{f}\",\"bgColor\":\"ffffff\",\"textColor1\":\"00213f\",\"textColor2\":\"102d46\",\"textColor3\":\"334e65\",\"textColor4\":\"40576b\"},\"requiresGameController\":false,\"isHiddenFromSpringboard\":false,\"isStandaloneWithCompanionForWatchOS\":false,\"offers\":[{\"buyParams\":\"productType=C\\u0026price=0\\u0026salableAdamId=515891771\\u0026pricingParameters=STDQ\\u0026pg=default\\u0026appExtVrsId=847433508\",\"type\":\"get\",\"priceFormatted\":\"₹ 0\",\"price\":0,\"currencyCode\":\"INR\",\"assets\":[{\"flavor\":\"iosSoftware\",\"size\":246809600}]},{\"buyParams\":\"productType=C\\u0026price=0\\u0026salableAdamId=515891771\\u0026pricingParameters=SWUPD\\u0026pg=default\\u0026appExtVrsId=847433508\",\"type\":\"update\",\"priceFormatted\":\"₹ 0\",\"price\":0,\"currencyCode\":\"INR\",\"assets\":[{\"flavor\":\"iosSoftware\",\"size\":246809600}]}]}},\"watchBundleId\":\"com.hdfcbank.mobilebanking.watchkitapp\",\"userRating\":{\"value\":3.7,\"ratingCount\":47117,\"ratingCountList\":[10766,1921,2705,8382,23343],\"ariaLabelForRatings\":\"3.7 stars\"},\"contentRatingsBySystem\":{\"appsApple\":{\"name\":\"4+\",\"value\":100,\"rank\":1}},\"name\":\"HDFC Bank MobileBanking\",\"supportsArcade\":false,\"genreDisplayName\":\"Finance\",\"isFirstPartyHideableApp\":false,\"artwork\":{\"width\":1024,\"height\":1024,\"url\":\"https://is2-ssl.mzstatic.com/image/thumb/Purple126/v4/43/4a/34/434a3450-eb1e-e639-5250-50478da2040d/AppIcon-0-0-1x_U007emarketing-0-0-0-7-0-0-sRGB-0-0-0-GLES2_U002c0-512MB-85-220-0-0.png/{w}x{h}{c}.{f}\",\"bgColor\":\"ffffff\",\"textColor1\":\"00213f\",\"textColor2\":\"102d46\",\"textColor3\":\"334e65\",\"textColor4\":\"40576b\"}},{\"kind\":\"app\",\"id\":\"505454145\",\"type\":\"apps\",\"href\":\"/v1/catalog/in/apps/505454145?l=en-GB\",\"attributes\":{\"artistName\":\"BajajFinserv\",\"url\":\"https://apps.apple.com/in/app/bajaj-finserv/id505454145\",\"isIOSBinaryMacOSCompatible\":false,\"reviewsRestricted\":false,\"deviceFamilies\":[\"iphone\",\"ipad\",\"ipod\"],\"chartPositions\":{\"appStore\":{\"position\":6,\"genreName\":\"Finance\",\"genre\":6015,\"chart\":\"top-free\",\"chartLink\":\"https://apps.apple.com/in/charts/iphone/finance-apps/6015\"}},\"isPreorder\":false,\"platformAttributes\":{\"ios\":{\"requires32bit\":false,\"artwork\":{\"width\":1024,\"height\":1024,\"url\":\"https://is2-ssl.mzstatic.com/image/thumb/Purple112/v4/42/e4/94/42e4946c-174f-2b38-56af-7d1317150a77/AppIcon-0-0-1x_U007emarketing-0-0-0-7-0-0-sRGB-0-0-0-GLES2_U002c0-512MB-85-220-0-0.png/{w}x{h}{c}.{f}\",\"bgColor\":\"005894\",\"textColor1\":\"ffffff\",\"textColor2\":\"8fc9ef\",\"textColor3\":\"cbdde9\",\"textColor4\":\"72b2dc\"},\"hasMessagesExtension\":false,\"releaseDate\":\"2012-03-06\",\"hasSafariExtension\":false,\"minimumMacOSVersion\":\"11.0\",\"editorialArtwork\":{\"brandLogo\":{\"width\":1080,\"height\":1080,\"url\":\"https://is3-ssl.mzstatic.com/image/thumb/Features124/v4/c8/82/38/c8823852-1841-665e-c2f5-bf413328a68a/source/{w}x{h}{c}.{f}\",\"bgColor\":\"000000\",\"textColor1\":\"f2f2f2\",\"textColor2\":\"e5e5e5\",\"textColor3\":\"c1c1c1\",\"textColor4\":\"b7b7b7\"}},\"subtitle\":\"Bill Payment, Loan, EMI Card\",\"isDeliveredInIOSAppForWatchOS\":false,\"bundleId\":\"com.Bajaj.bajajexperia\",\"hasInAppPurchases\":false,\"isAppleWatchSupported\":false,\"isStandaloneForWatchOS\":false,\"requiresGameController\":false,\"isHiddenFromSpringboard\":false,\"isStandaloneWithCompanionForWatchOS\":false,\"offers\":[{\"buyParams\":\"productType=C\\u0026price=0\\u0026salableAdamId=505454145\\u0026pricingParameters=STDQ\\u0026pg=default\\u0026appExtVrsId=851003405\",\"type\":\"get\",\"priceFormatted\":\"₹ 0\",\"price\":0,\"currencyCode\":\"INR\",\"assets\":[{\"flavor\":\"iosSoftware\",\"size\":228492288}]},{\"buyParams\":\"productType=C\\u0026price=0\\u0026salableAdamId=505454145\\u0026pricingParameters=SWUPD\\u0026pg=default\\u0026appExtVrsId=851003405\",\"type\":\"update\",\"priceFormatted\":\"₹ 0\",\"price\":0,\"currencyCode\":\"INR\",\"assets\":[{\"flavor\":\"iosSoftware\",\"size\":228492288}]}]}},\"userRating\":{\"value\":4.3,\"ratingCount\":16764,\"ratingCountList\":[2006,349,732,1979,11698],\"ariaLabelForRatings\":\"4.3 stars\"},\"contentRatingsBySystem\":{\"appsApple\":{\"name\":\"4+\",\"value\":100,\"rank\":1}},\"name\":\"Bajaj Finserv\",\"supportsArcade\":false,\"genreDisplayName\":\"Finance\",\"isFirstPartyHideableApp\":false},\"relationships\":{\"developer\":{\"href\":\"/v1/catalog/in/apps/505454145/developer?l=en-GB\",\"data\":[{\"id\":\"493202639\",\"type\":\"developers\",\"href\":\"/v1/catalog/in/developers/493202639?l=en-GB\"}]},\"genres\":{\"href\":\"/v1/catalog/in/apps/505454145/genres?l=en-GB\",\"data\":[{\"id\":\"6015\",\"type\":\"genres\",\"href\":\"/v1/catalog/in/genres/6015?l=en-GB\",\"attributes\":{\"parentId\":\"36\",\"parentName\":\"App Store\",\"name\":\"Finance\",\"url\":\"https://itunes.apple.com/in/genre/id6015\"}},{\"id\":\"6000\",\"type\":\"genres\",\"href\":\"/v1/catalog/in/genres/6000?l=en-GB\",\"attributes\":{\"parentId\":\"36\",\"parentName\":\"App Store\",\"name\":\"Business\",\"url\":\"https://itunes.apple.com/in/genre/id6000\"}}]}},\"artistName\":\"BajajFinserv\",\"url\":\"https://apps.apple.com/in/app/bajaj-finserv/id505454145\",\"isIOSBinaryMacOSCompatible\":false,\"reviewsRestricted\":false,\"deviceFamilies\":[\"iphone\",\"ipad\",\"ipod\"],\"chartPositions\":{\"appStore\":{\"position\":6,\"genreName\":\"Finance\",\"genre\":6015,\"chart\":\"top-free\",\"chartLink\":\"https://apps.apple.com/in/charts/iphone/finance-apps/6015\"}},\"isPreorder\":false,\"platformAttributes\":{\"ios\":{\"requires32bit\":false,\"artwork\":{\"width\":1024,\"height\":1024,\"url\":\"https://is2-ssl.mzstatic.com/image/thumb/Purple112/v4/42/e4/94/42e4946c-174f-2b38-56af-7d1317150a77/AppIcon-0-0-1x_U007emarketing-0-0-0-7-0-0-sRGB-0-0-0-GLES2_U002c0-512MB-85-220-0-0.png/{w}x{h}{c}.{f}\",\"bgColor\":\"005894\",\"textColor1\":\"ffffff\",\"textColor2\":\"8fc9ef\",\"textColor3\":\"cbdde9\",\"textColor4\":\"72b2dc\"},\"hasMessagesExtension\":false,\"releaseDate\":\"2012-03-06\",\"hasSafariExtension\":false,\"minimumMacOSVersion\":\"11.0\",\"editorialArtwork\":{\"brandLogo\":{\"width\":1080,\"height\":1080,\"url\":\"https://is3-ssl.mzstatic.com/image/thumb/Features124/v4/c8/82/38/c8823852-1841-665e-c2f5-bf413328a68a/source/{w}x{h}{c}.{f}\",\"bgColor\":\"000000\",\"textColor1\":\"f2f2f2\",\"textColor2\":\"e5e5e5\",\"textColor3\":\"c1c1c1\",\"textColor4\":\"b7b7b7\"}},\"subtitle\":\"Bill Payment, Loan, EMI Card\",\"isDeliveredInIOSAppForWatchOS\":false,\"bundleId\":\"com.Bajaj.bajajexperia\",\"hasInAppPurchases\":false,\"isAppleWatchSupported\":false,\"isStandaloneForWatchOS\":false,\"requiresGameController\":false,\"isHiddenFromSpringboard\":false,\"isStandaloneWithCompanionForWatchOS\":false,\"offers\":[{\"buyParams\":\"productType=C\\u0026price=0\\u0026salableAdamId=505454145\\u0026pricingParameters=STDQ\\u0026pg=default\\u0026appExtVrsId=851003405\",\"type\":\"get\",\"priceFormatted\":\"₹ 0\",\"price\":0,\"currencyCode\":\"INR\",\"assets\":[{\"flavor\":\"iosSoftware\",\"size\":228492288}]},{\"buyParams\":\"productType=C\\u0026price=0\\u0026salableAdamId=505454145\\u0026pricingParameters=SWUPD\\u0026pg=default\\u0026appExtVrsId=851003405\",\"type\":\"update\",\"priceFormatted\":\"₹ 0\",\"price\":0,\"currencyCode\":\"INR\",\"assets\":[{\"flavor\":\"iosSoftware\",\"size\":228492288}]}]}},\"userRating\":{\"value\":4.3,\"ratingCount\":16764,\"ratingCountList\":[2006,349,732,1979,11698],\"ariaLabelForRatings\":\"4.3 stars\"},\"contentRatingsBySystem\":{\"appsApple\":{\"name\":\"4+\",\"value\":100,\"rank\":1}},\"name\":\"Bajaj Finserv\",\"supportsArcade\":false,\"genreDisplayName\":\"Finance\",\"isFirstPartyHideableApp\":false,\"artwork\":{\"width\":1024,\"height\":1024,\"url\":\"https://is2-ssl.mzstatic.com/image/thumb/Purple112/v4/42/e4/94/42e4946c-174f-2b38-56af-7d1317150a77/AppIcon-0-0-1x_U007emarketing-0-0-0-7-0-0-sRGB-0-0-0-GLES2_U002c0-512MB-85-220-0-0.png/{w}x{h}{c}.{f}\",\"bgColor\":\"005894\",\"textColor1\":\"ffffff\",\"textColor2\":\"8fc9ef\",\"textColor3\":\"cbdde9\",\"textColor4\":\"72b2dc\"}},{\"kind\":\"app\",\"id\":\"1404871703\",\"type\":\"apps\",\"href\":\"/v1/catalog/in/apps/1404871703?l=en-GB\",\"attributes\":{\"artistName\":\"Billionbrains Garage Ventures Pvt Ltd\",\"url\":\"https://apps.apple.com/in/app/groww-stocks-mutual-funds/id1404871703\",\"isIOSBinaryMacOSCompatible\":false,\"reviewsRestricted\":false,\"deviceFamilies\":[\"iphone\",\"ipod\"],\"chartPositions\":{\"appStore\":{\"position\":7,\"genreName\":\"Finance\",\"genre\":6015,\"chart\":\"top-free\",\"chartLink\":\"https://apps.apple.com/in/charts/iphone/finance-apps/6015\"}},\"isPreorder\":false,\"platformAttributes\":{\"ios\":{\"requires32bit\":false,\"artwork\":{\"width\":1024,\"height\":1024,\"url\":\"https://is1-ssl.mzstatic.com/image/thumb/Purple122/v4/09/b7/48/09b74821-6208-b22c-4333-4c091bd1c53e/AppIcon-0-0-1x_U007emarketing-0-0-0-10-0-0-sRGB-0-0-0-GLES2_U002c0-512MB-85-220-0-0.png/{w}x{h}{c}.{f}\",\"bgColor\":\"ffffff\",\"textColor1\":\"070916\",\"textColor2\":\"070916\",\"textColor3\":\"383a45\",\"textColor4\":\"383a45\"},\"hasMessagesExtension\":false,\"releaseDate\":\"2018-08-03\",\"hasSafariExtension\":false,\"minimumMacOSVersion\":\"11.0\",\"editorialArtwork\":{\"subscriptionHero\":{\"width\":4320,\"height\":1080,\"url\":\"https://is1-ssl.mzstatic.com/image/thumb/Features113/v4/fa/56/20/fa562063-202b-d07a-8150-3ac50672b93d/source/{w}x{h}{c}.{f}\",\"bgColor\":\"4340b5\",\"textColor1\":\"e7e5eb\",\"textColor2\":\"fbd06f\",\"textColor3\":\"c6c4e0\",\"textColor4\":\"d6b37d\"},\"brandLogo\":{\"width\":1080,\"height\":1080,\"url\":\"https://is3-ssl.mzstatic.com/image/thumb/Features124/v4/c8/82/38/c8823852-1841-665e-c2f5-bf413328a68a/source/{w}x{h}{c}.{f}\",\"bgColor\":\"000000\",\"textColor1\":\"f2f2f2\",\"textColor2\":\"e5e5e5\",\"textColor3\":\"c1c1c1\",\"textColor4\":\"b7b7b7\"}},\"subtitle\":\"Invest In Stocks \\u0026 Mutual Fund\",\"isDeliveredInIOSAppForWatchOS\":false,\"bundleId\":\"com.nextbillion.groww\",\"hasInAppPurchases\":false,\"isAppleWatchSupported\":false,\"isStandaloneForWatchOS\":false,\"requiresGameController\":false,\"isHiddenFromSpringboard\":false,\"editorialNotes\":{\"tagline\":\"Make investments count\"},\"isStandaloneWithCompanionForWatchOS\":false,\"offers\":[{\"buyParams\":\"productType=C\\u0026price=0\\u0026salableAdamId=1404871703\\u0026pricingParameters=STDQ\\u0026pg=default\\u0026appExtVrsId=851505269\",\"type\":\"get\",\"priceFormatted\":\"₹ 0\",\"price\":0,\"currencyCode\":\"INR\",\"assets\":[{\"flavor\":\"iosSoftware\",\"size\":73116672}]},{\"buyParams\":\"productType=C\\u0026price=0\\u0026salableAdamId=1404871703\\u0026pricingParameters=SWUPD\\u0026pg=default\\u0026appExtVrsId=851505269\",\"type\":\"update\",\"priceFormatted\":\"₹ 0\",\"price\":0,\"currencyCode\":\"INR\",\"assets\":[{\"flavor\":\"iosSoftware\",\"size\":73116672}]}]}},\"userRating\":{\"value\":4.4,\"ratingCount\":18029,\"ratingCountList\":[1912,392,501,1628,13596],\"ariaLabelForRatings\":\"4.4 stars\"},\"contentRatingsBySystem\":{\"appsApple\":{\"name\":\"4+\",\"value\":100,\"rank\":1}},\"name\":\"Groww - Stocks \\u0026 Mutual Funds\",\"supportsArcade\":false,\"genreDisplayName\":\"Finance\",\"isFirstPartyHideableApp\":false},\"relationships\":{\"developer\":{\"href\":\"/v1/catalog/in/apps/1404871703/developer?l=en-GB\",\"data\":[{\"id\":\"1404871702\",\"type\":\"developers\",\"href\":\"/v1/catalog/in/developers/1404871702?l=en-GB\"}]},\"genres\":{\"href\":\"/v1/catalog/in/apps/1404871703/genres?l=en-GB\",\"data\":[{\"id\":\"6015\",\"type\":\"genres\",\"href\":\"/v1/catalog/in/genres/6015?l=en-GB\",\"attributes\":{\"parentId\":\"36\",\"parentName\":\"App Store\",\"name\":\"Finance\",\"url\":\"https://itunes.apple.com/in/genre/id6015\"}}]}},\"artistName\":\"Billionbrains Garage Ventures Pvt Ltd\",\"url\":\"https://apps.apple.com/in/app/groww-stocks-mutual-funds/id1404871703\",\"isIOSBinaryMacOSCompatible\":false,\"reviewsRestricted\":false,\"deviceFamilies\":[\"iphone\",\"ipod\"],\"chartPositions\":{\"appStore\":{\"position\":7,\"genreName\":\"Finance\",\"genre\":6015,\"chart\":\"top-free\",\"chartLink\":\"https://apps.apple.com/in/charts/iphone/finance-apps/6015\"}},\"isPreorder\":false,\"platformAttributes\":{\"ios\":{\"requires32bit\":false,\"artwork\":{\"width\":1024,\"height\":1024,\"url\":\"https://is1-ssl.mzstatic.com/image/thumb/Purple122/v4/09/b7/48/09b74821-6208-b22c-4333-4c091bd1c53e/AppIcon-0-0-1x_U007emarketing-0-0-0-10-0-0-sRGB-0-0-0-GLES2_U002c0-512MB-85-220-0-0.png/{w}x{h}{c}.{f}\",\"bgColor\":\"ffffff\",\"textColor1\":\"070916\",\"textColor2\":\"070916\",\"textColor3\":\"383a45\",\"textColor4\":\"383a45\"},\"hasMessagesExtension\":false,\"releaseDate\":\"2018-08-03\",\"hasSafariExtension\":false,\"minimumMacOSVersion\":\"11.0\",\"editorialArtwork\":{\"subscriptionHero\":{\"width\":4320,\"height\":1080,\"url\":\"https://is1-ssl.mzstatic.com/image/thumb/Features113/v4/fa/56/20/fa562063-202b-d07a-8150-3ac50672b93d/source/{w}x{h}{c}.{f}\",\"bgColor\":\"4340b5\",\"textColor1\":\"e7e5eb\",\"textColor2\":\"fbd06f\",\"textColor3\":\"c6c4e0\",\"textColor4\":\"d6b37d\"},\"brandLogo\":{\"width\":1080,\"height\":1080,\"url\":\"https://is3-ssl.mzstatic.com/image/thumb/Features124/v4/c8/82/38/c8823852-1841-665e-c2f5-bf413328a68a/source/{w}x{h}{c}.{f}\",\"bgColor\":\"000000\",\"textColor1\":\"f2f2f2\",\"textColor2\":\"e5e5e5\",\"textColor3\":\"c1c1c1\",\"textColor4\":\"b7b7b7\"}},\"subtitle\":\"Invest In Stocks \\u0026 Mutual Fund\",\"isDeliveredInIOSAppForWatchOS\":false,\"bundleId\":\"com.nextbillion.groww\",\"hasInAppPurchases\":false,\"isAppleWatchSupported\":false,\"isStandaloneForWatchOS\":false,\"requiresGameController\":false,\"isHiddenFromSpringboard\":false,\"editorialNotes\":{\"tagline\":\"Make investments count\"},\"isStandaloneWithCompanionForWatchOS\":false,\"offers\":[{\"buyParams\":\"productType=C\\u0026price=0\\u0026salableAdamId=1404871703\\u0026pricingParameters=STDQ\\u0026pg=default\\u0026appExtVrsId=851505269\",\"type\":\"get\",\"priceFormatted\":\"₹ 0\",\"price\":0,\"currencyCode\":\"INR\",\"assets\":[{\"flavor\":\"iosSoftware\",\"size\":73116672}]},{\"buyParams\":\"productType=C\\u0026price=0\\u0026salableAdamId=1404871703\\u0026pricingParameters=SWUPD\\u0026pg=default\\u0026appExtVrsId=851505269\",\"type\":\"update\",\"priceFormatted\":\"₹ 0\",\"price\":0,\"currencyCode\":\"INR\",\"assets\":[{\"flavor\":\"iosSoftware\",\"size\":73116672}]}]}},\"userRating\":{\"value\":4.4,\"ratingCount\":18029,\"ratingCountList\":[1912,392,501,1628,13596],\"ariaLabelForRatings\":\"4.4 stars\"},\"contentRatingsBySystem\":{\"appsApple\":{\"name\":\"4+\",\"value\":100,\"rank\":1}},\"name\":\"Groww - Stocks \\u0026 Mutual Funds\",\"supportsArcade\":false,\"genreDisplayName\":\"Finance\",\"isFirstPartyHideableApp\":false,\"artwork\":{\"width\":1024,\"height\":1024,\"url\":\"https://is1-ssl.mzstatic.com/image/thumb/Purple122/v4/09/b7/48/09b74821-6208-b22c-4333-4c091bd1c53e/AppIcon-0-0-1x_U007emarketing-0-0-0-10-0-0-sRGB-0-0-0-GLES2_U002c0-512MB-85-220-0-0.png/{w}x{h}{c}.{f}\",\"bgColor\":\"ffffff\",\"textColor1\":\"070916\",\"textColor2\":\"070916\",\"textColor3\":\"383a45\",\"textColor4\":\"383a45\"}},{\"kind\":\"app\",\"id\":\"622363400\",\"type\":\"apps\",\"href\":\"/v1/catalog/in/apps/622363400?l=en-GB\",\"attributes\":{\"artistName\":\"Kotak Mahindra Bank Ltd.\",\"url\":\"https://apps.apple.com/in/app/kotak-811-mobile-banking/id622363400\",\"isIOSBinaryMacOSCompatible\":false,\"reviewsRestricted\":false,\"deviceFamilies\":[\"iphone\",\"ipod\"],\"chartPositions\":{\"appStore\":{\"position\":8,\"genreName\":\"Finance\",\"genre\":6015,\"chart\":\"top-free\",\"chartLink\":\"https://apps.apple.com/in/charts/iphone/finance-apps/6015\"}},\"isPreorder\":false,\"platformAttributes\":{\"ios\":{\"requires32bit\":false,\"artwork\":{\"width\":1024,\"height\":1024,\"url\":\"https://is3-ssl.mzstatic.com/image/thumb/Purple122/v4/3b/c9/29/3bc929f4-080d-4dd9-79a7-bbf4f4edf2e7/AppIcon-0-0-1x_U007emarketing-0-0-0-5-0-0-sRGB-0-0-0-GLES2_U002c0-512MB-85-220-0-0.png/{w}x{h}{c}.{f}\",\"bgColor\":\"b41b21\",\"textColor1\":\"ffffff\",\"textColor2\":\"f9e1e2\",\"textColor3\":\"efd1d2\",\"textColor4\":\"ebb9bb\"},\"hasMessagesExtension\":false,\"releaseDate\":\"2013-04-18\",\"hasSafariExtension\":false,\"minimumMacOSVersion\":\"11.0\",\"editorialArtwork\":{\"brandLogo\":{\"width\":1080,\"height\":1080,\"url\":\"https://is3-ssl.mzstatic.com/image/thumb/Features124/v4/c8/82/38/c8823852-1841-665e-c2f5-bf413328a68a/source/{w}x{h}{c}.{f}\",\"bgColor\":\"000000\",\"textColor1\":\"f2f2f2\",\"textColor2\":\"e5e5e5\",\"textColor3\":\"c1c1c1\",\"textColor4\":\"b7b7b7\"}},\"isDeliveredInIOSAppForWatchOS\":false,\"bundleId\":\"com.kotak.kmb\",\"hasInAppPurchases\":false,\"isAppleWatchSupported\":false,\"isStandaloneForWatchOS\":false,\"requiresGameController\":false,\"isHiddenFromSpringboard\":false,\"isStandaloneWithCompanionForWatchOS\":false,\"offers\":[{\"buyParams\":\"productType=C\\u0026price=0\\u0026salableAdamId=622363400\\u0026pricingParameters=STDQ\\u0026pg=default\\u0026appExtVrsId=851521924\",\"type\":\"get\",\"priceFormatted\":\"₹ 0\",\"price\":0,\"currencyCode\":\"INR\",\"assets\":[{\"flavor\":\"iosSoftware\",\"size\":183193600}]},{\"buyParams\":\"productType=C\\u0026price=0\\u0026salableAdamId=622363400\\u0026pricingParameters=SWUPD\\u0026pg=default\\u0026appExtVrsId=851521924\",\"type\":\"update\",\"priceFormatted\":\"₹ 0\",\"price\":0,\"currencyCode\":\"INR\",\"assets\":[{\"flavor\":\"iosSoftware\",\"size\":183193600}]}]}},\"userRating\":{\"value\":4.8,\"ratingCount\":299087,\"ratingCountList\":[4488,1635,4777,31240,256947],\"ariaLabelForRatings\":\"4.8 stars\"},\"contentRatingsBySystem\":{\"appsApple\":{\"name\":\"4+\",\"value\":100,\"rank\":1}},\"name\":\"Kotak - 811 \\u0026 Mobile Banking\",\"supportsArcade\":false,\"genreDisplayName\":\"Finance\",\"isFirstPartyHideableApp\":false},\"relationships\":{\"developer\":{\"href\":\"/v1/catalog/in/apps/622363400/developer?l=en-GB\",\"data\":[{\"id\":\"611720896\",\"type\":\"developers\",\"href\":\"/v1/catalog/in/developers/611720896?l=en-GB\"}]},\"genres\":{\"href\":\"/v1/catalog/in/apps/622363400/genres?l=en-GB\",\"data\":[{\"id\":\"6015\",\"type\":\"genres\",\"href\":\"/v1/catalog/in/genres/6015?l=en-GB\",\"attributes\":{\"parentId\":\"36\",\"parentName\":\"App Store\",\"name\":\"Finance\",\"url\":\"https://itunes.apple.com/in/genre/id6015\"}},{\"id\":\"6000\",\"type\":\"genres\",\"href\":\"/v1/catalog/in/genres/6000?l=en-GB\",\"attributes\":{\"parentId\":\"36\",\"parentName\":\"App Store\",\"name\":\"Business\",\"url\":\"https://itunes.apple.com/in/genre/id6000\"}}]}},\"artistName\":\"Kotak Mahindra Bank Ltd.\",\"url\":\"https://apps.apple.com/in/app/kotak-811-mobile-banking/id622363400\",\"isIOSBinaryMacOSCompatible\":false,\"reviewsRestricted\":false,\"deviceFamilies\":[\"iphone\",\"ipod\"],\"chartPositions\":{\"appStore\":{\"position\":8,\"genreName\":\"Finance\",\"genre\":6015,\"chart\":\"top-free\",\"chartLink\":\"https://apps.apple.com/in/charts/iphone/finance-apps/6015\"}},\"isPreorder\":false,\"platformAttributes\":{\"ios\":{\"requires32bit\":false,\"artwork\":{\"width\":1024,\"height\":1024,\"url\":\"https://is3-ssl.mzstatic.com/image/thumb/Purple122/v4/3b/c9/29/3bc929f4-080d-4dd9-79a7-bbf4f4edf2e7/AppIcon-0-0-1x_U007emarketing-0-0-0-5-0-0-sRGB-0-0-0-GLES2_U002c0-512MB-85-220-0-0.png/{w}x{h}{c}.{f}\",\"bgColor\":\"b41b21\",\"textColor1\":\"ffffff\",\"textColor2\":\"f9e1e2\",\"textColor3\":\"efd1d2\",\"textColor4\":\"ebb9bb\"},\"hasMessagesExtension\":false,\"releaseDate\":\"2013-04-18\",\"hasSafariExtension\":false,\"minimumMacOSVersion\":\"11.0\",\"editorialArtwork\":{\"brandLogo\":{\"width\":1080,\"height\":1080,\"url\":\"https://is3-ssl.mzstatic.com/image/thumb/Features124/v4/c8/82/38/c8823852-1841-665e-c2f5-bf413328a68a/source/{w}x{h}{c}.{f}\",\"bgColor\":\"000000\",\"textColor1\":\"f2f2f2\",\"textColor2\":\"e5e5e5\",\"textColor3\":\"c1c1c1\",\"textColor4\":\"b7b7b7\"}},\"isDeliveredInIOSAppForWatchOS\":false,\"bundleId\":\"com.kotak.kmb\",\"hasInAppPurchases\":false,\"isAppleWatchSupported\":false,\"isStandaloneForWatchOS\":false,\"requiresGameController\":false,\"isHiddenFromSpringboard\":false,\"isStandaloneWithCompanionForWatchOS\":false,\"offers\":[{\"buyParams\":\"productType=C\\u0026price=0\\u0026salableAdamId=622363400\\u0026pricingParameters=STDQ\\u0026pg=default\\u0026appExtVrsId=851521924\",\"type\":\"get\",\"priceFormatted\":\"₹ 0\",\"price\":0,\"currencyCode\":\"INR\",\"assets\":[{\"flavor\":\"iosSoftware\",\"size\":183193600}]},{\"buyParams\":\"productType=C\\u0026price=0\\u0026salableAdamId=622363400\\u0026pricingParameters=SWUPD\\u0026pg=default\\u0026appExtVrsId=851521924\",\"type\":\"update\",\"priceFormatted\":\"₹ 0\",\"price\":0,\"currencyCode\":\"INR\",\"assets\":[{\"flavor\":\"iosSoftware\",\"size\":183193600}]}]}},\"userRating\":{\"value\":4.8,\"ratingCount\":299087,\"ratingCountList\":[4488,1635,4777,31240,256947],\"ariaLabelForRatings\":\"4.8 stars\"},\"contentRatingsBySystem\":{\"appsApple\":{\"name\":\"4+\",\"value\":100,\"rank\":1}},\"name\":\"Kotak - 811 \\u0026 Mobile Banking\",\"supportsArcade\":false,\"genreDisplayName\":\"Finance\",\"isFirstPartyHideableApp\":false,\"artwork\":{\"width\":1024,\"height\":1024,\"url\":\"https://is3-ssl.mzstatic.com/image/thumb/Purple122/v4/3b/c9/29/3bc929f4-080d-4dd9-79a7-bbf4f4edf2e7/AppIcon-0-0-1x_U007emarketing-0-0-0-5-0-0-sRGB-0-0-0-GLES2_U002c0-512MB-85-220-0-0.png/{w}x{h}{c}.{f}\",\"bgColor\":\"b41b21\",\"textColor1\":\"ffffff\",\"textColor2\":\"f9e1e2\",\"textColor3\":\"efd1d2\",\"textColor4\":\"ebb9bb\"}},{\"kind\":\"app\",\"id\":\"375276006\",\"type\":\"apps\",\"href\":\"/v1/catalog/in/apps/375276006?l=en-GB\",\"attributes\":{\"artistName\":\"ICICI Bank Ltd\",\"url\":\"https://apps.apple.com/in/app/imobile-pay-by-icici-bank/id375276006\",\"isIOSBinaryMacOSCompatible\":true,\"reviewsRestricted\":false,\"deviceFamilies\":[\"iphone\",\"ipod\"],\"chartPositions\":{\"appStore\":{\"position\":9,\"genreName\":\"Finance\",\"genre\":6015,\"chart\":\"top-free\",\"chartLink\":\"https://apps.apple.com/in/charts/iphone/finance-apps/6015\"}},\"isPreorder\":false,\"platformAttributes\":{\"ios\":{\"requires32bit\":false,\"artwork\":{\"width\":1024,\"height\":1024,\"url\":\"https://is3-ssl.mzstatic.com/image/thumb/Purple122/v4/3b/3b/9c/3b3b9c30-f223-3bd2-5b82-a8bf7584923d/AppIcon-0-0-1x_U007emarketing-0-0-0-4-0-0-sRGB-0-0-0-GLES2_U002c0-512MB-85-220-0-0.png/{w}x{h}{c}.{f}\",\"bgColor\":\"ffffff\",\"textColor1\":\"4d0000\",\"textColor2\":\"511b16\",\"textColor3\":\"713333\",\"textColor4\":\"744844\"},\"hasMessagesExtension\":false,\"releaseDate\":\"2010-07-01\",\"hasSafariExtension\":false,\"minimumMacOSVersion\":\"11.0\",\"editorialArtwork\":{\"brandLogo\":{\"width\":1080,\"height\":1080,\"url\":\"https://is3-ssl.mzstatic.com/image/thumb/Features124/v4/c8/82/38/c8823852-1841-665e-c2f5-bf413328a68a/source/{w}x{h}{c}.{f}\",\"bgColor\":\"000000\",\"textColor1\":\"f2f2f2\",\"textColor2\":\"e5e5e5\",\"textColor3\":\"c1c1c1\",\"textColor4\":\"b7b7b7\"}},\"isDeliveredInIOSAppForWatchOS\":false,\"bundleId\":\"com.icicibank.imobile\",\"hasInAppPurchases\":false,\"isAppleWatchSupported\":false,\"isStandaloneForWatchOS\":false,\"requiresGameController\":false,\"isHiddenFromSpringboard\":false,\"isStandaloneWithCompanionForWatchOS\":false,\"offers\":[{\"buyParams\":\"productType=C\\u0026price=0\\u0026salableAdamId=375276006\\u0026pricingParameters=STDQ\\u0026pg=default\\u0026appExtVrsId=851176122\",\"type\":\"get\",\"priceFormatted\":\"₹ 0\",\"price\":0,\"currencyCode\":\"INR\",\"assets\":[{\"flavor\":\"iosSoftware\",\"size\":461406208}]},{\"buyParams\":\"productType=C\\u0026price=0\\u0026salableAdamId=375276006\\u0026pricingParameters=SWUPD\\u0026pg=default\\u0026appExtVrsId=851176122\",\"type\":\"update\",\"priceFormatted\":\"₹ 0\",\"price\":0,\"currencyCode\":\"INR\",\"assets\":[{\"flavor\":\"iosSoftware\",\"size\":461406208}]}]}},\"userRating\":{\"value\":4.7,\"ratingCount\":365619,\"ratingCountList\":[9407,3657,8074,38496,305985],\"ariaLabelForRatings\":\"4.7 stars\"},\"contentRatingsBySystem\":{\"appsApple\":{\"name\":\"4+\",\"value\":100,\"rank\":1}},\"name\":\"iMobile Pay by ICICI Bank\",\"supportsArcade\":false,\"genreDisplayName\":\"Finance\",\"isFirstPartyHideableApp\":false},\"relationships\":{\"developer\":{\"href\":\"/v1/catalog/in/apps/375276006/developer?l=en-GB\",\"data\":[{\"id\":\"375276009\",\"type\":\"developers\",\"href\":\"/v1/catalog/in/developers/375276009?l=en-GB\"}]},\"genres\":{\"href\":\"/v1/catalog/in/apps/375276006/genres?l=en-GB\",\"data\":[{\"id\":\"6015\",\"type\":\"genres\",\"href\":\"/v1/catalog/in/genres/6015?l=en-GB\",\"attributes\":{\"parentId\":\"36\",\"parentName\":\"App Store\",\"name\":\"Finance\",\"url\":\"https://itunes.apple.com/in/genre/id6015\"}},{\"id\":\"6002\",\"type\":\"genres\",\"href\":\"/v1/catalog/in/genres/6002?l=en-GB\",\"attributes\":{\"parentId\":\"36\",\"parentName\":\"App Store\",\"name\":\"Utilities\",\"url\":\"https://itunes.apple.com/in/genre/id6002\"}}]}},\"artistName\":\"ICICI Bank Ltd\",\"url\":\"https://apps.apple.com/in/app/imobile-pay-by-icici-bank/id375276006\",\"isIOSBinaryMacOSCompatible\":true,\"reviewsRestricted\":false,\"deviceFamilies\":[\"iphone\",\"ipod\"],\"chartPositions\":{\"appStore\":{\"position\":9,\"genreName\":\"Finance\",\"genre\":6015,\"chart\":\"top-free\",\"chartLink\":\"https://apps.apple.com/in/charts/iphone/finance-apps/6015\"}},\"isPreorder\":false,\"platformAttributes\":{\"ios\":{\"requires32bit\":false,\"artwork\":{\"width\":1024,\"height\":1024,\"url\":\"https://is3-ssl.mzstatic.com/image/thumb/Purple122/v4/3b/3b/9c/3b3b9c30-f223-3bd2-5b82-a8bf7584923d/AppIcon-0-0-1x_U007emarketing-0-0-0-4-0-0-sRGB-0-0-0-GLES2_U002c0-512MB-85-220-0-0.png/{w}x{h}{c}.{f}\",\"bgColor\":\"ffffff\",\"textColor1\":\"4d0000\",\"textColor2\":\"511b16\",\"textColor3\":\"713333\",\"textColor4\":\"744844\"},\"hasMessagesExtension\":false,\"releaseDate\":\"2010-07-01\",\"hasSafariExtension\":false,\"minimumMacOSVersion\":\"11.0\",\"editorialArtwork\":{\"brandLogo\":{\"width\":1080,\"height\":1080,\"url\":\"https://is3-ssl.mzstatic.com/image/thumb/Features124/v4/c8/82/38/c8823852-1841-665e-c2f5-bf413328a68a/source/{w}x{h}{c}.{f}\",\"bgColor\":\"000000\",\"textColor1\":\"f2f2f2\",\"textColor2\":\"e5e5e5\",\"textColor3\":\"c1c1c1\",\"textColor4\":\"b7b7b7\"}},\"isDeliveredInIOSAppForWatchOS\":false,\"bundleId\":\"com.icicibank.imobile\",\"hasInAppPurchases\":false,\"isAppleWatchSupported\":false,\"isStandaloneForWatchOS\":false,\"requiresGameController\":false,\"isHiddenFromSpringboard\":false,\"isStandaloneWithCompanionForWatchOS\":false,\"offers\":[{\"buyParams\":\"productType=C\\u0026price=0\\u0026salableAdamId=375276006\\u0026pricingParameters=STDQ\\u0026pg=default\\u0026appExtVrsId=851176122\",\"type\":\"get\",\"priceFormatted\":\"₹ 0\",\"price\":0,\"currencyCode\":\"INR\",\"assets\":[{\"flavor\":\"iosSoftware\",\"size\":461406208}]},{\"buyParams\":\"productType=C\\u0026price=0\\u0026salableAdamId=375276006\\u0026pricingParameters=SWUPD\\u0026pg=default\\u0026appExtVrsId=851176122\",\"type\":\"update\",\"priceFormatted\":\"₹ 0\",\"price\":0,\"currencyCode\":\"INR\",\"assets\":[{\"flavor\":\"iosSoftware\",\"size\":461406208}]}]}},\"userRating\":{\"value\":4.7,\"ratingCount\":365619,\"ratingCountList\":[9407,3657,8074,38496,305985],\"ariaLabelForRatings\":\"4.7 stars\"},\"contentRatingsBySystem\":{\"appsApple\":{\"name\":\"4+\",\"value\":100,\"rank\":1}},\"name\":\"iMobile Pay by ICICI Bank\",\"supportsArcade\":false,\"genreDisplayName\":\"Finance\",\"isFirstPartyHideableApp\":false,\"artwork\":{\"width\":1024,\"height\":1024,\"url\":\"https://is3-ssl.mzstatic.com/image/thumb/Purple122/v4/3b/3b/9c/3b3b9c30-f223-3bd2-5b82-a8bf7584923d/AppIcon-0-0-1x_U007emarketing-0-0-0-4-0-0-sRGB-0-0-0-GLES2_U002c0-512MB-85-220-0-0.png/{w}x{h}{c}.{f}\",\"bgColor\":\"ffffff\",\"textColor1\":\"4d0000\",\"textColor2\":\"511b16\",\"textColor3\":\"713333\",\"textColor4\":\"744844\"}},{\"kind\":\"app\",\"id\":\"1614427933\",\"type\":\"apps\",\"href\":\"/v1/catalog/in/apps/1614427933?l=en-GB\",\"attributes\":{\"artistName\":\"Gullak Technologies Private Limited\",\"url\":\"https://apps.apple.com/in/app/hubble-money-savings-earn-10/id1614427933\",\"isIOSBinaryMacOSCompatible\":true,\"reviewsRestricted\":false,\"deviceFamilies\":[\"iphone\",\"ipod\"],\"chartPositions\":{\"appStore\":{\"position\":10,\"genreName\":\"Finance\",\"genre\":6015,\"chart\":\"top-free\",\"chartLink\":\"https://apps.apple.com/in/charts/iphone/finance-apps/6015\"}},\"isPreorder\":false,\"platformAttributes\":{\"ios\":{\"requires32bit\":false,\"artwork\":{\"width\":1024,\"height\":1024,\"url\":\"https://is5-ssl.mzstatic.com/image/thumb/Purple122/v4/36/0e/c2/360ec2b7-0908-f5c7-e578-1437adfbc363/AppIcon-1x_U007emarketing-0-10-0-85-220.png/{w}x{h}{c}.{f}\",\"bgColor\":\"ffffff\",\"textColor1\":\"0c0c0c\",\"textColor2\":\"2c2c2c\",\"textColor3\":\"3d3d3d\",\"textColor4\":\"565656\"},\"hasMessagesExtension\":false,\"releaseDate\":\"2022-04-11\",\"hasSafariExtension\":false,\"minimumMacOSVersion\":\"11.0\",\"editorialArtwork\":{\"brandLogo\":{\"width\":1080,\"height\":1080,\"url\":\"https://is3-ssl.mzstatic.com/image/thumb/Features124/v4/c8/82/38/c8823852-1841-665e-c2f5-bf413328a68a/source/{w}x{h}{c}.{f}\",\"bgColor\":\"000000\",\"textColor1\":\"f2f2f2\",\"textColor2\":\"e5e5e5\",\"textColor3\":\"c1c1c1\",\"textColor4\":\"b7b7b7\"}},\"subtitle\":\"Most paying saving app ever\",\"isDeliveredInIOSAppForWatchOS\":false,\"bundleId\":\"money.myhubble\",\"hasInAppPurchases\":false,\"isAppleWatchSupported\":false,\"isStandaloneForWatchOS\":false,\"requiresGameController\":false,\"isHiddenFromSpringboard\":false,\"isStandaloneWithCompanionForWatchOS\":false,\"offers\":[{\"buyParams\":\"productType=C\\u0026price=0\\u0026salableAdamId=1614427933\\u0026pricingParameters=STDQ\\u0026pg=default\\u0026appExtVrsId=851545019\",\"type\":\"get\",\"priceFormatted\":\"₹ 0\",\"price\":0,\"currencyCode\":\"INR\",\"assets\":[{\"flavor\":\"iosSoftware\",\"size\":62707712}]},{\"buyParams\":\"productType=C\\u0026price=0\\u0026salableAdamId=1614427933\\u0026pricingParameters=SWUPD\\u0026pg=default\\u0026appExtVrsId=851545019\",\"type\":\"update\",\"priceFormatted\":\"₹ 0\",\"price\":0,\"currencyCode\":\"INR\",\"assets\":[{\"flavor\":\"iosSoftware\",\"size\":62707712}]}]}},\"userRating\":{\"value\":4.7,\"ratingCount\":67,\"ratingCountList\":[4,0,3,0,60],\"ariaLabelForRatings\":\"4.7 stars\"},\"contentRatingsBySystem\":{\"appsApple\":{\"name\":\"4+\",\"value\":100,\"rank\":1}},\"name\":\"Hubble Money Savings: Earn 10%\",\"supportsArcade\":false,\"genreDisplayName\":\"Finance\",\"isFirstPartyHideableApp\":false},\"relationships\":{\"developer\":{\"href\":\"/v1/catalog/in/apps/1614427933/developer?l=en-GB\",\"data\":[{\"id\":\"1609964408\",\"type\":\"developers\",\"href\":\"/v1/catalog/in/developers/1609964408?l=en-GB\"}]},\"genres\":{\"href\":\"/v1/catalog/in/apps/1614427933/genres?l=en-GB\",\"data\":[{\"id\":\"6015\",\"type\":\"genres\",\"href\":\"/v1/catalog/in/genres/6015?l=en-GB\",\"attributes\":{\"parentId\":\"36\",\"parentName\":\"App Store\",\"name\":\"Finance\",\"url\":\"https://itunes.apple.com/in/genre/id6015\"}},{\"id\":\"6012\",\"type\":\"genres\",\"href\":\"/v1/catalog/in/genres/6012?l=en-GB\",\"attributes\":{\"parentId\":\"36\",\"parentName\":\"App Store\",\"name\":\"Lifestyle\",\"url\":\"https://itunes.apple.com/in/genre/id6012\"}}]}},\"artistName\":\"Gullak Technologies Private Limited\",\"url\":\"https://apps.apple.com/in/app/hubble-money-savings-earn-10/id1614427933\",\"isIOSBinaryMacOSCompatible\":true,\"reviewsRestricted\":false,\"deviceFamilies\":[\"iphone\",\"ipod\"],\"chartPositions\":{\"appStore\":{\"position\":10,\"genreName\":\"Finance\",\"genre\":6015,\"chart\":\"top-free\",\"chartLink\":\"https://apps.apple.com/in/charts/iphone/finance-apps/6015\"}},\"isPreorder\":false,\"platformAttributes\":{\"ios\":{\"requires32bit\":false,\"artwork\":{\"width\":1024,\"height\":1024,\"url\":\"https://is5-ssl.mzstatic.com/image/thumb/Purple122/v4/36/0e/c2/360ec2b7-0908-f5c7-e578-1437adfbc363/AppIcon-1x_U007emarketing-0-10-0-85-220.png/{w}x{h}{c}.{f}\",\"bgColor\":\"ffffff\",\"textColor1\":\"0c0c0c\",\"textColor2\":\"2c2c2c\",\"textColor3\":\"3d3d3d\",\"textColor4\":\"565656\"},\"hasMessagesExtension\":false,\"releaseDate\":\"2022-04-11\",\"hasSafariExtension\":false,\"minimumMacOSVersion\":\"11.0\",\"editorialArtwork\":{\"brandLogo\":{\"width\":1080,\"height\":1080,\"url\":\"https://is3-ssl.mzstatic.com/image/thumb/Features124/v4/c8/82/38/c8823852-1841-665e-c2f5-bf413328a68a/source/{w}x{h}{c}.{f}\",\"bgColor\":\"000000\",\"textColor1\":\"f2f2f2\",\"textColor2\":\"e5e5e5\",\"textColor3\":\"c1c1c1\",\"textColor4\":\"b7b7b7\"}},\"subtitle\":\"Most paying saving app ever\",\"isDeliveredInIOSAppForWatchOS\":false,\"bundleId\":\"money.myhubble\",\"hasInAppPurchases\":false,\"isAppleWatchSupported\":false,\"isStandaloneForWatchOS\":false,\"requiresGameController\":false,\"isHiddenFromSpringboard\":false,\"isStandaloneWithCompanionForWatchOS\":false,\"offers\":[{\"buyParams\":\"productType=C\\u0026price=0\\u0026salableAdamId=1614427933\\u0026pricingParameters=STDQ\\u0026pg=default\\u0026appExtVrsId=851545019\",\"type\":\"get\",\"priceFormatted\":\"₹ 0\",\"price\":0,\"currencyCode\":\"INR\",\"assets\":[{\"flavor\":\"iosSoftware\",\"size\":62707712}]},{\"buyParams\":\"productType=C\\u0026price=0\\u0026salableAdamId=1614427933\\u0026pricingParameters=SWUPD\\u0026pg=default\\u0026appExtVrsId=851545019\",\"type\":\"update\",\"priceFormatted\":\"₹ 0\",\"price\":0,\"currencyCode\":\"INR\",\"assets\":[{\"flavor\":\"iosSoftware\",\"size\":62707712}]}]}},\"userRating\":{\"value\":4.7,\"ratingCount\":67,\"ratingCountList\":[4,0,3,0,60],\"ariaLabelForRatings\":\"4.7 stars\"},\"contentRatingsBySystem\":{\"appsApple\":{\"name\":\"4+\",\"value\":100,\"rank\":1}},\"name\":\"Hubble Money Savings: Earn 10%\",\"supportsArcade\":false,\"genreDisplayName\":\"Finance\",\"isFirstPartyHideableApp\":false,\"artwork\":{\"width\":1024,\"height\":1024,\"url\":\"https://is5-ssl.mzstatic.com/image/thumb/Purple122/v4/36/0e/c2/360ec2b7-0908-f5c7-e578-1437adfbc363/AppIcon-1x_U007emarketing-0-10-0-85-220.png/{w}x{h}{c}.{f}\",\"bgColor\":\"ffffff\",\"textColor1\":\"0c0c0c\",\"textColor2\":\"2c2c2c\",\"textColor3\":\"3d3d3d\",\"textColor4\":\"565656\"}},{\"kind\":\"app\",\"id\":\"699582556\",\"type\":\"apps\",\"href\":\"/v1/catalog/in/apps/699582556?l=en-GB\",\"attributes\":{\"minimumWatchOSVersion\":\"2.0\",\"artistName\":\"Axis Bank Ltd\",\"url\":\"https://apps.apple.com/in/app/axis-bank-mobile-banking/id699582556\",\"isIOSBinaryMacOSCompatible\":false,\"reviewsRestricted\":false,\"deviceFamilies\":[\"watch\",\"iphone\",\"ipod\"],\"chartPositions\":{\"appStore\":{\"position\":11,\"genreName\":\"Finance\",\"genre\":6015,\"chart\":\"top-free\",\"chartLink\":\"https://apps.apple.com/in/charts/iphone/finance-apps/6015\"}},\"isPreorder\":false,\"platformAttributes\":{\"ios\":{\"requires32bit\":false,\"artwork\":{\"width\":1024,\"height\":1024,\"url\":\"https://is5-ssl.mzstatic.com/image/thumb/Purple122/v4/0b/cb/88/0bcb88c5-bc6d-a9fb-228e-05235446fadd/AppIcon-1x_U007emarketing-0-5-0-0-85-220.png/{w}x{h}{c}.{f}\",\"bgColor\":\"97144c\",\"textColor1\":\"ffffff\",\"textColor2\":\"e8a1bf\",\"textColor3\":\"eacfdb\",\"textColor4\":\"d884a8\"},\"hasMessagesExtension\":false,\"releaseDate\":\"2013-09-13\",\"hasSafariExtension\":false,\"minimumMacOSVersion\":\"11.0\",\"editorialArtwork\":{\"brandLogo\":{\"width\":1080,\"height\":1080,\"url\":\"https://is3-ssl.mzstatic.com/image/thumb/Features124/v4/c8/82/38/c8823852-1841-665e-c2f5-bf413328a68a/source/{w}x{h}{c}.{f}\",\"bgColor\":\"000000\",\"textColor1\":\"f2f2f2\",\"textColor2\":\"e5e5e5\",\"textColor3\":\"c1c1c1\",\"textColor4\":\"b7b7b7\"}},\"isDeliveredInIOSAppForWatchOS\":true,\"bundleId\":\"com.axisbank.axismobile\",\"hasInAppPurchases\":false,\"isAppleWatchSupported\":true,\"isStandaloneForWatchOS\":false,\"circularArtwork\":{\"width\":1024,\"height\":1024,\"url\":\"https://is3-ssl.mzstatic.com/image/thumb/Purple112/v4/d1/ec/77/d1ec77f1-339b-c052-8471-6a8bded9c31a/AppIcon-1x_U007emarketing-0-9-0-0-85-220.png/{w}x{h}{c}.{f}\",\"bgColor\":\"97144c\",\"textColor1\":\"fefefe\",\"textColor2\":\"f4d4e2\",\"textColor3\":\"e9cfdb\",\"textColor4\":\"e1adc4\"},\"requiresGameController\":false,\"isHiddenFromSpringboard\":false,\"isStandaloneWithCompanionForWatchOS\":false,\"offers\":[{\"buyParams\":\"productType=C\\u0026price=0\\u0026salableAdamId=699582556\\u0026pricingParameters=STDQ\\u0026pg=default\\u0026appExtVrsId=850636239\",\"type\":\"get\",\"priceFormatted\":\"₹ 0\",\"price\":0,\"currencyCode\":\"INR\",\"assets\":[{\"flavor\":\"iosSoftware\",\"size\":193511424}]},{\"buyParams\":\"productType=C\\u0026price=0\\u0026salableAdamId=699582556\\u0026pricingParameters=SWUPD\\u0026pg=default\\u0026appExtVrsId=850636239\",\"type\":\"update\",\"priceFormatted\":\"₹ 0\",\"price\":0,\"currencyCode\":\"INR\",\"assets\":[{\"flavor\":\"iosSoftware\",\"size\":193511424}]}]}},\"watchBundleId\":\"com.axisbank.axismobile.watchkitapp\",\"userRating\":{\"value\":4.6,\"ratingCount\":77127,\"ratingCountList\":[3321,1471,2249,8477,61609],\"ariaLabelForRatings\":\"4.6 stars\"},\"contentRatingsBySystem\":{\"appsApple\":{\"name\":\"4+\",\"value\":100,\"rank\":1}},\"name\":\"Axis Bank Mobile Banking\",\"supportsArcade\":false,\"genreDisplayName\":\"Finance\",\"isFirstPartyHideableApp\":false},\"relationships\":{\"developer\":{\"href\":\"/v1/catalog/in/apps/699582556/developer?l=en-GB\",\"data\":[{\"id\":\"517259642\",\"type\":\"developers\",\"href\":\"/v1/catalog/in/developers/517259642?l=en-GB\"}]},\"genres\":{\"href\":\"/v1/catalog/in/apps/699582556/genres?l=en-GB\",\"data\":[{\"id\":\"6015\",\"type\":\"genres\",\"href\":\"/v1/catalog/in/genres/6015?l=en-GB\",\"attributes\":{\"parentId\":\"36\",\"parentName\":\"App Store\",\"name\":\"Finance\",\"url\":\"https://itunes.apple.com/in/genre/id6015\"}}]}},\"minimumWatchOSVersion\":\"2.0\",\"artistName\":\"Axis Bank Ltd\",\"url\":\"https://apps.apple.com/in/app/axis-bank-mobile-banking/id699582556\",\"isIOSBinaryMacOSCompatible\":false,\"reviewsRestricted\":false,\"deviceFamilies\":[\"watch\",\"iphone\",\"ipod\"],\"chartPositions\":{\"appStore\":{\"position\":11,\"genreName\":\"Finance\",\"genre\":6015,\"chart\":\"top-free\",\"chartLink\":\"https://apps.apple.com/in/charts/iphone/finance-apps/6015\"}},\"isPreorder\":false,\"platformAttributes\":{\"ios\":{\"requires32bit\":false,\"artwork\":{\"width\":1024,\"height\":1024,\"url\":\"https://is5-ssl.mzstatic.com/image/thumb/Purple122/v4/0b/cb/88/0bcb88c5-bc6d-a9fb-228e-05235446fadd/AppIcon-1x_U007emarketing-0-5-0-0-85-220.png/{w}x{h}{c}.{f}\",\"bgColor\":\"97144c\",\"textColor1\":\"ffffff\",\"textColor2\":\"e8a1bf\",\"textColor3\":\"eacfdb\",\"textColor4\":\"d884a8\"},\"hasMessagesExtension\":false,\"releaseDate\":\"2013-09-13\",\"hasSafariExtension\":false,\"minimumMacOSVersion\":\"11.0\",\"editorialArtwork\":{\"brandLogo\":{\"width\":1080,\"height\":1080,\"url\":\"https://is3-ssl.mzstatic.com/image/thumb/Features124/v4/c8/82/38/c8823852-1841-665e-c2f5-bf413328a68a/source/{w}x{h}{c}.{f}\",\"bgColor\":\"000000\",\"textColor1\":\"f2f2f2\",\"textColor2\":\"e5e5e5\",\"textColor3\":\"c1c1c1\",\"textColor4\":\"b7b7b7\"}},\"isDeliveredInIOSAppForWatchOS\":true,\"bundleId\":\"com.axisbank.axismobile\",\"hasInAppPurchases\":false,\"isAppleWatchSupported\":true,\"isStandaloneForWatchOS\":false,\"circularArtwork\":{\"width\":1024,\"height\":1024,\"url\":\"https://is3-ssl.mzstatic.com/image/thumb/Purple112/v4/d1/ec/77/d1ec77f1-339b-c052-8471-6a8bded9c31a/AppIcon-1x_U007emarketing-0-9-0-0-85-220.png/{w}x{h}{c}.{f}\",\"bgColor\":\"97144c\",\"textColor1\":\"fefefe\",\"textColor2\":\"f4d4e2\",\"textColor3\":\"e9cfdb\",\"textColor4\":\"e1adc4\"},\"requiresGameController\":false,\"isHiddenFromSpringboard\":false,\"isStandaloneWithCompanionForWatchOS\":false,\"offers\":[{\"buyParams\":\"productType=C\\u0026price=0\\u0026salableAdamId=699582556\\u0026pricingParameters=STDQ\\u0026pg=default\\u0026appExtVrsId=850636239\",\"type\":\"get\",\"priceFormatted\":\"₹ 0\",\"price\":0,\"currencyCode\":\"INR\",\"assets\":[{\"flavor\":\"iosSoftware\",\"size\":193511424}]},{\"buyParams\":\"productType=C\\u0026price=0\\u0026salableAdamId=699582556\\u0026pricingParameters=SWUPD\\u0026pg=default\\u0026appExtVrsId=850636239\",\"type\":\"update\",\"priceFormatted\":\"₹ 0\",\"price\":0,\"currencyCode\":\"INR\",\"assets\":[{\"flavor\":\"iosSoftware\",\"size\":193511424}]}]}},\"watchBundleId\":\"com.axisbank.axismobile.watchkitapp\",\"userRating\":{\"value\":4.6,\"ratingCount\":77127,\"ratingCountList\":[3321,1471,2249,8477,61609],\"ariaLabelForRatings\":\"4.6 stars\"},\"contentRatingsBySystem\":{\"appsApple\":{\"name\":\"4+\",\"value\":100,\"rank\":1}},\"name\":\"Axis Bank Mobile Banking\",\"supportsArcade\":false,\"genreDisplayName\":\"Finance\",\"isFirstPartyHideableApp\":false,\"artwork\":{\"width\":1024,\"height\":1024,\"url\":\"https://is5-ssl.mzstatic.com/image/thumb/Purple122/v4/0b/cb/88/0bcb88c5-bc6d-a9fb-228e-05235446fadd/AppIcon-1x_U007emarketing-0-5-0-0-85-220.png/{w}x{h}{c}.{f}\",\"bgColor\":\"97144c\",\"textColor1\":\"ffffff\",\"textColor2\":\"e8a1bf\",\"textColor3\":\"eacfdb\",\"textColor4\":\"d884a8\"}},{\"kind\":\"app\",\"id\":\"458023433\",\"type\":\"apps\",\"href\":\"/v1/catalog/in/apps/458023433?l=en-GB\",\"attributes\":{\"artistName\":\"Splitwise, Inc.\",\"url\":\"https://apps.apple.com/in/app/splitwise/id458023433\",\"isIOSBinaryMacOSCompatible\":false,\"reviewsRestricted\":false,\"deviceFamilies\":[\"iphone\",\"ipad\",\"ipod\"],\"chartPositions\":{\"appStore\":{\"position\":12,\"genreName\":\"Finance\",\"genre\":6015,\"chart\":\"top-free\",\"chartLink\":\"https://apps.apple.com/in/charts/iphone/finance-apps/6015\"}},\"isPreorder\":false,\"platformAttributes\":{\"ios\":{\"requires32bit\":false,\"artwork\":{\"width\":1024,\"height\":1024,\"url\":\"https://is2-ssl.mzstatic.com/image/thumb/Purple112/v4/42/b1/00/42b10033-5cc5-3335-f957-484e8b95e3c1/AppIcon-0-0-1x_U007emarketing-0-0-0-7-0-0-sRGB-0-0-0-GLES2_U002c0-512MB-85-220-0-0.png/{w}x{h}{c}.{f}\",\"bgColor\":\"ace4d6\",\"textColor1\":\"181a1c\",\"textColor2\":\"25282b\",\"textColor3\":\"364241\",\"textColor4\":\"404e4d\"},\"hasMessagesExtension\":false,\"releaseDate\":\"2011-08-24\",\"hasSafariExtension\":false,\"minimumMacOSVersion\":\"11.0\",\"editorialArtwork\":{\"storeFlowcase\":{\"width\":4320,\"height\":1080,\"url\":\"https://is3-ssl.mzstatic.com/image/thumb/Features122/v4/ea/93/26/ea9326dc-a8b9-29e8-49c7-b31ecfa351c1/source/{w}x{h}{c}.{f}\",\"bgColor\":\"1fba8d\",\"textColor1\":\"090909\",\"textColor2\":\"161616\",\"textColor3\":\"0d2c23\",\"textColor4\":\"18372e\"},\"subscriptionHero\":{\"width\":4320,\"height\":1080,\"url\":\"https://is2-ssl.mzstatic.com/image/thumb/Features113/v4/b8/e2/58/b8e258d2-ae36-8720-1266-f192f2b52fec/source/{w}x{h}{c}.{f}\",\"bgColor\":\"78c3a9\",\"textColor1\":\"020201\",\"textColor2\":\"11110e\",\"textColor3\":\"1a2922\",\"textColor4\":\"25342d\"},\"brandLogo\":{\"width\":1080,\"height\":1080,\"url\":\"https://is3-ssl.mzstatic.com/image/thumb/Features124/v4/c8/82/38/c8823852-1841-665e-c2f5-bf413328a68a/source/{w}x{h}{c}.{f}\",\"bgColor\":\"000000\",\"textColor1\":\"f2f2f2\",\"textColor2\":\"e5e5e5\",\"textColor3\":\"c1c1c1\",\"textColor4\":\"b7b7b7\"}},\"subtitle\":\"Split expenses with friends\",\"isDeliveredInIOSAppForWatchOS\":false,\"bundleId\":\"com.Splitwise.SplitwiseMobile\",\"hasInAppPurchases\":true,\"isAppleWatchSupported\":false,\"isStandaloneForWatchOS\":false,\"requiresGameController\":false,\"isHiddenFromSpringboard\":false,\"editorialNotes\":{\"short\":\"Divide expenses fairly between the group.\",\"tagline\":\"Keep track of group expenses\"},\"isStandaloneWithCompanionForWatchOS\":false,\"offers\":[{\"buyParams\":\"productType=C\\u0026price=0\\u0026salableAdamId=458023433\\u0026pricingParameters=STDQ\\u0026pg=default\\u0026appExtVrsId=850717287\",\"type\":\"get\",\"priceFormatted\":\"₹ 0\",\"price\":0,\"currencyCode\":\"INR\",\"assets\":[{\"flavor\":\"iosSoftware\",\"size\":112068608}]},{\"buyParams\":\"productType=C\\u0026price=0\\u0026salableAdamId=458023433\\u0026pricingParameters=SWUPD\\u0026pg=default\\u0026appExtVrsId=850717287\",\"type\":\"update\",\"priceFormatted\":\"₹ 0\",\"price\":0,\"currencyCode\":\"INR\",\"assets\":[{\"flavor\":\"iosSoftware\",\"size\":112068608}]}]}},\"userRating\":{\"value\":4.7,\"ratingCount\":3670,\"ratingCountList\":[142,45,72,435,2976],\"ariaLabelForRatings\":\"4.7 stars\"},\"contentRatingsBySystem\":{\"appsApple\":{\"name\":\"4+\",\"value\":100,\"rank\":1}},\"name\":\"Splitwise\",\"supportsArcade\":false,\"genreDisplayName\":\"Finance\",\"isFirstPartyHideableApp\":false},\"relationships\":{\"developer\":{\"href\":\"/v1/catalog/in/apps/458023433/developer?l=en-GB\",\"data\":[{\"id\":\"458023436\",\"type\":\"developers\",\"href\":\"/v1/catalog/in/developers/458023436?l=en-GB\"}]},\"genres\":{\"href\":\"/v1/catalog/in/apps/458023433/genres?l=en-GB\",\"data\":[{\"id\":\"6015\",\"type\":\"genres\",\"href\":\"/v1/catalog/in/genres/6015?l=en-GB\",\"attributes\":{\"parentId\":\"36\",\"parentName\":\"App Store\",\"name\":\"Finance\",\"url\":\"https://itunes.apple.com/in/genre/id6015\"}},{\"id\":\"6005\",\"type\":\"genres\",\"href\":\"/v1/catalog/in/genres/6005?l=en-GB\",\"attributes\":{\"parentId\":\"36\",\"parentName\":\"App Store\",\"name\":\"Social Networking\",\"url\":\"https://itunes.apple.com/in/genre/id6005\"}}]}},\"artistName\":\"Splitwise, Inc.\",\"url\":\"https://apps.apple.com/in/app/splitwise/id458023433\",\"isIOSBinaryMacOSCompatible\":false,\"reviewsRestricted\":false,\"deviceFamilies\":[\"iphone\",\"ipad\",\"ipod\"],\"chartPositions\":{\"appStore\":{\"position\":12,\"genreName\":\"Finance\",\"genre\":6015,\"chart\":\"top-free\",\"chartLink\":\"https://apps.apple.com/in/charts/iphone/finance-apps/6015\"}},\"isPreorder\":false,\"platformAttributes\":{\"ios\":{\"requires32bit\":false,\"artwork\":{\"width\":1024,\"height\":1024,\"url\":\"https://is2-ssl.mzstatic.com/image/thumb/Purple112/v4/42/b1/00/42b10033-5cc5-3335-f957-484e8b95e3c1/AppIcon-0-0-1x_U007emarketing-0-0-0-7-0-0-sRGB-0-0-0-GLES2_U002c0-512MB-85-220-0-0.png/{w}x{h}{c}.{f}\",\"bgColor\":\"ace4d6\",\"textColor1\":\"181a1c\",\"textColor2\":\"25282b\",\"textColor3\":\"364241\",\"textColor4\":\"404e4d\"},\"hasMessagesExtension\":false,\"releaseDate\":\"2011-08-24\",\"hasSafariExtension\":false,\"minimumMacOSVersion\":\"11.0\",\"editorialArtwork\":{\"storeFlowcase\":{\"width\":4320,\"height\":1080,\"url\":\"https://is3-ssl.mzstatic.com/image/thumb/Features122/v4/ea/93/26/ea9326dc-a8b9-29e8-49c7-b31ecfa351c1/source/{w}x{h}{c}.{f}\",\"bgColor\":\"1fba8d\",\"textColor1\":\"090909\",\"textColor2\":\"161616\",\"textColor3\":\"0d2c23\",\"textColor4\":\"18372e\"},\"subscriptionHero\":{\"width\":4320,\"height\":1080,\"url\":\"https://is2-ssl.mzstatic.com/image/thumb/Features113/v4/b8/e2/58/b8e258d2-ae36-8720-1266-f192f2b52fec/source/{w}x{h}{c}.{f}\",\"bgColor\":\"78c3a9\",\"textColor1\":\"020201\",\"textColor2\":\"11110e\",\"textColor3\":\"1a2922\",\"textColor4\":\"25342d\"},\"brandLogo\":{\"width\":1080,\"height\":1080,\"url\":\"https://is3-ssl.mzstatic.com/image/thumb/Features124/v4/c8/82/38/c8823852-1841-665e-c2f5-bf413328a68a/source/{w}x{h}{c}.{f}\",\"bgColor\":\"000000\",\"textColor1\":\"f2f2f2\",\"textColor2\":\"e5e5e5\",\"textColor3\":\"c1c1c1\",\"textColor4\":\"b7b7b7\"}},\"subtitle\":\"Split expenses with friends\",\"isDeliveredInIOSAppForWatchOS\":false,\"bundleId\":\"com.Splitwise.SplitwiseMobile\",\"hasInAppPurchases\":true,\"isAppleWatchSupported\":false,\"isStandaloneForWatchOS\":false,\"requiresGameController\":false,\"isHiddenFromSpringboard\":false,\"editorialNotes\":{\"short\":\"Divide expenses fairly between the group.\",\"tagline\":\"Keep track of group expenses\"},\"isStandaloneWithCompanionForWatchOS\":false,\"offers\":[{\"buyParams\":\"productType=C\\u0026price=0\\u0026salableAdamId=458023433\\u0026pricingParameters=STDQ\\u0026pg=default\\u0026appExtVrsId=850717287\",\"type\":\"get\",\"priceFormatted\":\"₹ 0\",\"price\":0,\"currencyCode\":\"INR\",\"assets\":[{\"flavor\":\"iosSoftware\",\"size\":112068608}]},{\"buyParams\":\"productType=C\\u0026price=0\\u0026salableAdamId=458023433\\u0026pricingParameters=SWUPD\\u0026pg=default\\u0026appExtVrsId=850717287\",\"type\":\"update\",\"priceFormatted\":\"₹ 0\",\"price\":0,\"currencyCode\":\"INR\",\"assets\":[{\"flavor\":\"iosSoftware\",\"size\":112068608}]}]}},\"userRating\":{\"value\":4.7,\"ratingCount\":3670,\"ratingCountList\":[142,45,72,435,2976],\"ariaLabelForRatings\":\"4.7 stars\"},\"contentRatingsBySystem\":{\"appsApple\":{\"name\":\"4+\",\"value\":100,\"rank\":1}},\"name\":\"Splitwise\",\"supportsArcade\":false,\"genreDisplayName\":\"Finance\",\"isFirstPartyHideableApp\":false,\"artwork\":{\"width\":1024,\"height\":1024,\"url\":\"https://is2-ssl.mzstatic.com/image/thumb/Purple112/v4/42/b1/00/42b10033-5cc5-3335-f957-484e8b95e3c1/AppIcon-0-0-1x_U007emarketing-0-0-0-7-0-0-sRGB-0-0-0-GLES2_U002c0-512MB-85-220-0-0.png/{w}x{h}{c}.{f}\",\"bgColor\":\"ace4d6\",\"textColor1\":\"181a1c\",\"textColor2\":\"25282b\",\"textColor3\":\"364241\",\"textColor4\":\"404e4d\"}}],\"next\":\"/v1/catalog/in/charts?chart=top-free\\u0026contexts=default\\u0026genre=6015\\u0026l=en-GB\\u0026limit=12\\u0026offset=12\\u0026platform=iphone\\u0026types=apps\",\"href\":\"/v1/catalog/in/charts?chart=top-free\\u0026contexts=default\\u0026genre=6015\\u0026l=en-GB\\u0026limit=12\\u0026platform=iphone\\u0026types=apps\",\"seeAllLinkUrl\":\"/in/charts/iphone/finance-apps/6015?chart=top-free\"},{\"chart\":\"top-paid\",\"name\":\"Top Paid Apps\",\"orderId\":\"top-paid:apps\",\"shortName\":\"Paid Apps\",\"data\":[{\"kind\":\"app\",\"id\":\"883179733\",\"type\":\"apps\",\"href\":\"/v1/catalog/in/apps/883179733?l=en-GB\",\"attributes\":{\"minimumWatchOSVersion\":\"7.0\",\"artistName\":\"Qi Wang\",\"url\":\"https://apps.apple.com/in/app/money-track-easily/id883179733\",\"isIOSBinaryMacOSCompatible\":true,\"reviewsRestricted\":false,\"deviceFamilies\":[\"watch\",\"iphone\",\"ipad\",\"ipod\"],\"chartPositions\":{\"appStore\":{\"position\":1,\"genreName\":\"Finance\",\"genre\":6015,\"chart\":\"top-paid\",\"chartLink\":\"https://apps.apple.com/in/charts/iphone/finance-apps/6015\"}},\"isPreorder\":false,\"platformAttributes\":{\"ios\":{\"requires32bit\":false,\"artwork\":{\"width\":1024,\"height\":1024,\"url\":\"https://is3-ssl.mzstatic.com/image/thumb/Purple122/v4/ee/3a/cc/ee3acce2-8d7d-fbd7-9ca1-43fd520a6404/AppIcon-1x_U007emarketing-0-10-0-85-220.png/{w}x{h}{c}.{f}\",\"bgColor\":\"102431\",\"textColor1\":\"b3ff5e\",\"textColor2\":\"08d9f4\",\"textColor3\":\"93d354\",\"textColor4\":\"09b5cd\"},\"hasMessagesExtension\":false,\"releaseDate\":\"2014-06-29\",\"hasSafariExtension\":false,\"minimumMacOSVersion\":\"11.0\",\"editorialArtwork\":{\"originalFlowcaseBrick\":{\"width\":3200,\"height\":600,\"url\":\"https://is4-ssl.mzstatic.com/image/thumb/Features7/v4/84/60/72/84607202-a846-5ad6-9dbd-bb83d2539c59/source/{w}x{h}{c}.{f}\",\"bgColor\":\"1c2731\",\"textColor1\":\"ffde00\",\"textColor2\":\"c6cbcf\",\"textColor3\":\"d1b90a\",\"textColor4\":\"a4aaaf\"},\"brandLogo\":{\"width\":1080,\"height\":1080,\"url\":\"https://is3-ssl.mzstatic.com/image/thumb/Features124/v4/c8/82/38/c8823852-1841-665e-c2f5-bf413328a68a/source/{w}x{h}{c}.{f}\",\"bgColor\":\"000000\",\"textColor1\":\"f2f2f2\",\"textColor2\":\"e5e5e5\",\"textColor3\":\"c1c1c1\",\"textColor4\":\"b7b7b7\"}},\"isDeliveredInIOSAppForWatchOS\":true,\"bundleId\":\"com.wang.accouting\",\"hasInAppPurchases\":true,\"isAppleWatchSupported\":true,\"isStandaloneForWatchOS\":false,\"circularArtwork\":{\"width\":1024,\"height\":1024,\"url\":\"https://is4-ssl.mzstatic.com/image/thumb/Purple126/v4/d8/ac/7f/d8ac7fd0-14c2-3eb8-e898-1db7d8d0aae8/AppIcon-1x_U007emarketing-0-9-85-220.png/{w}x{h}{c}.{f}\",\"bgColor\":\"133043\",\"textColor1\":\"bbff60\",\"textColor2\":\"08daf5\",\"textColor3\":\"99d55a\",\"textColor4\":\"0ab8d1\"},\"requiresGameController\":false,\"isHiddenFromSpringboard\":false,\"isStandaloneWithCompanionForWatchOS\":false,\"offers\":[{\"buyParams\":\"productType=C\\u0026price=9000\\u0026salableAdamId=883179733\\u0026pricingParameters=STDQ\\u0026pg=default\\u0026appExtVrsId=847831753\",\"type\":\"buy\",\"priceFormatted\":\"₹ 9\",\"price\":9,\"currencyCode\":\"INR\",\"assets\":[{\"flavor\":\"iosSoftware\",\"size\":15551488}]},{\"buyParams\":\"productType=C\\u0026price=0\\u0026salableAdamId=883179733\\u0026pricingParameters=SWUPD\\u0026pg=default\\u0026appExtVrsId=847831753\",\"type\":\"update\",\"priceFormatted\":\"₹ 0\",\"price\":0,\"currencyCode\":\"INR\",\"assets\":[{\"flavor\":\"iosSoftware\",\"size\":15551488}]}]}},\"watchBundleId\":\"com.wang.accouting.watchkitapp\",\"userRating\":{\"value\":3.9,\"ratingCount\":19,\"ratingCountList\":[5,0,0,1,13],\"ariaLabelForRatings\":\"3.9 stars\"},\"contentRatingsBySystem\":{\"appsApple\":{\"name\":\"4+\",\"value\":100,\"rank\":1}},\"name\":\"Money - Track easily\",\"supportsArcade\":false,\"genreDisplayName\":\"Finance\",\"isFirstPartyHideableApp\":false},\"relationships\":{\"developer\":{\"href\":\"/v1/catalog/in/apps/883179733/developer?l=en-GB\",\"data\":[{\"id\":\"706772908\",\"type\":\"developers\",\"href\":\"/v1/catalog/in/developers/706772908?l=en-GB\"}]},\"genres\":{\"href\":\"/v1/catalog/in/apps/883179733/genres?l=en-GB\",\"data\":[{\"id\":\"6015\",\"type\":\"genres\",\"href\":\"/v1/catalog/in/genres/6015?l=en-GB\",\"attributes\":{\"parentId\":\"36\",\"parentName\":\"App Store\",\"name\":\"Finance\",\"url\":\"https://itunes.apple.com/in/genre/id6015\"}},{\"id\":\"6002\",\"type\":\"genres\",\"href\":\"/v1/catalog/in/genres/6002?l=en-GB\",\"attributes\":{\"parentId\":\"36\",\"parentName\":\"App Store\",\"name\":\"Utilities\",\"url\":\"https://itunes.apple.com/in/genre/id6002\"}}]}},\"minimumWatchOSVersion\":\"7.0\",\"artistName\":\"Qi Wang\",\"url\":\"https://apps.apple.com/in/app/money-track-easily/id883179733\",\"isIOSBinaryMacOSCompatible\":true,\"reviewsRestricted\":false,\"deviceFamilies\":[\"watch\",\"iphone\",\"ipad\",\"ipod\"],\"chartPositions\":{\"appStore\":{\"position\":1,\"genreName\":\"Finance\",\"genre\":6015,\"chart\":\"top-paid\",\"chartLink\":\"https://apps.apple.com/in/charts/iphone/finance-apps/6015\"}},\"isPreorder\":false,\"platformAttributes\":{\"ios\":{\"requires32bit\":false,\"artwork\":{\"width\":1024,\"height\":1024,\"url\":\"https://is3-ssl.mzstatic.com/image/thumb/Purple122/v4/ee/3a/cc/ee3acce2-8d7d-fbd7-9ca1-43fd520a6404/AppIcon-1x_U007emarketing-0-10-0-85-220.png/{w}x{h}{c}.{f}\",\"bgColor\":\"102431\",\"textColor1\":\"b3ff5e\",\"textColor2\":\"08d9f4\",\"textColor3\":\"93d354\",\"textColor4\":\"09b5cd\"},\"hasMessagesExtension\":false,\"releaseDate\":\"2014-06-29\",\"hasSafariExtension\":false,\"minimumMacOSVersion\":\"11.0\",\"editorialArtwork\":{\"originalFlowcaseBrick\":{\"width\":3200,\"height\":600,\"url\":\"https://is4-ssl.mzstatic.com/image/thumb/Features7/v4/84/60/72/84607202-a846-5ad6-9dbd-bb83d2539c59/source/{w}x{h}{c}.{f}\",\"bgColor\":\"1c2731\",\"textColor1\":\"ffde00\",\"textColor2\":\"c6cbcf\",\"textColor3\":\"d1b90a\",\"textColor4\":\"a4aaaf\"},\"brandLogo\":{\"width\":1080,\"height\":1080,\"url\":\"https://is3-ssl.mzstatic.com/image/thumb/Features124/v4/c8/82/38/c8823852-1841-665e-c2f5-bf413328a68a/source/{w}x{h}{c}.{f}\",\"bgColor\":\"000000\",\"textColor1\":\"f2f2f2\",\"textColor2\":\"e5e5e5\",\"textColor3\":\"c1c1c1\",\"textColor4\":\"b7b7b7\"}},\"isDeliveredInIOSAppForWatchOS\":true,\"bundleId\":\"com.wang.accouting\",\"hasInAppPurchases\":true,\"isAppleWatchSupported\":true,\"isStandaloneForWatchOS\":false,\"circularArtwork\":{\"width\":1024,\"height\":1024,\"url\":\"https://is4-ssl.mzstatic.com/image/thumb/Purple126/v4/d8/ac/7f/d8ac7fd0-14c2-3eb8-e898-1db7d8d0aae8/AppIcon-1x_U007emarketing-0-9-85-220.png/{w}x{h}{c}.{f}\",\"bgColor\":\"133043\",\"textColor1\":\"bbff60\",\"textColor2\":\"08daf5\",\"textColor3\":\"99d55a\",\"textColor4\":\"0ab8d1\"},\"requiresGameController\":false,\"isHiddenFromSpringboard\":false,\"isStandaloneWithCompanionForWatchOS\":false,\"offers\":[{\"buyParams\":\"productType=C\\u0026price=9000\\u0026salableAdamId=883179733\\u0026pricingParameters=STDQ\\u0026pg=default\\u0026appExtVrsId=847831753\",\"type\":\"buy\",\"priceFormatted\":\"₹ 9\",\"price\":9,\"currencyCode\":\"INR\",\"assets\":[{\"flavor\":\"iosSoftware\",\"size\":15551488}]},{\"buyParams\":\"productType=C\\u0026price=0\\u0026salableAdamId=883179733\\u0026pricingParameters=SWUPD\\u0026pg=default\\u0026appExtVrsId=847831753\",\"type\":\"update\",\"priceFormatted\":\"₹ 0\",\"price\":0,\"currencyCode\":\"INR\",\"assets\":[{\"flavor\":\"iosSoftware\",\"size\":15551488}]}]}},\"watchBundleId\":\"com.wang.accouting.watchkitapp\",\"userRating\":{\"value\":3.9,\"ratingCount\":19,\"ratingCountList\":[5,0,0,1,13],\"ariaLabelForRatings\":\"3.9 stars\"},\"contentRatingsBySystem\":{\"appsApple\":{\"name\":\"4+\",\"value\":100,\"rank\":1}},\"name\":\"Money - Track easily\",\"supportsArcade\":false,\"genreDisplayName\":\"Finance\",\"isFirstPartyHideableApp\":false,\"artwork\":{\"width\":1024,\"height\":1024,\"url\":\"https://is3-ssl.mzstatic.com/image/thumb/Purple122/v4/ee/3a/cc/ee3acce2-8d7d-fbd7-9ca1-43fd520a6404/AppIcon-1x_U007emarketing-0-10-0-85-220.png/{w}x{h}{c}.{f}\",\"bgColor\":\"102431\",\"textColor1\":\"b3ff5e\",\"textColor2\":\"08d9f4\",\"textColor3\":\"93d354\",\"textColor4\":\"09b5cd\"}},{\"kind\":\"app\",\"id\":\"564730202\",\"type\":\"apps\",\"href\":\"/v1/catalog/in/apps/564730202?l=en-GB\",\"attributes\":{\"artistName\":\"Realbyte Inc.\",\"url\":\"https://apps.apple.com/in/app/money-manager-pc-editing/id564730202\",\"isIOSBinaryMacOSCompatible\":false,\"reviewsRestricted\":false,\"deviceFamilies\":[\"iphone\",\"ipad\",\"ipod\"],\"chartPositions\":{\"appStore\":{\"position\":2,\"genreName\":\"Finance\",\"genre\":6015,\"chart\":\"top-paid\",\"chartLink\":\"https://apps.apple.com/in/charts/iphone/finance-apps/6015\"}},\"isPreorder\":false,\"platformAttributes\":{\"ios\":{\"requires32bit\":false,\"artwork\":{\"width\":1024,\"height\":1024,\"url\":\"https://is5-ssl.mzstatic.com/image/thumb/Purple122/v4/e5/7e/0f/e57e0f02-0166-b26c-ffe6-b059e45d668f/AppIcon-0-0-1x_U007emarketing-0-0-0-8-0-0-sRGB-0-0-0-GLES2_U002c0-512MB-85-220-0-0.png/{w}x{h}{c}.{f}\",\"bgColor\":\"bf2b2a\",\"textColor1\":\"ffffff\",\"textColor2\":\"fee3e1\",\"textColor3\":\"f2d4d4\",\"textColor4\":\"f1bfbd\"},\"hasMessagesExtension\":false,\"releaseDate\":\"2012-10-04\",\"hasSafariExtension\":false,\"minimumMacOSVersion\":\"11.0\",\"editorialArtwork\":{\"brandLogo\":{\"width\":1080,\"height\":1080,\"url\":\"https://is3-ssl.mzstatic.com/image/thumb/Features124/v4/c8/82/38/c8823852-1841-665e-c2f5-bf413328a68a/source/{w}x{h}{c}.{f}\",\"bgColor\":\"000000\",\"textColor1\":\"f2f2f2\",\"textColor2\":\"e5e5e5\",\"textColor3\":\"c1c1c1\",\"textColor4\":\"b7b7b7\"}},\"subtitle\":\"Money Manager Expense \\u0026 Budget\",\"isDeliveredInIOSAppForWatchOS\":false,\"bundleId\":\"com.realbyteapps.MoneyManager\",\"hasInAppPurchases\":true,\"isAppleWatchSupported\":false,\"isStandaloneForWatchOS\":false,\"requiresGameController\":false,\"isHiddenFromSpringboard\":false,\"isStandaloneWithCompanionForWatchOS\":false,\"offers\":[{\"buyParams\":\"productType=C\\u0026price=549000\\u0026salableAdamId=564730202\\u0026pricingParameters=STDQ\\u0026pg=default\\u0026appExtVrsId=851518504\",\"type\":\"buy\",\"priceFormatted\":\"₹ 549\",\"price\":549,\"currencyCode\":\"INR\",\"assets\":[{\"flavor\":\"iosSoftware\",\"size\":49269760}]},{\"buyParams\":\"productType=C\\u0026price=0\\u0026salableAdamId=564730202\\u0026pricingParameters=SWUPD\\u0026pg=default\\u0026appExtVrsId=851518504\",\"type\":\"update\",\"priceFormatted\":\"₹ 0\",\"price\":0,\"currencyCode\":\"INR\",\"assets\":[{\"flavor\":\"iosSoftware\",\"size\":49269760}]}]}},\"userRating\":{\"value\":4.7,\"ratingCount\":1246,\"ratingCountList\":[23,8,28,148,1039],\"ariaLabelForRatings\":\"4.7 stars\"},\"contentRatingsBySystem\":{\"appsApple\":{\"name\":\"4+\",\"value\":100,\"rank\":1}},\"name\":\"Money Manager (+PC Editing)\",\"supportsArcade\":false,\"genreDisplayName\":\"Finance\",\"isFirstPartyHideableApp\":false},\"relationships\":{\"developer\":{\"href\":\"/v1/catalog/in/apps/564730202/developer?l=en-GB\",\"data\":[{\"id\":\"560481813\",\"type\":\"developers\",\"href\":\"/v1/catalog/in/developers/560481813?l=en-GB\"}]},\"genres\":{\"href\":\"/v1/catalog/in/apps/564730202/genres?l=en-GB\",\"data\":[{\"id\":\"6015\",\"type\":\"genres\",\"href\":\"/v1/catalog/in/genres/6015?l=en-GB\",\"attributes\":{\"parentId\":\"36\",\"parentName\":\"App Store\",\"name\":\"Finance\",\"url\":\"https://itunes.apple.com/in/genre/id6015\"}},{\"id\":\"6012\",\"type\":\"genres\",\"href\":\"/v1/catalog/in/genres/6012?l=en-GB\",\"attributes\":{\"parentId\":\"36\",\"parentName\":\"App Store\",\"name\":\"Lifestyle\",\"url\":\"https://itunes.apple.com/in/genre/id6012\"}}]}},\"artistName\":\"Realbyte Inc.\",\"url\":\"https://apps.apple.com/in/app/money-manager-pc-editing/id564730202\",\"isIOSBinaryMacOSCompatible\":false,\"reviewsRestricted\":false,\"deviceFamilies\":[\"iphone\",\"ipad\",\"ipod\"],\"chartPositions\":{\"appStore\":{\"position\":2,\"genreName\":\"Finance\",\"genre\":6015,\"chart\":\"top-paid\",\"chartLink\":\"https://apps.apple.com/in/charts/iphone/finance-apps/6015\"}},\"isPreorder\":false,\"platformAttributes\":{\"ios\":{\"requires32bit\":false,\"artwork\":{\"width\":1024,\"height\":1024,\"url\":\"https://is5-ssl.mzstatic.com/image/thumb/Purple122/v4/e5/7e/0f/e57e0f02-0166-b26c-ffe6-b059e45d668f/AppIcon-0-0-1x_U007emarketing-0-0-0-8-0-0-sRGB-0-0-0-GLES2_U002c0-512MB-85-220-0-0.png/{w}x{h}{c}.{f}\",\"bgColor\":\"bf2b2a\",\"textColor1\":\"ffffff\",\"textColor2\":\"fee3e1\",\"textColor3\":\"f2d4d4\",\"textColor4\":\"f1bfbd\"},\"hasMessagesExtension\":false,\"releaseDate\":\"2012-10-04\",\"hasSafariExtension\":false,\"minimumMacOSVersion\":\"11.0\",\"editorialArtwork\":{\"brandLogo\":{\"width\":1080,\"height\":1080,\"url\":\"https://is3-ssl.mzstatic.com/image/thumb/Features124/v4/c8/82/38/c8823852-1841-665e-c2f5-bf413328a68a/source/{w}x{h}{c}.{f}\",\"bgColor\":\"000000\",\"textColor1\":\"f2f2f2\",\"textColor2\":\"e5e5e5\",\"textColor3\":\"c1c1c1\",\"textColor4\":\"b7b7b7\"}},\"subtitle\":\"Money Manager Expense \\u0026 Budget\",\"isDeliveredInIOSAppForWatchOS\":false,\"bundleId\":\"com.realbyteapps.MoneyManager\",\"hasInAppPurchases\":true,\"isAppleWatchSupported\":false,\"isStandaloneForWatchOS\":false,\"requiresGameController\":false,\"isHiddenFromSpringboard\":false,\"isStandaloneWithCompanionForWatchOS\":false,\"offers\":[{\"buyParams\":\"productType=C\\u0026price=549000\\u0026salableAdamId=564730202\\u0026pricingParameters=STDQ\\u0026pg=default\\u0026appExtVrsId=851518504\",\"type\":\"buy\",\"priceFormatted\":\"₹ 549\",\"price\":549,\"currencyCode\":\"INR\",\"assets\":[{\"flavor\":\"iosSoftware\",\"size\":49269760}]},{\"buyParams\":\"productType=C\\u0026price=0\\u0026salableAdamId=564730202\\u0026pricingParameters=SWUPD\\u0026pg=default\\u0026appExtVrsId=851518504\",\"type\":\"update\",\"priceFormatted\":\"₹ 0\",\"price\":0,\"currencyCode\":\"INR\",\"assets\":[{\"flavor\":\"iosSoftware\",\"size\":49269760}]}]}},\"userRating\":{\"value\":4.7,\"ratingCount\":1246,\"ratingCountList\":[23,8,28,148,1039],\"ariaLabelForRatings\":\"4.7 stars\"},\"contentRatingsBySystem\":{\"appsApple\":{\"name\":\"4+\",\"value\":100,\"rank\":1}},\"name\":\"Money Manager (+PC Editing)\",\"supportsArcade\":false,\"genreDisplayName\":\"Finance\",\"isFirstPartyHideableApp\":false,\"artwork\":{\"width\":1024,\"height\":1024,\"url\":\"https://is5-ssl.mzstatic.com/image/thumb/Purple122/v4/e5/7e/0f/e57e0f02-0166-b26c-ffe6-b059e45d668f/AppIcon-0-0-1x_U007emarketing-0-0-0-8-0-0-sRGB-0-0-0-GLES2_U002c0-512MB-85-220-0-0.png/{w}x{h}{c}.{f}\",\"bgColor\":\"bf2b2a\",\"textColor1\":\"ffffff\",\"textColor2\":\"fee3e1\",\"textColor3\":\"f2d4d4\",\"textColor4\":\"f1bfbd\"}},{\"kind\":\"app\",\"id\":\"1517829258\",\"type\":\"apps\",\"href\":\"/v1/catalog/in/apps/1517829258?l=en-GB\",\"attributes\":{\"minimumWatchOSVersion\":\"6.2\",\"artistName\":\"Andrea Dellai\",\"url\":\"https://apps.apple.com/in/app/purchases/id1517829258\",\"isIOSBinaryMacOSCompatible\":false,\"reviewsRestricted\":false,\"deviceFamilies\":[\"mac\",\"watch\",\"iphone\",\"ipad\",\"ipod\"],\"chartPositions\":{\"appStore\":{\"position\":3,\"genreName\":\"Finance\",\"genre\":6015,\"chart\":\"top-paid\",\"chartLink\":\"https://apps.apple.com/in/charts/iphone/finance-apps/6015\"}},\"isPreorder\":false,\"platformAttributes\":{\"ios\":{\"requires32bit\":false,\"artwork\":{\"width\":1024,\"height\":1024,\"url\":\"https://is4-ssl.mzstatic.com/image/thumb/Purple126/v4/4d/6a/d8/4d6ad8ea-999b-3c0f-5729-b42b6a2d8ef6/AppIcon-0-1x_U007emarketing-0-7-0-sRGB-85-220.png/{w}x{h}{c}.{f}\",\"bgColor\":\"e1e3e6\",\"textColor1\":\"070605\",\"textColor2\":\"1b3200\",\"textColor3\":\"323232\",\"textColor4\":\"43552e\"},\"hasMessagesExtension\":false,\"releaseDate\":\"2020-07-21\",\"hasSafariExtension\":false,\"editorialArtwork\":{\"brandLogo\":{\"width\":1080,\"height\":1080,\"url\":\"https://is3-ssl.mzstatic.com/image/thumb/Features124/v4/c8/82/38/c8823852-1841-665e-c2f5-bf413328a68a/source/{w}x{h}{c}.{f}\",\"bgColor\":\"000000\",\"textColor1\":\"f2f2f2\",\"textColor2\":\"e5e5e5\",\"textColor3\":\"c1c1c1\",\"textColor4\":\"b7b7b7\"}},\"subtitle\":\"Personal expense management\",\"isDeliveredInIOSAppForWatchOS\":true,\"bundleId\":\"com.andreadellai.MieSpeseSwift\",\"hasInAppPurchases\":true,\"isAppleWatchSupported\":true,\"isStandaloneForWatchOS\":false,\"circularArtwork\":{\"width\":1024,\"height\":1024,\"url\":\"https://is3-ssl.mzstatic.com/image/thumb/Purple126/v4/04/5e/39/045e3952-8bc0-9c88-bc16-6f2ae3c7cd98/AppIcon-1x_U007emarketing-0-13-85-220.png/{w}x{h}{c}.{f}\",\"bgColor\":\"525252\",\"textColor1\":\"ffffff\",\"textColor2\":\"97e857\",\"textColor3\":\"dcdcdc\",\"textColor4\":\"8aca56\"},\"requiresGameController\":false,\"isHiddenFromSpringboard\":false,\"isStandaloneWithCompanionForWatchOS\":true,\"offers\":[{\"buyParams\":\"productType=C\\u0026price=29000\\u0026salableAdamId=1517829258\\u0026pricingParameters=STDQ\\u0026pg=default\\u0026appExtVrsId=845905931\",\"type\":\"buy\",\"priceFormatted\":\"₹ 29\",\"price\":29,\"currencyCode\":\"INR\",\"assets\":[{\"flavor\":\"iosSoftware\",\"size\":94451712}]},{\"buyParams\":\"productType=C\\u0026price=0\\u0026salableAdamId=1517829258\\u0026pricingParameters=SWUPD\\u0026pg=default\\u0026appExtVrsId=845905931\",\"type\":\"update\",\"priceFormatted\":\"₹ 0\",\"price\":0,\"currencyCode\":\"INR\",\"assets\":[{\"flavor\":\"iosSoftware\",\"size\":94451712}]}]}},\"watchBundleId\":\"com.andreadellai.MieSpeseSwift.watchkitapp\",\"userRating\":{\"value\":4,\"ratingCount\":25,\"ratingCountList\":[1,2,3,8,11],\"ariaLabelForRatings\":\"4.0 stars\"},\"contentRatingsBySystem\":{\"appsApple\":{\"name\":\"4+\",\"value\":100,\"rank\":1}},\"name\":\"Purchases\",\"supportsArcade\":false,\"genreDisplayName\":\"Finance\",\"isFirstPartyHideableApp\":false},\"relationships\":{\"developer\":{\"href\":\"/v1/catalog/in/apps/1517829258/developer?l=en-GB\",\"data\":[{\"id\":\"1489702085\",\"type\":\"developers\",\"href\":\"/v1/catalog/in/developers/1489702085?l=en-GB\"}]},\"genres\":{\"href\":\"/v1/catalog/in/apps/1517829258/genres?l=en-GB\",\"data\":[{\"id\":\"6015\",\"type\":\"genres\",\"href\":\"/v1/catalog/in/genres/6015?l=en-GB\",\"attributes\":{\"parentId\":\"36\",\"parentName\":\"App Store\",\"name\":\"Finance\",\"url\":\"https://itunes.apple.com/in/genre/id6015\"}},{\"id\":\"6007\",\"type\":\"genres\",\"href\":\"/v1/catalog/in/genres/6007?l=en-GB\",\"attributes\":{\"parentId\":\"36\",\"parentName\":\"App Store\",\"name\":\"Productivity\",\"url\":\"https://itunes.apple.com/in/genre/id6007\"}}]}},\"minimumWatchOSVersion\":\"6.2\",\"artistName\":\"Andrea Dellai\",\"url\":\"https://apps.apple.com/in/app/purchases/id1517829258\",\"isIOSBinaryMacOSCompatible\":false,\"reviewsRestricted\":false,\"deviceFamilies\":[\"mac\",\"watch\",\"iphone\",\"ipad\",\"ipod\"],\"chartPositions\":{\"appStore\":{\"position\":3,\"genreName\":\"Finance\",\"genre\":6015,\"chart\":\"top-paid\",\"chartLink\":\"https://apps.apple.com/in/charts/iphone/finance-apps/6015\"}},\"isPreorder\":false,\"platformAttributes\":{\"ios\":{\"requires32bit\":false,\"artwork\":{\"width\":1024,\"height\":1024,\"url\":\"https://is4-ssl.mzstatic.com/image/thumb/Purple126/v4/4d/6a/d8/4d6ad8ea-999b-3c0f-5729-b42b6a2d8ef6/AppIcon-0-1x_U007emarketing-0-7-0-sRGB-85-220.png/{w}x{h}{c}.{f}\",\"bgColor\":\"e1e3e6\",\"textColor1\":\"070605\",\"textColor2\":\"1b3200\",\"textColor3\":\"323232\",\"textColor4\":\"43552e\"},\"hasMessagesExtension\":false,\"releaseDate\":\"2020-07-21\",\"hasSafariExtension\":false,\"editorialArtwork\":{\"brandLogo\":{\"width\":1080,\"height\":1080,\"url\":\"https://is3-ssl.mzstatic.com/image/thumb/Features124/v4/c8/82/38/c8823852-1841-665e-c2f5-bf413328a68a/source/{w}x{h}{c}.{f}\",\"bgColor\":\"000000\",\"textColor1\":\"f2f2f2\",\"textColor2\":\"e5e5e5\",\"textColor3\":\"c1c1c1\",\"textColor4\":\"b7b7b7\"}},\"subtitle\":\"Personal expense management\",\"isDeliveredInIOSAppForWatchOS\":true,\"bundleId\":\"com.andreadellai.MieSpeseSwift\",\"hasInAppPurchases\":true,\"isAppleWatchSupported\":true,\"isStandaloneForWatchOS\":false,\"circularArtwork\":{\"width\":1024,\"height\":1024,\"url\":\"https://is3-ssl.mzstatic.com/image/thumb/Purple126/v4/04/5e/39/045e3952-8bc0-9c88-bc16-6f2ae3c7cd98/AppIcon-1x_U007emarketing-0-13-85-220.png/{w}x{h}{c}.{f}\",\"bgColor\":\"525252\",\"textColor1\":\"ffffff\",\"textColor2\":\"97e857\",\"textColor3\":\"dcdcdc\",\"textColor4\":\"8aca56\"},\"requiresGameController\":false,\"isHiddenFromSpringboard\":false,\"isStandaloneWithCompanionForWatchOS\":true,\"offers\":[{\"buyParams\":\"productType=C\\u0026price=29000\\u0026salableAdamId=1517829258\\u0026pricingParameters=STDQ\\u0026pg=default\\u0026appExtVrsId=845905931\",\"type\":\"buy\",\"priceFormatted\":\"₹ 29\",\"price\":29,\"currencyCode\":\"INR\",\"assets\":[{\"flavor\":\"iosSoftware\",\"size\":94451712}]},{\"buyParams\":\"productType=C\\u0026price=0\\u0026salableAdamId=1517829258\\u0026pricingParameters=SWUPD\\u0026pg=default\\u0026appExtVrsId=845905931\",\"type\":\"update\",\"priceFormatted\":\"₹ 0\",\"price\":0,\"currencyCode\":\"INR\",\"assets\":[{\"flavor\":\"iosSoftware\",\"size\":94451712}]}]}},\"watchBundleId\":\"com.andreadellai.MieSpeseSwift.watchkitapp\",\"userRating\":{\"value\":4,\"ratingCount\":25,\"ratingCountList\":[1,2,3,8,11],\"ariaLabelForRatings\":\"4.0 stars\"},\"contentRatingsBySystem\":{\"appsApple\":{\"name\":\"4+\",\"value\":100,\"rank\":1}},\"name\":\"Purchases\",\"supportsArcade\":false,\"genreDisplayName\":\"Finance\",\"isFirstPartyHideableApp\":false,\"artwork\":{\"width\":1024,\"height\":1024,\"url\":\"https://is4-ssl.mzstatic.com/image/thumb/Purple126/v4/4d/6a/d8/4d6ad8ea-999b-3c0f-5729-b42b6a2d8ef6/AppIcon-0-1x_U007emarketing-0-7-0-sRGB-85-220.png/{w}x{h}{c}.{f}\",\"bgColor\":\"e1e3e6\",\"textColor1\":\"070605\",\"textColor2\":\"1b3200\",\"textColor3\":\"323232\",\"textColor4\":\"43552e\"}},{\"kind\":\"app\",\"id\":\"961048437\",\"type\":\"apps\",\"href\":\"/v1/catalog/in/apps/961048437?l=en-GB\",\"attributes\":{\"artistName\":\"Mobion\",\"url\":\"https://apps.apple.com/in/app/income-ok-income-expenses/id961048437\",\"isIOSBinaryMacOSCompatible\":true,\"reviewsRestricted\":false,\"deviceFamilies\":[\"iphone\",\"ipod\"],\"chartPositions\":{\"appStore\":{\"position\":4,\"genreName\":\"Finance\",\"genre\":6015,\"chart\":\"top-paid\",\"chartLink\":\"https://apps.apple.com/in/charts/iphone/finance-apps/6015\"}},\"isPreorder\":false,\"platformAttributes\":{\"ios\":{\"requires32bit\":false,\"artwork\":{\"width\":1024,\"height\":1024,\"url\":\"https://is4-ssl.mzstatic.com/image/thumb/Purple113/v4/99/11/f8/9911f887-e238-59b3-22a9-65d2f599691b/AppIcon-0-1x_U007emarketing-0-0-GLES2_U002c0-512MB-sRGB-0-0-0-85-220-0-0-0-4.png/{w}x{h}{c}.{f}\",\"bgColor\":\"545274\",\"textColor1\":\"ffffff\",\"textColor2\":\"98e448\",\"textColor3\":\"dcdce3\",\"textColor4\":\"8ac751\"},\"hasMessagesExtension\":false,\"releaseDate\":\"2015-02-04\",\"hasSafariExtension\":false,\"minimumMacOSVersion\":\"11.0\",\"editorialArtwork\":{\"brandLogo\":{\"width\":1080,\"height\":1080,\"url\":\"https://is3-ssl.mzstatic.com/image/thumb/Features124/v4/c8/82/38/c8823852-1841-665e-c2f5-bf413328a68a/source/{w}x{h}{c}.{f}\",\"bgColor\":\"000000\",\"textColor1\":\"f2f2f2\",\"textColor2\":\"e5e5e5\",\"textColor3\":\"c1c1c1\",\"textColor4\":\"b7b7b7\"}},\"subtitle\":\"Personal finance\",\"isDeliveredInIOSAppForWatchOS\":false,\"bundleId\":\"biz.mobion.IncomeOK\",\"hasInAppPurchases\":false,\"isAppleWatchSupported\":false,\"isStandaloneForWatchOS\":false,\"requiresGameController\":false,\"isHiddenFromSpringboard\":false,\"isStandaloneWithCompanionForWatchOS\":false,\"offers\":[{\"buyParams\":\"productType=C\\u0026price=179000\\u0026salableAdamId=961048437\\u0026pricingParameters=STDQ\\u0026pg=default\\u0026appExtVrsId=831441944\",\"type\":\"buy\",\"priceFormatted\":\"₹ 179\",\"price\":179,\"currencyCode\":\"INR\",\"assets\":[{\"flavor\":\"iosSoftware\",\"size\":14594048}]},{\"buyParams\":\"productType=C\\u0026price=0\\u0026salableAdamId=961048437\\u0026pricingParameters=SWUPD\\u0026pg=default\\u0026appExtVrsId=831441944\",\"type\":\"update\",\"priceFormatted\":\"₹ 0\",\"price\":0,\"currencyCode\":\"INR\",\"assets\":[{\"flavor\":\"iosSoftware\",\"size\":14594048}]}]}},\"userRating\":{\"value\":4.5,\"ratingCount\":122,\"ratingCountList\":[3,1,11,25,82],\"ariaLabelForRatings\":\"4.5 stars\"},\"contentRatingsBySystem\":{\"appsApple\":{\"name\":\"4+\",\"value\":100,\"rank\":1}},\"name\":\"Income OK - income \\u0026 expenses\",\"supportsArcade\":false,\"genreDisplayName\":\"Finance\",\"isFirstPartyHideableApp\":false},\"relationships\":{\"developer\":{\"href\":\"/v1/catalog/in/apps/961048437/developer?l=en-GB\",\"data\":[{\"id\":\"433262741\",\"type\":\"developers\",\"href\":\"/v1/catalog/in/developers/433262741?l=en-GB\"}]},\"genres\":{\"href\":\"/v1/catalog/in/apps/961048437/genres?l=en-GB\",\"data\":[{\"id\":\"6015\",\"type\":\"genres\",\"href\":\"/v1/catalog/in/genres/6015?l=en-GB\",\"attributes\":{\"parentId\":\"36\",\"parentName\":\"App Store\",\"name\":\"Finance\",\"url\":\"https://itunes.apple.com/in/genre/id6015\"}}]}},\"artistName\":\"Mobion\",\"url\":\"https://apps.apple.com/in/app/income-ok-income-expenses/id961048437\",\"isIOSBinaryMacOSCompatible\":true,\"reviewsRestricted\":false,\"deviceFamilies\":[\"iphone\",\"ipod\"],\"chartPositions\":{\"appStore\":{\"position\":4,\"genreName\":\"Finance\",\"genre\":6015,\"chart\":\"top-paid\",\"chartLink\":\"https://apps.apple.com/in/charts/iphone/finance-apps/6015\"}},\"isPreorder\":false,\"platformAttributes\":{\"ios\":{\"requires32bit\":false,\"artwork\":{\"width\":1024,\"height\":1024,\"url\":\"https://is4-ssl.mzstatic.com/image/thumb/Purple113/v4/99/11/f8/9911f887-e238-59b3-22a9-65d2f599691b/AppIcon-0-1x_U007emarketing-0-0-GLES2_U002c0-512MB-sRGB-0-0-0-85-220-0-0-0-4.png/{w}x{h}{c}.{f}\",\"bgColor\":\"545274\",\"textColor1\":\"ffffff\",\"textColor2\":\"98e448\",\"textColor3\":\"dcdce3\",\"textColor4\":\"8ac751\"},\"hasMessagesExtension\":false,\"releaseDate\":\"2015-02-04\",\"hasSafariExtension\":false,\"minimumMacOSVersion\":\"11.0\",\"editorialArtwork\":{\"brandLogo\":{\"width\":1080,\"height\":1080,\"url\":\"https://is3-ssl.mzstatic.com/image/thumb/Features124/v4/c8/82/38/c8823852-1841-665e-c2f5-bf413328a68a/source/{w}x{h}{c}.{f}\",\"bgColor\":\"000000\",\"textColor1\":\"f2f2f2\",\"textColor2\":\"e5e5e5\",\"textColor3\":\"c1c1c1\",\"textColor4\":\"b7b7b7\"}},\"subtitle\":\"Personal finance\",\"isDeliveredInIOSAppForWatchOS\":false,\"bundleId\":\"biz.mobion.IncomeOK\",\"hasInAppPurchases\":false,\"isAppleWatchSupported\":false,\"isStandaloneForWatchOS\":false,\"requiresGameController\":false,\"isHiddenFromSpringboard\":false,\"isStandaloneWithCompanionForWatchOS\":false,\"offers\":[{\"buyParams\":\"productType=C\\u0026price=179000\\u0026salableAdamId=961048437\\u0026pricingParameters=STDQ\\u0026pg=default\\u0026appExtVrsId=831441944\",\"type\":\"buy\",\"priceFormatted\":\"₹ 179\",\"price\":179,\"currencyCode\":\"INR\",\"assets\":[{\"flavor\":\"iosSoftware\",\"size\":14594048}]},{\"buyParams\":\"productType=C\\u0026price=0\\u0026salableAdamId=961048437\\u0026pricingParameters=SWUPD\\u0026pg=default\\u0026appExtVrsId=831441944\",\"type\":\"update\",\"priceFormatted\":\"₹ 0\",\"price\":0,\"currencyCode\":\"INR\",\"assets\":[{\"flavor\":\"iosSoftware\",\"size\":14594048}]}]}},\"userRating\":{\"value\":4.5,\"ratingCount\":122,\"ratingCountList\":[3,1,11,25,82],\"ariaLabelForRatings\":\"4.5 stars\"},\"contentRatingsBySystem\":{\"appsApple\":{\"name\":\"4+\",\"value\":100,\"rank\":1}},\"name\":\"Income OK - income \\u0026 expenses\",\"supportsArcade\":false,\"genreDisplayName\":\"Finance\",\"isFirstPartyHideableApp\":false,\"artwork\":{\"width\":1024,\"height\":1024,\"url\":\"https://is4-ssl.mzstatic.com/image/thumb/Purple113/v4/99/11/f8/9911f887-e238-59b3-22a9-65d2f599691b/AppIcon-0-1x_U007emarketing-0-0-GLES2_U002c0-512MB-sRGB-0-0-0-85-220-0-0-0-4.png/{w}x{h}{c}.{f}\",\"bgColor\":\"545274\",\"textColor1\":\"ffffff\",\"textColor2\":\"98e448\",\"textColor3\":\"dcdce3\",\"textColor4\":\"8ac751\"}},{\"kind\":\"app\",\"id\":\"525997288\",\"type\":\"apps\",\"href\":\"/v1/catalog/in/apps/525997288?l=en-GB\",\"attributes\":{\"artistName\":\"schoettler Software GmbH\",\"url\":\"https://apps.apple.com/in/app/calctape-paper-tape-calculator/id525997288\",\"isIOSBinaryMacOSCompatible\":true,\"reviewsRestricted\":false,\"deviceFamilies\":[\"iphone\",\"ipad\",\"ipod\"],\"chartPositions\":{\"appStore\":{\"position\":5,\"genreName\":\"Finance\",\"genre\":6015,\"chart\":\"top-paid\",\"chartLink\":\"https://apps.apple.com/in/charts/iphone/finance-apps/6015\"}},\"isPreorder\":false,\"platformAttributes\":{\"ios\":{\"requires32bit\":false,\"artwork\":{\"width\":1024,\"height\":1024,\"url\":\"https://is5-ssl.mzstatic.com/image/thumb/Purple112/v4/d0/63/8f/d0638f4f-7d09-ef8a-532f-cf7dcbfaa887/AppIcon-0-0-1x_U007emarketing-0-0-0-9-0-0-sRGB-0-0-0-GLES2_U002c0-512MB-85-220-0-0.png/{w}x{h}{c}.{f}\",\"bgColor\":\"083461\",\"textColor1\":\"ffffff\",\"textColor2\":\"90b0d3\",\"textColor3\":\"cdd6df\",\"textColor4\":\"7597bc\"},\"hasMessagesExtension\":false,\"releaseDate\":\"2012-05-16\",\"hasSafariExtension\":false,\"minimumMacOSVersion\":\"11.0\",\"editorialArtwork\":{\"brandLogo\":{\"width\":1080,\"height\":1080,\"url\":\"https://is3-ssl.mzstatic.com/image/thumb/Features124/v4/c8/82/38/c8823852-1841-665e-c2f5-bf413328a68a/source/{w}x{h}{c}.{f}\",\"bgColor\":\"000000\",\"textColor1\":\"f2f2f2\",\"textColor2\":\"e5e5e5\",\"textColor3\":\"c1c1c1\",\"textColor4\":\"b7b7b7\"}},\"subtitle\":\"Calc thought from scratch\",\"isDeliveredInIOSAppForWatchOS\":false,\"bundleId\":\"de.sfr.ipad.calctape\",\"hasInAppPurchases\":false,\"isAppleWatchSupported\":false,\"isStandaloneForWatchOS\":false,\"requiresGameController\":false,\"isHiddenFromSpringboard\":false,\"isStandaloneWithCompanionForWatchOS\":false,\"offers\":[{\"buyParams\":\"productType=C\\u0026price=269000\\u0026salableAdamId=525997288\\u0026pricingParameters=STDQ\\u0026pg=default\\u0026appExtVrsId=850249628\",\"type\":\"buy\",\"priceFormatted\":\"₹ 269\",\"price\":269,\"currencyCode\":\"INR\",\"assets\":[{\"flavor\":\"iosSoftware\",\"size\":3876864}]},{\"buyParams\":\"productType=C\\u0026price=0\\u0026salableAdamId=525997288\\u0026pricingParameters=SWUPD\\u0026pg=default\\u0026appExtVrsId=850249628\",\"type\":\"update\",\"priceFormatted\":\"₹ 0\",\"price\":0,\"currencyCode\":\"INR\",\"assets\":[{\"flavor\":\"iosSoftware\",\"size\":3876864}]}]}},\"userRating\":{\"value\":3.4,\"ratingCount\":13,\"ratingCountList\":[3,2,1,1,6],\"ariaLabelForRatings\":\"3.4 stars\"},\"contentRatingsBySystem\":{\"appsApple\":{\"name\":\"4+\",\"value\":100,\"rank\":1}},\"name\":\"CalcTape Paper Tape Calculator\",\"supportsArcade\":false,\"genreDisplayName\":\"Finance\",\"isFirstPartyHideableApp\":false},\"relationships\":{\"developer\":{\"href\":\"/v1/catalog/in/apps/525997288/developer?l=en-GB\",\"data\":[{\"id\":\"299986561\",\"type\":\"developers\",\"href\":\"/v1/catalog/in/developers/299986561?l=en-GB\"}]},\"genres\":{\"href\":\"/v1/catalog/in/apps/525997288/genres?l=en-GB\",\"data\":[{\"id\":\"6015\",\"type\":\"genres\",\"href\":\"/v1/catalog/in/genres/6015?l=en-GB\",\"attributes\":{\"parentId\":\"36\",\"parentName\":\"App Store\",\"name\":\"Finance\",\"url\":\"https://itunes.apple.com/in/genre/id6015\"}},{\"id\":\"6007\",\"type\":\"genres\",\"href\":\"/v1/catalog/in/genres/6007?l=en-GB\",\"attributes\":{\"parentId\":\"36\",\"parentName\":\"App Store\",\"name\":\"Productivity\",\"url\":\"https://itunes.apple.com/in/genre/id6007\"}}]}},\"artistName\":\"schoettler Software GmbH\",\"url\":\"https://apps.apple.com/in/app/calctape-paper-tape-calculator/id525997288\",\"isIOSBinaryMacOSCompatible\":true,\"reviewsRestricted\":false,\"deviceFamilies\":[\"iphone\",\"ipad\",\"ipod\"],\"chartPositions\":{\"appStore\":{\"position\":5,\"genreName\":\"Finance\",\"genre\":6015,\"chart\":\"top-paid\",\"chartLink\":\"https://apps.apple.com/in/charts/iphone/finance-apps/6015\"}},\"isPreorder\":false,\"platformAttributes\":{\"ios\":{\"requires32bit\":false,\"artwork\":{\"width\":1024,\"height\":1024,\"url\":\"https://is5-ssl.mzstatic.com/image/thumb/Purple112/v4/d0/63/8f/d0638f4f-7d09-ef8a-532f-cf7dcbfaa887/AppIcon-0-0-1x_U007emarketing-0-0-0-9-0-0-sRGB-0-0-0-GLES2_U002c0-512MB-85-220-0-0.png/{w}x{h}{c}.{f}\",\"bgColor\":\"083461\",\"textColor1\":\"ffffff\",\"textColor2\":\"90b0d3\",\"textColor3\":\"cdd6df\",\"textColor4\":\"7597bc\"},\"hasMessagesExtension\":false,\"releaseDate\":\"2012-05-16\",\"hasSafariExtension\":false,\"minimumMacOSVersion\":\"11.0\",\"editorialArtwork\":{\"brandLogo\":{\"width\":1080,\"height\":1080,\"url\":\"https://is3-ssl.mzstatic.com/image/thumb/Features124/v4/c8/82/38/c8823852-1841-665e-c2f5-bf413328a68a/source/{w}x{h}{c}.{f}\",\"bgColor\":\"000000\",\"textColor1\":\"f2f2f2\",\"textColor2\":\"e5e5e5\",\"textColor3\":\"c1c1c1\",\"textColor4\":\"b7b7b7\"}},\"subtitle\":\"Calc thought from scratch\",\"isDeliveredInIOSAppForWatchOS\":false,\"bundleId\":\"de.sfr.ipad.calctape\",\"hasInAppPurchases\":false,\"isAppleWatchSupported\":false,\"isStandaloneForWatchOS\":false,\"requiresGameController\":false,\"isHiddenFromSpringboard\":false,\"isStandaloneWithCompanionForWatchOS\":false,\"offers\":[{\"buyParams\":\"productType=C\\u0026price=269000\\u0026salableAdamId=525997288\\u0026pricingParameters=STDQ\\u0026pg=default\\u0026appExtVrsId=850249628\",\"type\":\"buy\",\"priceFormatted\":\"₹ 269\",\"price\":269,\"currencyCode\":\"INR\",\"assets\":[{\"flavor\":\"iosSoftware\",\"size\":3876864}]},{\"buyParams\":\"productType=C\\u0026price=0\\u0026salableAdamId=525997288\\u0026pricingParameters=SWUPD\\u0026pg=default\\u0026appExtVrsId=850249628\",\"type\":\"update\",\"priceFormatted\":\"₹ 0\",\"price\":0,\"currencyCode\":\"INR\",\"assets\":[{\"flavor\":\"iosSoftware\",\"size\":3876864}]}]}},\"userRating\":{\"value\":3.4,\"ratingCount\":13,\"ratingCountList\":[3,2,1,1,6],\"ariaLabelForRatings\":\"3.4 stars\"},\"contentRatingsBySystem\":{\"appsApple\":{\"name\":\"4+\",\"value\":100,\"rank\":1}},\"name\":\"CalcTape Paper Tape Calculator\",\"supportsArcade\":false,\"genreDisplayName\":\"Finance\",\"isFirstPartyHideableApp\":false,\"artwork\":{\"width\":1024,\"height\":1024,\"url\":\"https://is5-ssl.mzstatic.com/image/thumb/Purple112/v4/d0/63/8f/d0638f4f-7d09-ef8a-532f-cf7dcbfaa887/AppIcon-0-0-1x_U007emarketing-0-0-0-9-0-0-sRGB-0-0-0-GLES2_U002c0-512MB-85-220-0-0.png/{w}x{h}{c}.{f}\",\"bgColor\":\"083461\",\"textColor1\":\"ffffff\",\"textColor2\":\"90b0d3\",\"textColor3\":\"cdd6df\",\"textColor4\":\"7597bc\"}},{\"kind\":\"app\",\"id\":\"918609651\",\"type\":\"apps\",\"href\":\"/v1/catalog/in/apps/918609651?l=en-GB\",\"attributes\":{\"minimumWatchOSVersion\":\"2.0\",\"artistName\":\"iBear LLC\",\"firstVersionSupportingInAppPurchaseApi\":\"2.4\",\"url\":\"https://apps.apple.com/in/app/money-pro-personal-finance-ar/id918609651\",\"isIOSBinaryMacOSCompatible\":false,\"reviewsRestricted\":false,\"deviceFamilies\":[\"watch\",\"iphone\",\"ipad\",\"ipod\"],\"chartPositions\":{\"appStore\":{\"position\":6,\"genreName\":\"Finance\",\"genre\":6015,\"chart\":\"top-paid\",\"chartLink\":\"https://apps.apple.com/in/charts/iphone/finance-apps/6015\"}},\"isPreorder\":false,\"platformAttributes\":{\"ios\":{\"requires32bit\":false,\"artwork\":{\"width\":1024,\"height\":1024,\"url\":\"https://is4-ssl.mzstatic.com/image/thumb/Purple122/v4/1e/e7/e3/1ee7e3f8-9c77-10a4-7658-5948c82345a7/AppIcon-0-0-1x_U007emarketing-0-0-0-7-0-0-sRGB-0-0-0-GLES2_U002c0-512MB-85-220-0-0.png/{w}x{h}{c}.{f}\",\"bgColor\":\"35555d\",\"textColor1\":\"fecb01\",\"textColor2\":\"eac617\",\"textColor3\":\"d5b413\",\"textColor4\":\"c6af25\"},\"hasMessagesExtension\":false,\"releaseDate\":\"2014-10-22\",\"hasSafariExtension\":false,\"minimumMacOSVersion\":\"11.0\",\"editorialArtwork\":{\"brandLogo\":{\"width\":1080,\"height\":1080,\"url\":\"https://is3-ssl.mzstatic.com/image/thumb/Features124/v4/c8/82/38/c8823852-1841-665e-c2f5-bf413328a68a/source/{w}x{h}{c}.{f}\",\"bgColor\":\"000000\",\"textColor1\":\"f2f2f2\",\"textColor2\":\"e5e5e5\",\"textColor3\":\"c1c1c1\",\"textColor4\":\"b7b7b7\"}},\"subtitle\":\"Home Budget \\u0026 Expense Tracker\",\"isDeliveredInIOSAppForWatchOS\":true,\"bundleId\":\"com.ibearsoft.moneypro\",\"hasInAppPurchases\":true,\"isAppleWatchSupported\":true,\"isStandaloneForWatchOS\":false,\"circularArtwork\":{\"width\":1024,\"height\":1024,\"url\":\"https://is2-ssl.mzstatic.com/image/thumb/Purple112/v4/85/bf/1e/85bf1efe-be78-02ad-b9f9-554803ee1567/AppIcon-1x_U007emarketing-0-9-0-0-85-220.png/{w}x{h}{c}.{f}\",\"bgColor\":\"33525b\",\"textColor1\":\"fecc00\",\"textColor2\":\"f2c80c\",\"textColor3\":\"d5b412\",\"textColor4\":\"ccb01c\"},\"requiresGameController\":false,\"isHiddenFromSpringboard\":false,\"editorialNotes\":{\"tagline\":\"One-stop personal bookkeeping\"},\"isStandaloneWithCompanionForWatchOS\":false,\"offers\":[{\"buyParams\":\"productType=C\\u0026price=449000\\u0026salableAdamId=918609651\\u0026pricingParameters=STDQ\\u0026pg=default\\u0026appExtVrsId=851445214\",\"type\":\"buy\",\"priceFormatted\":\"₹ 449\",\"price\":449,\"currencyCode\":\"INR\",\"assets\":[{\"flavor\":\"iosSoftware\",\"size\":294637568}]},{\"buyParams\":\"productType=C\\u0026price=0\\u0026salableAdamId=918609651\\u0026pricingParameters=SWUPD\\u0026pg=default\\u0026appExtVrsId=851445214\",\"type\":\"update\",\"priceFormatted\":\"₹ 0\",\"price\":0,\"currencyCode\":\"INR\",\"assets\":[{\"flavor\":\"iosSoftware\",\"size\":294637568}]}]}},\"watchBundleId\":\"com.ibearsoft.moneypro.watchkitapp\",\"userRating\":{\"value\":4.4,\"ratingCount\":141,\"ratingCountList\":[9,0,9,25,98],\"ariaLabelForRatings\":\"4.4 stars\"},\"contentRatingsBySystem\":{\"appsApple\":{\"name\":\"4+\",\"value\":100,\"rank\":1}},\"name\":\"Money Pro: Personal Finance AR\",\"supportsArcade\":false,\"genreDisplayName\":\"Finance\",\"isFirstPartyHideableApp\":false},\"relationships\":{\"developer\":{\"href\":\"/v1/catalog/in/apps/918609651/developer?l=en-GB\",\"data\":[{\"id\":\"347886453\",\"type\":\"developers\",\"href\":\"/v1/catalog/in/developers/347886453?l=en-GB\"}]},\"genres\":{\"href\":\"/v1/catalog/in/apps/918609651/genres?l=en-GB\",\"data\":[{\"id\":\"6015\",\"type\":\"genres\",\"href\":\"/v1/catalog/in/genres/6015?l=en-GB\",\"attributes\":{\"parentId\":\"36\",\"parentName\":\"App Store\",\"name\":\"Finance\",\"url\":\"https://itunes.apple.com/in/genre/id6015\"}},{\"id\":\"6000\",\"type\":\"genres\",\"href\":\"/v1/catalog/in/genres/6000?l=en-GB\",\"attributes\":{\"parentId\":\"36\",\"parentName\":\"App Store\",\"name\":\"Business\",\"url\":\"https://itunes.apple.com/in/genre/id6000\"}}]}},\"minimumWatchOSVersion\":\"2.0\",\"artistName\":\"iBear LLC\",\"firstVersionSupportingInAppPurchaseApi\":\"2.4\",\"url\":\"https://apps.apple.com/in/app/money-pro-personal-finance-ar/id918609651\",\"isIOSBinaryMacOSCompatible\":false,\"reviewsRestricted\":false,\"deviceFamilies\":[\"watch\",\"iphone\",\"ipad\",\"ipod\"],\"chartPositions\":{\"appStore\":{\"position\":6,\"genreName\":\"Finance\",\"genre\":6015,\"chart\":\"top-paid\",\"chartLink\":\"https://apps.apple.com/in/charts/iphone/finance-apps/6015\"}},\"isPreorder\":false,\"platformAttributes\":{\"ios\":{\"requires32bit\":false,\"artwork\":{\"width\":1024,\"height\":1024,\"url\":\"https://is4-ssl.mzstatic.com/image/thumb/Purple122/v4/1e/e7/e3/1ee7e3f8-9c77-10a4-7658-5948c82345a7/AppIcon-0-0-1x_U007emarketing-0-0-0-7-0-0-sRGB-0-0-0-GLES2_U002c0-512MB-85-220-0-0.png/{w}x{h}{c}.{f}\",\"bgColor\":\"35555d\",\"textColor1\":\"fecb01\",\"textColor2\":\"eac617\",\"textColor3\":\"d5b413\",\"textColor4\":\"c6af25\"},\"hasMessagesExtension\":false,\"releaseDate\":\"2014-10-22\",\"hasSafariExtension\":false,\"minimumMacOSVersion\":\"11.0\",\"editorialArtwork\":{\"brandLogo\":{\"width\":1080,\"height\":1080,\"url\":\"https://is3-ssl.mzstatic.com/image/thumb/Features124/v4/c8/82/38/c8823852-1841-665e-c2f5-bf413328a68a/source/{w}x{h}{c}.{f}\",\"bgColor\":\"000000\",\"textColor1\":\"f2f2f2\",\"textColor2\":\"e5e5e5\",\"textColor3\":\"c1c1c1\",\"textColor4\":\"b7b7b7\"}},\"subtitle\":\"Home Budget \\u0026 Expense Tracker\",\"isDeliveredInIOSAppForWatchOS\":true,\"bundleId\":\"com.ibearsoft.moneypro\",\"hasInAppPurchases\":true,\"isAppleWatchSupported\":true,\"isStandaloneForWatchOS\":false,\"circularArtwork\":{\"width\":1024,\"height\":1024,\"url\":\"https://is2-ssl.mzstatic.com/image/thumb/Purple112/v4/85/bf/1e/85bf1efe-be78-02ad-b9f9-554803ee1567/AppIcon-1x_U007emarketing-0-9-0-0-85-220.png/{w}x{h}{c}.{f}\",\"bgColor\":\"33525b\",\"textColor1\":\"fecc00\",\"textColor2\":\"f2c80c\",\"textColor3\":\"d5b412\",\"textColor4\":\"ccb01c\"},\"requiresGameController\":false,\"isHiddenFromSpringboard\":false,\"editorialNotes\":{\"tagline\":\"One-stop personal bookkeeping\"},\"isStandaloneWithCompanionForWatchOS\":false,\"offers\":[{\"buyParams\":\"productType=C\\u0026price=449000\\u0026salableAdamId=918609651\\u0026pricingParameters=STDQ\\u0026pg=default\\u0026appExtVrsId=851445214\",\"type\":\"buy\",\"priceFormatted\":\"₹ 449\",\"price\":449,\"currencyCode\":\"INR\",\"assets\":[{\"flavor\":\"iosSoftware\",\"size\":294637568}]},{\"buyParams\":\"productType=C\\u0026price=0\\u0026salableAdamId=918609651\\u0026pricingParameters=SWUPD\\u0026pg=default\\u0026appExtVrsId=851445214\",\"type\":\"update\",\"priceFormatted\":\"₹ 0\",\"price\":0,\"currencyCode\":\"INR\",\"assets\":[{\"flavor\":\"iosSoftware\",\"size\":294637568}]}]}},\"watchBundleId\":\"com.ibearsoft.moneypro.watchkitapp\",\"userRating\":{\"value\":4.4,\"ratingCount\":141,\"ratingCountList\":[9,0,9,25,98],\"ariaLabelForRatings\":\"4.4 stars\"},\"contentRatingsBySystem\":{\"appsApple\":{\"name\":\"4+\",\"value\":100,\"rank\":1}},\"name\":\"Money Pro: Personal Finance AR\",\"supportsArcade\":false,\"genreDisplayName\":\"Finance\",\"isFirstPartyHideableApp\":false,\"artwork\":{\"width\":1024,\"height\":1024,\"url\":\"https://is4-ssl.mzstatic.com/image/thumb/Purple122/v4/1e/e7/e3/1ee7e3f8-9c77-10a4-7658-5948c82345a7/AppIcon-0-0-1x_U007emarketing-0-0-0-7-0-0-sRGB-0-0-0-GLES2_U002c0-512MB-85-220-0-0.png/{w}x{h}{c}.{f}\",\"bgColor\":\"35555d\",\"textColor1\":\"fecb01\",\"textColor2\":\"eac617\",\"textColor3\":\"d5b413\",\"textColor4\":\"c6af25\"}},{\"kind\":\"app\",\"id\":\"1418679631\",\"type\":\"apps\",\"href\":\"/v1/catalog/in/apps/1418679631?l=en-GB\",\"attributes\":{\"artistName\":\"Konstantin Akchurin\",\"url\":\"https://apps.apple.com/in/app/money-box-app-plan-purchases/id1418679631\",\"isIOSBinaryMacOSCompatible\":true,\"reviewsRestricted\":false,\"deviceFamilies\":[\"iphone\",\"ipod\"],\"chartPositions\":{\"appStore\":{\"position\":7,\"genreName\":\"Finance\",\"genre\":6015,\"chart\":\"top-paid\",\"chartLink\":\"https://apps.apple.com/in/charts/iphone/finance-apps/6015\"}},\"isPreorder\":false,\"platformAttributes\":{\"ios\":{\"requires32bit\":false,\"artwork\":{\"width\":1024,\"height\":1024,\"url\":\"https://is1-ssl.mzstatic.com/image/thumb/Purple116/v4/2e/c2/4e/2ec24ece-aac0-4a3f-61ec-9a9edd5d86a2/AppIcon-0-0-1x_U007emarketing-0-0-0-7-0-0-sRGB-0-0-0-GLES2_U002c0-512MB-85-220-0-0.png/{w}x{h}{c}.{f}\",\"bgColor\":\"ffffff\",\"textColor1\":\"160909\",\"textColor2\":\"160b0b\",\"textColor3\":\"453a3a\",\"textColor4\":\"453c3c\"},\"hasMessagesExtension\":false,\"releaseDate\":\"2018-08-06\",\"hasSafariExtension\":false,\"minimumMacOSVersion\":\"11.0\",\"editorialArtwork\":{\"brandLogo\":{\"width\":1080,\"height\":1080,\"url\":\"https://is3-ssl.mzstatic.com/image/thumb/Features124/v4/c8/82/38/c8823852-1841-665e-c2f5-bf413328a68a/source/{w}x{h}{c}.{f}\",\"bgColor\":\"000000\",\"textColor1\":\"f2f2f2\",\"textColor2\":\"e5e5e5\",\"textColor3\":\"c1c1c1\",\"textColor4\":\"b7b7b7\"}},\"subtitle\":\"Create goals, plan your budget\",\"isDeliveredInIOSAppForWatchOS\":false,\"bundleId\":\"Konstantin-Akchurin.coinKeeperApp\",\"hasInAppPurchases\":false,\"isAppleWatchSupported\":false,\"isStandaloneForWatchOS\":false,\"requiresGameController\":false,\"isHiddenFromSpringboard\":false,\"isStandaloneWithCompanionForWatchOS\":false,\"offers\":[{\"buyParams\":\"productType=C\\u0026price=89000\\u0026salableAdamId=1418679631\\u0026pricingParameters=STDQ\\u0026pg=default\\u0026appExtVrsId=847336841\",\"type\":\"buy\",\"priceFormatted\":\"₹ 89\",\"price\":89,\"currencyCode\":\"INR\",\"assets\":[{\"flavor\":\"iosSoftware\",\"size\":9949184}]},{\"buyParams\":\"productType=C\\u0026price=0\\u0026salableAdamId=1418679631\\u0026pricingParameters=SWUPD\\u0026pg=default\\u0026appExtVrsId=847336841\",\"type\":\"update\",\"priceFormatted\":\"₹ 0\",\"price\":0,\"currencyCode\":\"INR\",\"assets\":[{\"flavor\":\"iosSoftware\",\"size\":9949184}]}]}},\"userRating\":{\"value\":0,\"ratingCount\":0,\"ratingCountList\":[0,0,0,0,0],\"ariaLabelForRatings\":\"0 stars\"},\"contentRatingsBySystem\":{\"appsApple\":{\"name\":\"4+\",\"value\":100,\"rank\":1}},\"name\":\"Money box App - Plan purchases\",\"supportsArcade\":false,\"genreDisplayName\":\"Finance\",\"isFirstPartyHideableApp\":false},\"relationships\":{\"developer\":{\"href\":\"/v1/catalog/in/apps/1418679631/developer?l=en-GB\",\"data\":[{\"id\":\"1280613804\",\"type\":\"developers\",\"href\":\"/v1/catalog/in/developers/1280613804?l=en-GB\"}]},\"genres\":{\"href\":\"/v1/catalog/in/apps/1418679631/genres?l=en-GB\",\"data\":[{\"id\":\"6015\",\"type\":\"genres\",\"href\":\"/v1/catalog/in/genres/6015?l=en-GB\",\"attributes\":{\"parentId\":\"36\",\"parentName\":\"App Store\",\"name\":\"Finance\",\"url\":\"https://itunes.apple.com/in/genre/id6015\"}},{\"id\":\"6012\",\"type\":\"genres\",\"href\":\"/v1/catalog/in/genres/6012?l=en-GB\",\"attributes\":{\"parentId\":\"36\",\"parentName\":\"App Store\",\"name\":\"Lifestyle\",\"url\":\"https://itunes.apple.com/in/genre/id6012\"}}]}},\"artistName\":\"Konstantin Akchurin\",\"url\":\"https://apps.apple.com/in/app/money-box-app-plan-purchases/id1418679631\",\"isIOSBinaryMacOSCompatible\":true,\"reviewsRestricted\":false,\"deviceFamilies\":[\"iphone\",\"ipod\"],\"chartPositions\":{\"appStore\":{\"position\":7,\"genreName\":\"Finance\",\"genre\":6015,\"chart\":\"top-paid\",\"chartLink\":\"https://apps.apple.com/in/charts/iphone/finance-apps/6015\"}},\"isPreorder\":false,\"platformAttributes\":{\"ios\":{\"requires32bit\":false,\"artwork\":{\"width\":1024,\"height\":1024,\"url\":\"https://is1-ssl.mzstatic.com/image/thumb/Purple116/v4/2e/c2/4e/2ec24ece-aac0-4a3f-61ec-9a9edd5d86a2/AppIcon-0-0-1x_U007emarketing-0-0-0-7-0-0-sRGB-0-0-0-GLES2_U002c0-512MB-85-220-0-0.png/{w}x{h}{c}.{f}\",\"bgColor\":\"ffffff\",\"textColor1\":\"160909\",\"textColor2\":\"160b0b\",\"textColor3\":\"453a3a\",\"textColor4\":\"453c3c\"},\"hasMessagesExtension\":false,\"releaseDate\":\"2018-08-06\",\"hasSafariExtension\":false,\"minimumMacOSVersion\":\"11.0\",\"editorialArtwork\":{\"brandLogo\":{\"width\":1080,\"height\":1080,\"url\":\"https://is3-ssl.mzstatic.com/image/thumb/Features124/v4/c8/82/38/c8823852-1841-665e-c2f5-bf413328a68a/source/{w}x{h}{c}.{f}\",\"bgColor\":\"000000\",\"textColor1\":\"f2f2f2\",\"textColor2\":\"e5e5e5\",\"textColor3\":\"c1c1c1\",\"textColor4\":\"b7b7b7\"}},\"subtitle\":\"Create goals, plan your budget\",\"isDeliveredInIOSAppForWatchOS\":false,\"bundleId\":\"Konstantin-Akchurin.coinKeeperApp\",\"hasInAppPurchases\":false,\"isAppleWatchSupported\":false,\"isStandaloneForWatchOS\":false,\"requiresGameController\":false,\"isHiddenFromSpringboard\":false,\"isStandaloneWithCompanionForWatchOS\":false,\"offers\":[{\"buyParams\":\"productType=C\\u0026price=89000\\u0026salableAdamId=1418679631\\u0026pricingParameters=STDQ\\u0026pg=default\\u0026appExtVrsId=847336841\",\"type\":\"buy\",\"priceFormatted\":\"₹ 89\",\"price\":89,\"currencyCode\":\"INR\",\"assets\":[{\"flavor\":\"iosSoftware\",\"size\":9949184}]},{\"buyParams\":\"productType=C\\u0026price=0\\u0026salableAdamId=1418679631\\u0026pricingParameters=SWUPD\\u0026pg=default\\u0026appExtVrsId=847336841\",\"type\":\"update\",\"priceFormatted\":\"₹ 0\",\"price\":0,\"currencyCode\":\"INR\",\"assets\":[{\"flavor\":\"iosSoftware\",\"size\":9949184}]}]}},\"userRating\":{\"value\":0,\"ratingCount\":0,\"ratingCountList\":[0,0,0,0,0],\"ariaLabelForRatings\":\"0 stars\"},\"contentRatingsBySystem\":{\"appsApple\":{\"name\":\"4+\",\"value\":100,\"rank\":1}},\"name\":\"Money box App - Plan purchases\",\"supportsArcade\":false,\"genreDisplayName\":\"Finance\",\"isFirstPartyHideableApp\":false,\"artwork\":{\"width\":1024,\"height\":1024,\"url\":\"https://is1-ssl.mzstatic.com/image/thumb/Purple116/v4/2e/c2/4e/2ec24ece-aac0-4a3f-61ec-9a9edd5d86a2/AppIcon-0-0-1x_U007emarketing-0-0-0-7-0-0-sRGB-0-0-0-GLES2_U002c0-512MB-85-220-0-0.png/{w}x{h}{c}.{f}\",\"bgColor\":\"ffffff\",\"textColor1\":\"160909\",\"textColor2\":\"160b0b\",\"textColor3\":\"453a3a\",\"textColor4\":\"453c3c\"}},{\"kind\":\"app\",\"id\":\"1611945737\",\"type\":\"apps\",\"href\":\"/v1/catalog/in/apps/1611945737?l=en-GB\",\"attributes\":{\"artistName\":\"Nirav Zalavadiya\",\"url\":\"https://apps.apple.com/in/app/financial-calculator-pro/id1611945737\",\"isIOSBinaryMacOSCompatible\":true,\"reviewsRestricted\":false,\"deviceFamilies\":[\"iphone\",\"ipad\",\"ipod\"],\"chartPositions\":{\"appStore\":{\"position\":8,\"genreName\":\"Finance\",\"genre\":6015,\"chart\":\"top-paid\",\"chartLink\":\"https://apps.apple.com/in/charts/iphone/finance-apps/6015\"}},\"isPreorder\":false,\"platformAttributes\":{\"ios\":{\"requires32bit\":false,\"artwork\":{\"width\":1024,\"height\":1024,\"url\":\"https://is1-ssl.mzstatic.com/image/thumb/Purple126/v4/9d/65/0a/9d650aa2-817f-4966-67db-1739b1c0ffe1/AppIcon-0-0-1x_U007emarketing-0-0-0-10-0-0-sRGB-0-0-0-GLES2_U002c0-512MB-85-220-0-0.png/{w}x{h}{c}.{f}\",\"bgColor\":\"ffffff\",\"textColor1\":\"000000\",\"textColor2\":\"222222\",\"textColor3\":\"333333\",\"textColor4\":\"4e4e4e\"},\"hasMessagesExtension\":false,\"releaseDate\":\"2022-02-27\",\"hasSafariExtension\":false,\"minimumMacOSVersion\":\"11.0\",\"editorialArtwork\":{\"brandLogo\":{\"width\":1080,\"height\":1080,\"url\":\"https://is3-ssl.mzstatic.com/image/thumb/Features124/v4/c8/82/38/c8823852-1841-665e-c2f5-bf413328a68a/source/{w}x{h}{c}.{f}\",\"bgColor\":\"000000\",\"textColor1\":\"f2f2f2\",\"textColor2\":\"e5e5e5\",\"textColor3\":\"c1c1c1\",\"textColor4\":\"b7b7b7\"}},\"subtitle\":\"Finance, Stock, SIP, Business\",\"isDeliveredInIOSAppForWatchOS\":false,\"bundleId\":\"com.financial.calculators.pro\",\"hasInAppPurchases\":false,\"isAppleWatchSupported\":false,\"isStandaloneForWatchOS\":false,\"requiresGameController\":false,\"isHiddenFromSpringboard\":false,\"isStandaloneWithCompanionForWatchOS\":false,\"offers\":[{\"buyParams\":\"productType=C\\u0026price=89000\\u0026salableAdamId=1611945737\\u0026pricingParameters=STDQ\\u0026pg=default\\u0026appExtVrsId=847827360\",\"type\":\"buy\",\"priceFormatted\":\"₹ 89\",\"price\":89,\"currencyCode\":\"INR\",\"assets\":[{\"flavor\":\"iosSoftware\",\"size\":68240384}]},{\"buyParams\":\"productType=C\\u0026price=0\\u0026salableAdamId=1611945737\\u0026pricingParameters=SWUPD\\u0026pg=default\\u0026appExtVrsId=847827360\",\"type\":\"update\",\"priceFormatted\":\"₹ 0\",\"price\":0,\"currencyCode\":\"INR\",\"assets\":[{\"flavor\":\"iosSoftware\",\"size\":68240384}]}]}},\"userRating\":{\"value\":3.9,\"ratingCount\":7,\"ratingCountList\":[1,0,1,2,3],\"ariaLabelForRatings\":\"3.9 stars\"},\"contentRatingsBySystem\":{\"appsApple\":{\"name\":\"4+\",\"value\":100,\"rank\":1}},\"name\":\"Financial Calculator - Pro\",\"supportsArcade\":false,\"genreDisplayName\":\"Finance\",\"isFirstPartyHideableApp\":false},\"relationships\":{\"developer\":{\"href\":\"/v1/catalog/in/apps/1611945737/developer?l=en-GB\",\"data\":[{\"id\":\"1546484584\",\"type\":\"developers\",\"href\":\"/v1/catalog/in/developers/1546484584?l=en-GB\"}]},\"genres\":{\"href\":\"/v1/catalog/in/apps/1611945737/genres?l=en-GB\",\"data\":[{\"id\":\"6015\",\"type\":\"genres\",\"href\":\"/v1/catalog/in/genres/6015?l=en-GB\",\"attributes\":{\"parentId\":\"36\",\"parentName\":\"App Store\",\"name\":\"Finance\",\"url\":\"https://itunes.apple.com/in/genre/id6015\"}},{\"id\":\"6002\",\"type\":\"genres\",\"href\":\"/v1/catalog/in/genres/6002?l=en-GB\",\"attributes\":{\"parentId\":\"36\",\"parentName\":\"App Store\",\"name\":\"Utilities\",\"url\":\"https://itunes.apple.com/in/genre/id6002\"}}]}},\"artistName\":\"Nirav Zalavadiya\",\"url\":\"https://apps.apple.com/in/app/financial-calculator-pro/id1611945737\",\"isIOSBinaryMacOSCompatible\":true,\"reviewsRestricted\":false,\"deviceFamilies\":[\"iphone\",\"ipad\",\"ipod\"],\"chartPositions\":{\"appStore\":{\"position\":8,\"genreName\":\"Finance\",\"genre\":6015,\"chart\":\"top-paid\",\"chartLink\":\"https://apps.apple.com/in/charts/iphone/finance-apps/6015\"}},\"isPreorder\":false,\"platformAttributes\":{\"ios\":{\"requires32bit\":false,\"artwork\":{\"width\":1024,\"height\":1024,\"url\":\"https://is1-ssl.mzstatic.com/image/thumb/Purple126/v4/9d/65/0a/9d650aa2-817f-4966-67db-1739b1c0ffe1/AppIcon-0-0-1x_U007emarketing-0-0-0-10-0-0-sRGB-0-0-0-GLES2_U002c0-512MB-85-220-0-0.png/{w}x{h}{c}.{f}\",\"bgColor\":\"ffffff\",\"textColor1\":\"000000\",\"textColor2\":\"222222\",\"textColor3\":\"333333\",\"textColor4\":\"4e4e4e\"},\"hasMessagesExtension\":false,\"releaseDate\":\"2022-02-27\",\"hasSafariExtension\":false,\"minimumMacOSVersion\":\"11.0\",\"editorialArtwork\":{\"brandLogo\":{\"width\":1080,\"height\":1080,\"url\":\"https://is3-ssl.mzstatic.com/image/thumb/Features124/v4/c8/82/38/c8823852-1841-665e-c2f5-bf413328a68a/source/{w}x{h}{c}.{f}\",\"bgColor\":\"000000\",\"textColor1\":\"f2f2f2\",\"textColor2\":\"e5e5e5\",\"textColor3\":\"c1c1c1\",\"textColor4\":\"b7b7b7\"}},\"subtitle\":\"Finance, Stock, SIP, Business\",\"isDeliveredInIOSAppForWatchOS\":false,\"bundleId\":\"com.financial.calculators.pro\",\"hasInAppPurchases\":false,\"isAppleWatchSupported\":false,\"isStandaloneForWatchOS\":false,\"requiresGameController\":false,\"isHiddenFromSpringboard\":false,\"isStandaloneWithCompanionForWatchOS\":false,\"offers\":[{\"buyParams\":\"productType=C\\u0026price=89000\\u0026salableAdamId=1611945737\\u0026pricingParameters=STDQ\\u0026pg=default\\u0026appExtVrsId=847827360\",\"type\":\"buy\",\"priceFormatted\":\"₹ 89\",\"price\":89,\"currencyCode\":\"INR\",\"assets\":[{\"flavor\":\"iosSoftware\",\"size\":68240384}]},{\"buyParams\":\"productType=C\\u0026price=0\\u0026salableAdamId=1611945737\\u0026pricingParameters=SWUPD\\u0026pg=default\\u0026appExtVrsId=847827360\",\"type\":\"update\",\"priceFormatted\":\"₹ 0\",\"price\":0,\"currencyCode\":\"INR\",\"assets\":[{\"flavor\":\"iosSoftware\",\"size\":68240384}]}]}},\"userRating\":{\"value\":3.9,\"ratingCount\":7,\"ratingCountList\":[1,0,1,2,3],\"ariaLabelForRatings\":\"3.9 stars\"},\"contentRatingsBySystem\":{\"appsApple\":{\"name\":\"4+\",\"value\":100,\"rank\":1}},\"name\":\"Financial Calculator - Pro\",\"supportsArcade\":false,\"genreDisplayName\":\"Finance\",\"isFirstPartyHideableApp\":false,\"artwork\":{\"width\":1024,\"height\":1024,\"url\":\"https://is1-ssl.mzstatic.com/image/thumb/Purple126/v4/9d/65/0a/9d650aa2-817f-4966-67db-1739b1c0ffe1/AppIcon-0-0-1x_U007emarketing-0-0-0-10-0-0-sRGB-0-0-0-GLES2_U002c0-512MB-85-220-0-0.png/{w}x{h}{c}.{f}\",\"bgColor\":\"ffffff\",\"textColor1\":\"000000\",\"textColor2\":\"222222\",\"textColor3\":\"333333\",\"textColor4\":\"4e4e4e\"}},{\"kind\":\"app\",\"id\":\"1038175626\",\"type\":\"apps\",\"href\":\"/v1/catalog/in/apps/1038175626?l=en-GB\",\"attributes\":{\"minimumWatchOSVersion\":\"3.0\",\"artistName\":\"Gaivoronski Andrei Vyacheslavovich, IP\",\"url\":\"https://apps.apple.com/in/app/walletapp/id1038175626\",\"isIOSBinaryMacOSCompatible\":false,\"reviewsRestricted\":false,\"deviceFamilies\":[\"watch\",\"iphone\",\"ipad\",\"ipod\"],\"chartPositions\":{\"appStore\":{\"position\":9,\"genreName\":\"Finance\",\"genre\":6015,\"chart\":\"top-paid\",\"chartLink\":\"https://apps.apple.com/in/charts/iphone/finance-apps/6015\"}},\"isPreorder\":false,\"platformAttributes\":{\"ios\":{\"requires32bit\":false,\"artwork\":{\"width\":1024,\"height\":1024,\"url\":\"https://is1-ssl.mzstatic.com/image/thumb/Purple112/v4/96/9e/41/969e4121-01e8-d33d-e013-a41acbea802d/AppIcon-1x_U007emarketing-0-7-0-85-220.png/{w}x{h}{c}.{f}\",\"bgColor\":\"1e1e20\",\"textColor1\":\"f6826f\",\"textColor2\":\"5ba9e5\",\"textColor3\":\"cb6e5f\",\"textColor4\":\"4f8dbd\"},\"hasMessagesExtension\":false,\"releaseDate\":\"2015-09-22\",\"hasSafariExtension\":false,\"minimumMacOSVersion\":\"11.0\",\"editorialArtwork\":{\"brandLogo\":{\"width\":1080,\"height\":1080,\"url\":\"https://is3-ssl.mzstatic.com/image/thumb/Features124/v4/c8/82/38/c8823852-1841-665e-c2f5-bf413328a68a/source/{w}x{h}{c}.{f}\",\"bgColor\":\"000000\",\"textColor1\":\"f2f2f2\",\"textColor2\":\"e5e5e5\",\"textColor3\":\"c1c1c1\",\"textColor4\":\"b7b7b7\"}},\"subtitle\":\"Cards are always with you\",\"isDeliveredInIOSAppForWatchOS\":true,\"bundleId\":\"MyCards\",\"hasInAppPurchases\":false,\"isAppleWatchSupported\":true,\"isStandaloneForWatchOS\":false,\"circularArtwork\":{\"width\":1024,\"height\":1024,\"url\":\"https://is5-ssl.mzstatic.com/image/thumb/Purple112/v4/19/1a/cc/191acc73-04ff-3664-9de5-35fdc635d15c/AppIcon-0-0-1x_U007emarketing-0-0-0-13-0-0-sRGB-0-0-0-GLES2_U002c0-512MB-85-220-0-0.png/{w}x{h}{c}.{f}\",\"bgColor\":\"373737\",\"textColor1\":\"c5e962\",\"textColor2\":\"e8acc8\",\"textColor3\":\"a8c559\",\"textColor4\":\"c495ab\"},\"requiresGameController\":false,\"isHiddenFromSpringboard\":false,\"isStandaloneWithCompanionForWatchOS\":false,\"offers\":[{\"buyParams\":\"productType=C\\u0026price=179000\\u0026salableAdamId=1038175626\\u0026pricingParameters=STDQ\\u0026pg=default\\u0026appExtVrsId=851549127\",\"type\":\"buy\",\"priceFormatted\":\"₹ 179\",\"price\":179,\"currencyCode\":\"INR\",\"assets\":[{\"flavor\":\"iosSoftware\",\"size\":7847936}]},{\"buyParams\":\"productType=C\\u0026price=0\\u0026salableAdamId=1038175626\\u0026pricingParameters=SWUPD\\u0026pg=default\\u0026appExtVrsId=851549127\",\"type\":\"update\",\"priceFormatted\":\"₹ 0\",\"price\":0,\"currencyCode\":\"INR\",\"assets\":[{\"flavor\":\"iosSoftware\",\"size\":7847936}]}]}},\"watchBundleId\":\"MyCards.watchkitapp\",\"userRating\":{\"wasReset\":true,\"value\":4,\"ratingCount\":2,\"ratingCountList\":[0,0,1,0,1],\"ariaLabelForRatings\":\"4.0 stars\"},\"contentRatingsBySystem\":{\"appsApple\":{\"name\":\"4+\",\"value\":100,\"rank\":1}},\"name\":\"WalletApp\",\"supportsArcade\":false,\"genreDisplayName\":\"Finance\",\"isFirstPartyHideableApp\":false},\"relationships\":{\"developer\":{\"href\":\"/v1/catalog/in/apps/1038175626/developer?l=en-GB\",\"data\":[{\"id\":\"1038175625\",\"type\":\"developers\",\"href\":\"/v1/catalog/in/developers/1038175625?l=en-GB\"}]},\"genres\":{\"href\":\"/v1/catalog/in/apps/1038175626/genres?l=en-GB\",\"data\":[{\"id\":\"6015\",\"type\":\"genres\",\"href\":\"/v1/catalog/in/genres/6015?l=en-GB\",\"attributes\":{\"parentId\":\"36\",\"parentName\":\"App Store\",\"name\":\"Finance\",\"url\":\"https://itunes.apple.com/in/genre/id6015\"}},{\"id\":\"6007\",\"type\":\"genres\",\"href\":\"/v1/catalog/in/genres/6007?l=en-GB\",\"attributes\":{\"parentId\":\"36\",\"parentName\":\"App Store\",\"name\":\"Productivity\",\"url\":\"https://itunes.apple.com/in/genre/id6007\"}}]}},\"minimumWatchOSVersion\":\"3.0\",\"artistName\":\"Gaivoronski Andrei Vyacheslavovich, IP\",\"url\":\"https://apps.apple.com/in/app/walletapp/id1038175626\",\"isIOSBinaryMacOSCompatible\":false,\"reviewsRestricted\":false,\"deviceFamilies\":[\"watch\",\"iphone\",\"ipad\",\"ipod\"],\"chartPositions\":{\"appStore\":{\"position\":9,\"genreName\":\"Finance\",\"genre\":6015,\"chart\":\"top-paid\",\"chartLink\":\"https://apps.apple.com/in/charts/iphone/finance-apps/6015\"}},\"isPreorder\":false,\"platformAttributes\":{\"ios\":{\"requires32bit\":false,\"artwork\":{\"width\":1024,\"height\":1024,\"url\":\"https://is1-ssl.mzstatic.com/image/thumb/Purple112/v4/96/9e/41/969e4121-01e8-d33d-e013-a41acbea802d/AppIcon-1x_U007emarketing-0-7-0-85-220.png/{w}x{h}{c}.{f}\",\"bgColor\":\"1e1e20\",\"textColor1\":\"f6826f\",\"textColor2\":\"5ba9e5\",\"textColor3\":\"cb6e5f\",\"textColor4\":\"4f8dbd\"},\"hasMessagesExtension\":false,\"releaseDate\":\"2015-09-22\",\"hasSafariExtension\":false,\"minimumMacOSVersion\":\"11.0\",\"editorialArtwork\":{\"brandLogo\":{\"width\":1080,\"height\":1080,\"url\":\"https://is3-ssl.mzstatic.com/image/thumb/Features124/v4/c8/82/38/c8823852-1841-665e-c2f5-bf413328a68a/source/{w}x{h}{c}.{f}\",\"bgColor\":\"000000\",\"textColor1\":\"f2f2f2\",\"textColor2\":\"e5e5e5\",\"textColor3\":\"c1c1c1\",\"textColor4\":\"b7b7b7\"}},\"subtitle\":\"Cards are always with you\",\"isDeliveredInIOSAppForWatchOS\":true,\"bundleId\":\"MyCards\",\"hasInAppPurchases\":false,\"isAppleWatchSupported\":true,\"isStandaloneForWatchOS\":false,\"circularArtwork\":{\"width\":1024,\"height\":1024,\"url\":\"https://is5-ssl.mzstatic.com/image/thumb/Purple112/v4/19/1a/cc/191acc73-04ff-3664-9de5-35fdc635d15c/AppIcon-0-0-1x_U007emarketing-0-0-0-13-0-0-sRGB-0-0-0-GLES2_U002c0-512MB-85-220-0-0.png/{w}x{h}{c}.{f}\",\"bgColor\":\"373737\",\"textColor1\":\"c5e962\",\"textColor2\":\"e8acc8\",\"textColor3\":\"a8c559\",\"textColor4\":\"c495ab\"},\"requiresGameController\":false,\"isHiddenFromSpringboard\":false,\"isStandaloneWithCompanionForWatchOS\":false,\"offers\":[{\"buyParams\":\"productType=C\\u0026price=179000\\u0026salableAdamId=1038175626\\u0026pricingParameters=STDQ\\u0026pg=default\\u0026appExtVrsId=851549127\",\"type\":\"buy\",\"priceFormatted\":\"₹ 179\",\"price\":179,\"currencyCode\":\"INR\",\"assets\":[{\"flavor\":\"iosSoftware\",\"size\":7847936}]},{\"buyParams\":\"productType=C\\u0026price=0\\u0026salableAdamId=1038175626\\u0026pricingParameters=SWUPD\\u0026pg=default\\u0026appExtVrsId=851549127\",\"type\":\"update\",\"priceFormatted\":\"₹ 0\",\"price\":0,\"currencyCode\":\"INR\",\"assets\":[{\"flavor\":\"iosSoftware\",\"size\":7847936}]}]}},\"watchBundleId\":\"MyCards.watchkitapp\",\"userRating\":{\"wasReset\":true,\"value\":4,\"ratingCount\":2,\"ratingCountList\":[0,0,1,0,1],\"ariaLabelForRatings\":\"4.0 stars\"},\"contentRatingsBySystem\":{\"appsApple\":{\"name\":\"4+\",\"value\":100,\"rank\":1}},\"name\":\"WalletApp\",\"supportsArcade\":false,\"genreDisplayName\":\"Finance\",\"isFirstPartyHideableApp\":false,\"artwork\":{\"width\":1024,\"height\":1024,\"url\":\"https://is1-ssl.mzstatic.com/image/thumb/Purple112/v4/96/9e/41/969e4121-01e8-d33d-e013-a41acbea802d/AppIcon-1x_U007emarketing-0-7-0-85-220.png/{w}x{h}{c}.{f}\",\"bgColor\":\"1e1e20\",\"textColor1\":\"f6826f\",\"textColor2\":\"5ba9e5\",\"textColor3\":\"cb6e5f\",\"textColor4\":\"4f8dbd\"}},{\"kind\":\"app\",\"id\":\"316520188\",\"type\":\"apps\",\"href\":\"/v1/catalog/in/apps/316520188?l=en-GB\",\"attributes\":{\"artistName\":\"Poker Chang Ltd\",\"url\":\"https://apps.apple.com/in/app/poker-income-bankroll-tracker/id316520188\",\"isIOSBinaryMacOSCompatible\":true,\"reviewsRestricted\":false,\"deviceFamilies\":[\"iphone\",\"ipad\",\"ipod\"],\"chartPositions\":{\"appStore\":{\"position\":10,\"genreName\":\"Finance\",\"genre\":6015,\"chart\":\"top-paid\",\"chartLink\":\"https://apps.apple.com/in/charts/iphone/finance-apps/6015\"}},\"isPreorder\":false,\"platformAttributes\":{\"ios\":{\"requires32bit\":false,\"artwork\":{\"width\":1024,\"height\":1024,\"url\":\"https://is2-ssl.mzstatic.com/image/thumb/Purple128/v4/7e/67/93/7e679391-be79-c6b2-651b-d11ecc418a4c/AppIcon-2-1x_U007emarketing-85-220-8.png/{w}x{h}{c}.{f}\",\"bgColor\":\"f8f8f9\",\"textColor1\":\"020202\",\"textColor2\":\"133308\",\"textColor3\":\"333333\",\"textColor4\":\"415a38\"},\"hasMessagesExtension\":false,\"releaseDate\":\"2009-05-22\",\"hasSafariExtension\":false,\"minimumMacOSVersion\":\"11.0\",\"editorialArtwork\":{\"brandLogo\":{\"width\":1080,\"height\":1080,\"url\":\"https://is3-ssl.mzstatic.com/image/thumb/Features124/v4/c8/82/38/c8823852-1841-665e-c2f5-bf413328a68a/source/{w}x{h}{c}.{f}\",\"bgColor\":\"000000\",\"textColor1\":\"f2f2f2\",\"textColor2\":\"e5e5e5\",\"textColor3\":\"c1c1c1\",\"textColor4\":\"b7b7b7\"}},\"subtitle\":\"Track Tax Analytics Journal\",\"isDeliveredInIOSAppForWatchOS\":false,\"bundleId\":\"com.iphonepokerincome.\",\"hasInAppPurchases\":false,\"isAppleWatchSupported\":false,\"isStandaloneForWatchOS\":false,\"requiresGameController\":false,\"isHiddenFromSpringboard\":false,\"isStandaloneWithCompanionForWatchOS\":false,\"offers\":[{\"buyParams\":\"productType=C\\u0026price=899000\\u0026salableAdamId=316520188\\u0026pricingParameters=STDQ\\u0026pg=default\\u0026appExtVrsId=826144634\",\"type\":\"buy\",\"priceFormatted\":\"₹ 899\",\"price\":899,\"currencyCode\":\"INR\",\"assets\":[{\"flavor\":\"iosSoftware\",\"size\":15851520}]},{\"buyParams\":\"productType=C\\u0026price=0\\u0026salableAdamId=316520188\\u0026pricingParameters=SWUPD\\u0026pg=default\\u0026appExtVrsId=826144634\",\"type\":\"update\",\"priceFormatted\":\"₹ 0\",\"price\":0,\"currencyCode\":\"INR\",\"assets\":[{\"flavor\":\"iosSoftware\",\"size\":15851520}]}]}},\"userRating\":{\"value\":5,\"ratingCount\":1,\"ratingCountList\":[0,0,0,0,1],\"ariaLabelForRatings\":\"5.0 stars\"},\"contentRatingsBySystem\":{\"appsApple\":{\"name\":\"17+\",\"value\":600,\"rank\":4,\"advisories\":[\"Frequent/Intense Simulated Gambling\"]}},\"name\":\"Poker Income Bankroll Tracker\",\"supportsArcade\":false,\"genreDisplayName\":\"Finance\",\"isFirstPartyHideableApp\":false},\"relationships\":{\"developer\":{\"href\":\"/v1/catalog/in/apps/316520188/developer?l=en-GB\",\"data\":[{\"id\":\"312276632\",\"type\":\"developers\",\"href\":\"/v1/catalog/in/developers/312276632?l=en-GB\"}]},\"genres\":{\"href\":\"/v1/catalog/in/apps/316520188/genres?l=en-GB\",\"data\":[{\"id\":\"6015\",\"type\":\"genres\",\"href\":\"/v1/catalog/in/genres/6015?l=en-GB\",\"attributes\":{\"parentId\":\"36\",\"parentName\":\"App Store\",\"name\":\"Finance\",\"url\":\"https://itunes.apple.com/in/genre/id6015\"}},{\"id\":\"6002\",\"type\":\"genres\",\"href\":\"/v1/catalog/in/genres/6002?l=en-GB\",\"attributes\":{\"parentId\":\"36\",\"parentName\":\"App Store\",\"name\":\"Utilities\",\"url\":\"https://itunes.apple.com/in/genre/id6002\"}}]}},\"artistName\":\"Poker Chang Ltd\",\"url\":\"https://apps.apple.com/in/app/poker-income-bankroll-tracker/id316520188\",\"isIOSBinaryMacOSCompatible\":true,\"reviewsRestricted\":false,\"deviceFamilies\":[\"iphone\",\"ipad\",\"ipod\"],\"chartPositions\":{\"appStore\":{\"position\":10,\"genreName\":\"Finance\",\"genre\":6015,\"chart\":\"top-paid\",\"chartLink\":\"https://apps.apple.com/in/charts/iphone/finance-apps/6015\"}},\"isPreorder\":false,\"platformAttributes\":{\"ios\":{\"requires32bit\":false,\"artwork\":{\"width\":1024,\"height\":1024,\"url\":\"https://is2-ssl.mzstatic.com/image/thumb/Purple128/v4/7e/67/93/7e679391-be79-c6b2-651b-d11ecc418a4c/AppIcon-2-1x_U007emarketing-85-220-8.png/{w}x{h}{c}.{f}\",\"bgColor\":\"f8f8f9\",\"textColor1\":\"020202\",\"textColor2\":\"133308\",\"textColor3\":\"333333\",\"textColor4\":\"415a38\"},\"hasMessagesExtension\":false,\"releaseDate\":\"2009-05-22\",\"hasSafariExtension\":false,\"minimumMacOSVersion\":\"11.0\",\"editorialArtwork\":{\"brandLogo\":{\"width\":1080,\"height\":1080,\"url\":\"https://is3-ssl.mzstatic.com/image/thumb/Features124/v4/c8/82/38/c8823852-1841-665e-c2f5-bf413328a68a/source/{w}x{h}{c}.{f}\",\"bgColor\":\"000000\",\"textColor1\":\"f2f2f2\",\"textColor2\":\"e5e5e5\",\"textColor3\":\"c1c1c1\",\"textColor4\":\"b7b7b7\"}},\"subtitle\":\"Track Tax Analytics Journal\",\"isDeliveredInIOSAppForWatchOS\":false,\"bundleId\":\"com.iphonepokerincome.\",\"hasInAppPurchases\":false,\"isAppleWatchSupported\":false,\"isStandaloneForWatchOS\":false,\"requiresGameController\":false,\"isHiddenFromSpringboard\":false,\"isStandaloneWithCompanionForWatchOS\":false,\"offers\":[{\"buyParams\":\"productType=C\\u0026price=899000\\u0026salableAdamId=316520188\\u0026pricingParameters=STDQ\\u0026pg=default\\u0026appExtVrsId=826144634\",\"type\":\"buy\",\"priceFormatted\":\"₹ 899\",\"price\":899,\"currencyCode\":\"INR\",\"assets\":[{\"flavor\":\"iosSoftware\",\"size\":15851520}]},{\"buyParams\":\"productType=C\\u0026price=0\\u0026salableAdamId=316520188\\u0026pricingParameters=SWUPD\\u0026pg=default\\u0026appExtVrsId=826144634\",\"type\":\"update\",\"priceFormatted\":\"₹ 0\",\"price\":0,\"currencyCode\":\"INR\",\"assets\":[{\"flavor\":\"iosSoftware\",\"size\":15851520}]}]}},\"userRating\":{\"value\":5,\"ratingCount\":1,\"ratingCountList\":[0,0,0,0,1],\"ariaLabelForRatings\":\"5.0 stars\"},\"contentRatingsBySystem\":{\"appsApple\":{\"name\":\"17+\",\"value\":600,\"rank\":4,\"advisories\":[\"Frequent/Intense Simulated Gambling\"]}},\"name\":\"Poker Income Bankroll Tracker\",\"supportsArcade\":false,\"genreDisplayName\":\"Finance\",\"isFirstPartyHideableApp\":false,\"artwork\":{\"width\":1024,\"height\":1024,\"url\":\"https://is2-ssl.mzstatic.com/image/thumb/Purple128/v4/7e/67/93/7e679391-be79-c6b2-651b-d11ecc418a4c/AppIcon-2-1x_U007emarketing-85-220-8.png/{w}x{h}{c}.{f}\",\"bgColor\":\"f8f8f9\",\"textColor1\":\"020202\",\"textColor2\":\"133308\",\"textColor3\":\"333333\",\"textColor4\":\"415a38\"}},{\"kind\":\"app\",\"id\":\"1459967768\",\"type\":\"apps\",\"href\":\"/v1/catalog/in/apps/1459967768?l=en-GB\",\"attributes\":{\"artistName\":\"Monagle Pty Ltd\",\"firstVersionSupportingInAppPurchaseApi\":\"1.0.1\",\"url\":\"https://apps.apple.com/in/app/budget-forward/id1459967768\",\"isIOSBinaryMacOSCompatible\":false,\"reviewsRestricted\":false,\"deviceFamilies\":[\"iphone\",\"ipad\",\"ipod\"],\"chartPositions\":{\"appStore\":{\"position\":11,\"genreName\":\"Finance\",\"genre\":6015,\"chart\":\"top-paid\",\"chartLink\":\"https://apps.apple.com/in/charts/iphone/finance-apps/6015\"}},\"isPreorder\":false,\"platformAttributes\":{\"ios\":{\"requires32bit\":false,\"artwork\":{\"width\":1024,\"height\":1024,\"url\":\"https://is4-ssl.mzstatic.com/image/thumb/Purple125/v4/3f/44/cb/3f44cbbb-15fb-b5e6-b9bd-f8e41ad07918/Budget_Forward_AppIcon-0-1x_U007emarketing-0-0-0-7-0-0-85-220.png/{w}x{h}{c}.{f}\",\"bgColor\":\"ffffff\",\"textColor1\":\"002d5e\",\"textColor2\":\"093360\",\"textColor3\":\"33577e\",\"textColor4\":\"3a5c80\"},\"hasMessagesExtension\":false,\"releaseDate\":\"2020-08-14\",\"hasSafariExtension\":false,\"minimumMacOSVersion\":\"11.0\",\"editorialArtwork\":{\"brandLogo\":{\"width\":1080,\"height\":1080,\"url\":\"https://is3-ssl.mzstatic.com/image/thumb/Features124/v4/c8/82/38/c8823852-1841-665e-c2f5-bf413328a68a/source/{w}x{h}{c}.{f}\",\"bgColor\":\"000000\",\"textColor1\":\"f2f2f2\",\"textColor2\":\"e5e5e5\",\"textColor3\":\"c1c1c1\",\"textColor4\":\"b7b7b7\"}},\"subtitle\":\"Financial Planner \\u0026 Tracker\",\"isDeliveredInIOSAppForWatchOS\":false,\"bundleId\":\"au.com.monagle.BudgetForward\",\"hasInAppPurchases\":false,\"isAppleWatchSupported\":false,\"isStandaloneForWatchOS\":false,\"requiresGameController\":false,\"isHiddenFromSpringboard\":false,\"isStandaloneWithCompanionForWatchOS\":false,\"offers\":[{\"buyParams\":\"productType=C\\u0026price=1099000\\u0026salableAdamId=1459967768\\u0026pricingParameters=STDQ\\u0026pg=default\\u0026appExtVrsId=839693416\",\"type\":\"buy\",\"priceFormatted\":\"₹ 1,099\",\"price\":1099,\"currencyCode\":\"INR\",\"assets\":[{\"flavor\":\"iosSoftware\",\"size\":11738112}]},{\"buyParams\":\"productType=C\\u0026price=0\\u0026salableAdamId=1459967768\\u0026pricingParameters=SWUPD\\u0026pg=default\\u0026appExtVrsId=839693416\",\"type\":\"update\",\"priceFormatted\":\"₹ 0\",\"price\":0,\"currencyCode\":\"INR\",\"assets\":[{\"flavor\":\"iosSoftware\",\"size\":11738112}]}]}},\"userRating\":{\"value\":0,\"ratingCount\":0,\"ratingCountList\":[0,0,0,0,0],\"ariaLabelForRatings\":\"0 stars\"},\"contentRatingsBySystem\":{\"appsApple\":{\"name\":\"4+\",\"value\":100,\"rank\":1}},\"name\":\"Budget Forward\",\"supportsArcade\":false,\"genreDisplayName\":\"Finance\",\"isFirstPartyHideableApp\":false},\"relationships\":{\"developer\":{\"href\":\"/v1/catalog/in/apps/1459967768/developer?l=en-GB\",\"data\":[{\"id\":\"1144292110\",\"type\":\"developers\",\"href\":\"/v1/catalog/in/developers/1144292110?l=en-GB\"}]},\"genres\":{\"href\":\"/v1/catalog/in/apps/1459967768/genres?l=en-GB\",\"data\":[{\"id\":\"6015\",\"type\":\"genres\",\"href\":\"/v1/catalog/in/genres/6015?l=en-GB\",\"attributes\":{\"parentId\":\"36\",\"parentName\":\"App Store\",\"name\":\"Finance\",\"url\":\"https://itunes.apple.com/in/genre/id6015\"}},{\"id\":\"6012\",\"type\":\"genres\",\"href\":\"/v1/catalog/in/genres/6012?l=en-GB\",\"attributes\":{\"parentId\":\"36\",\"parentName\":\"App Store\",\"name\":\"Lifestyle\",\"url\":\"https://itunes.apple.com/in/genre/id6012\"}}]}},\"artistName\":\"Monagle Pty Ltd\",\"firstVersionSupportingInAppPurchaseApi\":\"1.0.1\",\"url\":\"https://apps.apple.com/in/app/budget-forward/id1459967768\",\"isIOSBinaryMacOSCompatible\":false,\"reviewsRestricted\":false,\"deviceFamilies\":[\"iphone\",\"ipad\",\"ipod\"],\"chartPositions\":{\"appStore\":{\"position\":11,\"genreName\":\"Finance\",\"genre\":6015,\"chart\":\"top-paid\",\"chartLink\":\"https://apps.apple.com/in/charts/iphone/finance-apps/6015\"}},\"isPreorder\":false,\"platformAttributes\":{\"ios\":{\"requires32bit\":false,\"artwork\":{\"width\":1024,\"height\":1024,\"url\":\"https://is4-ssl.mzstatic.com/image/thumb/Purple125/v4/3f/44/cb/3f44cbbb-15fb-b5e6-b9bd-f8e41ad07918/Budget_Forward_AppIcon-0-1x_U007emarketing-0-0-0-7-0-0-85-220.png/{w}x{h}{c}.{f}\",\"bgColor\":\"ffffff\",\"textColor1\":\"002d5e\",\"textColor2\":\"093360\",\"textColor3\":\"33577e\",\"textColor4\":\"3a5c80\"},\"hasMessagesExtension\":false,\"releaseDate\":\"2020-08-14\",\"hasSafariExtension\":false,\"minimumMacOSVersion\":\"11.0\",\"editorialArtwork\":{\"brandLogo\":{\"width\":1080,\"height\":1080,\"url\":\"https://is3-ssl.mzstatic.com/image/thumb/Features124/v4/c8/82/38/c8823852-1841-665e-c2f5-bf413328a68a/source/{w}x{h}{c}.{f}\",\"bgColor\":\"000000\",\"textColor1\":\"f2f2f2\",\"textColor2\":\"e5e5e5\",\"textColor3\":\"c1c1c1\",\"textColor4\":\"b7b7b7\"}},\"subtitle\":\"Financial Planner \\u0026 Tracker\",\"isDeliveredInIOSAppForWatchOS\":false,\"bundleId\":\"au.com.monagle.BudgetForward\",\"hasInAppPurchases\":false,\"isAppleWatchSupported\":false,\"isStandaloneForWatchOS\":false,\"requiresGameController\":false,\"isHiddenFromSpringboard\":false,\"isStandaloneWithCompanionForWatchOS\":false,\"offers\":[{\"buyParams\":\"productType=C\\u0026price=1099000\\u0026salableAdamId=1459967768\\u0026pricingParameters=STDQ\\u0026pg=default\\u0026appExtVrsId=839693416\",\"type\":\"buy\",\"priceFormatted\":\"₹ 1,099\",\"price\":1099,\"currencyCode\":\"INR\",\"assets\":[{\"flavor\":\"iosSoftware\",\"size\":11738112}]},{\"buyParams\":\"productType=C\\u0026price=0\\u0026salableAdamId=1459967768\\u0026pricingParameters=SWUPD\\u0026pg=default\\u0026appExtVrsId=839693416\",\"type\":\"update\",\"priceFormatted\":\"₹ 0\",\"price\":0,\"currencyCode\":\"INR\",\"assets\":[{\"flavor\":\"iosSoftware\",\"size\":11738112}]}]}},\"userRating\":{\"value\":0,\"ratingCount\":0,\"ratingCountList\":[0,0,0,0,0],\"ariaLabelForRatings\":\"0 stars\"},\"contentRatingsBySystem\":{\"appsApple\":{\"name\":\"4+\",\"value\":100,\"rank\":1}},\"name\":\"Budget Forward\",\"supportsArcade\":false,\"genreDisplayName\":\"Finance\",\"isFirstPartyHideableApp\":false,\"artwork\":{\"width\":1024,\"height\":1024,\"url\":\"https://is4-ssl.mzstatic.com/image/thumb/Purple125/v4/3f/44/cb/3f44cbbb-15fb-b5e6-b9bd-f8e41ad07918/Budget_Forward_AppIcon-0-1x_U007emarketing-0-0-0-7-0-0-85-220.png/{w}x{h}{c}.{f}\",\"bgColor\":\"ffffff\",\"textColor1\":\"002d5e\",\"textColor2\":\"093360\",\"textColor3\":\"33577e\",\"textColor4\":\"3a5c80\"}},{\"kind\":\"app\",\"id\":\"679044544\",\"type\":\"apps\",\"href\":\"/v1/catalog/in/apps/679044544?l=en-GB\",\"attributes\":{\"artistName\":\"lee fado\",\"url\":\"https://apps.apple.com/in/app/andromoney/id679044544\",\"isIOSBinaryMacOSCompatible\":false,\"reviewsRestricted\":false,\"deviceFamilies\":[\"iphone\",\"ipod\"],\"chartPositions\":{\"appStore\":{\"position\":12,\"genreName\":\"Finance\",\"genre\":6015,\"chart\":\"top-paid\",\"chartLink\":\"https://apps.apple.com/in/charts/iphone/finance-apps/6015\"}},\"isPreorder\":false,\"platformAttributes\":{\"ios\":{\"requires32bit\":false,\"artwork\":{\"width\":1024,\"height\":1024,\"url\":\"https://is3-ssl.mzstatic.com/image/thumb/Purple114/v4/4b/10/ce/4b10ce01-b3fb-a974-a0a5-4a49644be972/AppIcon-1x_U007emarketing-0-10-85-220.png/{w}x{h}{c}.{f}\",\"bgColor\":\"ffffff\",\"textColor1\":\"011203\",\"textColor2\":\"031204\",\"textColor3\":\"334135\",\"textColor4\":\"354136\"},\"hasMessagesExtension\":false,\"releaseDate\":\"2013-08-05\",\"hasSafariExtension\":false,\"minimumMacOSVersion\":\"11.0\",\"editorialArtwork\":{\"brandLogo\":{\"width\":1080,\"height\":1080,\"url\":\"https://is3-ssl.mzstatic.com/image/thumb/Features124/v4/c8/82/38/c8823852-1841-665e-c2f5-bf413328a68a/source/{w}x{h}{c}.{f}\",\"bgColor\":\"000000\",\"textColor1\":\"f2f2f2\",\"textColor2\":\"e5e5e5\",\"textColor3\":\"c1c1c1\",\"textColor4\":\"b7b7b7\"}},\"isDeliveredInIOSAppForWatchOS\":false,\"bundleId\":\"Andro.AndroMoney\",\"hasInAppPurchases\":false,\"isAppleWatchSupported\":false,\"isStandaloneForWatchOS\":false,\"requiresGameController\":false,\"isHiddenFromSpringboard\":false,\"isStandaloneWithCompanionForWatchOS\":false,\"offers\":[{\"buyParams\":\"productType=C\\u0026price=179000\\u0026salableAdamId=679044544\\u0026pricingParameters=STDQ\\u0026pg=default\\u0026appExtVrsId=838073765\",\"type\":\"buy\",\"priceFormatted\":\"₹ 179\",\"price\":179,\"currencyCode\":\"INR\",\"assets\":[{\"flavor\":\"iosSoftware\",\"size\":46827520}]},{\"buyParams\":\"productType=C\\u0026price=0\\u0026salableAdamId=679044544\\u0026pricingParameters=SWUPD\\u0026pg=default\\u0026appExtVrsId=838073765\",\"type\":\"update\",\"priceFormatted\":\"₹ 0\",\"price\":0,\"currencyCode\":\"INR\",\"assets\":[{\"flavor\":\"iosSoftware\",\"size\":46827520}]}]}},\"userRating\":{\"value\":4.3,\"ratingCount\":54,\"ratingCountList\":[4,2,2,13,33],\"ariaLabelForRatings\":\"4.3 stars\"},\"contentRatingsBySystem\":{\"appsApple\":{\"name\":\"4+\",\"value\":100,\"rank\":1}},\"name\":\"AndroMoney\",\"supportsArcade\":false,\"genreDisplayName\":\"Finance\",\"isFirstPartyHideableApp\":false},\"relationships\":{\"developer\":{\"href\":\"/v1/catalog/in/apps/679044544/developer?l=en-GB\",\"data\":[{\"id\":\"920539686\",\"type\":\"developers\",\"href\":\"/v1/catalog/in/developers/920539686?l=en-GB\"}]},\"genres\":{\"href\":\"/v1/catalog/in/apps/679044544/genres?l=en-GB\",\"data\":[{\"id\":\"6015\",\"type\":\"genres\",\"href\":\"/v1/catalog/in/genres/6015?l=en-GB\",\"attributes\":{\"parentId\":\"36\",\"parentName\":\"App Store\",\"name\":\"Finance\",\"url\":\"https://itunes.apple.com/in/genre/id6015\"}},{\"id\":\"6002\",\"type\":\"genres\",\"href\":\"/v1/catalog/in/genres/6002?l=en-GB\",\"attributes\":{\"parentId\":\"36\",\"parentName\":\"App Store\",\"name\":\"Utilities\",\"url\":\"https://itunes.apple.com/in/genre/id6002\"}}]}},\"artistName\":\"lee fado\",\"url\":\"https://apps.apple.com/in/app/andromoney/id679044544\",\"isIOSBinaryMacOSCompatible\":false,\"reviewsRestricted\":false,\"deviceFamilies\":[\"iphone\",\"ipod\"],\"chartPositions\":{\"appStore\":{\"position\":12,\"genreName\":\"Finance\",\"genre\":6015,\"chart\":\"top-paid\",\"chartLink\":\"https://apps.apple.com/in/charts/iphone/finance-apps/6015\"}},\"isPreorder\":false,\"platformAttributes\":{\"ios\":{\"requires32bit\":false,\"artwork\":{\"width\":1024,\"height\":1024,\"url\":\"https://is3-ssl.mzstatic.com/image/thumb/Purple114/v4/4b/10/ce/4b10ce01-b3fb-a974-a0a5-4a49644be972/AppIcon-1x_U007emarketing-0-10-85-220.png/{w}x{h}{c}.{f}\",\"bgColor\":\"ffffff\",\"textColor1\":\"011203\",\"textColor2\":\"031204\",\"textColor3\":\"334135\",\"textColor4\":\"354136\"},\"hasMessagesExtension\":false,\"releaseDate\":\"2013-08-05\",\"hasSafariExtension\":false,\"minimumMacOSVersion\":\"11.0\",\"editorialArtwork\":{\"brandLogo\":{\"width\":1080,\"height\":1080,\"url\":\"https://is3-ssl.mzstatic.com/image/thumb/Features124/v4/c8/82/38/c8823852-1841-665e-c2f5-bf413328a68a/source/{w}x{h}{c}.{f}\",\"bgColor\":\"000000\",\"textColor1\":\"f2f2f2\",\"textColor2\":\"e5e5e5\",\"textColor3\":\"c1c1c1\",\"textColor4\":\"b7b7b7\"}},\"isDeliveredInIOSAppForWatchOS\":false,\"bundleId\":\"Andro.AndroMoney\",\"hasInAppPurchases\":false,\"isAppleWatchSupported\":false,\"isStandaloneForWatchOS\":false,\"requiresGameController\":false,\"isHiddenFromSpringboard\":false,\"isStandaloneWithCompanionForWatchOS\":false,\"offers\":[{\"buyParams\":\"productType=C\\u0026price=179000\\u0026salableAdamId=679044544\\u0026pricingParameters=STDQ\\u0026pg=default\\u0026appExtVrsId=838073765\",\"type\":\"buy\",\"priceFormatted\":\"₹ 179\",\"price\":179,\"currencyCode\":\"INR\",\"assets\":[{\"flavor\":\"iosSoftware\",\"size\":46827520}]},{\"buyParams\":\"productType=C\\u0026price=0\\u0026salableAdamId=679044544\\u0026pricingParameters=SWUPD\\u0026pg=default\\u0026appExtVrsId=838073765\",\"type\":\"update\",\"priceFormatted\":\"₹ 0\",\"price\":0,\"currencyCode\":\"INR\",\"assets\":[{\"flavor\":\"iosSoftware\",\"size\":46827520}]}]}},\"userRating\":{\"value\":4.3,\"ratingCount\":54,\"ratingCountList\":[4,2,2,13,33],\"ariaLabelForRatings\":\"4.3 stars\"},\"contentRatingsBySystem\":{\"appsApple\":{\"name\":\"4+\",\"value\":100,\"rank\":1}},\"name\":\"AndroMoney\",\"supportsArcade\":false,\"genreDisplayName\":\"Finance\",\"isFirstPartyHideableApp\":false,\"artwork\":{\"width\":1024,\"height\":1024,\"url\":\"https://is3-ssl.mzstatic.com/image/thumb/Purple114/v4/4b/10/ce/4b10ce01-b3fb-a974-a0a5-4a49644be972/AppIcon-1x_U007emarketing-0-10-85-220.png/{w}x{h}{c}.{f}\",\"bgColor\":\"ffffff\",\"textColor1\":\"011203\",\"textColor2\":\"031204\",\"textColor3\":\"334135\",\"textColor4\":\"354136\"}}],\"next\":\"/v1/catalog/in/charts?chart=top-paid\\u0026contexts=default\\u0026genre=6015\\u0026l=en-GB\\u0026limit=12\\u0026offset=12\\u0026platform=iphone\\u0026types=apps\",\"href\":\"/v1/catalog/in/charts?chart=top-paid\\u0026contexts=default\\u0026genre=6015\\u0026l=en-GB\\u0026limit=12\\u0026platform=iphone\\u0026types=apps\",\"seeAllLinkUrl\":\"/in/charts/iphone/finance-apps/6015?chart=top-paid\"}],\"genres\":[{\"name\":\"Apple Watch Apps\",\"seoName\":\"apple-watch-apps\",\"artwork\":{\"width\":1024,\"height\":1024,\"url\":\"https://is5-ssl.mzstatic.com/image/thumb/Features113/v4/4e/e7/96/4ee7969b-141a-5b3b-dc3e-059a9086561e/mza_2122780758411045582.png/{w}x{h}{c}.{f}\",\"bgColor\":\"000000\",\"textColor1\":\"dedede\",\"textColor2\":\"c3c3c3\",\"textColor3\":\"b2b2b2\",\"textColor4\":\"9c9c9c\"}},{\"name\":\"AR Apps\",\"seoName\":\"ar-apps\",\"artwork\":{\"width\":1024,\"height\":1024,\"url\":\"https://is3-ssl.mzstatic.com/image/thumb/Features113/v4/04/b0/f0/04b0f0d5-28b5-c7ce-1d25-509a33b238b3/mza_634407853229549865.png/{w}x{h}{c}.{f}\",\"bgColor\":\"000000\",\"textColor1\":\"f3f3f3\",\"textColor2\":\"c5c5c5\",\"textColor3\":\"c2c2c2\",\"textColor4\":\"9d9d9d\"}},{\"name\":\"Books\",\"seoName\":\"books\",\"chartUrl\":\"https://apps.apple.com/in/charts/iphone/books-apps/6018\",\"artwork\":{\"width\":1024,\"height\":1024,\"url\":\"https://is3-ssl.mzstatic.com/image/thumb/Features128/v4/d3/fe/a9/d3fea9f6-b831-9f9a-4148-be88bf1b04e0/mza_3809598991263099603.png/{w}x{h}{c}.{f}\",\"bgColor\":\"ffffff\",\"textColor1\":\"000000\",\"textColor2\":\"0d0d0d\",\"textColor3\":\"333333\",\"textColor4\":\"3d3d3d\"},\"genre\":6018},{\"name\":\"Business\",\"seoName\":\"business\",\"chartUrl\":\"https://apps.apple.com/in/charts/iphone/business-apps/6000\",\"artwork\":{\"width\":1024,\"height\":1024,\"url\":\"https://is3-ssl.mzstatic.com/image/thumb/Features118/v4/9c/84/bd/9c84bdf8-6f34-8f65-9d17-503d6829b2e7/mza_1471237129119916701.png/{w}x{h}{c}.{f}\",\"bgColor\":\"000000\",\"textColor1\":\"febf0b\",\"textColor2\":\"e29747\",\"textColor3\":\"cb9908\",\"textColor4\":\"b47938\"},\"genre\":6000},{\"name\":\"Developer Tools\",\"seoName\":\"developer-tools\",\"chartUrl\":\"https://apps.apple.com/in/charts/iphone/developer-tools-apps/6026\",\"artwork\":{\"width\":1024,\"height\":1024,\"url\":\"https://is4-ssl.mzstatic.com/image/thumb/Features113/v4/a5/60/7f/a5607f8f-ec52-7eb7-d6db-4f7151258820/mza_10686726966160905976.png/{w}x{h}{c}.{f}\",\"bgColor\":\"000000\",\"textColor1\":\"cfcfcf\",\"textColor2\":\"e29747\",\"textColor3\":\"a6a6a6\",\"textColor4\":\"b47938\"},\"genre\":6026},{\"name\":\"Education\",\"seoName\":\"education\",\"chartUrl\":\"https://apps.apple.com/in/charts/iphone/education-apps/6017\",\"artwork\":{\"width\":1024,\"height\":1024,\"url\":\"https://is1-ssl.mzstatic.com/image/thumb/Features128/v4/d5/57/ac/d557aca5-6fb5-c4af-5b2b-00c57709a394/mza_6716523628950972346.png/{w}x{h}{c}.{f}\",\"bgColor\":\"000000\",\"textColor1\":\"5acafc\",\"textColor2\":\"42d524\",\"textColor3\":\"48a1ca\",\"textColor4\":\"35aa1d\"},\"genre\":6017},{\"name\":\"Entertainment\",\"seoName\":\"entertainment\",\"chartUrl\":\"https://apps.apple.com/in/charts/iphone/entertainment-apps/6016\",\"artwork\":{\"width\":1024,\"height\":1024,\"url\":\"https://is3-ssl.mzstatic.com/image/thumb/Features128/v4/b4/5e/9a/b45e9ac6-9d2a-943d-0f8a-98b3c09fec9b/mza_2551890084628674194.png/{w}x{h}{c}.{f}\",\"bgColor\":\"000000\",\"textColor1\":\"ffd26d\",\"textColor2\":\"ff4231\",\"textColor3\":\"cba757\",\"textColor4\":\"cb3527\"},\"genre\":6016},{\"name\":\"Finance\",\"seoName\":\"finance\",\"chartUrl\":\"https://apps.apple.com/in/charts/iphone/finance-apps/6015\",\"artwork\":{\"width\":1024,\"height\":1024,\"url\":\"https://is4-ssl.mzstatic.com/image/thumb/Features128/v4/b4/bc/86/b4bc86d3-2682-9768-1761-b1d7c714a6d8/mza_1793819588898035147.png/{w}x{h}{c}.{f}\",\"bgColor\":\"000000\",\"textColor1\":\"fab719\",\"textColor2\":\"e29747\",\"textColor3\":\"c89214\",\"textColor4\":\"b47938\"},\"genre\":6015},{\"name\":\"Food \\u0026 Drink\",\"seoName\":\"food-drink\",\"chartUrl\":\"https://apps.apple.com/in/charts/iphone/food-drink-apps/6023\",\"artwork\":{\"width\":1024,\"height\":1024,\"url\":\"https://is2-ssl.mzstatic.com/image/thumb/Features128/v4/f2/fc/1d/f2fc1d30-ee05-e454-b4f7-25c304655a9b/mza_2470039338993585874.png/{w}x{h}{c}.{f}\",\"bgColor\":\"000000\",\"textColor1\":\"fbb717\",\"textColor2\":\"5cccf7\",\"textColor3\":\"c99312\",\"textColor4\":\"49a3c6\"},\"genre\":6023},{\"name\":\"Graphics \\u0026 Design\",\"seoName\":\"graphics-design\",\"chartUrl\":\"https://apps.apple.com/in/charts/iphone/graphics-design-apps/6027\",\"artwork\":{\"width\":1024,\"height\":1024,\"url\":\"https://is2-ssl.mzstatic.com/image/thumb/Features123/v4/89/44/c2/8944c2d7-b148-aeca-5de3-37f023e2b8e3/mza_2649686838125952098.png/{w}x{h}{c}.{f}\",\"bgColor\":\"000000\",\"textColor1\":\"d0d0d0\",\"textColor2\":\"5acafc\",\"textColor3\":\"a6a6a6\",\"textColor4\":\"48a1ca\"},\"genre\":6027},{\"name\":\"Health \\u0026 Fitness\",\"seoName\":\"health-fitness\",\"chartUrl\":\"https://apps.apple.com/in/charts/iphone/health-fitness-apps/6013\",\"artwork\":{\"width\":1024,\"height\":1024,\"url\":\"https://is5-ssl.mzstatic.com/image/thumb/Features118/v4/a9/d1/2a/a9d12ad9-f000-e6a7-b3ec-e45ca871fd6a/mza_3826999582287909924.png/{w}x{h}{c}.{f}\",\"bgColor\":\"000000\",\"textColor1\":\"d1d1d1\",\"textColor2\":\"5ecbf7\",\"textColor3\":\"a7a7a7\",\"textColor4\":\"4ba2c6\"},\"genre\":6013},{\"name\":\"Kids\",\"seoName\":\"kids\",\"chartUrl\":\"https://apps.apple.com/in/charts/iphone/kids-apps/36?ageId=0\",\"artwork\":{\"width\":1024,\"height\":1024,\"url\":\"https://is5-ssl.mzstatic.com/image/thumb/Features128/v4/22/95/f3/2295f32c-6eb2-3e32-36e1-c8569603865f/mza_6948550268666124203.png/{w}x{h}{c}.{f}\",\"bgColor\":\"000000\",\"textColor1\":\"d1d1d1\",\"textColor2\":\"ff3b30\",\"textColor3\":\"a7a7a7\",\"textColor4\":\"cb2f26\"},\"genre\":36,\"ages\":0,\"label\":\"All Kids\",\"children\":[{\"name\":\"Ages 5 \\u0026 Under\",\"seoName\":\"ages-5-under\",\"chartUrl\":\"https://apps.apple.com/in/charts/iphone/ages-5-under-apps/36?ageId=10000\",\"artwork\":{\"width\":1024,\"height\":1024,\"url\":\"https://is3-ssl.mzstatic.com/image/thumb/Features128/v4/7d/59/71/7d5971b4-1ff1-ede2-a5fa-8e84ead6fbcb/mza_4074464856148244129.png/{w}x{h}{c}.{f}\",\"bgColor\":\"000000\",\"textColor1\":\"febf0b\",\"textColor2\":\"5ecbf7\",\"textColor3\":\"cb9908\",\"textColor4\":\"4ba2c6\"},\"genre\":36,\"ages\":\"10000\"},{\"name\":\"Ages 6-8\",\"seoName\":\"ages-6-8\",\"chartUrl\":\"https://apps.apple.com/in/charts/iphone/ages-6-8-apps/36?ageId=10001\",\"artwork\":{\"width\":1024,\"height\":1024,\"url\":\"https://is1-ssl.mzstatic.com/image/thumb/Features118/v4/f4/54/08/f45408c9-f7cd-4a58-8961-e6e53173b24d/mza_7945121204416833711.png/{w}x{h}{c}.{f}\",\"bgColor\":\"000000\",\"textColor1\":\"5ecbf7\",\"textColor2\":\"f73e64\",\"textColor3\":\"4ba2c6\",\"textColor4\":\"c53150\"},\"genre\":36,\"ages\":\"10001\"},{\"name\":\"Ages 9-11\",\"seoName\":\"ages-9-11\",\"chartUrl\":\"https://apps.apple.com/in/charts/iphone/ages-9-11-apps/36?ageId=10002\",\"artwork\":{\"width\":1024,\"height\":1024,\"url\":\"https://is3-ssl.mzstatic.com/image/thumb/Features128/v4/ba/8d/8c/ba8d8c8c-5b9e-d635-8d11-18acba8dbd9c/mza_6562185370113718384.png/{w}x{h}{c}.{f}\",\"bgColor\":\"59c8fa\",\"textColor1\":\"000000\",\"textColor2\":\"000000\",\"textColor3\":\"122832\",\"textColor4\":\"122832\"},\"genre\":36,\"ages\":\"10002\"}]},{\"name\":\"Lifestyle\",\"seoName\":\"lifestyle\",\"chartUrl\":\"https://apps.apple.com/in/charts/iphone/lifestyle-apps/6012\",\"artwork\":{\"width\":1024,\"height\":1024,\"url\":\"https://is1-ssl.mzstatic.com/image/thumb/Features118/v4/bf/8a/29/bf8a29ed-edff-c7d0-597e-8bad07d31237/mza_2265987238396888637.png/{w}x{h}{c}.{f}\",\"bgColor\":\"000000\",\"textColor1\":\"e29747\",\"textColor2\":\"ff4231\",\"textColor3\":\"b47938\",\"textColor4\":\"cb3527\"},\"genre\":6012},{\"name\":\"Magazines \\u0026 Newspapers\",\"seoName\":\"magazines-newspapers\",\"chartUrl\":\"https://apps.apple.com/in/charts/iphone/magazines-newspapers-apps/6021\",\"artwork\":{\"width\":1024,\"height\":1024,\"url\":\"https://is1-ssl.mzstatic.com/image/thumb/Features128/v4/27/a2/dd/27a2dd05-b13e-8825-4046-290bea44f51c/mza_4442738478305932628.png/{w}x{h}{c}.{f}\",\"bgColor\":\"969696\",\"textColor1\":\"000000\",\"textColor2\":\"161616\",\"textColor3\":\"1e1e1e\",\"textColor4\":\"303030\"},\"genre\":6021},{\"name\":\"Medical\",\"seoName\":\"medical\",\"chartUrl\":\"https://apps.apple.com/in/charts/iphone/medical-apps/6020\",\"artwork\":{\"width\":1024,\"height\":1024,\"url\":\"https://is3-ssl.mzstatic.com/image/thumb/Features118/v4/2c/51/99/2c5199c8-eaf3-b5bd-4eda-adeabfaa7738/mza_2898793652746702972.png/{w}x{h}{c}.{f}\",\"bgColor\":\"000000\",\"textColor1\":\"dcdcdc\",\"textColor2\":\"ac71eb\",\"textColor3\":\"b0b0b0\",\"textColor4\":\"8a5abc\"},\"genre\":6020},{\"name\":\"Music\",\"seoName\":\"music\",\"chartUrl\":\"https://apps.apple.com/in/charts/iphone/music-apps/6011\",\"artwork\":{\"width\":1024,\"height\":1024,\"url\":\"https://is1-ssl.mzstatic.com/image/thumb/Features128/v4/59/3d/00/593d005c-f3a1-e056-0594-0154ba87062d/mza_1154846178349465829.png/{w}x{h}{c}.{f}\",\"bgColor\":\"000000\",\"textColor1\":\"5acafc\",\"textColor2\":\"f65185\",\"textColor3\":\"48a1ca\",\"textColor4\":\"c5416a\"},\"genre\":6011},{\"name\":\"Navigation\",\"seoName\":\"navigation\",\"chartUrl\":\"https://apps.apple.com/in/charts/iphone/navigation-apps/6010\",\"artwork\":{\"width\":1024,\"height\":1024,\"url\":\"https://is1-ssl.mzstatic.com/image/thumb/Features118/v4/24/a2/2c/24a22cda-837d-b784-a4b2-921f20d3baae/mza_2550188852032193564.png/{w}x{h}{c}.{f}\",\"bgColor\":\"000000\",\"textColor1\":\"5acafc\",\"textColor2\":\"2fafd8\",\"textColor3\":\"48a1ca\",\"textColor4\":\"258cad\"},\"genre\":6010},{\"name\":\"News\",\"seoName\":\"news\",\"chartUrl\":\"https://apps.apple.com/in/charts/iphone/news-apps/6009\",\"artwork\":{\"width\":1024,\"height\":1024,\"url\":\"https://is4-ssl.mzstatic.com/image/thumb/Features128/v4/09/03/81/09038184-9db7-43da-4aec-57eb5e86c4cc/mza_7507164213633563654.png/{w}x{h}{c}.{f}\",\"bgColor\":\"000000\",\"textColor1\":\"dcdcdc\",\"textColor2\":\"c8c8c8\",\"textColor3\":\"b0b0b0\",\"textColor4\":\"a0a0a0\"},\"genre\":6009},{\"name\":\"Photo \\u0026 Video\",\"seoName\":\"photo-video\",\"chartUrl\":\"https://apps.apple.com/in/charts/iphone/photo-video-apps/6008\",\"artwork\":{\"width\":1024,\"height\":1024,\"url\":\"https://is2-ssl.mzstatic.com/image/thumb/Features128/v4/ef/5a/57/ef5a574a-9720-828e-5547-bdd3cf9287bf/mza_285919785441149870.png/{w}x{h}{c}.{f}\",\"bgColor\":\"000000\",\"textColor1\":\"ffffff\",\"textColor2\":\"cfcfcf\",\"textColor3\":\"cbcbcb\",\"textColor4\":\"a6a6a6\"},\"genre\":6008},{\"name\":\"Productivity\",\"seoName\":\"productivity\",\"chartUrl\":\"https://apps.apple.com/in/charts/iphone/productivity-apps/6007\",\"artwork\":{\"width\":1024,\"height\":1024,\"url\":\"https://is1-ssl.mzstatic.com/image/thumb/Features118/v4/aa/cc/df/aaccdf84-4e72-d840-7b65-061703599de8/mza_2059140252682103156.png/{w}x{h}{c}.{f}\",\"bgColor\":\"000000\",\"textColor1\":\"5acafc\",\"textColor2\":\"2aaed6\",\"textColor3\":\"48a1ca\",\"textColor4\":\"228bab\"},\"genre\":6007},{\"name\":\"Reference\",\"seoName\":\"reference\",\"chartUrl\":\"https://apps.apple.com/in/charts/iphone/reference-apps/6006\",\"artwork\":{\"width\":1024,\"height\":1024,\"url\":\"https://is4-ssl.mzstatic.com/image/thumb/Features118/v4/c5/3d/f1/c53df10d-b548-804f-9b04-e0109c9320a2/mza_986292297833967775.png/{w}x{h}{c}.{f}\",\"bgColor\":\"000000\",\"textColor1\":\"dcdcdc\",\"textColor2\":\"e29747\",\"textColor3\":\"b0b0b0\",\"textColor4\":\"b47938\"},\"genre\":6006},{\"name\":\"Safari Extensions\",\"seoName\":\"safari-extensions\",\"artwork\":{\"width\":1024,\"height\":1024,\"url\":\"https://is4-ssl.mzstatic.com/image/thumb/Features115/v4/90/84/43/90844382-51d2-a12b-132a-a267db86fd59/mza_7500216345676187186.png/{w}x{h}{c}.{f}\",\"bgColor\":\"000000\",\"textColor1\":\"ffffff\",\"textColor2\":\"5fc7fc\",\"textColor3\":\"cbcbcb\",\"textColor4\":\"4c9fc9\"}},{\"name\":\"Shopping\",\"seoName\":\"shopping\",\"chartUrl\":\"https://apps.apple.com/in/charts/iphone/shopping-apps/6024\",\"artwork\":{\"width\":1024,\"height\":1024,\"url\":\"https://is5-ssl.mzstatic.com/image/thumb/Features113/v4/15/0b/cd/150bcd5a-e815-cf39-8272-cfa18c41cac1/mza_3716039910351744074.png/{w}x{h}{c}.{f}\",\"bgColor\":\"000000\",\"textColor1\":\"62de57\",\"textColor2\":\"5acafc\",\"textColor3\":\"4eb246\",\"textColor4\":\"48a1ca\"},\"genre\":6024},{\"name\":\"Social Networking\",\"seoName\":\"social-networking\",\"chartUrl\":\"https://apps.apple.com/in/charts/iphone/social-networking-apps/6005\",\"artwork\":{\"width\":1024,\"height\":1024,\"url\":\"https://is1-ssl.mzstatic.com/image/thumb/Features118/v4/55/60/fa/5560faef-2b07-c883-b7ca-ac9362ef69cd/mza_329771073609789559.png/{w}x{h}{c}.{f}\",\"bgColor\":\"000000\",\"textColor1\":\"5acafc\",\"textColor2\":\"f65285\",\"textColor3\":\"48a1ca\",\"textColor4\":\"c4426b\"},\"genre\":6005},{\"name\":\"Sports\",\"seoName\":\"sports\",\"chartUrl\":\"https://apps.apple.com/in/charts/iphone/sports-apps/6004\",\"artwork\":{\"width\":1024,\"height\":1024,\"url\":\"https://is4-ssl.mzstatic.com/image/thumb/Features123/v4/b5/9d/04/b59d043f-3a03-f1d2-9962-db3a1d2d355d/mza_3546970628522126202.png/{w}x{h}{c}.{f}\",\"bgColor\":\"000000\",\"textColor1\":\"efefef\",\"textColor2\":\"d5d5d5\",\"textColor3\":\"bfbfbf\",\"textColor4\":\"aaaaaa\"},\"genre\":6004},{\"name\":\"Travel\",\"seoName\":\"travel\",\"chartUrl\":\"https://apps.apple.com/in/charts/iphone/travel-apps/6003\",\"artwork\":{\"width\":1024,\"height\":1024,\"url\":\"https://is5-ssl.mzstatic.com/image/thumb/Features118/v4/f9/31/02/f93102f8-5031-67e4-28c3-6fead1f98d9e/mza_8151837169176729698.png/{w}x{h}{c}.{f}\",\"bgColor\":\"000000\",\"textColor1\":\"62de57\",\"textColor2\":\"5acafc\",\"textColor3\":\"4eb246\",\"textColor4\":\"48a1ca\"},\"genre\":6003},{\"name\":\"Utilities\",\"seoName\":\"utilities\",\"chartUrl\":\"https://apps.apple.com/in/charts/iphone/utilities-apps/6002\",\"artwork\":{\"width\":1024,\"height\":1024,\"url\":\"https://is3-ssl.mzstatic.com/image/thumb/Features123/v4/24/f9/88/24f988f7-1c5d-373c-073e-eadedd8a5863/mza_5991535425786609287.png/{w}x{h}{c}.{f}\",\"bgColor\":\"000000\",\"textColor1\":\"d7dadb\",\"textColor2\":\"ff9500\",\"textColor3\":\"acaeaf\",\"textColor4\":\"cb7700\"},\"genre\":6002},{\"name\":\"Weather\",\"seoName\":\"weather\",\"chartUrl\":\"https://apps.apple.com/in/charts/iphone/weather-apps/6001\",\"artwork\":{\"width\":1024,\"height\":1024,\"url\":\"https://is1-ssl.mzstatic.com/image/thumb/Features123/v4/74/2e/a9/742ea9a4-ad7c-4ea2-012b-6c9bb5f1606b/mza_5176028001231017707.png/{w}x{h}{c}.{f}\",\"bgColor\":\"000000\",\"textColor1\":\"ffffff\",\"textColor2\":\"f9a830\",\"textColor3\":\"cbcbcb\",\"textColor4\":\"c78726\"},\"genre\":6001}],\"popularGenres\":[{\"name\":\"Apple Watch Apps\",\"seoName\":\"apple-watch-apps\",\"artwork\":{\"width\":1024,\"height\":1024,\"url\":\"https://is5-ssl.mzstatic.com/image/thumb/Features113/v4/4e/e7/96/4ee7969b-141a-5b3b-dc3e-059a9086561e/mza_2122780758411045582.png/{w}x{h}{c}.{f}\",\"bgColor\":\"000000\",\"textColor1\":\"dedede\",\"textColor2\":\"c3c3c3\",\"textColor3\":\"b2b2b2\",\"textColor4\":\"9c9c9c\"}},{\"name\":\"AR Apps\",\"seoName\":\"ar-apps\",\"artwork\":{\"width\":1024,\"height\":1024,\"url\":\"https://is3-ssl.mzstatic.com/image/thumb/Features113/v4/04/b0/f0/04b0f0d5-28b5-c7ce-1d25-509a33b238b3/mza_634407853229549865.png/{w}x{h}{c}.{f}\",\"bgColor\":\"000000\",\"textColor1\":\"f3f3f3\",\"textColor2\":\"c5c5c5\",\"textColor3\":\"c2c2c2\",\"textColor4\":\"9d9d9d\"}},{\"name\":\"Books\",\"seoName\":\"books\",\"chartUrl\":\"https://apps.apple.com/in/charts/iphone/books-apps/6018\",\"artwork\":{\"width\":1024,\"height\":1024,\"url\":\"https://is3-ssl.mzstatic.com/image/thumb/Features128/v4/d3/fe/a9/d3fea9f6-b831-9f9a-4148-be88bf1b04e0/mza_3809598991263099603.png/{w}x{h}{c}.{f}\",\"bgColor\":\"ffffff\",\"textColor1\":\"000000\",\"textColor2\":\"0d0d0d\",\"textColor3\":\"333333\",\"textColor4\":\"3d3d3d\"},\"genre\":6018},{\"name\":\"Business\",\"seoName\":\"business\",\"chartUrl\":\"https://apps.apple.com/in/charts/iphone/business-apps/6000\",\"artwork\":{\"width\":1024,\"height\":1024,\"url\":\"https://is3-ssl.mzstatic.com/image/thumb/Features118/v4/9c/84/bd/9c84bdf8-6f34-8f65-9d17-503d6829b2e7/mza_1471237129119916701.png/{w}x{h}{c}.{f}\",\"bgColor\":\"000000\",\"textColor1\":\"febf0b\",\"textColor2\":\"e29747\",\"textColor3\":\"cb9908\",\"textColor4\":\"b47938\"},\"genre\":6000}],\"extraGenres\":[[{\"name\":\"Action\",\"seoName\":\"action\",\"chartUrl\":\"https://apps.apple.com/in/charts/iphone/action-games/7001\",\"artwork\":{\"width\":1024,\"height\":1024,\"url\":\"https://is1-ssl.mzstatic.com/image/thumb/Features118/v4/54/33/1d/54331d69-cc42-b0c6-be0d-4f8c2cdab535/mza_7850236496539263770.png/{w}x{h}{c}.{f}\",\"bgColor\":\"000000\",\"textColor1\":\"cfcfcf\",\"textColor2\":\"fab719\",\"textColor3\":\"a6a6a6\",\"textColor4\":\"c89214\"},\"genre\":7001},{\"name\":\"Adventure\",\"seoName\":\"adventure\",\"chartUrl\":\"https://apps.apple.com/in/charts/iphone/adventure-games/7002\",\"artwork\":{\"width\":1024,\"height\":1024,\"url\":\"https://is2-ssl.mzstatic.com/image/thumb/Features113/v4/a5/1e/a7/a51ea71b-fba3-0e55-35df-85f6add8f1ea/mza_7086991959922268812.png/{w}x{h}{c}.{f}\",\"bgColor\":\"000000\",\"textColor1\":\"ffffff\",\"textColor2\":\"e2e2e3\",\"textColor3\":\"cbcbcb\",\"textColor4\":\"b5b5b6\"},\"genre\":7002},{\"name\":\"AR Games\",\"seoName\":\"ar-games\",\"artwork\":{\"width\":1024,\"height\":1024,\"url\":\"https://is3-ssl.mzstatic.com/image/thumb/Features113/v4/3d/e9/47/3de94729-eb2e-db40-4898-acf304d61d17/mza_7114575715773703852.png/{w}x{h}{c}.{f}\",\"bgColor\":\"000000\",\"textColor1\":\"f3f3f3\",\"textColor2\":\"c5c5c5\",\"textColor3\":\"c2c2c2\",\"textColor4\":\"9d9d9d\"}},{\"name\":\"Board\",\"seoName\":\"board\",\"chartUrl\":\"https://apps.apple.com/in/charts/iphone/board-games/7004\",\"artwork\":{\"width\":1024,\"height\":1024,\"url\":\"https://is2-ssl.mzstatic.com/image/thumb/Features113/v4/45/fe/93/45fe939b-4e5b-b662-864e-15e60da312a3/mza_5309088200699753945.png/{w}x{h}{c}.{f}\",\"bgColor\":\"000000\",\"textColor1\":\"ffffff\",\"textColor2\":\"cacacd\",\"textColor3\":\"cbcbcb\",\"textColor4\":\"a1a1a4\"},\"genre\":7004},{\"name\":\"Card\",\"seoName\":\"card\",\"chartUrl\":\"https://apps.apple.com/in/charts/iphone/card-games/7005\",\"artwork\":{\"width\":1024,\"height\":1024,\"url\":\"https://is5-ssl.mzstatic.com/image/thumb/Features118/v4/46/4b/e4/464be413-34c6-bed1-f7cd-18116ca7e8d9/mza_1340277073449747266.png/{w}x{h}{c}.{f}\",\"bgColor\":\"ffffff\",\"textColor1\":\"000000\",\"textColor2\":\"161616\",\"textColor3\":\"333333\",\"textColor4\":\"454545\"},\"genre\":7005},{\"name\":\"Casino\",\"seoName\":\"casino\",\"chartUrl\":\"https://apps.apple.com/in/charts/iphone/casino-games/7006\",\"artwork\":{\"width\":1024,\"height\":1024,\"url\":\"https://is1-ssl.mzstatic.com/image/thumb/Features113/v4/41/6a/c5/416ac580-ce06-d7f1-5725-82475f971581/mza_2154867267189200431.png/{w}x{h}{c}.{f}\",\"bgColor\":\"000000\",\"textColor1\":\"ffffff\",\"textColor2\":\"62de57\",\"textColor3\":\"cbcbcb\",\"textColor4\":\"4eb246\"},\"genre\":7006},{\"name\":\"Casual\",\"seoName\":\"casual\",\"chartUrl\":\"https://apps.apple.com/in/charts/iphone/casual-games/7003\",\"artwork\":{\"width\":1024,\"height\":1024,\"url\":\"https://is4-ssl.mzstatic.com/image/thumb/Features123/v4/ec/0d/c1/ec0dc125-dde6-c573-7f31-97bdb49f10ab/mza_2990864259490845301.png/{w}x{h}{c}.{f}\",\"bgColor\":\"000000\",\"textColor1\":\"31e6d0\",\"textColor2\":\"3f99f1\",\"textColor3\":\"27b8a7\",\"textColor4\":\"327ac1\"},\"genre\":7003},{\"name\":\"Family\",\"seoName\":\"family\",\"chartUrl\":\"https://apps.apple.com/in/charts/iphone/family-games/7009\",\"artwork\":{\"width\":1024,\"height\":1024,\"url\":\"https://is1-ssl.mzstatic.com/image/thumb/Features128/v4/33/8c/e8/338ce818-62d6-ded4-644b-626171776a07/mza_1133208286354649270.png/{w}x{h}{c}.{f}\",\"bgColor\":\"000000\",\"textColor1\":\"feb919\",\"textColor2\":\"fab719\",\"textColor3\":\"cb9414\",\"textColor4\":\"c89214\"},\"genre\":7009},{\"name\":\"Indie\",\"seoName\":\"indie\",\"artwork\":{\"width\":1024,\"height\":1024,\"url\":\"https://is2-ssl.mzstatic.com/image/thumb/Features113/v4/7e/fc/14/7efc146e-44c7-8d25-6871-a9950eeea579/mza_547136683438747649.png/{w}x{h}{c}.{f}\",\"bgColor\":\"000000\",\"textColor1\":\"6fdf64\",\"textColor2\":\"64c95a\",\"textColor3\":\"58b250\",\"textColor4\":\"50a148\"}},{\"name\":\"Music\",\"seoName\":\"music\",\"chartUrl\":\"https://apps.apple.com/in/charts/iphone/music-games/7011\",\"artwork\":{\"width\":1024,\"height\":1024,\"url\":\"https://is4-ssl.mzstatic.com/image/thumb/Features128/v4/99/ec/e1/99ece1c6-055c-a424-37d6-65118bdcd0b8/mza_2027163565629638320.png/{w}x{h}{c}.{f}\",\"bgColor\":\"000000\",\"textColor1\":\"5acafc\",\"textColor2\":\"f65185\",\"textColor3\":\"48a1ca\",\"textColor4\":\"c5416a\"},\"genre\":7011},{\"name\":\"Puzzle\",\"seoName\":\"puzzle\",\"chartUrl\":\"https://apps.apple.com/in/charts/iphone/puzzle-games/7012\",\"artwork\":{\"width\":1024,\"height\":1024,\"url\":\"https://is5-ssl.mzstatic.com/image/thumb/Features128/v4/80/32/d5/8032d545-9128-d3b2-82ca-4530413e2c42/mza_5567892722588676827.png/{w}x{h}{c}.{f}\",\"bgColor\":\"000000\",\"textColor1\":\"5bcbfe\",\"textColor2\":\"5acafc\",\"textColor3\":\"49a2cb\",\"textColor4\":\"48a1ca\"},\"genre\":7012},{\"name\":\"Racing\",\"seoName\":\"racing\",\"chartUrl\":\"https://apps.apple.com/in/charts/iphone/racing-games/7013\",\"artwork\":{\"width\":1024,\"height\":1024,\"url\":\"https://is4-ssl.mzstatic.com/image/thumb/Features113/v4/b0/93/f0/b093f0db-5f14-23f7-69fb-b7af8119f05c/mza_6723677802022270241.png/{w}x{h}{c}.{f}\",\"bgColor\":\"000000\",\"textColor1\":\"fdfdfe\",\"textColor2\":\"e0e0e1\",\"textColor3\":\"cacacb\",\"textColor4\":\"b3b3b4\"},\"genre\":7013},{\"name\":\"Role-Playing\",\"seoName\":\"role-playing\",\"chartUrl\":\"https://apps.apple.com/in/charts/iphone/role-playing-games/7014\",\"artwork\":{\"width\":1024,\"height\":1024,\"url\":\"https://is5-ssl.mzstatic.com/image/thumb/Features128/v4/78/d4/46/78d446eb-256e-758e-279f-2a05c54e25a3/mza_8741556540966567751.png/{w}x{h}{c}.{f}\",\"bgColor\":\"000000\",\"textColor1\":\"fab71a\",\"textColor2\":\"eeac2a\",\"textColor3\":\"c89215\",\"textColor4\":\"bf8922\"},\"genre\":7014},{\"name\":\"Simulation\",\"seoName\":\"simulation\",\"chartUrl\":\"https://apps.apple.com/in/charts/iphone/simulation-games/7015\",\"artwork\":{\"width\":1024,\"height\":1024,\"url\":\"https://is4-ssl.mzstatic.com/image/thumb/Features128/v4/02/29/64/0229644d-d393-6dfb-14bf-236a257e7058/mza_879924342404634344.png/{w}x{h}{c}.{f}\",\"bgColor\":\"000000\",\"textColor1\":\"ffffff\",\"textColor2\":\"d0d0d0\",\"textColor3\":\"cbcbcb\",\"textColor4\":\"a6a6a6\"},\"genre\":7015},{\"name\":\"Sports\",\"seoName\":\"sports\",\"chartUrl\":\"https://apps.apple.com/in/charts/iphone/sports-games/7016\",\"artwork\":{\"width\":1024,\"height\":1024,\"url\":\"https://is5-ssl.mzstatic.com/image/thumb/Features123/v4/8c/f7/bb/8cf7bb68-74c4-032a-318c-5b16f2328c95/mza_2552743063029719995.png/{w}x{h}{c}.{f}\",\"bgColor\":\"000000\",\"textColor1\":\"efefef\",\"textColor2\":\"d5d5d5\",\"textColor3\":\"bfbfbf\",\"textColor4\":\"aaaaaa\"},\"genre\":7016},{\"name\":\"Strategy\",\"seoName\":\"strategy\",\"chartUrl\":\"https://apps.apple.com/in/charts/iphone/strategy-games/7017\",\"artwork\":{\"width\":1024,\"height\":1024,\"url\":\"https://is4-ssl.mzstatic.com/image/thumb/Features123/v4/db/71/88/db7188d2-d957-95d3-d527-4c332e127ccf/mza_2094106631190056390.png/{w}x{h}{c}.{f}\",\"bgColor\":\"000000\",\"textColor1\":\"d0d0d0\",\"textColor2\":\"f6453b\",\"textColor3\":\"a6a6a6\",\"textColor4\":\"c4372f\"},\"genre\":7017},{\"name\":\"Trivia\",\"seoName\":\"trivia\",\"chartUrl\":\"https://apps.apple.com/in/charts/iphone/trivia-games/7018\",\"artwork\":{\"width\":1024,\"height\":1024,\"url\":\"https://is2-ssl.mzstatic.com/image/thumb/Features113/v4/ec/ca/97/ecca9707-9da0-5b48-d78e-8c37e729bf2f/mza_1998683959095032440.png/{w}x{h}{c}.{f}\",\"bgColor\":\"000000\",\"textColor1\":\"ffffff\",\"textColor2\":\"d0d0d0\",\"textColor3\":\"cbcbcb\",\"textColor4\":\"a6a6a6\"},\"genre\":7018},{\"name\":\"Word\",\"seoName\":\"word\",\"chartUrl\":\"https://apps.apple.com/in/charts/iphone/word-games/7019\",\"artwork\":{\"width\":1024,\"height\":1024,\"url\":\"https://is3-ssl.mzstatic.com/image/thumb/Features113/v4/77/d9/9a/77d99a69-fc5d-63d5-7eed-36643cbcabb9/mza_3286970233374463192.png/{w}x{h}{c}.{f}\",\"bgColor\":\"000000\",\"textColor1\":\"ffffff\",\"textColor2\":\"ececf1\",\"textColor3\":\"cbcbcb\",\"textColor4\":\"bdbdc0\"},\"genre\":7019}]],\"storefront\":\"in\",\"genreTitle\":\"Finance\",\"chartUrl\":\"https://apps.apple.com/in/charts/iphone/finance-apps/6015\"}</script>,\n",
       " <script id=\"fastboot-body-end\" type=\"x/boundary\"></script>,\n",
       " <script integrity=\"\" src=\"/assets/vendor-58205b5fd810c33e0b930776b6f89626.js\"></script>,\n",
       " <script src=\"/assets/chunk.309.848d97fb43af54a66969.js\"></script>,\n",
       " <script src=\"/assets/chunk.143.c3acd32b236afd0d2ff9.js\"></script>,\n",
       " <script data-app-legacy-src=\"\" integrity=\"\" nomodule=\"\" src=\"/assets/web-experience-app-e37cc888ddf1648f9f2742b4100ea7c1.js\"></script>,\n",
       " <script data-test-seo-data-org=\"apps\" type=\"application/ld+json\">\n",
       "     {\n",
       "       \"@context\": \"https://schema.org\",\n",
       "       \"@id\": \"https://apps.apple.com/#organization\",\n",
       "       \"@type\": \"Organization\",\n",
       "       \"name\": \"App Store\",\n",
       "       \"url\": \"https://apps.apple.com/\",\n",
       "       \"logo\": \"https://apps.apple.com/assets/images/knowledge-graph/apps.png\",\n",
       "       \"sameAs\": [\n",
       "         \"https://www.wikidata.org/wiki/Q368215\",\n",
       "         \"https://twitter.com/AppStore\",\n",
       "         \"https://www.facebook.com/AppStore/\"\n",
       "       ],\n",
       "       \"parentOrganization\": {\n",
       "         \"@type\": \"Organization\",\n",
       "         \"name\": \"Apple\",\n",
       "         \"@id\": \"https://www.apple.com/#organization\",\n",
       "         \"url\": \"https://www.apple.com/\"\n",
       "       }\n",
       "     }\n",
       "   </script>,\n",
       " <script integrity=\"\" src=\"/assets/web-experience-app-e76abf5e8c2c2d0e964e24279a3baf42.modern.js\" type=\"module\"></script>]"
      ]
     },
     "execution_count": 89,
     "metadata": {},
     "output_type": "execute_result"
    }
   ],
   "source": [
    "soup.find_all('script')"
   ]
  },
  {
   "cell_type": "code",
   "execution_count": 91,
   "metadata": {},
   "outputs": [
    {
     "ename": "AttributeError",
     "evalue": "'NoneType' object has no attribute 'string'",
     "output_type": "error",
     "traceback": [
      "\u001b[1;31m---------------------------------------------------------------------------\u001b[0m",
      "\u001b[1;31mAttributeError\u001b[0m                            Traceback (most recent call last)",
      "\u001b[1;32m<ipython-input-91-3741c5a8309a>\u001b[0m in \u001b[0;36m<module>\u001b[1;34m\u001b[0m\n\u001b[0;32m      3\u001b[0m \u001b[1;33m\u001b[0m\u001b[0m\n\u001b[0;32m      4\u001b[0m         \u001b[1;31m# Inner NavigableString Object\u001b[0m\u001b[1;33m\u001b[0m\u001b[1;33m\u001b[0m\u001b[1;33m\u001b[0m\u001b[0m\n\u001b[1;32m----> 5\u001b[1;33m \u001b[0mtitle_value\u001b[0m \u001b[1;33m=\u001b[0m \u001b[0mtitle\u001b[0m\u001b[1;33m.\u001b[0m\u001b[0mstring\u001b[0m\u001b[1;33m\u001b[0m\u001b[1;33m\u001b[0m\u001b[0m\n\u001b[0m\u001b[0;32m      6\u001b[0m \u001b[1;33m\u001b[0m\u001b[0m\n\u001b[0;32m      7\u001b[0m         \u001b[1;31m# Title as a string value\u001b[0m\u001b[1;33m\u001b[0m\u001b[1;33m\u001b[0m\u001b[1;33m\u001b[0m\u001b[0m\n",
      "\u001b[1;31mAttributeError\u001b[0m: 'NoneType' object has no attribute 'string'"
     ]
    }
   ],
   "source": [
    "title = soup.find(\"span\",\n",
    "                          attrs={\"name\": 'productTitle'})\n",
    " \n",
    "        # Inner NavigableString Object\n",
    "title_value = title.string\n",
    " \n",
    "        # Title as a string value\n",
    "title_string = title_value.strip().replace(',', '')"
   ]
  },
  {
   "cell_type": "code",
   "execution_count": 3,
   "metadata": {},
   "outputs": [],
   "source": [
    "#pip install app_store_scrape\n",
    "from app_store_scraper import app_store"
   ]
  },
  {
   "cell_type": "code",
   "execution_count": 4,
   "metadata": {},
   "outputs": [
    {
     "name": "stderr",
     "output_type": "stream",
     "text": [
      "2022-08-18 14:23:39,021 [INFO] Base - Searching for app id\n",
      "2022-08-18 14:23:42,070 [INFO] Base - Initialised: AppStore('in', 'kotak-811-mobile-banking', 622363400)\n",
      "2022-08-18 14:23:42,077 [INFO] Base - Ready to fetch reviews from: https://apps.apple.com/in/app/kotak-811-mobile-banking/id622363400\n",
      "2022-08-18 14:23:42,793 [INFO] Base - [id:622363400] Fetched 20 reviews (20 fetched in total)\n"
     ]
    }
   ],
   "source": [
    "minecraft = app_store.AppStore(country=\"IN\", app_name=\"Kotak - 811 & Mobile Banking\")\n",
    "minecraft.review(how_many=20)"
   ]
  },
  {
   "cell_type": "code",
   "execution_count": 5,
   "metadata": {},
   "outputs": [
    {
     "name": "stderr",
     "output_type": "stream",
     "text": [
      "2022-08-18 14:23:53,747 [INFO] Base - [id:622363400] Fetched 160 reviews (180 fetched in total)\n",
      "2022-08-18 14:23:59,684 [INFO] Base - [id:622363400] Fetched 340 reviews (360 fetched in total)\n",
      "2022-08-18 14:24:05,528 [INFO] Base - [id:622363400] Fetched 520 reviews (540 fetched in total)\n",
      "2022-08-18 14:24:11,598 [INFO] Base - [id:622363400] Fetched 680 reviews (700 fetched in total)\n",
      "2022-08-18 14:24:17,814 [INFO] Base - [id:622363400] Fetched 860 reviews (880 fetched in total)\n",
      "2022-08-18 14:24:23,134 [INFO] Base - [id:622363400] Fetched 1000 reviews (1020 fetched in total)\n"
     ]
    },
    {
     "name": "stdout",
     "output_type": "stream",
     "text": [
      "None\n"
     ]
    }
   ],
   "source": [
    "from pprint import pprint\n",
    "pprint(minecraft.review(how_many=1000))"
   ]
  },
  {
   "cell_type": "code",
   "execution_count": 7,
   "metadata": {},
   "outputs": [
    {
     "name": "stderr",
     "output_type": "stream",
     "text": [
      "2022-08-18 14:26:37,300 [INFO] numexpr.utils - Note: NumExpr detected 12 cores but \"NUMEXPR_MAX_THREADS\" not set, so enforcing safe limit of 8.\n",
      "2022-08-18 14:26:37,302 [INFO] numexpr.utils - NumExpr defaulting to 8 threads.\n"
     ]
    },
    {
     "data": {
      "text/plain": [
       "3.820588235294118"
      ]
     },
     "execution_count": 7,
     "metadata": {},
     "output_type": "execute_result"
    }
   ],
   "source": [
    "import pandas as pd\n",
    "pd.json_normalize(minecraft.reviews).rating.mean()"
   ]
  },
  {
   "cell_type": "code",
   "execution_count": 15,
   "metadata": {},
   "outputs": [
    {
     "name": "stderr",
     "output_type": "stream",
     "text": [
      "2022-08-18 14:28:49,689 [INFO] Base - Searching for app id\n"
     ]
    },
    {
     "ename": "AttributeError",
     "evalue": "'NoneType' object has no attribute 'group'",
     "output_type": "error",
     "traceback": [
      "\u001b[1;31m---------------------------------------------------------------------------\u001b[0m",
      "\u001b[1;31mAttributeError\u001b[0m                            Traceback (most recent call last)",
      "\u001b[1;32m<ipython-input-15-b6e7c3911057>\u001b[0m in \u001b[0;36m<module>\u001b[1;34m\u001b[0m\n\u001b[1;32m----> 1\u001b[1;33m \u001b[0mapp_store\u001b[0m\u001b[1;33m.\u001b[0m\u001b[0mBase\u001b[0m\u001b[1;33m(\u001b[0m\u001b[0mcountry\u001b[0m\u001b[1;33m=\u001b[0m\u001b[1;34m\"IN\"\u001b[0m\u001b[1;33m,\u001b[0m \u001b[0mapp_name\u001b[0m\u001b[1;33m=\u001b[0m\u001b[1;34m\"Kotak - 811 & Mobile Banking\"\u001b[0m\u001b[1;33m)\u001b[0m\u001b[1;33m\u001b[0m\u001b[1;33m\u001b[0m\u001b[0m\n\u001b[0m",
      "\u001b[1;32m~\\anaconda3\\lib\\site-packages\\app_store_scraper\\base.py\u001b[0m in \u001b[0;36m__init__\u001b[1;34m(self, country, app_name, app_id, log_format, log_level, log_interval)\u001b[0m\n\u001b[0;32m     45\u001b[0m         \u001b[1;32mif\u001b[0m \u001b[0mapp_id\u001b[0m \u001b[1;32mis\u001b[0m \u001b[1;32mNone\u001b[0m\u001b[1;33m:\u001b[0m\u001b[1;33m\u001b[0m\u001b[1;33m\u001b[0m\u001b[0m\n\u001b[0;32m     46\u001b[0m             \u001b[0mlogger\u001b[0m\u001b[1;33m.\u001b[0m\u001b[0minfo\u001b[0m\u001b[1;33m(\u001b[0m\u001b[1;34m\"Searching for app id\"\u001b[0m\u001b[1;33m)\u001b[0m\u001b[1;33m\u001b[0m\u001b[1;33m\u001b[0m\u001b[0m\n\u001b[1;32m---> 47\u001b[1;33m             \u001b[0mapp_id\u001b[0m \u001b[1;33m=\u001b[0m \u001b[0mself\u001b[0m\u001b[1;33m.\u001b[0m\u001b[0msearch_id\u001b[0m\u001b[1;33m(\u001b[0m\u001b[1;33m)\u001b[0m\u001b[1;33m\u001b[0m\u001b[1;33m\u001b[0m\u001b[0m\n\u001b[0m\u001b[0;32m     48\u001b[0m         \u001b[0mself\u001b[0m\u001b[1;33m.\u001b[0m\u001b[0mapp_id\u001b[0m \u001b[1;33m=\u001b[0m \u001b[0mint\u001b[0m\u001b[1;33m(\u001b[0m\u001b[0mapp_id\u001b[0m\u001b[1;33m)\u001b[0m\u001b[1;33m\u001b[0m\u001b[1;33m\u001b[0m\u001b[0m\n\u001b[0;32m     49\u001b[0m \u001b[1;33m\u001b[0m\u001b[0m\n",
      "\u001b[1;32m~\\anaconda3\\lib\\site-packages\\app_store_scraper\\base.py\u001b[0m in \u001b[0;36msearch_id\u001b[1;34m(self)\u001b[0m\n\u001b[0;32m    173\u001b[0m         \u001b[0mself\u001b[0m\u001b[1;33m.\u001b[0m\u001b[0m_get\u001b[0m\u001b[1;33m(\u001b[0m\u001b[0msearch_url\u001b[0m\u001b[1;33m,\u001b[0m \u001b[0mparams\u001b[0m\u001b[1;33m=\u001b[0m\u001b[1;33m{\u001b[0m\u001b[1;34m\"q\"\u001b[0m\u001b[1;33m:\u001b[0m \u001b[1;34mf\"app store {self.app_name}\"\u001b[0m\u001b[1;33m}\u001b[0m\u001b[1;33m)\u001b[0m\u001b[1;33m\u001b[0m\u001b[1;33m\u001b[0m\u001b[0m\n\u001b[0;32m    174\u001b[0m         \u001b[0mpattern\u001b[0m \u001b[1;33m=\u001b[0m \u001b[1;34mfr\"{self._base_landing_url}/[a-z]{{2}}/.+?/id([0-9]+)\"\u001b[0m\u001b[1;33m\u001b[0m\u001b[1;33m\u001b[0m\u001b[0m\n\u001b[1;32m--> 175\u001b[1;33m         \u001b[0mapp_id\u001b[0m \u001b[1;33m=\u001b[0m \u001b[0mre\u001b[0m\u001b[1;33m.\u001b[0m\u001b[0msearch\u001b[0m\u001b[1;33m(\u001b[0m\u001b[0mpattern\u001b[0m\u001b[1;33m,\u001b[0m \u001b[0mself\u001b[0m\u001b[1;33m.\u001b[0m\u001b[0m_response\u001b[0m\u001b[1;33m.\u001b[0m\u001b[0mtext\u001b[0m\u001b[1;33m)\u001b[0m\u001b[1;33m.\u001b[0m\u001b[0mgroup\u001b[0m\u001b[1;33m(\u001b[0m\u001b[1;36m1\u001b[0m\u001b[1;33m)\u001b[0m\u001b[1;33m\u001b[0m\u001b[1;33m\u001b[0m\u001b[0m\n\u001b[0m\u001b[0;32m    176\u001b[0m         \u001b[1;32mreturn\u001b[0m \u001b[0mapp_id\u001b[0m\u001b[1;33m\u001b[0m\u001b[1;33m\u001b[0m\u001b[0m\n\u001b[0;32m    177\u001b[0m \u001b[1;33m\u001b[0m\u001b[0m\n",
      "\u001b[1;31mAttributeError\u001b[0m: 'NoneType' object has no attribute 'group'"
     ]
    }
   ],
   "source": [
    "app_store.Base(country=\"IN\", app_name=\"Kotak - 811 & Mobile Banking\")"
   ]
  },
  {
   "cell_type": "code",
   "execution_count": 1,
   "metadata": {},
   "outputs": [
    {
     "name": "stdout",
     "output_type": "stream",
     "text": [
      "Collecting package metadata (current_repodata.json): ...working... done\n",
      "Solving environment: ...working... failed with initial frozen solve. Retrying with flexible solve.\n",
      "Collecting package metadata (repodata.json): ...working... done\n",
      "Solving environment: ...working... \n",
      "Warning: 4 possible package resolutions (only showing differing packages):\n",
      "  - anaconda/win-64::ca-certificates-2020.10.14-0, anaconda/win-64::openssl-1.1.1h-he774522_0\n",
      "  - anaconda/win-64::openssl-1.1.1h-he774522_0, defaults/win-64::ca-certificates-2020.10.14-0\n",
      "  - anaconda/win-64::ca-certificates-2020.10.14-0, defaults/win-64::openssl-1.1.1h-he774522_0\n",
      "  - defaults/win-64::ca-certificates-2020.10.14-0, defaults/win-64::openssl-1.1.1h-he774522_0done\n",
      "\n",
      "## Package Plan ##\n",
      "\n",
      "  environment location: C:\\Users\\91882\\anaconda3\n",
      "\n",
      "  added / updated specs:\n",
      "    - pytorch==1.6.0\n",
      "\n",
      "\n",
      "The following packages will be downloaded:\n",
      "\n",
      "    package                    |            build\n",
      "    ---------------------------|-----------------\n",
      "    conda-4.12.0               |   py38haa95532_0        14.5 MB\n",
      "    cudatoolkit-10.2.89        |       h74a9793_1       317.2 MB\n",
      "    ninja-1.10.2               |       haa95532_5          14 KB\n",
      "    ninja-base-1.10.2          |       h6d14046_5         255 KB\n",
      "    pytorch-1.6.0              |py3.8_cuda102_cudnn7_0       704.7 MB  pytorch\n",
      "    ------------------------------------------------------------\n",
      "                                           Total:        1.01 GB\n",
      "\n",
      "The following NEW packages will be INSTALLED:\n",
      "\n",
      "  cudatoolkit        pkgs/main/win-64::cudatoolkit-10.2.89-h74a9793_1\n",
      "  ninja              pkgs/main/win-64::ninja-1.10.2-haa95532_5\n",
      "  ninja-base         pkgs/main/win-64::ninja-base-1.10.2-h6d14046_5\n",
      "  pytorch            pytorch/win-64::pytorch-1.6.0-py3.8_cuda102_cudnn7_0\n",
      "\n",
      "The following packages will be UPDATED:\n",
      "\n",
      "  conda                               4.10.3-py38haa95532_0 --> 4.12.0-py38haa95532_0\n",
      "\n",
      "\n",
      "Preparing transaction: ...working... done\n",
      "Verifying transaction: ...working... done\n",
      "Executing transaction: ...working... done\n"
     ]
    }
   ],
   "source": [
    "!conda install -q -y pytorch==1.6.0 -c pytorch"
   ]
  },
  {
   "cell_type": "code",
   "execution_count": 10,
   "metadata": {},
   "outputs": [
    {
     "data": {
      "text/html": [
       "<div>\n",
       "<style scoped>\n",
       "    .dataframe tbody tr th:only-of-type {\n",
       "        vertical-align: middle;\n",
       "    }\n",
       "\n",
       "    .dataframe tbody tr th {\n",
       "        vertical-align: top;\n",
       "    }\n",
       "\n",
       "    .dataframe thead th {\n",
       "        text-align: right;\n",
       "    }\n",
       "</style>\n",
       "<table border=\"1\" class=\"dataframe\">\n",
       "  <thead>\n",
       "    <tr style=\"text-align: right;\">\n",
       "      <th></th>\n",
       "      <th>userName</th>\n",
       "      <th>isEdited</th>\n",
       "      <th>review</th>\n",
       "      <th>title</th>\n",
       "      <th>rating</th>\n",
       "      <th>date</th>\n",
       "      <th>developerResponse.id</th>\n",
       "      <th>developerResponse.body</th>\n",
       "      <th>developerResponse.modified</th>\n",
       "    </tr>\n",
       "  </thead>\n",
       "  <tbody>\n",
       "    <tr>\n",
       "      <th>0</th>\n",
       "      <td>Puni961</td>\n",
       "      <td>False</td>\n",
       "      <td>Since started my experience with Kotak I have ...</td>\n",
       "      <td>Service</td>\n",
       "      <td>5</td>\n",
       "      <td>2019-01-02 10:45:18</td>\n",
       "      <td>NaN</td>\n",
       "      <td>NaN</td>\n",
       "      <td>NaN</td>\n",
       "    </tr>\n",
       "    <tr>\n",
       "      <th>1</th>\n",
       "      <td>aar.asad</td>\n",
       "      <td>False</td>\n",
       "      <td>Thank you , at least I got an option to write ...</td>\n",
       "      <td>Worst service, worst rules , scam bank. They w...</td>\n",
       "      <td>1</td>\n",
       "      <td>2021-03-25 11:02:24</td>\n",
       "      <td>NaN</td>\n",
       "      <td>NaN</td>\n",
       "      <td>NaN</td>\n",
       "    </tr>\n",
       "    <tr>\n",
       "      <th>2</th>\n",
       "      <td>Singhprabhu</td>\n",
       "      <td>False</td>\n",
       "      <td>I had booked my flight tickets from kotak debi...</td>\n",
       "      <td>Holding back customers’ refund amount</td>\n",
       "      <td>1</td>\n",
       "      <td>2020-12-16 10:55:31</td>\n",
       "      <td>NaN</td>\n",
       "      <td>NaN</td>\n",
       "      <td>NaN</td>\n",
       "    </tr>\n",
       "    <tr>\n",
       "      <th>3</th>\n",
       "      <td>s.yoel</td>\n",
       "      <td>False</td>\n",
       "      <td>Most of the time the server is low any request...</td>\n",
       "      <td>Worst app for transaction</td>\n",
       "      <td>2</td>\n",
       "      <td>2019-08-18 07:56:45</td>\n",
       "      <td>NaN</td>\n",
       "      <td>NaN</td>\n",
       "      <td>NaN</td>\n",
       "    </tr>\n",
       "    <tr>\n",
       "      <th>4</th>\n",
       "      <td>sachin2883</td>\n",
       "      <td>False</td>\n",
       "      <td>First time I face this type of bad experience ...</td>\n",
       "      <td>I am using Kotak from 3 years</td>\n",
       "      <td>1</td>\n",
       "      <td>2022-03-05 20:55:43</td>\n",
       "      <td>NaN</td>\n",
       "      <td>NaN</td>\n",
       "      <td>NaN</td>\n",
       "    </tr>\n",
       "    <tr>\n",
       "      <th>...</th>\n",
       "      <td>...</td>\n",
       "      <td>...</td>\n",
       "      <td>...</td>\n",
       "      <td>...</td>\n",
       "      <td>...</td>\n",
       "      <td>...</td>\n",
       "      <td>...</td>\n",
       "      <td>...</td>\n",
       "      <td>...</td>\n",
       "    </tr>\n",
       "    <tr>\n",
       "      <th>1015</th>\n",
       "      <td>Grafix Guru</td>\n",
       "      <td>False</td>\n",
       "      <td>Kotak mobile banking app is excellent compared...</td>\n",
       "      <td>Excellent app for the current trend</td>\n",
       "      <td>5</td>\n",
       "      <td>2021-02-10 06:55:05</td>\n",
       "      <td>NaN</td>\n",
       "      <td>NaN</td>\n",
       "      <td>NaN</td>\n",
       "    </tr>\n",
       "    <tr>\n",
       "      <th>1016</th>\n",
       "      <td>Hareesh Indupuru</td>\n",
       "      <td>False</td>\n",
       "      <td>Hi,\\nOnce I click in Kotak net banking mobile ...</td>\n",
       "      <td>Not opens Mobile app  in IPhone</td>\n",
       "      <td>4</td>\n",
       "      <td>2021-03-29 10:15:44</td>\n",
       "      <td>NaN</td>\n",
       "      <td>NaN</td>\n",
       "      <td>NaN</td>\n",
       "    </tr>\n",
       "    <tr>\n",
       "      <th>1017</th>\n",
       "      <td>steevan ratra</td>\n",
       "      <td>False</td>\n",
       "      <td>Hello App is not opening on ios when we connec...</td>\n",
       "      <td>App is not working on wifi</td>\n",
       "      <td>1</td>\n",
       "      <td>2021-03-17 13:44:01</td>\n",
       "      <td>NaN</td>\n",
       "      <td>NaN</td>\n",
       "      <td>NaN</td>\n",
       "    </tr>\n",
       "    <tr>\n",
       "      <th>1018</th>\n",
       "      <td>golkonda praveen</td>\n",
       "      <td>False</td>\n",
       "      <td>Loved the app best user friendly app 👏</td>\n",
       "      <td>Best user friendly app add DD requests and som...</td>\n",
       "      <td>5</td>\n",
       "      <td>2021-01-02 06:58:20</td>\n",
       "      <td>NaN</td>\n",
       "      <td>NaN</td>\n",
       "      <td>NaN</td>\n",
       "    </tr>\n",
       "    <tr>\n",
       "      <th>1019</th>\n",
       "      <td>SS Vasan</td>\n",
       "      <td>False</td>\n",
       "      <td>User friendly Top speed</td>\n",
       "      <td>Easy usage</td>\n",
       "      <td>5</td>\n",
       "      <td>2020-12-15 10:45:10</td>\n",
       "      <td>NaN</td>\n",
       "      <td>NaN</td>\n",
       "      <td>NaN</td>\n",
       "    </tr>\n",
       "  </tbody>\n",
       "</table>\n",
       "<p>1020 rows × 9 columns</p>\n",
       "</div>"
      ],
      "text/plain": [
       "              userName  isEdited  \\\n",
       "0              Puni961     False   \n",
       "1             aar.asad     False   \n",
       "2          Singhprabhu     False   \n",
       "3               s.yoel     False   \n",
       "4           sachin2883     False   \n",
       "...                ...       ...   \n",
       "1015       Grafix Guru     False   \n",
       "1016  Hareesh Indupuru     False   \n",
       "1017     steevan ratra     False   \n",
       "1018  golkonda praveen     False   \n",
       "1019          SS Vasan     False   \n",
       "\n",
       "                                                 review  \\\n",
       "0     Since started my experience with Kotak I have ...   \n",
       "1     Thank you , at least I got an option to write ...   \n",
       "2     I had booked my flight tickets from kotak debi...   \n",
       "3     Most of the time the server is low any request...   \n",
       "4     First time I face this type of bad experience ...   \n",
       "...                                                 ...   \n",
       "1015  Kotak mobile banking app is excellent compared...   \n",
       "1016  Hi,\\nOnce I click in Kotak net banking mobile ...   \n",
       "1017  Hello App is not opening on ios when we connec...   \n",
       "1018             Loved the app best user friendly app 👏   \n",
       "1019                            User friendly Top speed   \n",
       "\n",
       "                                                  title  rating  \\\n",
       "0                                               Service       5   \n",
       "1     Worst service, worst rules , scam bank. They w...       1   \n",
       "2                 Holding back customers’ refund amount       1   \n",
       "3                             Worst app for transaction       2   \n",
       "4                         I am using Kotak from 3 years       1   \n",
       "...                                                 ...     ...   \n",
       "1015                Excellent app for the current trend       5   \n",
       "1016                    Not opens Mobile app  in IPhone       4   \n",
       "1017                         App is not working on wifi       1   \n",
       "1018  Best user friendly app add DD requests and som...       5   \n",
       "1019                                         Easy usage       5   \n",
       "\n",
       "                    date  developerResponse.id developerResponse.body  \\\n",
       "0    2019-01-02 10:45:18                   NaN                    NaN   \n",
       "1    2021-03-25 11:02:24                   NaN                    NaN   \n",
       "2    2020-12-16 10:55:31                   NaN                    NaN   \n",
       "3    2019-08-18 07:56:45                   NaN                    NaN   \n",
       "4    2022-03-05 20:55:43                   NaN                    NaN   \n",
       "...                  ...                   ...                    ...   \n",
       "1015 2021-02-10 06:55:05                   NaN                    NaN   \n",
       "1016 2021-03-29 10:15:44                   NaN                    NaN   \n",
       "1017 2021-03-17 13:44:01                   NaN                    NaN   \n",
       "1018 2021-01-02 06:58:20                   NaN                    NaN   \n",
       "1019 2020-12-15 10:45:10                   NaN                    NaN   \n",
       "\n",
       "     developerResponse.modified  \n",
       "0                           NaN  \n",
       "1                           NaN  \n",
       "2                           NaN  \n",
       "3                           NaN  \n",
       "4                           NaN  \n",
       "...                         ...  \n",
       "1015                        NaN  \n",
       "1016                        NaN  \n",
       "1017                        NaN  \n",
       "1018                        NaN  \n",
       "1019                        NaN  \n",
       "\n",
       "[1020 rows x 9 columns]"
      ]
     },
     "execution_count": 10,
     "metadata": {},
     "output_type": "execute_result"
    }
   ],
   "source": [
    "pd.json_normalize(minecraft.reviews)"
   ]
  },
  {
   "cell_type": "code",
   "execution_count": 93,
   "metadata": {},
   "outputs": [
    {
     "name": "stdout",
     "output_type": "stream",
     "text": [
      "Category: TVs\n",
      "Page number within category: 0\n"
     ]
    },
    {
     "name": "stderr",
     "output_type": "stream",
     "text": [
      "<ipython-input-93-38ad521a5503>:33: DeprecationWarning: executable_path has been deprecated, please pass in a Service object\n",
      "  driver= webdriver.Chrome(executable_path='C:/Drivers/chromedriver.exe')\n"
     ]
    },
    {
     "ename": "WebDriverException",
     "evalue": "Message: 'chromedriver.exe' executable needs to be in PATH. Please see https://chromedriver.chromium.org/home\n",
     "output_type": "error",
     "traceback": [
      "\u001b[1;31m---------------------------------------------------------------------------\u001b[0m",
      "\u001b[1;31mFileNotFoundError\u001b[0m                         Traceback (most recent call last)",
      "\u001b[1;32m~\\anaconda3\\lib\\site-packages\\selenium\\webdriver\\common\\service.py\u001b[0m in \u001b[0;36mstart\u001b[1;34m(self)\u001b[0m\n\u001b[0;32m     70\u001b[0m             \u001b[0mcmd\u001b[0m\u001b[1;33m.\u001b[0m\u001b[0mextend\u001b[0m\u001b[1;33m(\u001b[0m\u001b[0mself\u001b[0m\u001b[1;33m.\u001b[0m\u001b[0mcommand_line_args\u001b[0m\u001b[1;33m(\u001b[0m\u001b[1;33m)\u001b[0m\u001b[1;33m)\u001b[0m\u001b[1;33m\u001b[0m\u001b[1;33m\u001b[0m\u001b[0m\n\u001b[1;32m---> 71\u001b[1;33m             self.process = subprocess.Popen(cmd, env=self.env,\n\u001b[0m\u001b[0;32m     72\u001b[0m                                             \u001b[0mclose_fds\u001b[0m\u001b[1;33m=\u001b[0m\u001b[0msystem\u001b[0m\u001b[1;33m(\u001b[0m\u001b[1;33m)\u001b[0m \u001b[1;33m!=\u001b[0m \u001b[1;34m'Windows'\u001b[0m\u001b[1;33m,\u001b[0m\u001b[1;33m\u001b[0m\u001b[1;33m\u001b[0m\u001b[0m\n",
      "\u001b[1;32m~\\anaconda3\\lib\\subprocess.py\u001b[0m in \u001b[0;36m__init__\u001b[1;34m(self, args, bufsize, executable, stdin, stdout, stderr, preexec_fn, close_fds, shell, cwd, env, universal_newlines, startupinfo, creationflags, restore_signals, start_new_session, pass_fds, encoding, errors, text)\u001b[0m\n\u001b[0;32m    853\u001b[0m \u001b[1;33m\u001b[0m\u001b[0m\n\u001b[1;32m--> 854\u001b[1;33m             self._execute_child(args, executable, preexec_fn, close_fds,\n\u001b[0m\u001b[0;32m    855\u001b[0m                                 \u001b[0mpass_fds\u001b[0m\u001b[1;33m,\u001b[0m \u001b[0mcwd\u001b[0m\u001b[1;33m,\u001b[0m \u001b[0menv\u001b[0m\u001b[1;33m,\u001b[0m\u001b[1;33m\u001b[0m\u001b[1;33m\u001b[0m\u001b[0m\n",
      "\u001b[1;32m~\\anaconda3\\lib\\subprocess.py\u001b[0m in \u001b[0;36m_execute_child\u001b[1;34m(self, args, executable, preexec_fn, close_fds, pass_fds, cwd, env, startupinfo, creationflags, shell, p2cread, p2cwrite, c2pread, c2pwrite, errread, errwrite, unused_restore_signals, unused_start_new_session)\u001b[0m\n\u001b[0;32m   1306\u001b[0m             \u001b[1;32mtry\u001b[0m\u001b[1;33m:\u001b[0m\u001b[1;33m\u001b[0m\u001b[1;33m\u001b[0m\u001b[0m\n\u001b[1;32m-> 1307\u001b[1;33m                 hp, ht, pid, tid = _winapi.CreateProcess(executable, args,\n\u001b[0m\u001b[0;32m   1308\u001b[0m                                          \u001b[1;31m# no special security\u001b[0m\u001b[1;33m\u001b[0m\u001b[1;33m\u001b[0m\u001b[1;33m\u001b[0m\u001b[0m\n",
      "\u001b[1;31mFileNotFoundError\u001b[0m: [WinError 2] The system cannot find the file specified",
      "\nDuring handling of the above exception, another exception occurred:\n",
      "\u001b[1;31mWebDriverException\u001b[0m                        Traceback (most recent call last)",
      "\u001b[1;32m<ipython-input-93-38ad521a5503>\u001b[0m in \u001b[0;36m<module>\u001b[1;34m\u001b[0m\n\u001b[0;32m     31\u001b[0m         \u001b[0mprint\u001b[0m\u001b[1;33m(\u001b[0m\u001b[1;34m\"Page number within category:\"\u001b[0m\u001b[1;33m,\u001b[0m\u001b[0mi_1\u001b[0m\u001b[1;33m)\u001b[0m\u001b[1;33m\u001b[0m\u001b[1;33m\u001b[0m\u001b[0m\n\u001b[0;32m     32\u001b[0m         \u001b[0murl_cat\u001b[0m\u001b[1;33m=\u001b[0m\u001b[0murl_category\u001b[0m\u001b[1;33m+\u001b[0m\u001b[1;34m\"?page=\"\u001b[0m\u001b[1;33m+\u001b[0m\u001b[0mtop_n\u001b[0m\u001b[1;33m[\u001b[0m\u001b[0mi_1\u001b[0m\u001b[1;33m]\u001b[0m\u001b[1;33m\u001b[0m\u001b[1;33m\u001b[0m\u001b[0m\n\u001b[1;32m---> 33\u001b[1;33m         \u001b[0mdriver\u001b[0m\u001b[1;33m=\u001b[0m \u001b[0mwebdriver\u001b[0m\u001b[1;33m.\u001b[0m\u001b[0mChrome\u001b[0m\u001b[1;33m(\u001b[0m\u001b[0mexecutable_path\u001b[0m\u001b[1;33m=\u001b[0m\u001b[1;34m'C:/Drivers/chromedriver.exe'\u001b[0m\u001b[1;33m)\u001b[0m\u001b[1;33m\u001b[0m\u001b[1;33m\u001b[0m\u001b[0m\n\u001b[0m\u001b[0;32m     34\u001b[0m         \u001b[0mdriver\u001b[0m\u001b[1;33m.\u001b[0m\u001b[0mget\u001b[0m\u001b[1;33m(\u001b[0m\u001b[0murl_cat\u001b[0m\u001b[1;33m)\u001b[0m\u001b[1;33m\u001b[0m\u001b[1;33m\u001b[0m\u001b[0m\n\u001b[0;32m     35\u001b[0m         \u001b[0mbody_cat\u001b[0m \u001b[1;33m=\u001b[0m \u001b[0mdriver\u001b[0m\u001b[1;33m.\u001b[0m\u001b[0mfind_element_by_tag_name\u001b[0m\u001b[1;33m(\u001b[0m\u001b[1;34m\"body\"\u001b[0m\u001b[1;33m)\u001b[0m\u001b[1;33m.\u001b[0m\u001b[0mget_attribute\u001b[0m\u001b[1;33m(\u001b[0m\u001b[1;34m\"innerHTML\"\u001b[0m\u001b[1;33m)\u001b[0m\u001b[1;33m\u001b[0m\u001b[1;33m\u001b[0m\u001b[0m\n",
      "\u001b[1;32m~\\anaconda3\\lib\\site-packages\\selenium\\webdriver\\chrome\\webdriver.py\u001b[0m in \u001b[0;36m__init__\u001b[1;34m(self, executable_path, port, options, service_args, desired_capabilities, service_log_path, chrome_options, service, keep_alive)\u001b[0m\n\u001b[0;32m     67\u001b[0m             \u001b[0mservice\u001b[0m \u001b[1;33m=\u001b[0m \u001b[0mService\u001b[0m\u001b[1;33m(\u001b[0m\u001b[0mexecutable_path\u001b[0m\u001b[1;33m,\u001b[0m \u001b[0mport\u001b[0m\u001b[1;33m,\u001b[0m \u001b[0mservice_args\u001b[0m\u001b[1;33m,\u001b[0m \u001b[0mservice_log_path\u001b[0m\u001b[1;33m)\u001b[0m\u001b[1;33m\u001b[0m\u001b[1;33m\u001b[0m\u001b[0m\n\u001b[0;32m     68\u001b[0m \u001b[1;33m\u001b[0m\u001b[0m\n\u001b[1;32m---> 69\u001b[1;33m         super().__init__(DesiredCapabilities.CHROME['browserName'], \"goog\",\n\u001b[0m\u001b[0;32m     70\u001b[0m                          \u001b[0mport\u001b[0m\u001b[1;33m,\u001b[0m \u001b[0moptions\u001b[0m\u001b[1;33m,\u001b[0m\u001b[1;33m\u001b[0m\u001b[1;33m\u001b[0m\u001b[0m\n\u001b[0;32m     71\u001b[0m                          \u001b[0mservice_args\u001b[0m\u001b[1;33m,\u001b[0m \u001b[0mdesired_capabilities\u001b[0m\u001b[1;33m,\u001b[0m\u001b[1;33m\u001b[0m\u001b[1;33m\u001b[0m\u001b[0m\n",
      "\u001b[1;32m~\\anaconda3\\lib\\site-packages\\selenium\\webdriver\\chromium\\webdriver.py\u001b[0m in \u001b[0;36m__init__\u001b[1;34m(self, browser_name, vendor_prefix, port, options, service_args, desired_capabilities, service_log_path, service, keep_alive)\u001b[0m\n\u001b[0;32m     87\u001b[0m \u001b[1;33m\u001b[0m\u001b[0m\n\u001b[0;32m     88\u001b[0m         \u001b[0mself\u001b[0m\u001b[1;33m.\u001b[0m\u001b[0mservice\u001b[0m \u001b[1;33m=\u001b[0m \u001b[0mservice\u001b[0m\u001b[1;33m\u001b[0m\u001b[1;33m\u001b[0m\u001b[0m\n\u001b[1;32m---> 89\u001b[1;33m         \u001b[0mself\u001b[0m\u001b[1;33m.\u001b[0m\u001b[0mservice\u001b[0m\u001b[1;33m.\u001b[0m\u001b[0mstart\u001b[0m\u001b[1;33m(\u001b[0m\u001b[1;33m)\u001b[0m\u001b[1;33m\u001b[0m\u001b[1;33m\u001b[0m\u001b[0m\n\u001b[0m\u001b[0;32m     90\u001b[0m \u001b[1;33m\u001b[0m\u001b[0m\n\u001b[0;32m     91\u001b[0m         \u001b[1;32mtry\u001b[0m\u001b[1;33m:\u001b[0m\u001b[1;33m\u001b[0m\u001b[1;33m\u001b[0m\u001b[0m\n",
      "\u001b[1;32m~\\anaconda3\\lib\\site-packages\\selenium\\webdriver\\common\\service.py\u001b[0m in \u001b[0;36mstart\u001b[1;34m(self)\u001b[0m\n\u001b[0;32m     79\u001b[0m         \u001b[1;32mexcept\u001b[0m \u001b[0mOSError\u001b[0m \u001b[1;32mas\u001b[0m \u001b[0merr\u001b[0m\u001b[1;33m:\u001b[0m\u001b[1;33m\u001b[0m\u001b[1;33m\u001b[0m\u001b[0m\n\u001b[0;32m     80\u001b[0m             \u001b[1;32mif\u001b[0m \u001b[0merr\u001b[0m\u001b[1;33m.\u001b[0m\u001b[0merrno\u001b[0m \u001b[1;33m==\u001b[0m \u001b[0merrno\u001b[0m\u001b[1;33m.\u001b[0m\u001b[0mENOENT\u001b[0m\u001b[1;33m:\u001b[0m\u001b[1;33m\u001b[0m\u001b[1;33m\u001b[0m\u001b[0m\n\u001b[1;32m---> 81\u001b[1;33m                 raise WebDriverException(\n\u001b[0m\u001b[0;32m     82\u001b[0m                     \"'{}' executable needs to be in PATH. {}\".format(\n\u001b[0;32m     83\u001b[0m                         os.path.basename(self.path), self.start_error_message)\n",
      "\u001b[1;31mWebDriverException\u001b[0m: Message: 'chromedriver.exe' executable needs to be in PATH. Please see https://chromedriver.chromium.org/home\n"
     ]
    }
   ],
   "source": [
    "import os\n",
    "import selenium.webdriver\n",
    "import csv\n",
    "import time\n",
    "import pandas as pd\n",
    "from selenium import webdriver\n",
    "from bs4 import BeautifulSoup\n",
    "\n",
    "url_sets=[\"https://www.walmart.com/browse/tv-video/all-tvs/3944_1060825_447913\",\n",
    "    \"https://www.walmart.com/browse/computers/desktop-computers/3944_3951_132982\",\n",
    "         \"https://www.walmart.com/browse/electronics/all-laptop-computers/3944_3951_1089430_132960\",\n",
    "         \"https://www.walmart.com/browse/prepaid-phones/1105910_4527935_1072335\",\n",
    "         \"https://www.walmart.com/browse/electronics/portable-audio/3944_96469\",\n",
    "         \"https://www.walmart.com/browse/electronics/gps-navigation/3944_538883/\",\n",
    "         \"https://www.walmart.com/browse/electronics/sound-bars/3944_77622_8375901_1230415_1107398\",\n",
    "         \"https://www.walmart.com/browse/electronics/digital-slr-cameras/3944_133277_1096663\",\n",
    "         \"https://www.walmart.com/browse/electronics/ipad-tablets/3944_1078524\"]\n",
    "\n",
    "categories=[\"TVs\",\"Desktops\",\"Laptops\",\"Prepaid_phones\",\"Audio\",\"GPS\",\"soundbars\",\"cameras\",\"tablets\"]\n",
    "\n",
    "\n",
    "# scraper\n",
    "for pg in range(len(url_sets)):\n",
    "    # number of pages per category\n",
    "    top_n= [\"1\",\"2\",\"3\",\"4\",\"5\",\"6\",\"7\",\"8\",\"9\",\"10\"]\n",
    "    # extract page number within sub-category\n",
    "    url_category=url_sets[pg]\n",
    "    print(\"Category:\",categories[pg])\n",
    "    final_results = []\n",
    "    for i_1 in range(len(top_n)):\n",
    "        print(\"Page number within category:\",i_1)\n",
    "        url_cat=url_category+\"?page=\"+top_n[i_1]\n",
    "        driver= webdriver.Chrome(executable_path='C:/Drivers/chromedriver.exe')\n",
    "        driver.get(url_cat)\n",
    "        body_cat = driver.find_element_by_tag_name(\"body\").get_attribute(\"innerHTML\")\n",
    "        driver.quit()\n",
    "        soupBody_cat = BeautifulSoup(body_cat)\n",
    " \n",
    " \n",
    "        for tmp in soupBody_cat.find_all('div', {'class':'search-result-gridview-item-wrapper'}):\n",
    "            final_results.append(tmp['data-id'])\n",
    "            \n",
    "    # save final set of results as a list        \n",
    "    codelist=list(set(final_results))\n",
    "    print(\"Total number of prods:\",len(codelist))\n",
    "    # base URL for product page\n",
    "    url1= \"https://walmart.com/ip\"\n",
    "\n",
    "\n",
    "    # Data Headers\n",
    "    WLMTData = [[\"Product_code\",\"Product_name\",\"Product_description\",\"Product_URL\",\n",
    "   \"Breadcrumb_parent\",\"Breadcrumb_active\",\"Product_price\",         \n",
    "   \"Rating_Value\",\"Rating_Count\",\"Recommended_Prods\"]]\n",
    " \n",
    "    for i in range(len(codelist)):\n",
    "        #creating a list without the place taken in the first loop\n",
    "        print(i)\n",
    "        item_wlmt=codelist[i]\n",
    "        url2=url1+\"/\"+item_wlmt\n",
    "        #print(url2)\n",
    "\n",
    "\n",
    "        try:\n",
    "            driver= webdriver.Chrome(executable_path='C:/Drivers/chromedriver.exe') # Chrome driver is being used.\n",
    "            print (\"Requesting URL: \" + url2)\n",
    "\n",
    "\n",
    "            driver.get(url2)   # URL requested in browser.\n",
    "            print (\"Webpage found ...\")\n",
    "            time.sleep(3)\n",
    "            # Find the document body and get its inner HTML for processing in BeautifulSoup parser.\n",
    "            body = driver.find_element_by_tag_name(\"body\").get_attribute(\"innerHTML\")\n",
    "            print(\"Closing Chrome ...\") # No more usage needed.\n",
    "            driver.quit()     # Browser Closed.\n",
    "\n",
    "\n",
    "            print(\"Getting data from DOM ...\")\n",
    "            soupBody = BeautifulSoup(body) # Parse the inner HTML using BeautifulSoup\n",
    "\n",
    "\n",
    "            h1ProductName = soupBody.find(\"h1\", {\"class\": \"prod-ProductTitle prod-productTitle-buyBox font-bold\"})\n",
    "            divProductDesc = soupBody.find(\"div\", {\"class\": \"about-desc about-product-description xs-margin-top\"})\n",
    "            liProductBreadcrumb_parent = soupBody.find(\"li\", {\"data-automation-id\": \"breadcrumb-item-0\"})\n",
    "            liProductBreadcrumb_active = soupBody.find(\"li\", {\"class\": \"breadcrumb active\"})\n",
    "            spanProductPrice = soupBody.find(\"span\", {\"class\": \"price-group\"})\n",
    "            spanProductRating = soupBody.find(\"span\", {\"itemprop\": \"ratingValue\"})\n",
    "            spanProductRating_count = soupBody.find(\"span\", {\"class\": \"stars-reviews-count-node\"})\n",
    " \n",
    "            ################# exceptions #########################\n",
    "            if divProductDesc is None:\n",
    "                divProductDesc=\"Not Available\"\n",
    "            else:\n",
    "                divProductDesc=divProductDesc\n",
    " \n",
    "            if liProductBreadcrumb_parent is None:\n",
    "                liProductBreadcrumb_parent=\"Not Available\"\n",
    "            else:\n",
    "                liProductBreadcrumb_parent=liProductBreadcrumb_parent\n",
    " \n",
    "            if liProductBreadcrumb_active is None:\n",
    "                liProductBreadcrumb_active=\"Not Available\"\n",
    "            else:\n",
    "                liProductBreadcrumb_active=liProductBreadcrumb_active\n",
    " \n",
    "            if spanProductPrice is None:\n",
    "                spanProductPrice=\"NA\"\n",
    "            else:\n",
    "                spanProductPrice=spanProductPrice\n",
    "\n",
    "\n",
    "            if spanProductRating is None or spanProductRating_count is None:\n",
    "                spanProductRating=0.0\n",
    "                spanProductRating_count=\"0 ratings\"\n",
    "\n",
    "\n",
    "            else:\n",
    "                spanProductRating=spanProductRating.text\n",
    "                spanProductRating_count=spanProductRating_count.text\n",
    "\n",
    "\n",
    "\n",
    "\n",
    "            ### Recommended Products\n",
    "            reco_prods=[]\n",
    "            for tmp in soupBody.find_all('a', {'class':'tile-link-overlay u-focusTile'}):\n",
    "                reco_prods.append(tmp['data-product-id'])\n",
    "\n",
    "\n",
    "            if len(reco_prods)==0:\n",
    "                reco_prods=[\"Not available\"]\n",
    "            else:\n",
    "                reco_prods=reco_prods\n",
    "            WLMTData.append([codelist[i],h1ProductName.text,ivProductDesc.text,url2, liProductBreadcrumb_parent.text, liProductBreadcrumb_active.text, spanProductPrice.text, spanProductRating, spanProductRating_count,reco_prods])\n",
    "\n",
    "\n",
    "        except Exception as e:\n",
    "            print (str(e))\n",
    "\n",
    "# save final result as dataframe\n",
    "    df=pd.DataFrame(WLMTData)\n",
    "    df.columns = df.iloc[0]\n",
    "    df=df.drop(df.index[0])"
   ]
  },
  {
   "cell_type": "code",
   "execution_count": 94,
   "metadata": {},
   "outputs": [
    {
     "name": "stderr",
     "output_type": "stream",
     "text": [
      "<ipython-input-94-7de78f4f9428>:7: DeprecationWarning: executable_path has been deprecated, please pass in a Service object\n",
      "  driver = webdriver.Chrome('/path/to/chromedriver')  # Optional argument, if not specified will search path.\n"
     ]
    },
    {
     "ename": "WebDriverException",
     "evalue": "Message: 'chromedriver' executable needs to be in PATH. Please see https://chromedriver.chromium.org/home\n",
     "output_type": "error",
     "traceback": [
      "\u001b[1;31m---------------------------------------------------------------------------\u001b[0m",
      "\u001b[1;31mFileNotFoundError\u001b[0m                         Traceback (most recent call last)",
      "\u001b[1;32m~\\anaconda3\\lib\\site-packages\\selenium\\webdriver\\common\\service.py\u001b[0m in \u001b[0;36mstart\u001b[1;34m(self)\u001b[0m\n\u001b[0;32m     70\u001b[0m             \u001b[0mcmd\u001b[0m\u001b[1;33m.\u001b[0m\u001b[0mextend\u001b[0m\u001b[1;33m(\u001b[0m\u001b[0mself\u001b[0m\u001b[1;33m.\u001b[0m\u001b[0mcommand_line_args\u001b[0m\u001b[1;33m(\u001b[0m\u001b[1;33m)\u001b[0m\u001b[1;33m)\u001b[0m\u001b[1;33m\u001b[0m\u001b[1;33m\u001b[0m\u001b[0m\n\u001b[1;32m---> 71\u001b[1;33m             self.process = subprocess.Popen(cmd, env=self.env,\n\u001b[0m\u001b[0;32m     72\u001b[0m                                             \u001b[0mclose_fds\u001b[0m\u001b[1;33m=\u001b[0m\u001b[0msystem\u001b[0m\u001b[1;33m(\u001b[0m\u001b[1;33m)\u001b[0m \u001b[1;33m!=\u001b[0m \u001b[1;34m'Windows'\u001b[0m\u001b[1;33m,\u001b[0m\u001b[1;33m\u001b[0m\u001b[1;33m\u001b[0m\u001b[0m\n",
      "\u001b[1;32m~\\anaconda3\\lib\\subprocess.py\u001b[0m in \u001b[0;36m__init__\u001b[1;34m(self, args, bufsize, executable, stdin, stdout, stderr, preexec_fn, close_fds, shell, cwd, env, universal_newlines, startupinfo, creationflags, restore_signals, start_new_session, pass_fds, encoding, errors, text)\u001b[0m\n\u001b[0;32m    853\u001b[0m \u001b[1;33m\u001b[0m\u001b[0m\n\u001b[1;32m--> 854\u001b[1;33m             self._execute_child(args, executable, preexec_fn, close_fds,\n\u001b[0m\u001b[0;32m    855\u001b[0m                                 \u001b[0mpass_fds\u001b[0m\u001b[1;33m,\u001b[0m \u001b[0mcwd\u001b[0m\u001b[1;33m,\u001b[0m \u001b[0menv\u001b[0m\u001b[1;33m,\u001b[0m\u001b[1;33m\u001b[0m\u001b[1;33m\u001b[0m\u001b[0m\n",
      "\u001b[1;32m~\\anaconda3\\lib\\subprocess.py\u001b[0m in \u001b[0;36m_execute_child\u001b[1;34m(self, args, executable, preexec_fn, close_fds, pass_fds, cwd, env, startupinfo, creationflags, shell, p2cread, p2cwrite, c2pread, c2pwrite, errread, errwrite, unused_restore_signals, unused_start_new_session)\u001b[0m\n\u001b[0;32m   1306\u001b[0m             \u001b[1;32mtry\u001b[0m\u001b[1;33m:\u001b[0m\u001b[1;33m\u001b[0m\u001b[1;33m\u001b[0m\u001b[0m\n\u001b[1;32m-> 1307\u001b[1;33m                 hp, ht, pid, tid = _winapi.CreateProcess(executable, args,\n\u001b[0m\u001b[0;32m   1308\u001b[0m                                          \u001b[1;31m# no special security\u001b[0m\u001b[1;33m\u001b[0m\u001b[1;33m\u001b[0m\u001b[1;33m\u001b[0m\u001b[0m\n",
      "\u001b[1;31mFileNotFoundError\u001b[0m: [WinError 2] The system cannot find the file specified",
      "\nDuring handling of the above exception, another exception occurred:\n",
      "\u001b[1;31mWebDriverException\u001b[0m                        Traceback (most recent call last)",
      "\u001b[1;32m<ipython-input-94-7de78f4f9428>\u001b[0m in \u001b[0;36m<module>\u001b[1;34m\u001b[0m\n\u001b[0;32m      5\u001b[0m \u001b[1;33m\u001b[0m\u001b[0m\n\u001b[0;32m      6\u001b[0m \u001b[1;33m\u001b[0m\u001b[0m\n\u001b[1;32m----> 7\u001b[1;33m \u001b[0mdriver\u001b[0m \u001b[1;33m=\u001b[0m \u001b[0mwebdriver\u001b[0m\u001b[1;33m.\u001b[0m\u001b[0mChrome\u001b[0m\u001b[1;33m(\u001b[0m\u001b[1;34m'/path/to/chromedriver'\u001b[0m\u001b[1;33m)\u001b[0m  \u001b[1;31m# Optional argument, if not specified will search path.\u001b[0m\u001b[1;33m\u001b[0m\u001b[1;33m\u001b[0m\u001b[0m\n\u001b[0m\u001b[0;32m      8\u001b[0m \u001b[1;33m\u001b[0m\u001b[0m\n\u001b[0;32m      9\u001b[0m \u001b[0mdriver\u001b[0m\u001b[1;33m.\u001b[0m\u001b[0mget\u001b[0m\u001b[1;33m(\u001b[0m\u001b[1;34m'http://www.google.com/'\u001b[0m\u001b[1;33m)\u001b[0m\u001b[1;33m;\u001b[0m\u001b[1;33m\u001b[0m\u001b[1;33m\u001b[0m\u001b[0m\n",
      "\u001b[1;32m~\\anaconda3\\lib\\site-packages\\selenium\\webdriver\\chrome\\webdriver.py\u001b[0m in \u001b[0;36m__init__\u001b[1;34m(self, executable_path, port, options, service_args, desired_capabilities, service_log_path, chrome_options, service, keep_alive)\u001b[0m\n\u001b[0;32m     67\u001b[0m             \u001b[0mservice\u001b[0m \u001b[1;33m=\u001b[0m \u001b[0mService\u001b[0m\u001b[1;33m(\u001b[0m\u001b[0mexecutable_path\u001b[0m\u001b[1;33m,\u001b[0m \u001b[0mport\u001b[0m\u001b[1;33m,\u001b[0m \u001b[0mservice_args\u001b[0m\u001b[1;33m,\u001b[0m \u001b[0mservice_log_path\u001b[0m\u001b[1;33m)\u001b[0m\u001b[1;33m\u001b[0m\u001b[1;33m\u001b[0m\u001b[0m\n\u001b[0;32m     68\u001b[0m \u001b[1;33m\u001b[0m\u001b[0m\n\u001b[1;32m---> 69\u001b[1;33m         super().__init__(DesiredCapabilities.CHROME['browserName'], \"goog\",\n\u001b[0m\u001b[0;32m     70\u001b[0m                          \u001b[0mport\u001b[0m\u001b[1;33m,\u001b[0m \u001b[0moptions\u001b[0m\u001b[1;33m,\u001b[0m\u001b[1;33m\u001b[0m\u001b[1;33m\u001b[0m\u001b[0m\n\u001b[0;32m     71\u001b[0m                          \u001b[0mservice_args\u001b[0m\u001b[1;33m,\u001b[0m \u001b[0mdesired_capabilities\u001b[0m\u001b[1;33m,\u001b[0m\u001b[1;33m\u001b[0m\u001b[1;33m\u001b[0m\u001b[0m\n",
      "\u001b[1;32m~\\anaconda3\\lib\\site-packages\\selenium\\webdriver\\chromium\\webdriver.py\u001b[0m in \u001b[0;36m__init__\u001b[1;34m(self, browser_name, vendor_prefix, port, options, service_args, desired_capabilities, service_log_path, service, keep_alive)\u001b[0m\n\u001b[0;32m     87\u001b[0m \u001b[1;33m\u001b[0m\u001b[0m\n\u001b[0;32m     88\u001b[0m         \u001b[0mself\u001b[0m\u001b[1;33m.\u001b[0m\u001b[0mservice\u001b[0m \u001b[1;33m=\u001b[0m \u001b[0mservice\u001b[0m\u001b[1;33m\u001b[0m\u001b[1;33m\u001b[0m\u001b[0m\n\u001b[1;32m---> 89\u001b[1;33m         \u001b[0mself\u001b[0m\u001b[1;33m.\u001b[0m\u001b[0mservice\u001b[0m\u001b[1;33m.\u001b[0m\u001b[0mstart\u001b[0m\u001b[1;33m(\u001b[0m\u001b[1;33m)\u001b[0m\u001b[1;33m\u001b[0m\u001b[1;33m\u001b[0m\u001b[0m\n\u001b[0m\u001b[0;32m     90\u001b[0m \u001b[1;33m\u001b[0m\u001b[0m\n\u001b[0;32m     91\u001b[0m         \u001b[1;32mtry\u001b[0m\u001b[1;33m:\u001b[0m\u001b[1;33m\u001b[0m\u001b[1;33m\u001b[0m\u001b[0m\n",
      "\u001b[1;32m~\\anaconda3\\lib\\site-packages\\selenium\\webdriver\\common\\service.py\u001b[0m in \u001b[0;36mstart\u001b[1;34m(self)\u001b[0m\n\u001b[0;32m     79\u001b[0m         \u001b[1;32mexcept\u001b[0m \u001b[0mOSError\u001b[0m \u001b[1;32mas\u001b[0m \u001b[0merr\u001b[0m\u001b[1;33m:\u001b[0m\u001b[1;33m\u001b[0m\u001b[1;33m\u001b[0m\u001b[0m\n\u001b[0;32m     80\u001b[0m             \u001b[1;32mif\u001b[0m \u001b[0merr\u001b[0m\u001b[1;33m.\u001b[0m\u001b[0merrno\u001b[0m \u001b[1;33m==\u001b[0m \u001b[0merrno\u001b[0m\u001b[1;33m.\u001b[0m\u001b[0mENOENT\u001b[0m\u001b[1;33m:\u001b[0m\u001b[1;33m\u001b[0m\u001b[1;33m\u001b[0m\u001b[0m\n\u001b[1;32m---> 81\u001b[1;33m                 raise WebDriverException(\n\u001b[0m\u001b[0;32m     82\u001b[0m                     \"'{}' executable needs to be in PATH. {}\".format(\n\u001b[0;32m     83\u001b[0m                         os.path.basename(self.path), self.start_error_message)\n",
      "\u001b[1;31mWebDriverException\u001b[0m: Message: 'chromedriver' executable needs to be in PATH. Please see https://chromedriver.chromium.org/home\n"
     ]
    }
   ],
   "source": [
    "import time\n",
    "\n",
    "from selenium import webdriver\n",
    "\n",
    "\n",
    "\n",
    "driver = webdriver.Chrome('/path/to/chromedriver')  # Optional argument, if not specified will search path.\n",
    "\n",
    "driver.get('http://www.google.com/');\n",
    "\n",
    "time.sleep(5) # Let the user actually see something!\n",
    "\n",
    "search_box = driver.find_element_by_name('q')\n",
    "\n",
    "search_box.send_keys('ChromeDriver')\n",
    "\n",
    "search_box.submit()\n",
    "\n",
    "time.sleep(5) # Let the user actually see something!\n",
    "\n",
    "driver.quit()"
   ]
  },
  {
   "cell_type": "code",
   "execution_count": 28,
   "metadata": {},
   "outputs": [],
   "source": [
    "#pip install obsei"
   ]
  },
  {
   "cell_type": "code",
   "execution_count": 1,
   "metadata": {},
   "outputs": [],
   "source": [
    "!pip install -q google_play_scraper"
   ]
  },
  {
   "cell_type": "code",
   "execution_count": 4,
   "metadata": {},
   "outputs": [],
   "source": [
    "import google_play_scraper"
   ]
  },
  {
   "cell_type": "code",
   "execution_count": 5,
   "metadata": {},
   "outputs": [],
   "source": [
    "from google_play_scraper import app,Sort,reviews_all,reviews"
   ]
  },
  {
   "cell_type": "code",
   "execution_count": 6,
   "metadata": {},
   "outputs": [
    {
     "data": {
      "text/plain": [
       "{'title': None,\n",
       " 'description': None,\n",
       " 'descriptionHTML': None,\n",
       " 'summary': None,\n",
       " 'installs': None,\n",
       " 'minInstalls': None,\n",
       " 'realInstalls': None,\n",
       " 'score': None,\n",
       " 'ratings': None,\n",
       " 'reviews': None,\n",
       " 'histogram': [0, 0, 0, 0, 0],\n",
       " 'price': None,\n",
       " 'free': None,\n",
       " 'currency': None,\n",
       " 'sale': False,\n",
       " 'saleTime': None,\n",
       " 'originalPrice': None,\n",
       " 'saleText': None,\n",
       " 'offersIAP': False,\n",
       " 'inAppProductPrice': None,\n",
       " 'developer': None,\n",
       " 'developerId': None,\n",
       " 'developerEmail': None,\n",
       " 'developerWebsite': None,\n",
       " 'developerAddress': None,\n",
       " 'privacyPolicy': None,\n",
       " 'genre': None,\n",
       " 'genreId': None,\n",
       " 'icon': None,\n",
       " 'headerImage': None,\n",
       " 'screenshots': [],\n",
       " 'video': None,\n",
       " 'videoImage': None,\n",
       " 'contentRating': None,\n",
       " 'contentRatingDescription': None,\n",
       " 'adSupported': None,\n",
       " 'containsAds': False,\n",
       " 'released': None,\n",
       " 'updated': None,\n",
       " 'version': 'Varies with device',\n",
       " 'recentChanges': None,\n",
       " 'recentChangesHTML': None,\n",
       " 'comments': [],\n",
       " 'appId': 'com.idfcfirstbank.optimus',\n",
       " 'url': 'https://play.google.com/store/apps/details?id=com.idfcfirstbank.optimus&hl=en&gl=us'}"
      ]
     },
     "execution_count": 6,
     "metadata": {},
     "output_type": "execute_result"
    }
   ],
   "source": [
    "#app('com.idfcfirstbank.optimus')\n",
    "app('com.idfcfirstbank.optimus')"
   ]
  },
  {
   "cell_type": "code",
   "execution_count": 47,
   "metadata": {},
   "outputs": [],
   "source": [
    "#pip install transformers"
   ]
  },
  {
   "cell_type": "code",
   "execution_count": 5,
   "metadata": {},
   "outputs": [],
   "source": [
    "from transformers import pipeline"
   ]
  },
  {
   "cell_type": "code",
   "execution_count": 34,
   "metadata": {},
   "outputs": [
    {
     "name": "stdout",
     "output_type": "stream",
     "text": [
      "Collecting English-to-Hindi\n",
      "  Downloading English_to_Hindi-0.0.1-py3-none-any.whl (2.9 kB)\n",
      "Requirement already satisfied: requests in c:\\users\\91882\\anaconda3\\lib\\site-packages (from English-to-Hindi) (2.23.0)\n",
      "Requirement already satisfied: certifi>=2017.4.17 in c:\\users\\91882\\anaconda3\\lib\\site-packages (from requests->English-to-Hindi) (2022.6.15)\n",
      "Requirement already satisfied: chardet<4,>=3.0.2 in c:\\users\\91882\\anaconda3\\lib\\site-packages (from requests->English-to-Hindi) (3.0.4)\n",
      "Requirement already satisfied: urllib3!=1.25.0,!=1.25.1,<1.26,>=1.21.1 in c:\\users\\91882\\anaconda3\\lib\\site-packages (from requests->English-to-Hindi) (1.25.11)\n",
      "Requirement already satisfied: idna<3,>=2.5 in c:\\users\\91882\\anaconda3\\lib\\site-packages (from requests->English-to-Hindi) (2.10)\n",
      "Installing collected packages: English-to-Hindi\n",
      "Successfully installed English-to-Hindi-0.0.1\n",
      "Note: you may need to restart the kernel to use updated packages.\n"
     ]
    }
   ],
   "source": [
    "pip install English-to-Hindi"
   ]
  },
  {
   "cell_type": "code",
   "execution_count": 36,
   "metadata": {},
   "outputs": [],
   "source": [
    "import eng_hindi"
   ]
  },
  {
   "cell_type": "code",
   "execution_count": 40,
   "metadata": {},
   "outputs": [
    {
     "data": {
      "text/plain": [
       "'नमस्ते, मैं लड़का हूँ'"
      ]
     },
     "execution_count": 40,
     "metadata": {},
     "output_type": "execute_result"
    }
   ],
   "source": [
    "eng_hindi.eth('Hi, I am boy')"
   ]
  },
  {
   "cell_type": "code",
   "execution_count": 3,
   "metadata": {},
   "outputs": [
    {
     "name": "stdout",
     "output_type": "stream",
     "text": [
      "Processing c:\\users\\91882\\appdata\\local\\pip\\cache\\wheels\\a9\\25\\af\\715361fa79594524c89c75d293def652045f3fdce6ca398712\\googletrans-4.0.0rc1-py3-none-any.whl\n",
      "Requirement already satisfied: httpx==0.13.3 in c:\\users\\91882\\anaconda3\\lib\\site-packages (from googletrans==4.0.0rc1) (0.13.3)\n",
      "Requirement already satisfied: hstspreload in c:\\users\\91882\\anaconda3\\lib\\site-packages (from httpx==0.13.3->googletrans==4.0.0rc1) (2022.8.1)\n",
      "Requirement already satisfied: certifi in c:\\users\\91882\\anaconda3\\lib\\site-packages (from httpx==0.13.3->googletrans==4.0.0rc1) (2022.6.15)\n",
      "Requirement already satisfied: sniffio in c:\\users\\91882\\anaconda3\\lib\\site-packages (from httpx==0.13.3->googletrans==4.0.0rc1) (1.2.0)\n",
      "Requirement already satisfied: chardet==3.* in c:\\users\\91882\\anaconda3\\lib\\site-packages (from httpx==0.13.3->googletrans==4.0.0rc1) (3.0.4)\n",
      "Requirement already satisfied: rfc3986<2,>=1.3 in c:\\users\\91882\\anaconda3\\lib\\site-packages (from httpx==0.13.3->googletrans==4.0.0rc1) (1.5.0)\n",
      "Requirement already satisfied: idna==2.* in c:\\users\\91882\\anaconda3\\lib\\site-packages (from httpx==0.13.3->googletrans==4.0.0rc1) (2.10)\n",
      "Requirement already satisfied: httpcore==0.9.* in c:\\users\\91882\\anaconda3\\lib\\site-packages (from httpx==0.13.3->googletrans==4.0.0rc1) (0.9.1)\n",
      "Requirement already satisfied: h11<0.10,>=0.8 in c:\\users\\91882\\anaconda3\\lib\\site-packages (from httpcore==0.9.*->httpx==0.13.3->googletrans==4.0.0rc1) (0.9.0)\n",
      "Requirement already satisfied: h2==3.* in c:\\users\\91882\\anaconda3\\lib\\site-packages (from httpcore==0.9.*->httpx==0.13.3->googletrans==4.0.0rc1) (3.2.0)\n",
      "Requirement already satisfied: hyperframe<6,>=5.2.0 in c:\\users\\91882\\anaconda3\\lib\\site-packages (from h2==3.*->httpcore==0.9.*->httpx==0.13.3->googletrans==4.0.0rc1) (5.2.0)\n",
      "Requirement already satisfied: hpack<4,>=3.0 in c:\\users\\91882\\anaconda3\\lib\\site-packages (from h2==3.*->httpcore==0.9.*->httpx==0.13.3->googletrans==4.0.0rc1) (3.0.0)\n",
      "Installing collected packages: googletrans\n",
      "  Attempting uninstall: googletrans\n",
      "    Found existing installation: googletrans 3.1.0a0\n",
      "    Uninstalling googletrans-3.1.0a0:\n",
      "      Successfully uninstalled googletrans-3.1.0a0\n",
      "Successfully installed googletrans-4.0.0rc1\n",
      "Note: you may need to restart the kernel to use updated packages.\n"
     ]
    }
   ],
   "source": [
    "pip install googletrans==4.0.0rc1"
   ]
  },
  {
   "cell_type": "code",
   "execution_count": 2,
   "metadata": {},
   "outputs": [],
   "source": [
    "from googletrans import Translator"
   ]
  },
  {
   "cell_type": "code",
   "execution_count": 4,
   "metadata": {},
   "outputs": [
    {
     "data": {
      "text/plain": [
       "<googletrans.models.Translated at 0x2003adcb730>"
      ]
     },
     "execution_count": 4,
     "metadata": {},
     "output_type": "execute_result"
    }
   ],
   "source": [
    "translator = Translator()\n",
    "translator.translate('Danke')"
   ]
  },
  {
   "cell_type": "code",
   "execution_count": 47,
   "metadata": {},
   "outputs": [
    {
     "name": "stdout",
     "output_type": "stream",
     "text": [
      "Collecting googletrans==4.0.0rc1\n",
      "  Downloading googletrans-4.0.0rc1.tar.gz (20 kB)\n",
      "Requirement already satisfied: httpx==0.13.3 in c:\\users\\91882\\anaconda3\\lib\\site-packages (from googletrans==4.0.0rc1) (0.13.3)\n",
      "Requirement already satisfied: certifi in c:\\users\\91882\\anaconda3\\lib\\site-packages (from httpx==0.13.3->googletrans==4.0.0rc1) (2022.6.15)\n",
      "Requirement already satisfied: hstspreload in c:\\users\\91882\\anaconda3\\lib\\site-packages (from httpx==0.13.3->googletrans==4.0.0rc1) (2022.8.1)\n",
      "Requirement already satisfied: idna==2.* in c:\\users\\91882\\anaconda3\\lib\\site-packages (from httpx==0.13.3->googletrans==4.0.0rc1) (2.10)\n",
      "Requirement already satisfied: rfc3986<2,>=1.3 in c:\\users\\91882\\anaconda3\\lib\\site-packages (from httpx==0.13.3->googletrans==4.0.0rc1) (1.5.0)\n",
      "Requirement already satisfied: httpcore==0.9.* in c:\\users\\91882\\anaconda3\\lib\\site-packages (from httpx==0.13.3->googletrans==4.0.0rc1) (0.9.1)\n",
      "Requirement already satisfied: sniffio in c:\\users\\91882\\anaconda3\\lib\\site-packages (from httpx==0.13.3->googletrans==4.0.0rc1) (1.2.0)\n",
      "Requirement already satisfied: chardet==3.* in c:\\users\\91882\\anaconda3\\lib\\site-packages (from httpx==0.13.3->googletrans==4.0.0rc1) (3.0.4)\n",
      "Requirement already satisfied: h2==3.* in c:\\users\\91882\\anaconda3\\lib\\site-packages (from httpcore==0.9.*->httpx==0.13.3->googletrans==4.0.0rc1) (3.2.0)\n",
      "Requirement already satisfied: h11<0.10,>=0.8 in c:\\users\\91882\\anaconda3\\lib\\site-packages (from httpcore==0.9.*->httpx==0.13.3->googletrans==4.0.0rc1) (0.9.0)\n",
      "Requirement already satisfied: hpack<4,>=3.0 in c:\\users\\91882\\anaconda3\\lib\\site-packages (from h2==3.*->httpcore==0.9.*->httpx==0.13.3->googletrans==4.0.0rc1) (3.0.0)\n",
      "Requirement already satisfied: hyperframe<6,>=5.2.0 in c:\\users\\91882\\anaconda3\\lib\\site-packages (from h2==3.*->httpcore==0.9.*->httpx==0.13.3->googletrans==4.0.0rc1) (5.2.0)\n",
      "Building wheels for collected packages: googletrans\n",
      "  Building wheel for googletrans (setup.py): started\n",
      "  Building wheel for googletrans (setup.py): finished with status 'done'\n",
      "  Created wheel for googletrans: filename=googletrans-4.0.0rc1-py3-none-any.whl size=17420 sha256=4d5ed371274c420292ad5221162ccd25f7808e9e0b7080ed4799557c658dce97\n",
      "  Stored in directory: c:\\users\\91882\\appdata\\local\\pip\\cache\\wheels\\a9\\25\\af\\715361fa79594524c89c75d293def652045f3fdce6ca398712\n",
      "Successfully built googletrans\n",
      "Installing collected packages: googletrans\n",
      "  Attempting uninstall: googletrans\n",
      "    Found existing installation: googletrans 3.0.0\n",
      "    Uninstalling googletrans-3.0.0:\n",
      "      Successfully uninstalled googletrans-3.0.0\n",
      "Successfully installed googletrans-4.0.0rc1\n"
     ]
    }
   ],
   "source": [
    "!pip install googletrans==4.0.0rc1"
   ]
  },
  {
   "cell_type": "code",
   "execution_count": null,
   "metadata": {},
   "outputs": [],
   "source": []
  },
  {
   "cell_type": "code",
   "execution_count": null,
   "metadata": {},
   "outputs": [],
   "source": []
  },
  {
   "cell_type": "code",
   "execution_count": 35,
   "metadata": {},
   "outputs": [
    {
     "ename": "SyntaxError",
     "evalue": "invalid syntax (<ipython-input-35-cc6869546987>, line 1)",
     "output_type": "error",
     "traceback": [
      "\u001b[1;36m  File \u001b[1;32m\"<ipython-input-35-cc6869546987>\"\u001b[1;36m, line \u001b[1;32m1\u001b[0m\n\u001b[1;33m    from english to hindi.englishtohindi import EngtoHindi\u001b[0m\n\u001b[1;37m                 ^\u001b[0m\n\u001b[1;31mSyntaxError\u001b[0m\u001b[1;31m:\u001b[0m invalid syntax\n"
     ]
    }
   ],
   "source": [
    "from english to hindi.englishtohindi import EngtoHindi\n",
    " \n",
    "# message to be translated\n",
    "message = \"Yes, I am geeks\"\n",
    " \n",
    "# creating a EngtoHindi() object\n",
    "res = EngtoHindi(message)\n",
    " \n",
    "# displaying the translation\n",
    "print(res.convert)"
   ]
  },
  {
   "cell_type": "code",
   "execution_count": null,
   "metadata": {},
   "outputs": [],
   "source": []
  },
  {
   "cell_type": "code",
   "execution_count": 6,
   "metadata": {},
   "outputs": [],
   "source": [
    "sentiment_analysis=pipeline('sentiment-analysis',model='siebert/sentiment-roberta-large-english')"
   ]
  },
  {
   "cell_type": "code",
   "execution_count": 16,
   "metadata": {},
   "outputs": [],
   "source": [
    "#sentiment_analysis('acha bank bilkul ni hz'z)"
   ]
  },
  {
   "cell_type": "code",
   "execution_count": null,
   "metadata": {},
   "outputs": [],
   "source": []
  },
  {
   "cell_type": "code",
   "execution_count": null,
   "metadata": {},
   "outputs": [],
   "source": []
  },
  {
   "cell_type": "code",
   "execution_count": 71,
   "metadata": {},
   "outputs": [
    {
     "ename": "RuntimeError",
     "evalue": "module compiled against API version 0xe but this version of numpy is 0xd",
     "output_type": "error",
     "traceback": [
      "\u001b[1;31m---------------------------------------------------------------------------\u001b[0m",
      "\u001b[1;31mRuntimeError\u001b[0m                              Traceback (most recent call last)",
      "\u001b[1;31mRuntimeError\u001b[0m: module compiled against API version 0xe but this version of numpy is 0xd"
     ]
    },
    {
     "ename": "ImportError",
     "evalue": "initialization failed",
     "output_type": "error",
     "traceback": [
      "\u001b[1;31m---------------------------------------------------------------------------\u001b[0m",
      "\u001b[1;31mImportError\u001b[0m                               Traceback (most recent call last)",
      "\u001b[1;31mImportError\u001b[0m: numpy.core.multiarray failed to import",
      "\nThe above exception was the direct cause of the following exception:\n",
      "\u001b[1;31mSystemError\u001b[0m                               Traceback (most recent call last)",
      "\u001b[1;31mSystemError\u001b[0m: <built-in method __contains__ of dict object at 0x0000024B080368C0> returned a result with an error set",
      "\nThe above exception was the direct cause of the following exception:\n",
      "\u001b[1;31mImportError\u001b[0m                               Traceback (most recent call last)",
      "\u001b[1;32m<ipython-input-71-d6579f534729>\u001b[0m in \u001b[0;36m<module>\u001b[1;34m\u001b[0m\n\u001b[1;32m----> 1\u001b[1;33m \u001b[1;32mimport\u001b[0m \u001b[0mtensorflow\u001b[0m\u001b[1;33m\u001b[0m\u001b[1;33m\u001b[0m\u001b[0m\n\u001b[0m",
      "\u001b[1;32m~\\anaconda3\\lib\\site-packages\\tensorflow\\__init__.py\u001b[0m in \u001b[0;36m<module>\u001b[1;34m\u001b[0m\n\u001b[0;32m     35\u001b[0m \u001b[1;32mimport\u001b[0m \u001b[0mtyping\u001b[0m \u001b[1;32mas\u001b[0m \u001b[0m_typing\u001b[0m\u001b[1;33m\u001b[0m\u001b[1;33m\u001b[0m\u001b[0m\n\u001b[0;32m     36\u001b[0m \u001b[1;33m\u001b[0m\u001b[0m\n\u001b[1;32m---> 37\u001b[1;33m \u001b[1;32mfrom\u001b[0m \u001b[0mtensorflow\u001b[0m\u001b[1;33m.\u001b[0m\u001b[0mpython\u001b[0m\u001b[1;33m.\u001b[0m\u001b[0mtools\u001b[0m \u001b[1;32mimport\u001b[0m \u001b[0mmodule_util\u001b[0m \u001b[1;32mas\u001b[0m \u001b[0m_module_util\u001b[0m\u001b[1;33m\u001b[0m\u001b[1;33m\u001b[0m\u001b[0m\n\u001b[0m\u001b[0;32m     38\u001b[0m \u001b[1;32mfrom\u001b[0m \u001b[0mtensorflow\u001b[0m\u001b[1;33m.\u001b[0m\u001b[0mpython\u001b[0m\u001b[1;33m.\u001b[0m\u001b[0mutil\u001b[0m\u001b[1;33m.\u001b[0m\u001b[0mlazy_loader\u001b[0m \u001b[1;32mimport\u001b[0m \u001b[0mLazyLoader\u001b[0m \u001b[1;32mas\u001b[0m \u001b[0m_LazyLoader\u001b[0m\u001b[1;33m\u001b[0m\u001b[1;33m\u001b[0m\u001b[0m\n\u001b[0;32m     39\u001b[0m \u001b[1;33m\u001b[0m\u001b[0m\n",
      "\u001b[1;32m~\\anaconda3\\lib\\site-packages\\tensorflow\\python\\__init__.py\u001b[0m in \u001b[0;36m<module>\u001b[1;34m\u001b[0m\n\u001b[0;32m     35\u001b[0m \u001b[1;33m\u001b[0m\u001b[0m\n\u001b[0;32m     36\u001b[0m \u001b[1;32mfrom\u001b[0m \u001b[0mtensorflow\u001b[0m\u001b[1;33m.\u001b[0m\u001b[0mpython\u001b[0m \u001b[1;32mimport\u001b[0m \u001b[0mpywrap_tensorflow\u001b[0m \u001b[1;32mas\u001b[0m \u001b[0m_pywrap_tensorflow\u001b[0m\u001b[1;33m\u001b[0m\u001b[1;33m\u001b[0m\u001b[0m\n\u001b[1;32m---> 37\u001b[1;33m \u001b[1;32mfrom\u001b[0m \u001b[0mtensorflow\u001b[0m\u001b[1;33m.\u001b[0m\u001b[0mpython\u001b[0m\u001b[1;33m.\u001b[0m\u001b[0meager\u001b[0m \u001b[1;32mimport\u001b[0m \u001b[0mcontext\u001b[0m\u001b[1;33m\u001b[0m\u001b[1;33m\u001b[0m\u001b[0m\n\u001b[0m\u001b[0;32m     38\u001b[0m \u001b[1;33m\u001b[0m\u001b[0m\n\u001b[0;32m     39\u001b[0m \u001b[1;31m# pylint: enable=wildcard-import\u001b[0m\u001b[1;33m\u001b[0m\u001b[1;33m\u001b[0m\u001b[1;33m\u001b[0m\u001b[0m\n",
      "\u001b[1;32m~\\anaconda3\\lib\\site-packages\\tensorflow\\python\\eager\\context.py\u001b[0m in \u001b[0;36m<module>\u001b[1;34m\u001b[0m\n\u001b[0;32m     33\u001b[0m \u001b[1;32mfrom\u001b[0m \u001b[0mtensorflow\u001b[0m\u001b[1;33m.\u001b[0m\u001b[0mpython\u001b[0m \u001b[1;32mimport\u001b[0m \u001b[0mpywrap_tfe\u001b[0m\u001b[1;33m\u001b[0m\u001b[1;33m\u001b[0m\u001b[0m\n\u001b[0;32m     34\u001b[0m \u001b[1;32mfrom\u001b[0m \u001b[0mtensorflow\u001b[0m\u001b[1;33m.\u001b[0m\u001b[0mpython\u001b[0m \u001b[1;32mimport\u001b[0m \u001b[0mtf2\u001b[0m\u001b[1;33m\u001b[0m\u001b[1;33m\u001b[0m\u001b[0m\n\u001b[1;32m---> 35\u001b[1;33m \u001b[1;32mfrom\u001b[0m \u001b[0mtensorflow\u001b[0m\u001b[1;33m.\u001b[0m\u001b[0mpython\u001b[0m\u001b[1;33m.\u001b[0m\u001b[0mclient\u001b[0m \u001b[1;32mimport\u001b[0m \u001b[0mpywrap_tf_session\u001b[0m\u001b[1;33m\u001b[0m\u001b[1;33m\u001b[0m\u001b[0m\n\u001b[0m\u001b[0;32m     36\u001b[0m \u001b[1;32mfrom\u001b[0m \u001b[0mtensorflow\u001b[0m\u001b[1;33m.\u001b[0m\u001b[0mpython\u001b[0m\u001b[1;33m.\u001b[0m\u001b[0meager\u001b[0m \u001b[1;32mimport\u001b[0m \u001b[0mexecutor\u001b[0m\u001b[1;33m\u001b[0m\u001b[1;33m\u001b[0m\u001b[0m\n\u001b[0;32m     37\u001b[0m \u001b[1;32mfrom\u001b[0m \u001b[0mtensorflow\u001b[0m\u001b[1;33m.\u001b[0m\u001b[0mpython\u001b[0m\u001b[1;33m.\u001b[0m\u001b[0meager\u001b[0m \u001b[1;32mimport\u001b[0m \u001b[0mmonitoring\u001b[0m\u001b[1;33m\u001b[0m\u001b[1;33m\u001b[0m\u001b[0m\n",
      "\u001b[1;32m~\\anaconda3\\lib\\site-packages\\tensorflow\\python\\client\\pywrap_tf_session.py\u001b[0m in \u001b[0;36m<module>\u001b[1;34m\u001b[0m\n\u001b[0;32m     17\u001b[0m \u001b[1;31m# pylint: disable=invalid-import-order,g-bad-import-order, wildcard-import, unused-import\u001b[0m\u001b[1;33m\u001b[0m\u001b[1;33m\u001b[0m\u001b[1;33m\u001b[0m\u001b[0m\n\u001b[0;32m     18\u001b[0m \u001b[1;32mfrom\u001b[0m \u001b[0mtensorflow\u001b[0m\u001b[1;33m.\u001b[0m\u001b[0mpython\u001b[0m \u001b[1;32mimport\u001b[0m \u001b[0mpywrap_tensorflow\u001b[0m\u001b[1;33m\u001b[0m\u001b[1;33m\u001b[0m\u001b[0m\n\u001b[1;32m---> 19\u001b[1;33m \u001b[1;32mfrom\u001b[0m \u001b[0mtensorflow\u001b[0m\u001b[1;33m.\u001b[0m\u001b[0mpython\u001b[0m\u001b[1;33m.\u001b[0m\u001b[0mclient\u001b[0m\u001b[1;33m.\u001b[0m\u001b[0m_pywrap_tf_session\u001b[0m \u001b[1;32mimport\u001b[0m \u001b[1;33m*\u001b[0m\u001b[1;33m\u001b[0m\u001b[1;33m\u001b[0m\u001b[0m\n\u001b[0m\u001b[0;32m     20\u001b[0m \u001b[1;32mfrom\u001b[0m \u001b[0mtensorflow\u001b[0m\u001b[1;33m.\u001b[0m\u001b[0mpython\u001b[0m\u001b[1;33m.\u001b[0m\u001b[0mclient\u001b[0m\u001b[1;33m.\u001b[0m\u001b[0m_pywrap_tf_session\u001b[0m \u001b[1;32mimport\u001b[0m \u001b[0m_TF_SetTarget\u001b[0m\u001b[1;33m\u001b[0m\u001b[1;33m\u001b[0m\u001b[0m\n\u001b[0;32m     21\u001b[0m \u001b[1;32mfrom\u001b[0m \u001b[0mtensorflow\u001b[0m\u001b[1;33m.\u001b[0m\u001b[0mpython\u001b[0m\u001b[1;33m.\u001b[0m\u001b[0mclient\u001b[0m\u001b[1;33m.\u001b[0m\u001b[0m_pywrap_tf_session\u001b[0m \u001b[1;32mimport\u001b[0m \u001b[0m_TF_SetConfig\u001b[0m\u001b[1;33m\u001b[0m\u001b[1;33m\u001b[0m\u001b[0m\n",
      "\u001b[1;31mImportError\u001b[0m: initialization failed"
     ]
    }
   ],
   "source": [
    "import tensorflow"
   ]
  },
  {
   "cell_type": "code",
   "execution_count": 66,
   "metadata": {},
   "outputs": [
    {
     "name": "stdout",
     "output_type": "stream",
     "text": [
      "Requirement already satisfied: torch in c:\\users\\91882\\appdata\\roaming\\python\\python38\\site-packages (1.12.1)Note: you may need to restart the kernel to use updated packages.\n",
      "Requirement already satisfied: typing-extensions in c:\\users\\91882\\anaconda3\\lib\\site-packages (from torch) (3.7.4.3)\n",
      "\n"
     ]
    }
   ],
   "source": [
    "pip install torch --user"
   ]
  },
  {
   "cell_type": "code",
   "execution_count": 72,
   "metadata": {},
   "outputs": [
    {
     "name": "stdout",
     "output_type": "stream",
     "text": [
      "Requirement already satisfied: setuptools in c:\\users\\91882\\anaconda3\\lib\\site-packages (50.3.1.post20201107)Note: you may need to restart the kernel to use updated packages.\n",
      "\n"
     ]
    }
   ],
   "source": [
    "pip install setuptools"
   ]
  },
  {
   "cell_type": "code",
   "execution_count": 58,
   "metadata": {},
   "outputs": [
    {
     "name": "stdout",
     "output_type": "stream",
     "text": [
      "Collecting tensorflow-cpuNote: you may need to restart the kernel to use updated packages.\n",
      "\n",
      "  Downloading tensorflow_cpu-2.9.1-cp38-cp38-win_amd64.whl (256.3 MB)\n",
      "Requirement already satisfied: gast<=0.4.0,>=0.2.1 in c:\\users\\91882\\anaconda3\\lib\\site-packages (from tensorflow-cpu) (0.4.0)\n",
      "Collecting protobuf<3.20,>=3.9.2\n",
      "  Using cached protobuf-3.19.4-cp38-cp38-win_amd64.whl (895 kB)\n",
      "Requirement already satisfied: wrapt>=1.11.0 in c:\\users\\91882\\anaconda3\\lib\\site-packages (from tensorflow-cpu) (1.11.2)\n",
      "Collecting astunparse>=1.6.0\n",
      "  Using cached astunparse-1.6.3-py2.py3-none-any.whl (12 kB)\n",
      "Collecting absl-py>=1.0.0\n",
      "  Using cached absl_py-1.2.0-py3-none-any.whl (123 kB)\n",
      "Collecting opt-einsum>=2.3.2\n",
      "  Using cached opt_einsum-3.3.0-py3-none-any.whl (65 kB)\n",
      "Requirement already satisfied: h5py>=2.9.0 in c:\\users\\91882\\anaconda3\\lib\\site-packages (from tensorflow-cpu) (2.10.0)\n",
      "Requirement already satisfied: libclang>=13.0.0 in c:\\users\\91882\\anaconda3\\lib\\site-packages (from tensorflow-cpu) (14.0.6)\n",
      "Requirement already satisfied: packaging in c:\\users\\91882\\anaconda3\\lib\\site-packages (from tensorflow-cpu) (20.4)\n",
      "Collecting tensorflow-io-gcs-filesystem>=0.23.1\n",
      "  Using cached tensorflow_io_gcs_filesystem-0.26.0-cp38-cp38-win_amd64.whl (1.5 MB)\n",
      "Collecting tensorboard<2.10,>=2.9\n",
      "  Using cached tensorboard-2.9.1-py3-none-any.whl (5.8 MB)\n",
      "Collecting flatbuffers<2,>=1.12\n",
      "  Using cached flatbuffers-1.12-py2.py3-none-any.whl (15 kB)\n",
      "Requirement already satisfied: setuptools in c:\\users\\91882\\anaconda3\\lib\\site-packages (from tensorflow-cpu) (50.3.1.post20201107)\n",
      "Collecting keras-preprocessing>=1.1.1\n",
      "  Using cached Keras_Preprocessing-1.1.2-py2.py3-none-any.whl (42 kB)\n",
      "Requirement already satisfied: typing-extensions>=3.6.6 in c:\\users\\91882\\anaconda3\\lib\\site-packages (from tensorflow-cpu) (3.7.4.3)\n",
      "Processing c:\\users\\91882\\appdata\\local\\pip\\cache\\wheels\\a0\\16\\9c\\5473df82468f958445479c59e784896fa24f4a5fc024b0f501\\termcolor-1.1.0-py3-none-any.whl\n",
      "Collecting keras<2.10.0,>=2.9.0rc0\n",
      "  Using cached keras-2.9.0-py2.py3-none-any.whl (1.6 MB)\n",
      "Collecting grpcio<2.0,>=1.24.3\n",
      "  Using cached grpcio-1.47.0-cp38-cp38-win_amd64.whl (3.6 MB)\n",
      "Requirement already satisfied: google-pasta>=0.1.1 in c:\\users\\91882\\anaconda3\\lib\\site-packages (from tensorflow-cpu) (0.2.0)\n",
      "Requirement already satisfied: six>=1.12.0 in c:\\users\\91882\\anaconda3\\lib\\site-packages (from tensorflow-cpu) (1.16.0)\n",
      "Collecting tensorflow-estimator<2.10.0,>=2.9.0rc0\n",
      "  Using cached tensorflow_estimator-2.9.0-py2.py3-none-any.whl (438 kB)\n",
      "Requirement already satisfied: numpy>=1.20 in c:\\users\\91882\\anaconda3\\lib\\site-packages (from tensorflow-cpu) (1.23.2)\n",
      "Requirement already satisfied: wheel<1.0,>=0.23.0 in c:\\users\\91882\\anaconda3\\lib\\site-packages (from astunparse>=1.6.0->tensorflow-cpu) (0.35.1)\n",
      "Requirement already satisfied: pyparsing>=2.0.2 in c:\\users\\91882\\anaconda3\\lib\\site-packages (from packaging->tensorflow-cpu) (3.0.9)\n",
      "Collecting markdown>=2.6.8\n",
      "  Using cached Markdown-3.4.1-py3-none-any.whl (93 kB)\n",
      "Requirement already satisfied: werkzeug>=1.0.1 in c:\\users\\91882\\anaconda3\\lib\\site-packages (from tensorboard<2.10,>=2.9->tensorflow-cpu) (1.0.1)\n",
      "Requirement already satisfied: google-auth<3,>=1.6.3 in c:\\users\\91882\\anaconda3\\lib\\site-packages (from tensorboard<2.10,>=2.9->tensorflow-cpu) (2.9.0)\n",
      "Requirement already satisfied: requests<3,>=2.21.0 in c:\\users\\91882\\anaconda3\\lib\\site-packages (from tensorboard<2.10,>=2.9->tensorflow-cpu) (2.23.0)\n",
      "Collecting tensorboard-data-server<0.7.0,>=0.6.0\n",
      "  Using cached tensorboard_data_server-0.6.1-py3-none-any.whl (2.4 kB)\n",
      "Collecting tensorboard-plugin-wit>=1.6.0\n",
      "  Using cached tensorboard_plugin_wit-1.8.1-py3-none-any.whl (781 kB)\n",
      "Collecting google-auth-oauthlib<0.5,>=0.4.1\n",
      "  Using cached google_auth_oauthlib-0.4.6-py2.py3-none-any.whl (18 kB)\n",
      "Collecting importlib-metadata>=4.4; python_version < \"3.10\"\n",
      "  Using cached importlib_metadata-4.12.0-py3-none-any.whl (21 kB)\n",
      "Requirement already satisfied: pyasn1-modules>=0.2.1 in c:\\users\\91882\\anaconda3\\lib\\site-packages (from google-auth<3,>=1.6.3->tensorboard<2.10,>=2.9->tensorflow-cpu) (0.2.8)\n",
      "Requirement already satisfied: rsa<5,>=3.1.4; python_version >= \"3.6\" in c:\\users\\91882\\anaconda3\\lib\\site-packages (from google-auth<3,>=1.6.3->tensorboard<2.10,>=2.9->tensorflow-cpu) (4.8)\n",
      "Requirement already satisfied: cachetools<6.0,>=2.0.0 in c:\\users\\91882\\anaconda3\\lib\\site-packages (from google-auth<3,>=1.6.3->tensorboard<2.10,>=2.9->tensorflow-cpu) (5.2.0)\n",
      "Requirement already satisfied: idna<3,>=2.5 in c:\\users\\91882\\anaconda3\\lib\\site-packages (from requests<3,>=2.21.0->tensorboard<2.10,>=2.9->tensorflow-cpu) (2.10)\n",
      "Requirement already satisfied: certifi>=2017.4.17 in c:\\users\\91882\\anaconda3\\lib\\site-packages (from requests<3,>=2.21.0->tensorboard<2.10,>=2.9->tensorflow-cpu) (2022.6.15)\n",
      "Requirement already satisfied: chardet<4,>=3.0.2 in c:\\users\\91882\\anaconda3\\lib\\site-packages (from requests<3,>=2.21.0->tensorboard<2.10,>=2.9->tensorflow-cpu) (3.0.4)\n",
      "Requirement already satisfied: urllib3!=1.25.0,!=1.25.1,<1.26,>=1.21.1 in c:\\users\\91882\\anaconda3\\lib\\site-packages (from requests<3,>=2.21.0->tensorboard<2.10,>=2.9->tensorflow-cpu) (1.25.11)\n",
      "Collecting requests-oauthlib>=0.7.0\n",
      "  Using cached requests_oauthlib-1.3.1-py2.py3-none-any.whl (23 kB)\n",
      "Requirement already satisfied: zipp>=0.5 in c:\\users\\91882\\anaconda3\\lib\\site-packages (from importlib-metadata>=4.4; python_version < \"3.10\"->markdown>=2.6.8->tensorboard<2.10,>=2.9->tensorflow-cpu) (3.4.0)\n",
      "Requirement already satisfied: pyasn1<0.5.0,>=0.4.6 in c:\\users\\91882\\anaconda3\\lib\\site-packages (from pyasn1-modules>=0.2.1->google-auth<3,>=1.6.3->tensorboard<2.10,>=2.9->tensorflow-cpu) (0.4.8)\n",
      "Collecting oauthlib>=3.0.0\n",
      "  Using cached oauthlib-3.2.0-py3-none-any.whl (151 kB)\n",
      "Installing collected packages: protobuf, astunparse, absl-py, opt-einsum, tensorflow-io-gcs-filesystem, importlib-metadata, markdown, tensorboard-data-server, grpcio, tensorboard-plugin-wit, oauthlib, requests-oauthlib, google-auth-oauthlib, tensorboard, flatbuffers, keras-preprocessing, termcolor, keras, tensorflow-estimator, tensorflow-cpu\n",
      "  Attempting uninstall: importlib-metadata\n",
      "    Found existing installation: importlib-metadata 2.0.0\n",
      "    Uninstalling importlib-metadata-2.0.0:\n",
      "      Successfully uninstalled importlib-metadata-2.0.0\n",
      "Successfully installed absl-py-1.2.0 astunparse-1.6.3 flatbuffers-1.12 google-auth-oauthlib-0.4.6 grpcio-1.47.0 importlib-metadata-4.12.0 keras-2.9.0 keras-preprocessing-1.1.2 markdown-3.4.1 oauthlib-3.2.0 opt-einsum-3.3.0 protobuf-3.19.4 requests-oauthlib-1.3.1 tensorboard-2.9.1 tensorboard-data-server-0.6.1 tensorboard-plugin-wit-1.8.1 tensorflow-cpu-2.9.1 tensorflow-estimator-2.9.0 tensorflow-io-gcs-filesystem-0.26.0 termcolor-1.1.0\n"
     ]
    }
   ],
   "source": [
    "pip install tensorflow-cpu"
   ]
  },
  {
   "cell_type": "code",
   "execution_count": null,
   "metadata": {},
   "outputs": [],
   "source": []
  },
  {
   "cell_type": "code",
   "execution_count": null,
   "metadata": {},
   "outputs": [],
   "source": []
  },
  {
   "cell_type": "code",
   "execution_count": 37,
   "metadata": {},
   "outputs": [],
   "source": [
    "idfc111=reviews('com.idfcfirstbank.optimus',lang='en',country='IN', sort=Sort.NEWEST,count=1000)"
   ]
  },
  {
   "cell_type": "code",
   "execution_count": 38,
   "metadata": {},
   "outputs": [],
   "source": [
    "import pandas as pd\n",
    "idfc11=pd.json_normalize(idfc111[0])"
   ]
  },
  {
   "cell_type": "code",
   "execution_count": 39,
   "metadata": {},
   "outputs": [
    {
     "data": {
      "text/html": [
       "<div>\n",
       "<style scoped>\n",
       "    .dataframe tbody tr th:only-of-type {\n",
       "        vertical-align: middle;\n",
       "    }\n",
       "\n",
       "    .dataframe tbody tr th {\n",
       "        vertical-align: top;\n",
       "    }\n",
       "\n",
       "    .dataframe thead th {\n",
       "        text-align: right;\n",
       "    }\n",
       "</style>\n",
       "<table border=\"1\" class=\"dataframe\">\n",
       "  <thead>\n",
       "    <tr style=\"text-align: right;\">\n",
       "      <th></th>\n",
       "      <th>reviewId</th>\n",
       "      <th>userName</th>\n",
       "      <th>userImage</th>\n",
       "      <th>content</th>\n",
       "      <th>score</th>\n",
       "      <th>thumbsUpCount</th>\n",
       "      <th>reviewCreatedVersion</th>\n",
       "      <th>at</th>\n",
       "      <th>replyContent</th>\n",
       "      <th>repliedAt</th>\n",
       "    </tr>\n",
       "  </thead>\n",
       "  <tbody>\n",
       "    <tr>\n",
       "      <th>0</th>\n",
       "      <td>4b0b7e52-8c7a-4b62-b2fc-1f94e950b8d9</td>\n",
       "      <td>Niketan Komatwar</td>\n",
       "      <td>https://play-lh.googleusercontent.com/a-/AFdZu...</td>\n",
       "      <td>Regret opening the account, I upgraded the acc...</td>\n",
       "      <td>1</td>\n",
       "      <td>0</td>\n",
       "      <td>1.61</td>\n",
       "      <td>2022-08-18 14:55:50</td>\n",
       "      <td>None</td>\n",
       "      <td>NaT</td>\n",
       "    </tr>\n",
       "    <tr>\n",
       "      <th>1</th>\n",
       "      <td>7a18cd84-f004-475a-8fcb-bf6e59c8ca9d</td>\n",
       "      <td>vansh Yadav</td>\n",
       "      <td>https://play-lh.googleusercontent.com/a-/AFdZu...</td>\n",
       "      <td>Geart app</td>\n",
       "      <td>5</td>\n",
       "      <td>0</td>\n",
       "      <td>1.59</td>\n",
       "      <td>2022-08-18 14:54:55</td>\n",
       "      <td>None</td>\n",
       "      <td>NaT</td>\n",
       "    </tr>\n",
       "    <tr>\n",
       "      <th>2</th>\n",
       "      <td>6778e456-8c2a-4359-af6e-8fc99931bfe4</td>\n",
       "      <td>Solo Mani</td>\n",
       "      <td>https://play-lh.googleusercontent.com/a-/AFdZu...</td>\n",
       "      <td>Good</td>\n",
       "      <td>5</td>\n",
       "      <td>0</td>\n",
       "      <td>1.61</td>\n",
       "      <td>2022-08-18 14:42:53</td>\n",
       "      <td>Thank you so much for the perfect 5-star ratin...</td>\n",
       "      <td>2022-08-18 14:54:39</td>\n",
       "    </tr>\n",
       "    <tr>\n",
       "      <th>3</th>\n",
       "      <td>74de77ac-9f4b-4c2a-8513-a7c680822c96</td>\n",
       "      <td>Azar Deen</td>\n",
       "      <td>https://play-lh.googleusercontent.com/a/AItbvm...</td>\n",
       "      <td>Very good</td>\n",
       "      <td>5</td>\n",
       "      <td>0</td>\n",
       "      <td>1.61</td>\n",
       "      <td>2022-08-18 14:40:40</td>\n",
       "      <td>Thank you so much for the perfect 5-star ratin...</td>\n",
       "      <td>2022-08-18 14:54:24</td>\n",
       "    </tr>\n",
       "    <tr>\n",
       "      <th>4</th>\n",
       "      <td>c2c74d46-b755-45b5-9785-94cd9c358356</td>\n",
       "      <td>Sk.chanubee Sk</td>\n",
       "      <td>https://play-lh.googleusercontent.com/a/AItbvm...</td>\n",
       "      <td>Good</td>\n",
       "      <td>5</td>\n",
       "      <td>0</td>\n",
       "      <td>None</td>\n",
       "      <td>2022-08-18 14:34:23</td>\n",
       "      <td>Thank you so much for the perfect 5-star ratin...</td>\n",
       "      <td>2022-08-18 14:40:21</td>\n",
       "    </tr>\n",
       "    <tr>\n",
       "      <th>...</th>\n",
       "      <td>...</td>\n",
       "      <td>...</td>\n",
       "      <td>...</td>\n",
       "      <td>...</td>\n",
       "      <td>...</td>\n",
       "      <td>...</td>\n",
       "      <td>...</td>\n",
       "      <td>...</td>\n",
       "      <td>...</td>\n",
       "      <td>...</td>\n",
       "    </tr>\n",
       "    <tr>\n",
       "      <th>995</th>\n",
       "      <td>e8f3f074-a218-457f-86ae-7b3e273d01e2</td>\n",
       "      <td>Basant Kumar Yadav</td>\n",
       "      <td>https://play-lh.googleusercontent.com/a/AItbvm...</td>\n",
       "      <td>Great experience</td>\n",
       "      <td>5</td>\n",
       "      <td>0</td>\n",
       "      <td>1.61</td>\n",
       "      <td>2022-08-12 15:23:50</td>\n",
       "      <td>Thank you so much for the perfect 5-star ratin...</td>\n",
       "      <td>2022-08-12 15:36:14</td>\n",
       "    </tr>\n",
       "    <tr>\n",
       "      <th>996</th>\n",
       "      <td>a8ccfe9e-ff69-4a8f-a6bf-8ed208f41a74</td>\n",
       "      <td>Deepak Thakur</td>\n",
       "      <td>https://play-lh.googleusercontent.com/a/AItbvm...</td>\n",
       "      <td>Easy to use user friendly</td>\n",
       "      <td>5</td>\n",
       "      <td>0</td>\n",
       "      <td>1.61</td>\n",
       "      <td>2022-08-12 15:22:45</td>\n",
       "      <td>Thank you so much for the perfect 5-star ratin...</td>\n",
       "      <td>2022-08-12 15:35:08</td>\n",
       "    </tr>\n",
       "    <tr>\n",
       "      <th>997</th>\n",
       "      <td>0bccedfc-6ceb-4c26-8493-78089cd6eff7</td>\n",
       "      <td>kavitha N</td>\n",
       "      <td>https://play-lh.googleusercontent.com/a/AItbvm...</td>\n",
       "      <td>Good interface and easy to use</td>\n",
       "      <td>5</td>\n",
       "      <td>0</td>\n",
       "      <td>1.59</td>\n",
       "      <td>2022-08-12 15:21:36</td>\n",
       "      <td>Thank you so much for the perfect 5-star ratin...</td>\n",
       "      <td>2022-08-12 15:35:39</td>\n",
       "    </tr>\n",
       "    <tr>\n",
       "      <th>998</th>\n",
       "      <td>4f8a98e3-d687-428b-9ae1-d0ea99202a8e</td>\n",
       "      <td>Makkhan singhgoriya</td>\n",
       "      <td>https://play-lh.googleusercontent.com/a-/AFdZu...</td>\n",
       "      <td>Mast</td>\n",
       "      <td>5</td>\n",
       "      <td>0</td>\n",
       "      <td>None</td>\n",
       "      <td>2022-08-12 15:20:56</td>\n",
       "      <td>Thank you so much for the perfect 5-star ratin...</td>\n",
       "      <td>2022-08-12 15:34:38</td>\n",
       "    </tr>\n",
       "    <tr>\n",
       "      <th>999</th>\n",
       "      <td>c145fab6-c651-4b42-8962-b3ffba44d9e5</td>\n",
       "      <td>sankar thayal sharma</td>\n",
       "      <td>https://play-lh.googleusercontent.com/a-/AFdZu...</td>\n",
       "      <td>User friendly</td>\n",
       "      <td>5</td>\n",
       "      <td>0</td>\n",
       "      <td>1.61</td>\n",
       "      <td>2022-08-12 15:20:38</td>\n",
       "      <td>Thank you so much for the perfect 5-star ratin...</td>\n",
       "      <td>2022-08-12 15:34:53</td>\n",
       "    </tr>\n",
       "  </tbody>\n",
       "</table>\n",
       "<p>1000 rows × 10 columns</p>\n",
       "</div>"
      ],
      "text/plain": [
       "                                 reviewId              userName  \\\n",
       "0    4b0b7e52-8c7a-4b62-b2fc-1f94e950b8d9      Niketan Komatwar   \n",
       "1    7a18cd84-f004-475a-8fcb-bf6e59c8ca9d           vansh Yadav   \n",
       "2    6778e456-8c2a-4359-af6e-8fc99931bfe4             Solo Mani   \n",
       "3    74de77ac-9f4b-4c2a-8513-a7c680822c96             Azar Deen   \n",
       "4    c2c74d46-b755-45b5-9785-94cd9c358356        Sk.chanubee Sk   \n",
       "..                                    ...                   ...   \n",
       "995  e8f3f074-a218-457f-86ae-7b3e273d01e2    Basant Kumar Yadav   \n",
       "996  a8ccfe9e-ff69-4a8f-a6bf-8ed208f41a74         Deepak Thakur   \n",
       "997  0bccedfc-6ceb-4c26-8493-78089cd6eff7             kavitha N   \n",
       "998  4f8a98e3-d687-428b-9ae1-d0ea99202a8e   Makkhan singhgoriya   \n",
       "999  c145fab6-c651-4b42-8962-b3ffba44d9e5  sankar thayal sharma   \n",
       "\n",
       "                                             userImage  \\\n",
       "0    https://play-lh.googleusercontent.com/a-/AFdZu...   \n",
       "1    https://play-lh.googleusercontent.com/a-/AFdZu...   \n",
       "2    https://play-lh.googleusercontent.com/a-/AFdZu...   \n",
       "3    https://play-lh.googleusercontent.com/a/AItbvm...   \n",
       "4    https://play-lh.googleusercontent.com/a/AItbvm...   \n",
       "..                                                 ...   \n",
       "995  https://play-lh.googleusercontent.com/a/AItbvm...   \n",
       "996  https://play-lh.googleusercontent.com/a/AItbvm...   \n",
       "997  https://play-lh.googleusercontent.com/a/AItbvm...   \n",
       "998  https://play-lh.googleusercontent.com/a-/AFdZu...   \n",
       "999  https://play-lh.googleusercontent.com/a-/AFdZu...   \n",
       "\n",
       "                                               content  score  thumbsUpCount  \\\n",
       "0    Regret opening the account, I upgraded the acc...      1              0   \n",
       "1                                            Geart app      5              0   \n",
       "2                                                 Good      5              0   \n",
       "3                                            Very good      5              0   \n",
       "4                                                 Good      5              0   \n",
       "..                                                 ...    ...            ...   \n",
       "995                                   Great experience      5              0   \n",
       "996                          Easy to use user friendly      5              0   \n",
       "997                     Good interface and easy to use      5              0   \n",
       "998                                               Mast      5              0   \n",
       "999                                      User friendly      5              0   \n",
       "\n",
       "    reviewCreatedVersion                  at  \\\n",
       "0                   1.61 2022-08-18 14:55:50   \n",
       "1                   1.59 2022-08-18 14:54:55   \n",
       "2                   1.61 2022-08-18 14:42:53   \n",
       "3                   1.61 2022-08-18 14:40:40   \n",
       "4                   None 2022-08-18 14:34:23   \n",
       "..                   ...                 ...   \n",
       "995                 1.61 2022-08-12 15:23:50   \n",
       "996                 1.61 2022-08-12 15:22:45   \n",
       "997                 1.59 2022-08-12 15:21:36   \n",
       "998                 None 2022-08-12 15:20:56   \n",
       "999                 1.61 2022-08-12 15:20:38   \n",
       "\n",
       "                                          replyContent           repliedAt  \n",
       "0                                                 None                 NaT  \n",
       "1                                                 None                 NaT  \n",
       "2    Thank you so much for the perfect 5-star ratin... 2022-08-18 14:54:39  \n",
       "3    Thank you so much for the perfect 5-star ratin... 2022-08-18 14:54:24  \n",
       "4    Thank you so much for the perfect 5-star ratin... 2022-08-18 14:40:21  \n",
       "..                                                 ...                 ...  \n",
       "995  Thank you so much for the perfect 5-star ratin... 2022-08-12 15:36:14  \n",
       "996  Thank you so much for the perfect 5-star ratin... 2022-08-12 15:35:08  \n",
       "997  Thank you so much for the perfect 5-star ratin... 2022-08-12 15:35:39  \n",
       "998  Thank you so much for the perfect 5-star ratin... 2022-08-12 15:34:38  \n",
       "999  Thank you so much for the perfect 5-star ratin... 2022-08-12 15:34:53  \n",
       "\n",
       "[1000 rows x 10 columns]"
      ]
     },
     "execution_count": 39,
     "metadata": {},
     "output_type": "execute_result"
    }
   ],
   "source": [
    "idfc11[idfc11['at']<'2022-08-19']"
   ]
  },
  {
   "cell_type": "code",
   "execution_count": 59,
   "metadata": {},
   "outputs": [
    {
     "ename": "RuntimeError",
     "evalue": "module compiled against API version 0xe but this version of numpy is 0xd",
     "output_type": "error",
     "traceback": [
      "\u001b[1;31m---------------------------------------------------------------------------\u001b[0m",
      "\u001b[1;31mRuntimeError\u001b[0m                              Traceback (most recent call last)",
      "\u001b[1;31mRuntimeError\u001b[0m: module compiled against API version 0xe but this version of numpy is 0xd"
     ]
    },
    {
     "ename": "ImportError",
     "evalue": "initialization failed",
     "output_type": "error",
     "traceback": [
      "\u001b[1;31m---------------------------------------------------------------------------\u001b[0m",
      "\u001b[1;31mImportError\u001b[0m                               Traceback (most recent call last)",
      "\u001b[1;31mImportError\u001b[0m: numpy.core.multiarray failed to import",
      "\nThe above exception was the direct cause of the following exception:\n",
      "\u001b[1;31mSystemError\u001b[0m                               Traceback (most recent call last)",
      "\u001b[1;31mSystemError\u001b[0m: <built-in method __contains__ of dict object at 0x0000024B7FEAA600> returned a result with an error set",
      "\nThe above exception was the direct cause of the following exception:\n",
      "\u001b[1;31mImportError\u001b[0m                               Traceback (most recent call last)",
      "\u001b[1;32m<ipython-input-59-d6579f534729>\u001b[0m in \u001b[0;36m<module>\u001b[1;34m\u001b[0m\n\u001b[1;32m----> 1\u001b[1;33m \u001b[1;32mimport\u001b[0m \u001b[0mtensorflow\u001b[0m\u001b[1;33m\u001b[0m\u001b[1;33m\u001b[0m\u001b[0m\n\u001b[0m",
      "\u001b[1;32m~\\anaconda3\\lib\\site-packages\\tensorflow\\__init__.py\u001b[0m in \u001b[0;36m<module>\u001b[1;34m\u001b[0m\n\u001b[0;32m     35\u001b[0m \u001b[1;32mimport\u001b[0m \u001b[0mtyping\u001b[0m \u001b[1;32mas\u001b[0m \u001b[0m_typing\u001b[0m\u001b[1;33m\u001b[0m\u001b[1;33m\u001b[0m\u001b[0m\n\u001b[0;32m     36\u001b[0m \u001b[1;33m\u001b[0m\u001b[0m\n\u001b[1;32m---> 37\u001b[1;33m \u001b[1;32mfrom\u001b[0m \u001b[0mtensorflow\u001b[0m\u001b[1;33m.\u001b[0m\u001b[0mpython\u001b[0m\u001b[1;33m.\u001b[0m\u001b[0mtools\u001b[0m \u001b[1;32mimport\u001b[0m \u001b[0mmodule_util\u001b[0m \u001b[1;32mas\u001b[0m \u001b[0m_module_util\u001b[0m\u001b[1;33m\u001b[0m\u001b[1;33m\u001b[0m\u001b[0m\n\u001b[0m\u001b[0;32m     38\u001b[0m \u001b[1;32mfrom\u001b[0m \u001b[0mtensorflow\u001b[0m\u001b[1;33m.\u001b[0m\u001b[0mpython\u001b[0m\u001b[1;33m.\u001b[0m\u001b[0mutil\u001b[0m\u001b[1;33m.\u001b[0m\u001b[0mlazy_loader\u001b[0m \u001b[1;32mimport\u001b[0m \u001b[0mLazyLoader\u001b[0m \u001b[1;32mas\u001b[0m \u001b[0m_LazyLoader\u001b[0m\u001b[1;33m\u001b[0m\u001b[1;33m\u001b[0m\u001b[0m\n\u001b[0;32m     39\u001b[0m \u001b[1;33m\u001b[0m\u001b[0m\n",
      "\u001b[1;32m~\\anaconda3\\lib\\site-packages\\tensorflow\\python\\__init__.py\u001b[0m in \u001b[0;36m<module>\u001b[1;34m\u001b[0m\n\u001b[0;32m     35\u001b[0m \u001b[1;33m\u001b[0m\u001b[0m\n\u001b[0;32m     36\u001b[0m \u001b[1;32mfrom\u001b[0m \u001b[0mtensorflow\u001b[0m\u001b[1;33m.\u001b[0m\u001b[0mpython\u001b[0m \u001b[1;32mimport\u001b[0m \u001b[0mpywrap_tensorflow\u001b[0m \u001b[1;32mas\u001b[0m \u001b[0m_pywrap_tensorflow\u001b[0m\u001b[1;33m\u001b[0m\u001b[1;33m\u001b[0m\u001b[0m\n\u001b[1;32m---> 37\u001b[1;33m \u001b[1;32mfrom\u001b[0m \u001b[0mtensorflow\u001b[0m\u001b[1;33m.\u001b[0m\u001b[0mpython\u001b[0m\u001b[1;33m.\u001b[0m\u001b[0meager\u001b[0m \u001b[1;32mimport\u001b[0m \u001b[0mcontext\u001b[0m\u001b[1;33m\u001b[0m\u001b[1;33m\u001b[0m\u001b[0m\n\u001b[0m\u001b[0;32m     38\u001b[0m \u001b[1;33m\u001b[0m\u001b[0m\n\u001b[0;32m     39\u001b[0m \u001b[1;31m# pylint: enable=wildcard-import\u001b[0m\u001b[1;33m\u001b[0m\u001b[1;33m\u001b[0m\u001b[1;33m\u001b[0m\u001b[0m\n",
      "\u001b[1;32m~\\anaconda3\\lib\\site-packages\\tensorflow\\python\\eager\\context.py\u001b[0m in \u001b[0;36m<module>\u001b[1;34m\u001b[0m\n\u001b[0;32m     33\u001b[0m \u001b[1;32mfrom\u001b[0m \u001b[0mtensorflow\u001b[0m\u001b[1;33m.\u001b[0m\u001b[0mpython\u001b[0m \u001b[1;32mimport\u001b[0m \u001b[0mpywrap_tfe\u001b[0m\u001b[1;33m\u001b[0m\u001b[1;33m\u001b[0m\u001b[0m\n\u001b[0;32m     34\u001b[0m \u001b[1;32mfrom\u001b[0m \u001b[0mtensorflow\u001b[0m\u001b[1;33m.\u001b[0m\u001b[0mpython\u001b[0m \u001b[1;32mimport\u001b[0m \u001b[0mtf2\u001b[0m\u001b[1;33m\u001b[0m\u001b[1;33m\u001b[0m\u001b[0m\n\u001b[1;32m---> 35\u001b[1;33m \u001b[1;32mfrom\u001b[0m \u001b[0mtensorflow\u001b[0m\u001b[1;33m.\u001b[0m\u001b[0mpython\u001b[0m\u001b[1;33m.\u001b[0m\u001b[0mclient\u001b[0m \u001b[1;32mimport\u001b[0m \u001b[0mpywrap_tf_session\u001b[0m\u001b[1;33m\u001b[0m\u001b[1;33m\u001b[0m\u001b[0m\n\u001b[0m\u001b[0;32m     36\u001b[0m \u001b[1;32mfrom\u001b[0m \u001b[0mtensorflow\u001b[0m\u001b[1;33m.\u001b[0m\u001b[0mpython\u001b[0m\u001b[1;33m.\u001b[0m\u001b[0meager\u001b[0m \u001b[1;32mimport\u001b[0m \u001b[0mexecutor\u001b[0m\u001b[1;33m\u001b[0m\u001b[1;33m\u001b[0m\u001b[0m\n\u001b[0;32m     37\u001b[0m \u001b[1;32mfrom\u001b[0m \u001b[0mtensorflow\u001b[0m\u001b[1;33m.\u001b[0m\u001b[0mpython\u001b[0m\u001b[1;33m.\u001b[0m\u001b[0meager\u001b[0m \u001b[1;32mimport\u001b[0m \u001b[0mmonitoring\u001b[0m\u001b[1;33m\u001b[0m\u001b[1;33m\u001b[0m\u001b[0m\n",
      "\u001b[1;32m~\\anaconda3\\lib\\site-packages\\tensorflow\\python\\client\\pywrap_tf_session.py\u001b[0m in \u001b[0;36m<module>\u001b[1;34m\u001b[0m\n\u001b[0;32m     17\u001b[0m \u001b[1;31m# pylint: disable=invalid-import-order,g-bad-import-order, wildcard-import, unused-import\u001b[0m\u001b[1;33m\u001b[0m\u001b[1;33m\u001b[0m\u001b[1;33m\u001b[0m\u001b[0m\n\u001b[0;32m     18\u001b[0m \u001b[1;32mfrom\u001b[0m \u001b[0mtensorflow\u001b[0m\u001b[1;33m.\u001b[0m\u001b[0mpython\u001b[0m \u001b[1;32mimport\u001b[0m \u001b[0mpywrap_tensorflow\u001b[0m\u001b[1;33m\u001b[0m\u001b[1;33m\u001b[0m\u001b[0m\n\u001b[1;32m---> 19\u001b[1;33m \u001b[1;32mfrom\u001b[0m \u001b[0mtensorflow\u001b[0m\u001b[1;33m.\u001b[0m\u001b[0mpython\u001b[0m\u001b[1;33m.\u001b[0m\u001b[0mclient\u001b[0m\u001b[1;33m.\u001b[0m\u001b[0m_pywrap_tf_session\u001b[0m \u001b[1;32mimport\u001b[0m \u001b[1;33m*\u001b[0m\u001b[1;33m\u001b[0m\u001b[1;33m\u001b[0m\u001b[0m\n\u001b[0m\u001b[0;32m     20\u001b[0m \u001b[1;32mfrom\u001b[0m \u001b[0mtensorflow\u001b[0m\u001b[1;33m.\u001b[0m\u001b[0mpython\u001b[0m\u001b[1;33m.\u001b[0m\u001b[0mclient\u001b[0m\u001b[1;33m.\u001b[0m\u001b[0m_pywrap_tf_session\u001b[0m \u001b[1;32mimport\u001b[0m \u001b[0m_TF_SetTarget\u001b[0m\u001b[1;33m\u001b[0m\u001b[1;33m\u001b[0m\u001b[0m\n\u001b[0;32m     21\u001b[0m \u001b[1;32mfrom\u001b[0m \u001b[0mtensorflow\u001b[0m\u001b[1;33m.\u001b[0m\u001b[0mpython\u001b[0m\u001b[1;33m.\u001b[0m\u001b[0mclient\u001b[0m\u001b[1;33m.\u001b[0m\u001b[0m_pywrap_tf_session\u001b[0m \u001b[1;32mimport\u001b[0m \u001b[0m_TF_SetConfig\u001b[0m\u001b[1;33m\u001b[0m\u001b[1;33m\u001b[0m\u001b[0m\n",
      "\u001b[1;31mImportError\u001b[0m: initialization failed"
     ]
    }
   ],
   "source": [
    "import tensorflow"
   ]
  },
  {
   "cell_type": "code",
   "execution_count": null,
   "metadata": {},
   "outputs": [],
   "source": []
  },
  {
   "cell_type": "code",
   "execution_count": null,
   "metadata": {},
   "outputs": [],
   "source": []
  },
  {
   "cell_type": "code",
   "execution_count": null,
   "metadata": {},
   "outputs": [],
   "source": []
  },
  {
   "cell_type": "code",
   "execution_count": null,
   "metadata": {},
   "outputs": [],
   "source": []
  },
  {
   "cell_type": "code",
   "execution_count": null,
   "metadata": {},
   "outputs": [],
   "source": []
  },
  {
   "cell_type": "code",
   "execution_count": 72,
   "metadata": {},
   "outputs": [
    {
     "ename": "KeyboardInterrupt",
     "evalue": "",
     "output_type": "error",
     "traceback": [
      "\u001b[1;31m---------------------------------------------------------------------------\u001b[0m",
      "\u001b[1;31mKeyboardInterrupt\u001b[0m                         Traceback (most recent call last)",
      "\u001b[1;32m<ipython-input-72-051b81090954>\u001b[0m in \u001b[0;36m<module>\u001b[1;34m\u001b[0m\n\u001b[0;32m      1\u001b[0m \u001b[1;32mfrom\u001b[0m \u001b[0mgoogle_play_scraper\u001b[0m \u001b[1;32mimport\u001b[0m \u001b[0mSort\u001b[0m\u001b[1;33m,\u001b[0m \u001b[0mreviews\u001b[0m\u001b[1;33m\u001b[0m\u001b[1;33m\u001b[0m\u001b[0m\n\u001b[0;32m      2\u001b[0m \u001b[1;33m\u001b[0m\u001b[0m\n\u001b[1;32m----> 3\u001b[1;33m result_all_r, continuation_token = reviews(\n\u001b[0m\u001b[0;32m      4\u001b[0m     \u001b[1;34m'com.idfcfirstbank.optimus'\u001b[0m\u001b[1;33m,\u001b[0m\u001b[1;33m\u001b[0m\u001b[1;33m\u001b[0m\u001b[0m\n\u001b[0;32m      5\u001b[0m     \u001b[0mlang\u001b[0m\u001b[1;33m=\u001b[0m\u001b[1;34m'en'\u001b[0m\u001b[1;33m,\u001b[0m \u001b[1;31m# defaults to 'en'\u001b[0m\u001b[1;33m\u001b[0m\u001b[1;33m\u001b[0m\u001b[0m\n",
      "\u001b[1;32m~\\anaconda3\\lib\\site-packages\\google_play_scraper\\features\\reviews.py\u001b[0m in \u001b[0;36mreviews\u001b[1;34m(app_id, lang, country, sort, count, filter_score_with, continuation_token)\u001b[0m\n\u001b[0;32m     91\u001b[0m \u001b[1;33m\u001b[0m\u001b[0m\n\u001b[0;32m     92\u001b[0m         \u001b[1;32mtry\u001b[0m\u001b[1;33m:\u001b[0m\u001b[1;33m\u001b[0m\u001b[1;33m\u001b[0m\u001b[0m\n\u001b[1;32m---> 93\u001b[1;33m             review_items, token = _fetch_review_items(\n\u001b[0m\u001b[0;32m     94\u001b[0m                 \u001b[0murl\u001b[0m\u001b[1;33m,\u001b[0m \u001b[0mapp_id\u001b[0m\u001b[1;33m,\u001b[0m \u001b[0msort\u001b[0m\u001b[1;33m,\u001b[0m \u001b[0m_fetch_count\u001b[0m\u001b[1;33m,\u001b[0m \u001b[0mfilter_score_with\u001b[0m\u001b[1;33m,\u001b[0m \u001b[0mtoken\u001b[0m\u001b[1;33m\u001b[0m\u001b[1;33m\u001b[0m\u001b[0m\n\u001b[0;32m     95\u001b[0m             )\n",
      "\u001b[1;32m~\\anaconda3\\lib\\site-packages\\google_play_scraper\\features\\reviews.py\u001b[0m in \u001b[0;36m_fetch_review_items\u001b[1;34m(url, app_id, sort, count, filter_score_with, pagination_token)\u001b[0m\n\u001b[0;32m     34\u001b[0m     \u001b[0mpagination_token\u001b[0m\u001b[1;33m:\u001b[0m \u001b[0mOptional\u001b[0m\u001b[1;33m[\u001b[0m\u001b[0mstr\u001b[0m\u001b[1;33m]\u001b[0m\u001b[1;33m,\u001b[0m\u001b[1;33m\u001b[0m\u001b[1;33m\u001b[0m\u001b[0m\n\u001b[0;32m     35\u001b[0m ):\n\u001b[1;32m---> 36\u001b[1;33m     dom = post(\n\u001b[0m\u001b[0;32m     37\u001b[0m         \u001b[0murl\u001b[0m\u001b[1;33m,\u001b[0m\u001b[1;33m\u001b[0m\u001b[1;33m\u001b[0m\u001b[0m\n\u001b[0;32m     38\u001b[0m         Formats.Reviews.build_body(\n",
      "\u001b[1;32m~\\anaconda3\\lib\\site-packages\\google_play_scraper\\utils\\request.py\u001b[0m in \u001b[0;36mpost\u001b[1;34m(url, data, headers)\u001b[0m\n\u001b[0;32m     22\u001b[0m \u001b[1;33m\u001b[0m\u001b[0m\n\u001b[0;32m     23\u001b[0m \u001b[1;32mdef\u001b[0m \u001b[0mpost\u001b[0m\u001b[1;33m(\u001b[0m\u001b[0murl\u001b[0m\u001b[1;33m:\u001b[0m \u001b[0mstr\u001b[0m\u001b[1;33m,\u001b[0m \u001b[0mdata\u001b[0m\u001b[1;33m:\u001b[0m \u001b[0mUnion\u001b[0m\u001b[1;33m[\u001b[0m\u001b[0mstr\u001b[0m\u001b[1;33m,\u001b[0m \u001b[0mbytes\u001b[0m\u001b[1;33m]\u001b[0m\u001b[1;33m,\u001b[0m \u001b[0mheaders\u001b[0m\u001b[1;33m:\u001b[0m \u001b[0mdict\u001b[0m\u001b[1;33m)\u001b[0m \u001b[1;33m->\u001b[0m \u001b[0mstr\u001b[0m\u001b[1;33m:\u001b[0m\u001b[1;33m\u001b[0m\u001b[1;33m\u001b[0m\u001b[0m\n\u001b[1;32m---> 24\u001b[1;33m     \u001b[1;32mreturn\u001b[0m \u001b[0m_urlopen\u001b[0m\u001b[1;33m(\u001b[0m\u001b[0mRequest\u001b[0m\u001b[1;33m(\u001b[0m\u001b[0murl\u001b[0m\u001b[1;33m,\u001b[0m \u001b[0mdata\u001b[0m\u001b[1;33m=\u001b[0m\u001b[0mdata\u001b[0m\u001b[1;33m,\u001b[0m \u001b[0mheaders\u001b[0m\u001b[1;33m=\u001b[0m\u001b[0mheaders\u001b[0m\u001b[1;33m)\u001b[0m\u001b[1;33m)\u001b[0m\u001b[1;33m\u001b[0m\u001b[1;33m\u001b[0m\u001b[0m\n\u001b[0m\u001b[0;32m     25\u001b[0m \u001b[1;33m\u001b[0m\u001b[0m\n\u001b[0;32m     26\u001b[0m \u001b[1;33m\u001b[0m\u001b[0m\n",
      "\u001b[1;32m~\\anaconda3\\lib\\site-packages\\google_play_scraper\\utils\\request.py\u001b[0m in \u001b[0;36m_urlopen\u001b[1;34m(obj)\u001b[0m\n\u001b[0;32m     18\u001b[0m             )\n\u001b[0;32m     19\u001b[0m \u001b[1;33m\u001b[0m\u001b[0m\n\u001b[1;32m---> 20\u001b[1;33m     \u001b[1;32mreturn\u001b[0m \u001b[0mresp\u001b[0m\u001b[1;33m.\u001b[0m\u001b[0mread\u001b[0m\u001b[1;33m(\u001b[0m\u001b[1;33m)\u001b[0m\u001b[1;33m.\u001b[0m\u001b[0mdecode\u001b[0m\u001b[1;33m(\u001b[0m\u001b[1;34m\"UTF-8\"\u001b[0m\u001b[1;33m)\u001b[0m\u001b[1;33m\u001b[0m\u001b[1;33m\u001b[0m\u001b[0m\n\u001b[0m\u001b[0;32m     21\u001b[0m \u001b[1;33m\u001b[0m\u001b[0m\n\u001b[0;32m     22\u001b[0m \u001b[1;33m\u001b[0m\u001b[0m\n",
      "\u001b[1;32m~\\anaconda3\\lib\\http\\client.py\u001b[0m in \u001b[0;36mread\u001b[1;34m(self, amt)\u001b[0m\n\u001b[0;32m    463\u001b[0m \u001b[1;33m\u001b[0m\u001b[0m\n\u001b[0;32m    464\u001b[0m             \u001b[1;32mif\u001b[0m \u001b[0mself\u001b[0m\u001b[1;33m.\u001b[0m\u001b[0mchunked\u001b[0m\u001b[1;33m:\u001b[0m\u001b[1;33m\u001b[0m\u001b[1;33m\u001b[0m\u001b[0m\n\u001b[1;32m--> 465\u001b[1;33m                 \u001b[1;32mreturn\u001b[0m \u001b[0mself\u001b[0m\u001b[1;33m.\u001b[0m\u001b[0m_readall_chunked\u001b[0m\u001b[1;33m(\u001b[0m\u001b[1;33m)\u001b[0m\u001b[1;33m\u001b[0m\u001b[1;33m\u001b[0m\u001b[0m\n\u001b[0m\u001b[0;32m    466\u001b[0m \u001b[1;33m\u001b[0m\u001b[0m\n\u001b[0;32m    467\u001b[0m             \u001b[1;32mif\u001b[0m \u001b[0mself\u001b[0m\u001b[1;33m.\u001b[0m\u001b[0mlength\u001b[0m \u001b[1;32mis\u001b[0m \u001b[1;32mNone\u001b[0m\u001b[1;33m:\u001b[0m\u001b[1;33m\u001b[0m\u001b[1;33m\u001b[0m\u001b[0m\n",
      "\u001b[1;32m~\\anaconda3\\lib\\http\\client.py\u001b[0m in \u001b[0;36m_readall_chunked\u001b[1;34m(self)\u001b[0m\n\u001b[0;32m    573\u001b[0m                 \u001b[1;32mif\u001b[0m \u001b[0mchunk_left\u001b[0m \u001b[1;32mis\u001b[0m \u001b[1;32mNone\u001b[0m\u001b[1;33m:\u001b[0m\u001b[1;33m\u001b[0m\u001b[1;33m\u001b[0m\u001b[0m\n\u001b[0;32m    574\u001b[0m                     \u001b[1;32mbreak\u001b[0m\u001b[1;33m\u001b[0m\u001b[1;33m\u001b[0m\u001b[0m\n\u001b[1;32m--> 575\u001b[1;33m                 \u001b[0mvalue\u001b[0m\u001b[1;33m.\u001b[0m\u001b[0mappend\u001b[0m\u001b[1;33m(\u001b[0m\u001b[0mself\u001b[0m\u001b[1;33m.\u001b[0m\u001b[0m_safe_read\u001b[0m\u001b[1;33m(\u001b[0m\u001b[0mchunk_left\u001b[0m\u001b[1;33m)\u001b[0m\u001b[1;33m)\u001b[0m\u001b[1;33m\u001b[0m\u001b[1;33m\u001b[0m\u001b[0m\n\u001b[0m\u001b[0;32m    576\u001b[0m                 \u001b[0mself\u001b[0m\u001b[1;33m.\u001b[0m\u001b[0mchunk_left\u001b[0m \u001b[1;33m=\u001b[0m \u001b[1;36m0\u001b[0m\u001b[1;33m\u001b[0m\u001b[1;33m\u001b[0m\u001b[0m\n\u001b[0;32m    577\u001b[0m             \u001b[1;32mreturn\u001b[0m \u001b[1;34mb''\u001b[0m\u001b[1;33m.\u001b[0m\u001b[0mjoin\u001b[0m\u001b[1;33m(\u001b[0m\u001b[0mvalue\u001b[0m\u001b[1;33m)\u001b[0m\u001b[1;33m\u001b[0m\u001b[1;33m\u001b[0m\u001b[0m\n",
      "\u001b[1;32m~\\anaconda3\\lib\\http\\client.py\u001b[0m in \u001b[0;36m_safe_read\u001b[1;34m(self, amt)\u001b[0m\n\u001b[0;32m    610\u001b[0m         \u001b[0mIncompleteRead\u001b[0m \u001b[0mexception\u001b[0m \u001b[0mcan\u001b[0m \u001b[0mbe\u001b[0m \u001b[0mused\u001b[0m \u001b[0mto\u001b[0m \u001b[0mdetect\u001b[0m \u001b[0mthe\u001b[0m \u001b[0mproblem\u001b[0m\u001b[1;33m.\u001b[0m\u001b[1;33m\u001b[0m\u001b[1;33m\u001b[0m\u001b[0m\n\u001b[0;32m    611\u001b[0m         \"\"\"\n\u001b[1;32m--> 612\u001b[1;33m         \u001b[0mdata\u001b[0m \u001b[1;33m=\u001b[0m \u001b[0mself\u001b[0m\u001b[1;33m.\u001b[0m\u001b[0mfp\u001b[0m\u001b[1;33m.\u001b[0m\u001b[0mread\u001b[0m\u001b[1;33m(\u001b[0m\u001b[0mamt\u001b[0m\u001b[1;33m)\u001b[0m\u001b[1;33m\u001b[0m\u001b[1;33m\u001b[0m\u001b[0m\n\u001b[0m\u001b[0;32m    613\u001b[0m         \u001b[1;32mif\u001b[0m \u001b[0mlen\u001b[0m\u001b[1;33m(\u001b[0m\u001b[0mdata\u001b[0m\u001b[1;33m)\u001b[0m \u001b[1;33m<\u001b[0m \u001b[0mamt\u001b[0m\u001b[1;33m:\u001b[0m\u001b[1;33m\u001b[0m\u001b[1;33m\u001b[0m\u001b[0m\n\u001b[0;32m    614\u001b[0m             \u001b[1;32mraise\u001b[0m \u001b[0mIncompleteRead\u001b[0m\u001b[1;33m(\u001b[0m\u001b[0mdata\u001b[0m\u001b[1;33m,\u001b[0m \u001b[0mamt\u001b[0m\u001b[1;33m-\u001b[0m\u001b[0mlen\u001b[0m\u001b[1;33m(\u001b[0m\u001b[0mdata\u001b[0m\u001b[1;33m)\u001b[0m\u001b[1;33m)\u001b[0m\u001b[1;33m\u001b[0m\u001b[1;33m\u001b[0m\u001b[0m\n",
      "\u001b[1;32m~\\anaconda3\\lib\\socket.py\u001b[0m in \u001b[0;36mreadinto\u001b[1;34m(self, b)\u001b[0m\n\u001b[0;32m    667\u001b[0m         \u001b[1;32mwhile\u001b[0m \u001b[1;32mTrue\u001b[0m\u001b[1;33m:\u001b[0m\u001b[1;33m\u001b[0m\u001b[1;33m\u001b[0m\u001b[0m\n\u001b[0;32m    668\u001b[0m             \u001b[1;32mtry\u001b[0m\u001b[1;33m:\u001b[0m\u001b[1;33m\u001b[0m\u001b[1;33m\u001b[0m\u001b[0m\n\u001b[1;32m--> 669\u001b[1;33m                 \u001b[1;32mreturn\u001b[0m \u001b[0mself\u001b[0m\u001b[1;33m.\u001b[0m\u001b[0m_sock\u001b[0m\u001b[1;33m.\u001b[0m\u001b[0mrecv_into\u001b[0m\u001b[1;33m(\u001b[0m\u001b[0mb\u001b[0m\u001b[1;33m)\u001b[0m\u001b[1;33m\u001b[0m\u001b[1;33m\u001b[0m\u001b[0m\n\u001b[0m\u001b[0;32m    670\u001b[0m             \u001b[1;32mexcept\u001b[0m \u001b[0mtimeout\u001b[0m\u001b[1;33m:\u001b[0m\u001b[1;33m\u001b[0m\u001b[1;33m\u001b[0m\u001b[0m\n\u001b[0;32m    671\u001b[0m                 \u001b[0mself\u001b[0m\u001b[1;33m.\u001b[0m\u001b[0m_timeout_occurred\u001b[0m \u001b[1;33m=\u001b[0m \u001b[1;32mTrue\u001b[0m\u001b[1;33m\u001b[0m\u001b[1;33m\u001b[0m\u001b[0m\n",
      "\u001b[1;32m~\\anaconda3\\lib\\ssl.py\u001b[0m in \u001b[0;36mrecv_into\u001b[1;34m(self, buffer, nbytes, flags)\u001b[0m\n\u001b[0;32m   1239\u001b[0m                   \u001b[1;34m\"non-zero flags not allowed in calls to recv_into() on %s\"\u001b[0m \u001b[1;33m%\u001b[0m\u001b[1;33m\u001b[0m\u001b[1;33m\u001b[0m\u001b[0m\n\u001b[0;32m   1240\u001b[0m                   self.__class__)\n\u001b[1;32m-> 1241\u001b[1;33m             \u001b[1;32mreturn\u001b[0m \u001b[0mself\u001b[0m\u001b[1;33m.\u001b[0m\u001b[0mread\u001b[0m\u001b[1;33m(\u001b[0m\u001b[0mnbytes\u001b[0m\u001b[1;33m,\u001b[0m \u001b[0mbuffer\u001b[0m\u001b[1;33m)\u001b[0m\u001b[1;33m\u001b[0m\u001b[1;33m\u001b[0m\u001b[0m\n\u001b[0m\u001b[0;32m   1242\u001b[0m         \u001b[1;32melse\u001b[0m\u001b[1;33m:\u001b[0m\u001b[1;33m\u001b[0m\u001b[1;33m\u001b[0m\u001b[0m\n\u001b[0;32m   1243\u001b[0m             \u001b[1;32mreturn\u001b[0m \u001b[0msuper\u001b[0m\u001b[1;33m(\u001b[0m\u001b[1;33m)\u001b[0m\u001b[1;33m.\u001b[0m\u001b[0mrecv_into\u001b[0m\u001b[1;33m(\u001b[0m\u001b[0mbuffer\u001b[0m\u001b[1;33m,\u001b[0m \u001b[0mnbytes\u001b[0m\u001b[1;33m,\u001b[0m \u001b[0mflags\u001b[0m\u001b[1;33m)\u001b[0m\u001b[1;33m\u001b[0m\u001b[1;33m\u001b[0m\u001b[0m\n",
      "\u001b[1;32m~\\anaconda3\\lib\\ssl.py\u001b[0m in \u001b[0;36mread\u001b[1;34m(self, len, buffer)\u001b[0m\n\u001b[0;32m   1097\u001b[0m         \u001b[1;32mtry\u001b[0m\u001b[1;33m:\u001b[0m\u001b[1;33m\u001b[0m\u001b[1;33m\u001b[0m\u001b[0m\n\u001b[0;32m   1098\u001b[0m             \u001b[1;32mif\u001b[0m \u001b[0mbuffer\u001b[0m \u001b[1;32mis\u001b[0m \u001b[1;32mnot\u001b[0m \u001b[1;32mNone\u001b[0m\u001b[1;33m:\u001b[0m\u001b[1;33m\u001b[0m\u001b[1;33m\u001b[0m\u001b[0m\n\u001b[1;32m-> 1099\u001b[1;33m                 \u001b[1;32mreturn\u001b[0m \u001b[0mself\u001b[0m\u001b[1;33m.\u001b[0m\u001b[0m_sslobj\u001b[0m\u001b[1;33m.\u001b[0m\u001b[0mread\u001b[0m\u001b[1;33m(\u001b[0m\u001b[0mlen\u001b[0m\u001b[1;33m,\u001b[0m \u001b[0mbuffer\u001b[0m\u001b[1;33m)\u001b[0m\u001b[1;33m\u001b[0m\u001b[1;33m\u001b[0m\u001b[0m\n\u001b[0m\u001b[0;32m   1100\u001b[0m             \u001b[1;32melse\u001b[0m\u001b[1;33m:\u001b[0m\u001b[1;33m\u001b[0m\u001b[1;33m\u001b[0m\u001b[0m\n\u001b[0;32m   1101\u001b[0m                 \u001b[1;32mreturn\u001b[0m \u001b[0mself\u001b[0m\u001b[1;33m.\u001b[0m\u001b[0m_sslobj\u001b[0m\u001b[1;33m.\u001b[0m\u001b[0mread\u001b[0m\u001b[1;33m(\u001b[0m\u001b[0mlen\u001b[0m\u001b[1;33m)\u001b[0m\u001b[1;33m\u001b[0m\u001b[1;33m\u001b[0m\u001b[0m\n",
      "\u001b[1;31mKeyboardInterrupt\u001b[0m: "
     ]
    }
   ],
   "source": [
    "from google_play_scraper import Sort, reviews\n",
    "\n",
    "result_all_r, continuation_token = reviews(\n",
    "    'com.idfcfirstbank.optimus',\n",
    "    lang='en', # defaults to 'en'\n",
    "    country='IN', # defaults to 'us'\n",
    "    sort=Sort.NEWEST, # defaults to Sort.NEWEST\n",
    "    count=10000, # defaults to 100\n",
    "    #filter_score_with=5 # defaults to None(means all score)\n",
    ")\n",
    "\n",
    "# If you pass `continuation_token` as an argument to the reviews function at this point,\n",
    "# it will crawl the items after 3 review items.\n",
    "\n",
    "# result, _ = reviews(\n",
    "#     'com.fantome.penguinisle',\n",
    "#     continuation_token=continuation_token # defaults to None(load from the beginning)\n",
    "# )"
   ]
  },
  {
   "cell_type": "code",
   "execution_count": 24,
   "metadata": {},
   "outputs": [],
   "source": [
    "import pandas as pd"
   ]
  },
  {
   "cell_type": "code",
   "execution_count": 33,
   "metadata": {},
   "outputs": [],
   "source": [
    "kotak=pd.json_normalize(result)"
   ]
  },
  {
   "cell_type": "code",
   "execution_count": 36,
   "metadata": {},
   "outputs": [
    {
     "data": {
      "text/plain": [
       "3.763"
      ]
     },
     "execution_count": 36,
     "metadata": {},
     "output_type": "execute_result"
    }
   ],
   "source": [
    "kotak['score'].mean()"
   ]
  },
  {
   "cell_type": "code",
   "execution_count": null,
   "metadata": {},
   "outputs": [],
   "source": [
    "com.idfcfirstbank.optimus"
   ]
  },
  {
   "cell_type": "code",
   "execution_count": null,
   "metadata": {},
   "outputs": [],
   "source": []
  },
  {
   "cell_type": "code",
   "execution_count": 10,
   "metadata": {},
   "outputs": [
    {
     "ename": "KeyboardInterrupt",
     "evalue": "",
     "output_type": "error",
     "traceback": [
      "\u001b[1;31m---------------------------------------------------------------------------\u001b[0m",
      "\u001b[1;31mKeyboardInterrupt\u001b[0m                         Traceback (most recent call last)",
      "\u001b[1;32m<ipython-input-10-64caa3ff16c1>\u001b[0m in \u001b[0;36m<module>\u001b[1;34m\u001b[0m\n\u001b[0;32m      1\u001b[0m \u001b[1;32mfrom\u001b[0m \u001b[0mgoogle_play_scraper\u001b[0m \u001b[1;32mimport\u001b[0m \u001b[0mSort\u001b[0m\u001b[1;33m,\u001b[0m \u001b[0mreviews\u001b[0m\u001b[1;33m,\u001b[0m \u001b[0mapp\u001b[0m\u001b[1;33m\u001b[0m\u001b[1;33m\u001b[0m\u001b[0m\n\u001b[0;32m      2\u001b[0m \u001b[1;33m\u001b[0m\u001b[0m\n\u001b[1;32m----> 3\u001b[1;33m result, continuation_token = reviews(\n\u001b[0m\u001b[0;32m      4\u001b[0m     \u001b[1;34m'com.idfcfirstbank.optimus'\u001b[0m\u001b[1;33m,\u001b[0m\u001b[1;33m\u001b[0m\u001b[1;33m\u001b[0m\u001b[0m\n\u001b[0;32m      5\u001b[0m     \u001b[0mlang\u001b[0m\u001b[1;33m=\u001b[0m\u001b[1;34m'en'\u001b[0m\u001b[1;33m,\u001b[0m \u001b[1;31m# defaults to 'en'\u001b[0m\u001b[1;33m\u001b[0m\u001b[1;33m\u001b[0m\u001b[0m\n",
      "\u001b[1;32m~\\anaconda3\\lib\\site-packages\\google_play_scraper\\features\\reviews.py\u001b[0m in \u001b[0;36mreviews\u001b[1;34m(app_id, lang, country, sort, count, filter_score_with, continuation_token)\u001b[0m\n\u001b[0;32m     91\u001b[0m \u001b[1;33m\u001b[0m\u001b[0m\n\u001b[0;32m     92\u001b[0m         \u001b[1;32mtry\u001b[0m\u001b[1;33m:\u001b[0m\u001b[1;33m\u001b[0m\u001b[1;33m\u001b[0m\u001b[0m\n\u001b[1;32m---> 93\u001b[1;33m             review_items, token = _fetch_review_items(\n\u001b[0m\u001b[0;32m     94\u001b[0m                 \u001b[0murl\u001b[0m\u001b[1;33m,\u001b[0m \u001b[0mapp_id\u001b[0m\u001b[1;33m,\u001b[0m \u001b[0msort\u001b[0m\u001b[1;33m,\u001b[0m \u001b[0m_fetch_count\u001b[0m\u001b[1;33m,\u001b[0m \u001b[0mfilter_score_with\u001b[0m\u001b[1;33m,\u001b[0m \u001b[0mtoken\u001b[0m\u001b[1;33m\u001b[0m\u001b[1;33m\u001b[0m\u001b[0m\n\u001b[0;32m     95\u001b[0m             )\n",
      "\u001b[1;32m~\\anaconda3\\lib\\site-packages\\google_play_scraper\\features\\reviews.py\u001b[0m in \u001b[0;36m_fetch_review_items\u001b[1;34m(url, app_id, sort, count, filter_score_with, pagination_token)\u001b[0m\n\u001b[0;32m     48\u001b[0m     \u001b[0mmatch\u001b[0m \u001b[1;33m=\u001b[0m \u001b[0mjson\u001b[0m\u001b[1;33m.\u001b[0m\u001b[0mloads\u001b[0m\u001b[1;33m(\u001b[0m\u001b[0mRegex\u001b[0m\u001b[1;33m.\u001b[0m\u001b[0mREVIEWS\u001b[0m\u001b[1;33m.\u001b[0m\u001b[0mfindall\u001b[0m\u001b[1;33m(\u001b[0m\u001b[0mdom\u001b[0m\u001b[1;33m)\u001b[0m\u001b[1;33m[\u001b[0m\u001b[1;36m0\u001b[0m\u001b[1;33m]\u001b[0m\u001b[1;33m)\u001b[0m\u001b[1;33m\u001b[0m\u001b[1;33m\u001b[0m\u001b[0m\n\u001b[0;32m     49\u001b[0m \u001b[1;33m\u001b[0m\u001b[0m\n\u001b[1;32m---> 50\u001b[1;33m     \u001b[1;32mreturn\u001b[0m \u001b[0mjson\u001b[0m\u001b[1;33m.\u001b[0m\u001b[0mloads\u001b[0m\u001b[1;33m(\u001b[0m\u001b[0mmatch\u001b[0m\u001b[1;33m[\u001b[0m\u001b[1;36m0\u001b[0m\u001b[1;33m]\u001b[0m\u001b[1;33m[\u001b[0m\u001b[1;36m2\u001b[0m\u001b[1;33m]\u001b[0m\u001b[1;33m)\u001b[0m\u001b[1;33m[\u001b[0m\u001b[1;36m0\u001b[0m\u001b[1;33m]\u001b[0m\u001b[1;33m,\u001b[0m \u001b[0mjson\u001b[0m\u001b[1;33m.\u001b[0m\u001b[0mloads\u001b[0m\u001b[1;33m(\u001b[0m\u001b[0mmatch\u001b[0m\u001b[1;33m[\u001b[0m\u001b[1;36m0\u001b[0m\u001b[1;33m]\u001b[0m\u001b[1;33m[\u001b[0m\u001b[1;36m2\u001b[0m\u001b[1;33m]\u001b[0m\u001b[1;33m)\u001b[0m\u001b[1;33m[\u001b[0m\u001b[1;33m-\u001b[0m\u001b[1;36m1\u001b[0m\u001b[1;33m]\u001b[0m\u001b[1;33m[\u001b[0m\u001b[1;33m-\u001b[0m\u001b[1;36m1\u001b[0m\u001b[1;33m]\u001b[0m\u001b[1;33m\u001b[0m\u001b[1;33m\u001b[0m\u001b[0m\n\u001b[0m\u001b[0;32m     51\u001b[0m \u001b[1;33m\u001b[0m\u001b[0m\n\u001b[0;32m     52\u001b[0m \u001b[1;33m\u001b[0m\u001b[0m\n",
      "\u001b[1;32m~\\anaconda3\\lib\\json\\__init__.py\u001b[0m in \u001b[0;36mloads\u001b[1;34m(s, cls, object_hook, parse_float, parse_int, parse_constant, object_pairs_hook, **kw)\u001b[0m\n\u001b[0;32m    355\u001b[0m             \u001b[0mparse_int\u001b[0m \u001b[1;32mis\u001b[0m \u001b[1;32mNone\u001b[0m \u001b[1;32mand\u001b[0m \u001b[0mparse_float\u001b[0m \u001b[1;32mis\u001b[0m \u001b[1;32mNone\u001b[0m \u001b[1;32mand\u001b[0m\u001b[1;33m\u001b[0m\u001b[1;33m\u001b[0m\u001b[0m\n\u001b[0;32m    356\u001b[0m             parse_constant is None and object_pairs_hook is None and not kw):\n\u001b[1;32m--> 357\u001b[1;33m         \u001b[1;32mreturn\u001b[0m \u001b[0m_default_decoder\u001b[0m\u001b[1;33m.\u001b[0m\u001b[0mdecode\u001b[0m\u001b[1;33m(\u001b[0m\u001b[0ms\u001b[0m\u001b[1;33m)\u001b[0m\u001b[1;33m\u001b[0m\u001b[1;33m\u001b[0m\u001b[0m\n\u001b[0m\u001b[0;32m    358\u001b[0m     \u001b[1;32mif\u001b[0m \u001b[0mcls\u001b[0m \u001b[1;32mis\u001b[0m \u001b[1;32mNone\u001b[0m\u001b[1;33m:\u001b[0m\u001b[1;33m\u001b[0m\u001b[1;33m\u001b[0m\u001b[0m\n\u001b[0;32m    359\u001b[0m         \u001b[0mcls\u001b[0m \u001b[1;33m=\u001b[0m \u001b[0mJSONDecoder\u001b[0m\u001b[1;33m\u001b[0m\u001b[1;33m\u001b[0m\u001b[0m\n",
      "\u001b[1;32m~\\anaconda3\\lib\\json\\decoder.py\u001b[0m in \u001b[0;36mdecode\u001b[1;34m(self, s, _w)\u001b[0m\n\u001b[0;32m    335\u001b[0m \u001b[1;33m\u001b[0m\u001b[0m\n\u001b[0;32m    336\u001b[0m         \"\"\"\n\u001b[1;32m--> 337\u001b[1;33m         \u001b[0mobj\u001b[0m\u001b[1;33m,\u001b[0m \u001b[0mend\u001b[0m \u001b[1;33m=\u001b[0m \u001b[0mself\u001b[0m\u001b[1;33m.\u001b[0m\u001b[0mraw_decode\u001b[0m\u001b[1;33m(\u001b[0m\u001b[0ms\u001b[0m\u001b[1;33m,\u001b[0m \u001b[0midx\u001b[0m\u001b[1;33m=\u001b[0m\u001b[0m_w\u001b[0m\u001b[1;33m(\u001b[0m\u001b[0ms\u001b[0m\u001b[1;33m,\u001b[0m \u001b[1;36m0\u001b[0m\u001b[1;33m)\u001b[0m\u001b[1;33m.\u001b[0m\u001b[0mend\u001b[0m\u001b[1;33m(\u001b[0m\u001b[1;33m)\u001b[0m\u001b[1;33m)\u001b[0m\u001b[1;33m\u001b[0m\u001b[1;33m\u001b[0m\u001b[0m\n\u001b[0m\u001b[0;32m    338\u001b[0m         \u001b[0mend\u001b[0m \u001b[1;33m=\u001b[0m \u001b[0m_w\u001b[0m\u001b[1;33m(\u001b[0m\u001b[0ms\u001b[0m\u001b[1;33m,\u001b[0m \u001b[0mend\u001b[0m\u001b[1;33m)\u001b[0m\u001b[1;33m.\u001b[0m\u001b[0mend\u001b[0m\u001b[1;33m(\u001b[0m\u001b[1;33m)\u001b[0m\u001b[1;33m\u001b[0m\u001b[1;33m\u001b[0m\u001b[0m\n\u001b[0;32m    339\u001b[0m         \u001b[1;32mif\u001b[0m \u001b[0mend\u001b[0m \u001b[1;33m!=\u001b[0m \u001b[0mlen\u001b[0m\u001b[1;33m(\u001b[0m\u001b[0ms\u001b[0m\u001b[1;33m)\u001b[0m\u001b[1;33m:\u001b[0m\u001b[1;33m\u001b[0m\u001b[1;33m\u001b[0m\u001b[0m\n",
      "\u001b[1;32m~\\anaconda3\\lib\\json\\decoder.py\u001b[0m in \u001b[0;36mraw_decode\u001b[1;34m(self, s, idx)\u001b[0m\n\u001b[0;32m    351\u001b[0m         \"\"\"\n\u001b[0;32m    352\u001b[0m         \u001b[1;32mtry\u001b[0m\u001b[1;33m:\u001b[0m\u001b[1;33m\u001b[0m\u001b[1;33m\u001b[0m\u001b[0m\n\u001b[1;32m--> 353\u001b[1;33m             \u001b[0mobj\u001b[0m\u001b[1;33m,\u001b[0m \u001b[0mend\u001b[0m \u001b[1;33m=\u001b[0m \u001b[0mself\u001b[0m\u001b[1;33m.\u001b[0m\u001b[0mscan_once\u001b[0m\u001b[1;33m(\u001b[0m\u001b[0ms\u001b[0m\u001b[1;33m,\u001b[0m \u001b[0midx\u001b[0m\u001b[1;33m)\u001b[0m\u001b[1;33m\u001b[0m\u001b[1;33m\u001b[0m\u001b[0m\n\u001b[0m\u001b[0;32m    354\u001b[0m         \u001b[1;32mexcept\u001b[0m \u001b[0mStopIteration\u001b[0m \u001b[1;32mas\u001b[0m \u001b[0merr\u001b[0m\u001b[1;33m:\u001b[0m\u001b[1;33m\u001b[0m\u001b[1;33m\u001b[0m\u001b[0m\n\u001b[0;32m    355\u001b[0m             \u001b[1;32mraise\u001b[0m \u001b[0mJSONDecodeError\u001b[0m\u001b[1;33m(\u001b[0m\u001b[1;34m\"Expecting value\"\u001b[0m\u001b[1;33m,\u001b[0m \u001b[0ms\u001b[0m\u001b[1;33m,\u001b[0m \u001b[0merr\u001b[0m\u001b[1;33m.\u001b[0m\u001b[0mvalue\u001b[0m\u001b[1;33m)\u001b[0m \u001b[1;32mfrom\u001b[0m \u001b[1;32mNone\u001b[0m\u001b[1;33m\u001b[0m\u001b[1;33m\u001b[0m\u001b[0m\n",
      "\u001b[1;31mKeyboardInterrupt\u001b[0m: "
     ]
    }
   ],
   "source": [
    "from google_play_scraper import Sort, reviews, app\n",
    "\n",
    "result, continuation_token = reviews(\n",
    "    'com.idfcfirstbank.optimus',\n",
    "    lang='en', # defaults to 'en'\n",
    "    country='IN', # defaults to 'us'\n",
    "    sort=Sort.NEWEST, # defaults to Sort.NEWEST\n",
    "    count=30000, # defaults to 100\n",
    "    #filter_score_with=5 # defaults to None(means all score)\n",
    ")\n",
    "idfc=pd.json_normalize(result)"
   ]
  },
  {
   "cell_type": "code",
   "execution_count": 55,
   "metadata": {},
   "outputs": [
    {
     "data": {
      "text/plain": [
       "4.122807712102617"
      ]
     },
     "execution_count": 55,
     "metadata": {},
     "output_type": "execute_result"
    }
   ],
   "source": [
    "idfc['score'].mean()"
   ]
  },
  {
   "cell_type": "code",
   "execution_count": 81,
   "metadata": {},
   "outputs": [
    {
     "data": {
      "text/plain": [
       "(25259, 10)"
      ]
     },
     "execution_count": 81,
     "metadata": {},
     "output_type": "execute_result"
    }
   ],
   "source": [
    "idfc.shape"
   ]
  },
  {
   "cell_type": "code",
   "execution_count": 69,
   "metadata": {},
   "outputs": [],
   "source": [
    "filt=idfc['content'].apply(lambda x: True if len(x)<10 else False)"
   ]
  },
  {
   "cell_type": "code",
   "execution_count": 71,
   "metadata": {},
   "outputs": [
    {
     "name": "stderr",
     "output_type": "stream",
     "text": [
      "<ipython-input-71-533447b70f37>:1: UserWarning: Boolean Series key will be reindexed to match DataFrame index.\n",
      "  idfc[['content','score']][filt][idfc['score']<3]#[np.where(len(idfc['content'])<10,True,False)]#.unique()\n"
     ]
    },
    {
     "data": {
      "text/html": [
       "<div>\n",
       "<style scoped>\n",
       "    .dataframe tbody tr th:only-of-type {\n",
       "        vertical-align: middle;\n",
       "    }\n",
       "\n",
       "    .dataframe tbody tr th {\n",
       "        vertical-align: top;\n",
       "    }\n",
       "\n",
       "    .dataframe thead th {\n",
       "        text-align: right;\n",
       "    }\n",
       "</style>\n",
       "<table border=\"1\" class=\"dataframe\">\n",
       "  <thead>\n",
       "    <tr style=\"text-align: right;\">\n",
       "      <th></th>\n",
       "      <th>content</th>\n",
       "      <th>score</th>\n",
       "    </tr>\n",
       "  </thead>\n",
       "  <tbody>\n",
       "    <tr>\n",
       "      <th>29</th>\n",
       "      <td>🥰💕☕</td>\n",
       "      <td>2</td>\n",
       "    </tr>\n",
       "    <tr>\n",
       "      <th>168</th>\n",
       "      <td>Fake app</td>\n",
       "      <td>1</td>\n",
       "    </tr>\n",
       "    <tr>\n",
       "      <th>292</th>\n",
       "      <td>Worst app</td>\n",
       "      <td>1</td>\n",
       "    </tr>\n",
       "    <tr>\n",
       "      <th>298</th>\n",
       "      <td>Good</td>\n",
       "      <td>1</td>\n",
       "    </tr>\n",
       "    <tr>\n",
       "      <th>1406</th>\n",
       "      <td>Worst app</td>\n",
       "      <td>1</td>\n",
       "    </tr>\n",
       "    <tr>\n",
       "      <th>...</th>\n",
       "      <td>...</td>\n",
       "      <td>...</td>\n",
       "    </tr>\n",
       "    <tr>\n",
       "      <th>23634</th>\n",
       "      <td>good</td>\n",
       "      <td>1</td>\n",
       "    </tr>\n",
       "    <tr>\n",
       "      <th>23771</th>\n",
       "      <td>poor</td>\n",
       "      <td>1</td>\n",
       "    </tr>\n",
       "    <tr>\n",
       "      <th>24456</th>\n",
       "      <td>Good</td>\n",
       "      <td>2</td>\n",
       "    </tr>\n",
       "    <tr>\n",
       "      <th>24488</th>\n",
       "      <td>Bad app</td>\n",
       "      <td>1</td>\n",
       "    </tr>\n",
       "    <tr>\n",
       "      <th>24849</th>\n",
       "      <td>No word</td>\n",
       "      <td>1</td>\n",
       "    </tr>\n",
       "  </tbody>\n",
       "</table>\n",
       "<p>468 rows × 2 columns</p>\n",
       "</div>"
      ],
      "text/plain": [
       "         content  score\n",
       "29           🥰💕☕      2\n",
       "168     Fake app      1\n",
       "292    Worst app      1\n",
       "298         Good      1\n",
       "1406   Worst app      1\n",
       "...          ...    ...\n",
       "23634       good      1\n",
       "23771       poor      1\n",
       "24456       Good      2\n",
       "24488    Bad app      1\n",
       "24849    No word      1\n",
       "\n",
       "[468 rows x 2 columns]"
      ]
     },
     "execution_count": 71,
     "metadata": {},
     "output_type": "execute_result"
    }
   ],
   "source": [
    "idfc[['content','score']][filt][idfc['score']<3]#[np.where(len(idfc['content'])<10,True,False)]#.unique()"
   ]
  },
  {
   "cell_type": "code",
   "execution_count": 5,
   "metadata": {},
   "outputs": [
    {
     "name": "stdout",
     "output_type": "stream",
     "text": [
      "Requirement already satisfied: google-play-scraper in c:\\users\\91882\\anaconda3\\lib\\site-packages (1.2.0)\n",
      "Note: you may need to restart the kernel to use updated packages.\n"
     ]
    }
   ],
   "source": [
    "pip install google-play-scraper"
   ]
  },
  {
   "cell_type": "code",
   "execution_count": 2,
   "metadata": {},
   "outputs": [
    {
     "name": "stderr",
     "output_type": "stream",
     "text": [
      "ERROR: Could not find a version that satisfies the requirement google_play_scrapper (from versions: none)\n",
      "ERROR: No matching distribution found for google_play_scrapper\n"
     ]
    }
   ],
   "source": [
    "!pip install google_play_scrapper"
   ]
  },
  {
   "cell_type": "code",
   "execution_count": 3,
   "metadata": {},
   "outputs": [
    {
     "data": {
      "text/plain": [
       "<module 'google_play_scraper' from 'C:\\\\Users\\\\91882\\\\anaconda3\\\\lib\\\\site-packages\\\\google_play_scraper\\\\__init__.py'>"
      ]
     },
     "execution_count": 3,
     "metadata": {},
     "output_type": "execute_result"
    }
   ],
   "source": [
    "### reviews getter\n",
    "google_play_scraper"
   ]
  },
  {
   "cell_type": "code",
   "execution_count": 2,
   "metadata": {},
   "outputs": [
    {
     "data": {
      "text/plain": [
       "{'title': None,\n",
       " 'description': None,\n",
       " 'descriptionHTML': None,\n",
       " 'summary': None,\n",
       " 'installs': None,\n",
       " 'minInstalls': None,\n",
       " 'realInstalls': None,\n",
       " 'score': None,\n",
       " 'ratings': None,\n",
       " 'reviews': None,\n",
       " 'histogram': [0, 0, 0, 0, 0],\n",
       " 'price': None,\n",
       " 'free': None,\n",
       " 'currency': None,\n",
       " 'sale': False,\n",
       " 'saleTime': None,\n",
       " 'originalPrice': None,\n",
       " 'saleText': None,\n",
       " 'offersIAP': False,\n",
       " 'inAppProductPrice': None,\n",
       " 'developer': None,\n",
       " 'developerId': None,\n",
       " 'developerEmail': None,\n",
       " 'developerWebsite': None,\n",
       " 'developerAddress': None,\n",
       " 'privacyPolicy': None,\n",
       " 'genre': None,\n",
       " 'genreId': None,\n",
       " 'icon': None,\n",
       " 'headerImage': None,\n",
       " 'screenshots': [],\n",
       " 'video': None,\n",
       " 'videoImage': None,\n",
       " 'contentRating': None,\n",
       " 'contentRatingDescription': None,\n",
       " 'adSupported': None,\n",
       " 'containsAds': False,\n",
       " 'released': None,\n",
       " 'updated': None,\n",
       " 'version': 'Varies with device',\n",
       " 'recentChanges': None,\n",
       " 'recentChangesHTML': None,\n",
       " 'comments': [],\n",
       " 'appId': 'com.idfcfirstbank.optimus',\n",
       " 'url': 'https://play.google.com/store/apps/details?id=com.idfcfirstbank.optimus&hl=en&gl=IN'}"
      ]
     },
     "execution_count": 2,
     "metadata": {},
     "output_type": "execute_result"
    }
   ],
   "source": [
    "import google_play_scraper\n",
    "google_play_scraper.app('com.idfcfirstbank.optimus',   #'com.msf.kbank.mobile',\n",
    "    lang='en', # defaults to 'en'\n",
    "    country='IN')"
   ]
  },
  {
   "cell_type": "code",
   "execution_count": null,
   "metadata": {},
   "outputs": [],
   "source": []
  },
  {
   "cell_type": "code",
   "execution_count": null,
   "metadata": {},
   "outputs": [],
   "source": []
  },
  {
   "cell_type": "code",
   "execution_count": 32,
   "metadata": {},
   "outputs": [],
   "source": [
    "info=google_play_scraper.app(    'com.msf.kbank.mobile',\n",
    "    lang='en', # defaults to 'en'\n",
    "    country='us')"
   ]
  },
  {
   "cell_type": "code",
   "execution_count": 45,
   "metadata": {},
   "outputs": [
    {
     "data": {
      "text/plain": [
       "dict_keys(['title', 'description', 'descriptionHTML', 'summary', 'installs', 'minInstalls', 'realInstalls', 'score', 'ratings', 'reviews', 'histogram', 'price', 'free', 'currency', 'sale', 'saleTime', 'originalPrice', 'saleText', 'offersIAP', 'inAppProductPrice', 'developer', 'developerId', 'developerEmail', 'developerWebsite', 'developerAddress', 'privacyPolicy', 'genre', 'genreId', 'icon', 'headerImage', 'screenshots', 'video', 'videoImage', 'contentRating', 'contentRatingDescription', 'adSupported', 'containsAds', 'released', 'updated', 'version', 'recentChanges', 'recentChangesHTML', 'comments', 'appId', 'url'])"
      ]
     },
     "execution_count": 45,
     "metadata": {},
     "output_type": "execute_result"
    }
   ],
   "source": [
    "info.keys()"
   ]
  },
  {
   "cell_type": "code",
   "execution_count": 43,
   "metadata": {},
   "outputs": [
    {
     "data": {
      "text/plain": [
       "4.336291570916113"
      ]
     },
     "execution_count": 43,
     "metadata": {},
     "output_type": "execute_result"
    }
   ],
   "source": [
    "import numpy as np\n",
    "np.dot(np.transpose(info['histogram']),[1,2,3,4,5])/np.sum(info['histogram'])"
   ]
  },
  {
   "cell_type": "code",
   "execution_count": 40,
   "metadata": {},
   "outputs": [
    {
     "data": {
      "text/plain": [
       "4809897"
      ]
     },
     "execution_count": 40,
     "metadata": {},
     "output_type": "execute_result"
    }
   ],
   "source": [
    "k=0\n",
    "sum=0\n",
    "for i in info['histogram']:\n",
    "    k=k+1\n",
    "    sum+=i*k\n",
    "sum/sum(info)"
   ]
  },
  {
   "cell_type": "code",
   "execution_count": null,
   "metadata": {},
   "outputs": [],
   "source": [
    "from bs4 import BeautifulSoup\n",
    "r = requests.get(\"url\");\n",
    "# optionally check status code here\n",
    "soup = BeautifulSoup(r.text)"
   ]
  },
  {
   "cell_type": "code",
   "execution_count": null,
   "metadata": {},
   "outputs": [],
   "source": []
  },
  {
   "cell_type": "code",
   "execution_count": 6,
   "metadata": {},
   "outputs": [
    {
     "ename": "IndexError",
     "evalue": "list index out of range",
     "output_type": "error",
     "traceback": [
      "\u001b[1;31m---------------------------------------------------------------------------\u001b[0m",
      "\u001b[1;31mIndexError\u001b[0m                                Traceback (most recent call last)",
      "\u001b[1;32m<ipython-input-6-758e3e1edad1>\u001b[0m in \u001b[0;36m<module>\u001b[1;34m\u001b[0m\n\u001b[0;32m     66\u001b[0m     \u001b[1;32mreturn\u001b[0m \u001b[0mapp_data\u001b[0m\u001b[1;33m\u001b[0m\u001b[1;33m\u001b[0m\u001b[0m\n\u001b[0;32m     67\u001b[0m \u001b[1;33m\u001b[0m\u001b[0m\n\u001b[1;32m---> 68\u001b[1;33m \u001b[0mprint\u001b[0m\u001b[1;33m(\u001b[0m\u001b[0mjson\u001b[0m\u001b[1;33m.\u001b[0m\u001b[0mdumps\u001b[0m\u001b[1;33m(\u001b[0m\u001b[0mscrape_google_play_app\u001b[0m\u001b[1;33m(\u001b[0m\u001b[0mappname\u001b[0m\u001b[1;33m=\u001b[0m\u001b[1;34m\"com.nintendo.zara\"\u001b[0m\u001b[1;33m)\u001b[0m\u001b[1;33m,\u001b[0m \u001b[0mindent\u001b[0m\u001b[1;33m=\u001b[0m\u001b[1;36m2\u001b[0m\u001b[1;33m)\u001b[0m\u001b[1;33m)\u001b[0m\u001b[1;33m\u001b[0m\u001b[1;33m\u001b[0m\u001b[0m\n\u001b[0m",
      "\u001b[1;32m<ipython-input-6-758e3e1edad1>\u001b[0m in \u001b[0;36mscrape_google_play_app\u001b[1;34m(appname)\u001b[0m\n\u001b[0;32m     25\u001b[0m     \u001b[1;31m# [12] index is a basic app information\u001b[0m\u001b[1;33m\u001b[0m\u001b[1;33m\u001b[0m\u001b[1;33m\u001b[0m\u001b[0m\n\u001b[0;32m     26\u001b[0m     \u001b[1;31m# https://regex101.com/r/DrK0ih/1\u001b[0m\u001b[1;33m\u001b[0m\u001b[1;33m\u001b[0m\u001b[1;33m\u001b[0m\u001b[0m\n\u001b[1;32m---> 27\u001b[1;33m     basic_app_info = json.loads(re.findall(r\"<script nonce=\\\".*\\\" type=\\\"application/ld\\+json\\\">(.*?)</script>\",\n\u001b[0m\u001b[0;32m     28\u001b[0m                                             str(soup.select(\"script\")[12]), re.DOTALL)[0])\n\u001b[0;32m     29\u001b[0m \u001b[1;33m\u001b[0m\u001b[0m\n",
      "\u001b[1;31mIndexError\u001b[0m: list index out of range"
     ]
    }
   ],
   "source": [
    "from bs4 import BeautifulSoup\n",
    "import requests, lxml, re, json\n",
    "appname='com.msf.kbank.mobile'\n",
    "\n",
    "def scrape_google_play_app(appname):# -> dict[str, Union[list[dict[str, float]]:\n",
    "\n",
    "    headers = {\n",
    "        \"user-agent\":\n",
    "        \"Mozilla/5.0 (Windows NT 10.0; Win64; x64) AppleWebKit/537.36 (KHTML, like Gecko) Chrome/97.0.4692.71 Safari/537.36\"\n",
    "    }\n",
    "\n",
    "    params = {\n",
    "        \"id\": appname,\n",
    "        \"gl\": \"us\"      # country\n",
    "        # other search parameters\n",
    "    }\n",
    "\n",
    "    html = requests.get(\"https://play.google.com/store/apps/details\", params=params, headers=headers, timeout=10)\n",
    "    soup = BeautifulSoup(html.text, \"lxml\")\n",
    "\n",
    "    # where all app data will be stored\n",
    "    app_data = []\n",
    "\n",
    "    # <script> position is not changing that's why [12] index being selected. Other <script> tags position are changing.\n",
    "    # [12] index is a basic app information\n",
    "    # https://regex101.com/r/DrK0ih/1\n",
    "    basic_app_info = json.loads(re.findall(r\"<script nonce=\\\".*\\\" type=\\\"application/ld\\+json\\\">(.*?)</script>\",\n",
    "                                            str(soup.select(\"script\")[12]), re.DOTALL)[0])\n",
    "\n",
    "    app_name = basic_app_info[\"name\"]\n",
    "    app_type = basic_app_info[\"@type\"]\n",
    "    app_url = basic_app_info[\"url\"]\n",
    "    app_description = basic_app_info[\"description\"].replace(\"\\n\", \"\")  # replace new line character to nothing\n",
    "    app_category = basic_app_info[\"applicationCategory\"]\n",
    "    app_operating_system = basic_app_info[\"operatingSystem\"]\n",
    "    app_main_thumbnail = basic_app_info[\"image\"]\n",
    "\n",
    "    app_content_rating = basic_app_info[\"contentRating\"]\n",
    "    app_rating = round(float(basic_app_info[\"aggregateRating\"][\"ratingValue\"]), 1)  # 4.287856 -> 4.3\n",
    "    app_reviews = basic_app_info[\"aggregateRating\"][\"ratingCount\"]\n",
    "\n",
    "    app_author = basic_app_info[\"author\"][\"name\"]\n",
    "    app_author_url = basic_app_info[\"author\"][\"url\"]\n",
    "\n",
    "    # https://regex101.com/r/VX8E7U/1\n",
    "    app_images_data = re.findall(r\",\\[\\d{3,4},\\d{3,4}\\],.*?(https.*?)\\\"\", str(soup.select(\"script\")))\n",
    "    # delete duplicates from app_images_data\n",
    "    app_images = [item for item in app_images_data if app_images_data.count(item) == 1]\n",
    "\n",
    "    app_data.append({\n",
    "        \"app_name\": app_name,\n",
    "        \"app_type\": app_type,\n",
    "        \"app_url\": app_url,\n",
    "        \"app_main_thumbnail\": app_main_thumbnail,\n",
    "        \"app_description\": app_description,\n",
    "        \"app_content_rating\": app_content_rating,\n",
    "        \"app_category\": app_category,\n",
    "        \"app_operating_system\": app_operating_system,\n",
    "        \"app_rating\": app_rating,\n",
    "        \"app_reviews\": app_reviews,\n",
    "        \"app_author\": app_author,\n",
    "        \"app_author_url\": app_author_url,\n",
    "        \"app_screenshots\": app_images\n",
    "    })\n",
    "\n",
    "    return app_data\n",
    "\n",
    "print(json.dumps(scrape_google_play_app(appname=\"com.nintendo.zara\"), indent=2))\n"
   ]
  },
  {
   "cell_type": "code",
   "execution_count": null,
   "metadata": {},
   "outputs": [],
   "source": []
  },
  {
   "cell_type": "code",
   "execution_count": null,
   "metadata": {},
   "outputs": [],
   "source": []
  },
  {
   "cell_type": "code",
   "execution_count": null,
   "metadata": {},
   "outputs": [],
   "source": []
  },
  {
   "cell_type": "code",
   "execution_count": null,
   "metadata": {},
   "outputs": [],
   "source": []
  },
  {
   "cell_type": "code",
   "execution_count": null,
   "metadata": {},
   "outputs": [],
   "source": [
    "def scrape_google_play_app(appname: str) -> dict[str, Union[list[dict[str, float]]:"
   ]
  },
  {
   "cell_type": "code",
   "execution_count": null,
   "metadata": {},
   "outputs": [],
   "source": [
    "headers = {\n",
    "    \"user-agent\":\n",
    "    \"Mozilla/5.0 (Windows NT 10.0; Win64; x64) AppleWebKit/537.36 (KHTML, like Gecko) Chrome/97.0.4692.71 Safari/537.36\"\n",
    "}\n",
    "\n",
    "params = {\n",
    "    \"id\": appname,  # app name\n",
    "    \"gl\": \"US\"      # country\n",
    "}"
   ]
  },
  {
   "cell_type": "code",
   "execution_count": null,
   "metadata": {},
   "outputs": [],
   "source": [
    "html = requests.get(\"https://play.google.com/store/apps/details\", params=params, headers=headers, timeout=10)\n",
    "soup = BeautifulSoup(html.text, \"lxml\")"
   ]
  },
  {
   "cell_type": "code",
   "execution_count": null,
   "metadata": {},
   "outputs": [],
   "source": [
    "app_name = basic_app_info[\"name\"]\n",
    "app_type = basic_app_info[\"@type\"]\n",
    "app_url = basic_app_info[\"url\"]\n",
    "app_description = basic_app_info[\"description\"].replace(\"\\n\", \"\")  # replace new line character to nothing\n",
    "app_category = basic_app_info[\"applicationCategory\"]\n",
    "app_operating_system = basic_app_info[\"operatingSystem\"]\n",
    "app_main_thumbnail = basic_app_info[\"image\"]\n",
    "\n",
    "app_content_rating = basic_app_info[\"contentRating\"]\n",
    "app_rating = round(float(basic_app_info[\"aggregateRating\"][\"ratingValue\"]), 1)  # 4.287856 -> 4.3\n",
    "app_reviews = basic_app_info[\"aggregateRating\"][\"ratingCount\"]\n",
    "\n",
    "app_author = basic_app_info[\"author\"][\"name\"]"
   ]
  },
  {
   "cell_type": "code",
   "execution_count": null,
   "metadata": {},
   "outputs": [],
   "source": [
    "# https://regex101.com/r/VX8E7U/1\n",
    "app_images_data = re.findall(r\",\\[\\d{3,4},\\d{3,4}\\],.*?(https.*?)\\\"\", str(soup.select(\"script\")))\n",
    "# delete duplicates from app_images_data\n",
    "app_images = [item for item in app_images_data if app_images_data.count(item) == 1]"
   ]
  },
  {
   "cell_type": "code",
   "execution_count": null,
   "metadata": {},
   "outputs": [],
   "source": [
    "app_data.append({\n",
    "    \"app_name\": app_name,\n",
    "    \"app_type\": app_type,\n",
    "    \"app_url\": app_url,\n",
    "    \"app_main_thumbnail\": app_main_thumbnail,\n",
    "    \"app_description\": app_description,\n",
    "    \"app_content_rating\": app_content_rating,\n",
    "    \"app_category\": app_category,\n",
    "    \"app_operating_system\": app_operating_system,\n",
    "    \"app_rating\": app_rating,\n",
    "    \"app_reviews\": app_reviews,\n",
    "    \"app_author\": app_author,\n",
    "    \"app_author_url\": app_author_url,\n",
    "    \"app_screenshots\": app_images\n",
    "})\n",
    "\n",
    "return app_data"
   ]
  },
  {
   "cell_type": "code",
   "execution_count": null,
   "metadata": {},
   "outputs": [],
   "source": []
  },
  {
   "cell_type": "code",
   "execution_count": 22,
   "metadata": {},
   "outputs": [
    {
     "name": "stdout",
     "output_type": "stream",
     "text": [
      "2\n",
      "[]\n"
     ]
    }
   ],
   "source": [
    "scrape_google_store_app()"
   ]
  },
  {
   "cell_type": "code",
   "execution_count": 21,
   "metadata": {},
   "outputs": [],
   "source": [
    "from bs4 import BeautifulSoup\n",
    "import requests, lxml, re, json\n",
    "from datetime import datetime\n",
    "# user-agent headers to act as a \"real\" user visit\n",
    "headers = {\n",
    "    \"user-agent\":\n",
    "    \"Mozilla/5.0 (Windows NT 10.0; Win64; x64) AppleWebKit/537.36 (KHTML, like Gecko) Chrome/97.0.4692.71 Safari/537.36\"\n",
    "}\n",
    "# search query params\n",
    "params = {\n",
    "    \"id\": \"com.snapwork.hdfc\",  # app name\n",
    "    \"gl\": \"IN\"  # country\n",
    "}\n",
    "def scrape_google_store_app():\n",
    "    html = requests.get(\"https://play.google.com/store/apps\", params=params, headers=headers, timeout=10).text\n",
    "    soup = BeautifulSoup(html, \"lxml\")\n",
    "    print(len(soup))\n",
    "    #print(soup)\n",
    "    # where all app data will be stored\n",
    "    app_data = []\n",
    "    # <script> position is not changing that's why [12] index being selected. Other <script> tags position are changing.\n",
    "    # [12] index is a basic app information\n",
    "    # https://regex101.com/r/DrK0ih/1\n",
    "#     basic_app_info = json.loads(re.findall(r\"<script nonce=\\\".*\\\" type=\\\"application/ld\\+json\\\">(.*?)</script>\",\n",
    "#       str(soup.select(\"script\")[12]), re.DOTALL)[0])\n",
    "    print(re.findall(r\"<script nonce=\\\".*\\\" type=\\\"application/ld\\+json\\\">(.*?)</script>\",str(soup.select(\"script\")[12])))\n",
    "#     print(basic_app_info)\n",
    "#     app_name = basic_app_info[\"name\"]\n",
    "#     app_type = basic_app_info[\"@type\"]\n",
    "#     app_url = basic_app_info[\"url\"]\n",
    "#     app_description = basic_app_info[\"description\"].replace(\"\\n\", \"\")  # replace new line character to nothing\n",
    "#     app_category = basic_app_info[\"applicationCategory\"]\n",
    "#     app_operating_system = basic_app_info[\"operatingSystem\"]\n",
    "#     app_main_thumbnail = basic_app_info[\"image\"]\n",
    "#     app_content_rating = basic_app_info[\"contentRating\"]\n",
    "#     app_rating = round(float(basic_app_info[\"aggregateRating\"][\"ratingValue\"]), 1)  # 4.287856 -> 4.3\n",
    "#     app_reviews = basic_app_info[\"aggregateRating\"][\"ratingCount\"]\n",
    "#     app_author = basic_app_info[\"author\"][\"name\"]\n",
    "#     app_author_url = basic_app_info[\"author\"][\"url\"]\n",
    "#     # https://regex101.com/r/VX8E7U/1\n",
    "#     app_images_data = re.findall(r\",\\[\\d{3,4},\\d{3,4}\\],.*?(https.*?)\\\"\", str(soup.select(\"script\")))\n",
    "#     # delete duplicates from app_images_data\n",
    "#     app_images = [item for item in app_images_data if app_images_data.count(item) == 1]\n",
    "#     # User comments\n",
    "#     app_user_comments = []\n",
    "#     # https://regex101.com/r/SrP5DS/1\n",
    "#     app_user_reviews_data = re.findall(r\"(\\[\\\"gp.*?);</script>\",\n",
    "#                                        str(soup.select(\"script\")), re.DOTALL)\n",
    "#     for review in app_user_reviews_data:\n",
    "#         # https://regex101.com/r/M24tiM/1\n",
    "#         user_name = re.findall(r\"\\\"gp:.*?\\\",\\s?\\[\\\"(.*?)\\\",\", str(review))\n",
    "#         # https://regex101.com/r/TGgR45/1\n",
    "#         user_avatar = [avatar.replace('\"', \"\") for avatar in re.findall(r\"\\\"gp:.*?\\\"(https.*?\\\")\", str(review))]\n",
    "#         # replace single/double quotes at the start/end of a string\n",
    "#         # https://regex101.com/r/iHPOrI/1\n",
    "#         user_comments = [comment.replace('\"', \"\").replace(\"'\", \"\") for comment in\n",
    "#                         re.findall(r\"gp:.*?https:.*?]]],\\s?\\d+?,.*?,\\s?(.*?),\\s?\\[\\d+,\", str(review))]\n",
    "#         # comment utc timestamp\n",
    "#         # use datetime.utcfromtimestamp(int(date)).date() to have only a date\n",
    "#         user_comment_date = [str(datetime.utcfromtimestamp(int(date))) for date in re.findall(r\"\\[(\\d+),\", str(review))]\n",
    "#         # https://regex101.com/r/GrbH9A/1\n",
    "#         user_comment_id = [ids.replace('\"', \"\") for ids in re.findall(r\"\\[\\\"(gp.*?),\", str(review))]\n",
    "#         # https://regex101.com/r/jRaaQg/1\n",
    "#         user_comment_likes = re.findall(r\",?\\d+\\],?(\\d+),?\", str(review))\n",
    "#         # https://regex101.com/r/Z7vFqa/1\n",
    "#         user_comment_app_rating = re.findall(r\"\\\"gp.*?https.*?\\],(.*?)?,\", str(review))\n",
    "#         for name, avatar, comment, date, comment_id, likes, user_app_rating in zip(user_name,\n",
    "#                                                                                    user_avatar,\n",
    "#                                                                                    user_comments,\n",
    "#                                                                                    user_comment_date,\n",
    "#                                                                                    user_comment_id,\n",
    "#                                                                                    user_comment_likes,\n",
    "#                                                                                    user_comment_app_rating):\n",
    "#             app_user_comments.append({\n",
    "#                 \"user_name\": name,\n",
    "#                 \"user_avatar\": avatar,\n",
    "#                 \"comment\": comment,\n",
    "#                 \"user_app_rating\": user_app_rating,\n",
    "#                 \"user__comment_likes\": likes,\n",
    "#                 \"user_comment_published_at\": date,\n",
    "#                 \"user_comment_id\": comment_id\n",
    "#             })\n",
    "#         app_data.append({\n",
    "#             \"app_name\": app_name,\n",
    "#             \"app_type\": app_type,\n",
    "#             \"app_url\": app_url,\n",
    "#             \"app_main_thumbnail\": app_main_thumbnail,\n",
    "#             \"app_description\": app_description,\n",
    "#             \"app_content_rating\": app_content_rating,\n",
    "#             \"app_category\": app_category,\n",
    "#             \"app_operating_system\": app_operating_system,\n",
    "#             \"app_rating\": app_rating,\n",
    "#             \"app_reviews\": app_reviews,\n",
    "#             \"app_author\": app_author,\n",
    "#             \"app_author_url\": app_author_url,\n",
    "#             \"app_screenshots\": app_images\n",
    "#         })\n",
    "#         return {\"app_data\": app_data, \"app_user_comments\": app_user_comments}\n",
    "# print(json.dumps(scrape_google_store_app(), indent=2))"
   ]
  },
  {
   "cell_type": "code",
   "execution_count": null,
   "metadata": {},
   "outputs": [],
   "source": []
  },
  {
   "cell_type": "code",
   "execution_count": null,
   "metadata": {},
   "outputs": [],
   "source": []
  },
  {
   "cell_type": "code",
   "execution_count": null,
   "metadata": {},
   "outputs": [],
   "source": []
  },
  {
   "cell_type": "code",
   "execution_count": null,
   "metadata": {},
   "outputs": [],
   "source": []
  },
  {
   "cell_type": "code",
   "execution_count": null,
   "metadata": {},
   "outputs": [],
   "source": []
  }
 ],
 "metadata": {
  "kernelspec": {
   "display_name": "Python 3",
   "language": "python",
   "name": "python3"
  },
  "language_info": {
   "codemirror_mode": {
    "name": "ipython",
    "version": 3
   },
   "file_extension": ".py",
   "mimetype": "text/x-python",
   "name": "python",
   "nbconvert_exporter": "python",
   "pygments_lexer": "ipython3",
   "version": "3.8.5"
  }
 },
 "nbformat": 4,
 "nbformat_minor": 4
}
